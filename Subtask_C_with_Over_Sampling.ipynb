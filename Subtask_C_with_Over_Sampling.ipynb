{
  "cells": [
    {
      "cell_type": "markdown",
      "metadata": {
        "id": "mzMw4q9pAljq"
      },
      "source": [
        "# Initial Dependencies"
      ]
    },
    {
      "cell_type": "code",
      "execution_count": null,
      "metadata": {
        "colab": {
          "base_uri": "https://localhost:8080/"
        },
        "id": "qPTcl_x5gXDo",
        "outputId": "91e06e41-ba1e-4d8f-8e82-864cd55ece69"
      },
      "outputs": [
        {
          "output_type": "stream",
          "name": "stdout",
          "text": [
            "Mounted at /content/drive\n"
          ]
        }
      ],
      "source": [
        "from google.colab import drive\n",
        "drive.mount('/content/drive')"
      ]
    },
    {
      "cell_type": "code",
      "execution_count": null,
      "metadata": {
        "colab": {
          "base_uri": "https://localhost:8080/"
        },
        "id": "-Qm5ocD-sPOp",
        "outputId": "5aa4648a-a6ce-436e-bf4a-5ba3c6333a19"
      },
      "outputs": [
        {
          "output_type": "stream",
          "name": "stderr",
          "text": [
            "[nltk_data] Downloading package punkt to /root/nltk_data...\n",
            "[nltk_data]   Unzipping tokenizers/punkt.zip.\n"
          ]
        },
        {
          "output_type": "stream",
          "name": "stdout",
          "text": [
            "CPU times: user 9.64 s, sys: 1.57 s, total: 11.2 s\n",
            "Wall time: 25.6 s\n"
          ]
        }
      ],
      "source": [
        "%%time\n",
        "import os\n",
        "from glob import glob\n",
        "import numpy as np\n",
        "import matplotlib.pyplot as plt\n",
        "%matplotlib inline\n",
        "import pandas as pd\n",
        "import seaborn as sns\n",
        "import tensorflow as tf\n",
        "import re\n",
        "import nltk\n",
        "import json\n",
        "from sklearn.preprocessing import MultiLabelBinarizer\n",
        "from sklearn.metrics import confusion_matrix\n",
        "from sklearn.metrics import classification_report\n",
        "from sklearn.model_selection import train_test_split\n",
        "from sklearn.linear_model import LogisticRegression\n",
        "from sklearn.tree import DecisionTreeClassifier\n",
        "from sklearn.ensemble import RandomForestClassifier\n",
        "from sklearn.linear_model import SGDClassifier\n",
        "from sklearn.naive_bayes import MultinomialNB\n",
        "from sklearn.ensemble import VotingClassifier\n",
        "from sklearn.ensemble import BaggingClassifier\n",
        "from sklearn.ensemble import AdaBoostClassifier, RandomForestClassifier, ExtraTreesClassifier\n",
        "from sklearn.svm import SVC\n",
        "from sklearn.metrics import accuracy_score,precision_score,recall_score,f1_score,roc_auc_score\n",
        "from sklearn.metrics import average_precision_score,roc_auc_score, roc_curve, precision_recall_curve\n",
        "from sklearn.preprocessing import LabelEncoder\n",
        "from sklearn.feature_extraction.text import TfidfVectorizer\n",
        "np.random.seed(42)\n",
        "tf.random.set_seed(42)\n",
        "import nltk\n",
        "nltk.download('punkt')\n",
        "from nltk.corpus import stopwords\n",
        "from nltk.tokenize import word_tokenize\n",
        "from nltk.tokenize import ToktokTokenizer\n",
        "import nltk, string, re, spacy,unicodedata, random\n",
        "from bs4 import BeautifulSoup\n",
        "import warnings\n",
        "warnings.filterwarnings('ignore')\n",
        "### Pretrained Word Embeddings"
      ]
    },
    {
      "cell_type": "markdown",
      "metadata": {
        "id": "tn3ZdEkqwFuf"
      },
      "source": [
        "# Import Data"
      ]
    },
    {
      "cell_type": "code",
      "execution_count": null,
      "metadata": {
        "id": "x2mJ2HY_srqA"
      },
      "outputs": [],
      "source": [
        "#Atrain = pd.read_csv(\"/content/drive/MyDrive/Colab Notebooks/case/SubTask-A-train.csv\")\n",
        "#Btrain = pd.read_csv(\"/content/drive/MyDrive/Colab Notebooks/case/SubTask-B-train.csv\")\n",
        "Ctrain = pd.read_csv(\"/content/drive/MyDrive/Colab Notebooks/CASE 2024/SubTask-C-train.csv\")\n",
        "\n",
        "#Aval_tweet = pd.read_csv('/content/drive/MyDrive/Colab Notebooks/case/SubTask-A-(index,tweet)val.csv')\n",
        "#Aval_label = pd.read_csv('/content/drive/MyDrive/Colab Notebooks/case/SubTask-A(index,label)val.csv')\n",
        "\n",
        "#Bval_tweet = pd.read_csv('/content/drive/MyDrive/Colab Notebooks/case/SubTask-B(index,tweet)val.csv')\n",
        "#Bval_label = pd.read_csv('/content/drive/MyDrive/Colab Notebooks/case/SubTask-B(index,label)val.csv')\n",
        "\n",
        "Cval_tweet = pd.read_csv('/content/drive/MyDrive/Colab Notebooks/CASE 2024/SubTask-C(index,tweet)val.csv')\n",
        "Cval_label = pd.read_csv('/content/drive/MyDrive/Colab Notebooks/CASE 2024/SubTask-C(index,label)val.csv')\n",
        "\n",
        "#Atest_tweet = pd.read_csv('/content/drive/MyDrive/Colab Notebooks/case/SubTask-A-(index,tweet)test.csv')\n",
        "#Btest_tweet = pd.read_csv('/content/drive/MyDrive/Colab Notebooks/case/SubTask-B(index,tweet)test.csv')\n",
        "Ctest_tweet = pd.read_csv('/content/drive/MyDrive/Colab Notebooks/CASE 2024/SubTask-C(index,tweet)test.csv')\n",
        "\n",
        "#Atest_label = pd.read_csv('/content/drive/MyDrive/Colab Notebooks/case/SubTask-A(index,label)test.csv')\n",
        "#Btest_label = pd.read_csv('/content/drive/MyDrive/Colab Notebooks/case/SubTask-B(index,label)test.csv')\n",
        "Ctest_label = pd.read_csv('/content/drive/MyDrive/Colab Notebooks/CASE 2024/SubTask-C(index,label)test (1).csv')\n"
      ]
    },
    {
      "cell_type": "code",
      "execution_count": null,
      "metadata": {
        "id": "l7PBA8PiYBpG"
      },
      "outputs": [],
      "source": [
        "#print(\"Total number of training samples train set - task 1:\", len(Atrain))\n",
        "#print(\"Total number of training samples dev set - task 1:\", len(Aval_tweet))\n",
        "#print(\"Total number of training samples test set - task 1:\", len(Atest_tweet))\n"
      ]
    },
    {
      "cell_type": "code",
      "execution_count": null,
      "metadata": {
        "id": "ec2kFSBQYBpH"
      },
      "outputs": [],
      "source": [
        "#print(\"Total number of training samples train set - task 2:\", len(Btrain))\n",
        "#print(\"Total number of training samples dev set - task 2:\", len(Bval_tweet))\n",
        "#print(\"Total number of training samples test set - task 2:\", len(Btest_tweet))"
      ]
    },
    {
      "cell_type": "code",
      "execution_count": null,
      "metadata": {
        "id": "jBReuooTYBpI",
        "colab": {
          "base_uri": "https://localhost:8080/"
        },
        "outputId": "5aa253cf-99d6-4625-f034-5bd458142a62"
      },
      "outputs": [
        {
          "output_type": "stream",
          "name": "stdout",
          "text": [
            "Total number of training samples train set - task 3: 7284\n",
            "Total number of training samples dev set - task 3: 1561\n",
            "Total number of training samples test set - task 3: 1562\n"
          ]
        }
      ],
      "source": [
        "print(\"Total number of training samples train set - task 3:\", len(Ctrain))\n",
        "print(\"Total number of training samples dev set - task 3:\", len(Cval_tweet))\n",
        "print(\"Total number of training samples test set - task 3:\", len(Ctest_tweet))"
      ]
    },
    {
      "cell_type": "code",
      "execution_count": null,
      "metadata": {
        "colab": {
          "base_uri": "https://localhost:8080/"
        },
        "id": "vq4axTvl_KdJ",
        "outputId": "0e0f30a9-d80a-4b39-9d36-2fbc75d5e9e2"
      },
      "outputs": [
        {
          "output_type": "execute_result",
          "data": {
            "text/plain": [
              "   index                                              tweet  label\n",
              "0  10001  Burning native forest wood waste for electrici...      1\n",
              "1  10002  November is here!!! \\nIt's a new chance for yo...      1\n",
              "2  10003  Fight For Climate Justice At Queen's Park.  In...      1\n",
              "3  10005  We all need to rise up and speak at a time lik...      1\n",
              "4  10006  Fridays For Future Week 88🌍 \\n\\n#PeopleNotProf...      3"
            ],
            "text/html": [
              "\n",
              "  <div id=\"df-3ba58ea7-39fd-4dc1-a956-7bdf16c0ba62\" class=\"colab-df-container\">\n",
              "    <div>\n",
              "<style scoped>\n",
              "    .dataframe tbody tr th:only-of-type {\n",
              "        vertical-align: middle;\n",
              "    }\n",
              "\n",
              "    .dataframe tbody tr th {\n",
              "        vertical-align: top;\n",
              "    }\n",
              "\n",
              "    .dataframe thead th {\n",
              "        text-align: right;\n",
              "    }\n",
              "</style>\n",
              "<table border=\"1\" class=\"dataframe\">\n",
              "  <thead>\n",
              "    <tr style=\"text-align: right;\">\n",
              "      <th></th>\n",
              "      <th>index</th>\n",
              "      <th>tweet</th>\n",
              "      <th>label</th>\n",
              "    </tr>\n",
              "  </thead>\n",
              "  <tbody>\n",
              "    <tr>\n",
              "      <th>0</th>\n",
              "      <td>10001</td>\n",
              "      <td>Burning native forest wood waste for electrici...</td>\n",
              "      <td>1</td>\n",
              "    </tr>\n",
              "    <tr>\n",
              "      <th>1</th>\n",
              "      <td>10002</td>\n",
              "      <td>November is here!!! \\nIt's a new chance for yo...</td>\n",
              "      <td>1</td>\n",
              "    </tr>\n",
              "    <tr>\n",
              "      <th>2</th>\n",
              "      <td>10003</td>\n",
              "      <td>Fight For Climate Justice At Queen's Park.  In...</td>\n",
              "      <td>1</td>\n",
              "    </tr>\n",
              "    <tr>\n",
              "      <th>3</th>\n",
              "      <td>10005</td>\n",
              "      <td>We all need to rise up and speak at a time lik...</td>\n",
              "      <td>1</td>\n",
              "    </tr>\n",
              "    <tr>\n",
              "      <th>4</th>\n",
              "      <td>10006</td>\n",
              "      <td>Fridays For Future Week 88🌍 \\n\\n#PeopleNotProf...</td>\n",
              "      <td>3</td>\n",
              "    </tr>\n",
              "  </tbody>\n",
              "</table>\n",
              "</div>\n",
              "    <div class=\"colab-df-buttons\">\n",
              "\n",
              "  <div class=\"colab-df-container\">\n",
              "    <button class=\"colab-df-convert\" onclick=\"convertToInteractive('df-3ba58ea7-39fd-4dc1-a956-7bdf16c0ba62')\"\n",
              "            title=\"Convert this dataframe to an interactive table.\"\n",
              "            style=\"display:none;\">\n",
              "\n",
              "  <svg xmlns=\"http://www.w3.org/2000/svg\" height=\"24px\" viewBox=\"0 -960 960 960\">\n",
              "    <path d=\"M120-120v-720h720v720H120Zm60-500h600v-160H180v160Zm220 220h160v-160H400v160Zm0 220h160v-160H400v160ZM180-400h160v-160H180v160Zm440 0h160v-160H620v160ZM180-180h160v-160H180v160Zm440 0h160v-160H620v160Z\"/>\n",
              "  </svg>\n",
              "    </button>\n",
              "\n",
              "  <style>\n",
              "    .colab-df-container {\n",
              "      display:flex;\n",
              "      gap: 12px;\n",
              "    }\n",
              "\n",
              "    .colab-df-convert {\n",
              "      background-color: #E8F0FE;\n",
              "      border: none;\n",
              "      border-radius: 50%;\n",
              "      cursor: pointer;\n",
              "      display: none;\n",
              "      fill: #1967D2;\n",
              "      height: 32px;\n",
              "      padding: 0 0 0 0;\n",
              "      width: 32px;\n",
              "    }\n",
              "\n",
              "    .colab-df-convert:hover {\n",
              "      background-color: #E2EBFA;\n",
              "      box-shadow: 0px 1px 2px rgba(60, 64, 67, 0.3), 0px 1px 3px 1px rgba(60, 64, 67, 0.15);\n",
              "      fill: #174EA6;\n",
              "    }\n",
              "\n",
              "    .colab-df-buttons div {\n",
              "      margin-bottom: 4px;\n",
              "    }\n",
              "\n",
              "    [theme=dark] .colab-df-convert {\n",
              "      background-color: #3B4455;\n",
              "      fill: #D2E3FC;\n",
              "    }\n",
              "\n",
              "    [theme=dark] .colab-df-convert:hover {\n",
              "      background-color: #434B5C;\n",
              "      box-shadow: 0px 1px 3px 1px rgba(0, 0, 0, 0.15);\n",
              "      filter: drop-shadow(0px 1px 2px rgba(0, 0, 0, 0.3));\n",
              "      fill: #FFFFFF;\n",
              "    }\n",
              "  </style>\n",
              "\n",
              "    <script>\n",
              "      const buttonEl =\n",
              "        document.querySelector('#df-3ba58ea7-39fd-4dc1-a956-7bdf16c0ba62 button.colab-df-convert');\n",
              "      buttonEl.style.display =\n",
              "        google.colab.kernel.accessAllowed ? 'block' : 'none';\n",
              "\n",
              "      async function convertToInteractive(key) {\n",
              "        const element = document.querySelector('#df-3ba58ea7-39fd-4dc1-a956-7bdf16c0ba62');\n",
              "        const dataTable =\n",
              "          await google.colab.kernel.invokeFunction('convertToInteractive',\n",
              "                                                    [key], {});\n",
              "        if (!dataTable) return;\n",
              "\n",
              "        const docLinkHtml = 'Like what you see? Visit the ' +\n",
              "          '<a target=\"_blank\" href=https://colab.research.google.com/notebooks/data_table.ipynb>data table notebook</a>'\n",
              "          + ' to learn more about interactive tables.';\n",
              "        element.innerHTML = '';\n",
              "        dataTable['output_type'] = 'display_data';\n",
              "        await google.colab.output.renderOutput(dataTable, element);\n",
              "        const docLink = document.createElement('div');\n",
              "        docLink.innerHTML = docLinkHtml;\n",
              "        element.appendChild(docLink);\n",
              "      }\n",
              "    </script>\n",
              "  </div>\n",
              "\n",
              "\n",
              "<div id=\"df-19e6309c-a552-42c1-9c90-f638dcfc808b\">\n",
              "  <button class=\"colab-df-quickchart\" onclick=\"quickchart('df-19e6309c-a552-42c1-9c90-f638dcfc808b')\"\n",
              "            title=\"Suggest charts\"\n",
              "            style=\"display:none;\">\n",
              "\n",
              "<svg xmlns=\"http://www.w3.org/2000/svg\" height=\"24px\"viewBox=\"0 0 24 24\"\n",
              "     width=\"24px\">\n",
              "    <g>\n",
              "        <path d=\"M19 3H5c-1.1 0-2 .9-2 2v14c0 1.1.9 2 2 2h14c1.1 0 2-.9 2-2V5c0-1.1-.9-2-2-2zM9 17H7v-7h2v7zm4 0h-2V7h2v10zm4 0h-2v-4h2v4z\"/>\n",
              "    </g>\n",
              "</svg>\n",
              "  </button>\n",
              "\n",
              "<style>\n",
              "  .colab-df-quickchart {\n",
              "      --bg-color: #E8F0FE;\n",
              "      --fill-color: #1967D2;\n",
              "      --hover-bg-color: #E2EBFA;\n",
              "      --hover-fill-color: #174EA6;\n",
              "      --disabled-fill-color: #AAA;\n",
              "      --disabled-bg-color: #DDD;\n",
              "  }\n",
              "\n",
              "  [theme=dark] .colab-df-quickchart {\n",
              "      --bg-color: #3B4455;\n",
              "      --fill-color: #D2E3FC;\n",
              "      --hover-bg-color: #434B5C;\n",
              "      --hover-fill-color: #FFFFFF;\n",
              "      --disabled-bg-color: #3B4455;\n",
              "      --disabled-fill-color: #666;\n",
              "  }\n",
              "\n",
              "  .colab-df-quickchart {\n",
              "    background-color: var(--bg-color);\n",
              "    border: none;\n",
              "    border-radius: 50%;\n",
              "    cursor: pointer;\n",
              "    display: none;\n",
              "    fill: var(--fill-color);\n",
              "    height: 32px;\n",
              "    padding: 0;\n",
              "    width: 32px;\n",
              "  }\n",
              "\n",
              "  .colab-df-quickchart:hover {\n",
              "    background-color: var(--hover-bg-color);\n",
              "    box-shadow: 0 1px 2px rgba(60, 64, 67, 0.3), 0 1px 3px 1px rgba(60, 64, 67, 0.15);\n",
              "    fill: var(--button-hover-fill-color);\n",
              "  }\n",
              "\n",
              "  .colab-df-quickchart-complete:disabled,\n",
              "  .colab-df-quickchart-complete:disabled:hover {\n",
              "    background-color: var(--disabled-bg-color);\n",
              "    fill: var(--disabled-fill-color);\n",
              "    box-shadow: none;\n",
              "  }\n",
              "\n",
              "  .colab-df-spinner {\n",
              "    border: 2px solid var(--fill-color);\n",
              "    border-color: transparent;\n",
              "    border-bottom-color: var(--fill-color);\n",
              "    animation:\n",
              "      spin 1s steps(1) infinite;\n",
              "  }\n",
              "\n",
              "  @keyframes spin {\n",
              "    0% {\n",
              "      border-color: transparent;\n",
              "      border-bottom-color: var(--fill-color);\n",
              "      border-left-color: var(--fill-color);\n",
              "    }\n",
              "    20% {\n",
              "      border-color: transparent;\n",
              "      border-left-color: var(--fill-color);\n",
              "      border-top-color: var(--fill-color);\n",
              "    }\n",
              "    30% {\n",
              "      border-color: transparent;\n",
              "      border-left-color: var(--fill-color);\n",
              "      border-top-color: var(--fill-color);\n",
              "      border-right-color: var(--fill-color);\n",
              "    }\n",
              "    40% {\n",
              "      border-color: transparent;\n",
              "      border-right-color: var(--fill-color);\n",
              "      border-top-color: var(--fill-color);\n",
              "    }\n",
              "    60% {\n",
              "      border-color: transparent;\n",
              "      border-right-color: var(--fill-color);\n",
              "    }\n",
              "    80% {\n",
              "      border-color: transparent;\n",
              "      border-right-color: var(--fill-color);\n",
              "      border-bottom-color: var(--fill-color);\n",
              "    }\n",
              "    90% {\n",
              "      border-color: transparent;\n",
              "      border-bottom-color: var(--fill-color);\n",
              "    }\n",
              "  }\n",
              "</style>\n",
              "\n",
              "  <script>\n",
              "    async function quickchart(key) {\n",
              "      const quickchartButtonEl =\n",
              "        document.querySelector('#' + key + ' button');\n",
              "      quickchartButtonEl.disabled = true;  // To prevent multiple clicks.\n",
              "      quickchartButtonEl.classList.add('colab-df-spinner');\n",
              "      try {\n",
              "        const charts = await google.colab.kernel.invokeFunction(\n",
              "            'suggestCharts', [key], {});\n",
              "      } catch (error) {\n",
              "        console.error('Error during call to suggestCharts:', error);\n",
              "      }\n",
              "      quickchartButtonEl.classList.remove('colab-df-spinner');\n",
              "      quickchartButtonEl.classList.add('colab-df-quickchart-complete');\n",
              "    }\n",
              "    (() => {\n",
              "      let quickchartButtonEl =\n",
              "        document.querySelector('#df-19e6309c-a552-42c1-9c90-f638dcfc808b button');\n",
              "      quickchartButtonEl.style.display =\n",
              "        google.colab.kernel.accessAllowed ? 'block' : 'none';\n",
              "    })();\n",
              "  </script>\n",
              "</div>\n",
              "\n",
              "    </div>\n",
              "  </div>\n"
            ]
          },
          "metadata": {},
          "execution_count": 7
        }
      ],
      "source": [
        "Ctrain.head()"
      ]
    },
    {
      "cell_type": "code",
      "execution_count": null,
      "metadata": {
        "colab": {
          "base_uri": "https://localhost:8080/"
        },
        "id": "6F3-6NDnYBpJ",
        "outputId": "9fa41a4a-238c-4659-ddb9-91aa9dc17865"
      },
      "outputs": [
        {
          "output_type": "execute_result",
          "data": {
            "text/plain": [
              "      index                                              tweet  label\n",
              "7279  20399  Fridays for Future :: Nov 18, Noon - Palo Alto...      1\n",
              "7280  20400  Global #ClimateStrike today! #TakeAction on #C...      1\n",
              "7281  20403  No more empty promises\\nStop the funding Of No...      3\n",
              "7282  20404  Young people are not only victims of climate c...      1\n",
              "7283  20406  #FridaysForFuture #EverydayForFuture Here I am...      1"
            ],
            "text/html": [
              "\n",
              "  <div id=\"df-bc39ebd7-ec8b-4341-93a2-b8f1264e83ee\" class=\"colab-df-container\">\n",
              "    <div>\n",
              "<style scoped>\n",
              "    .dataframe tbody tr th:only-of-type {\n",
              "        vertical-align: middle;\n",
              "    }\n",
              "\n",
              "    .dataframe tbody tr th {\n",
              "        vertical-align: top;\n",
              "    }\n",
              "\n",
              "    .dataframe thead th {\n",
              "        text-align: right;\n",
              "    }\n",
              "</style>\n",
              "<table border=\"1\" class=\"dataframe\">\n",
              "  <thead>\n",
              "    <tr style=\"text-align: right;\">\n",
              "      <th></th>\n",
              "      <th>index</th>\n",
              "      <th>tweet</th>\n",
              "      <th>label</th>\n",
              "    </tr>\n",
              "  </thead>\n",
              "  <tbody>\n",
              "    <tr>\n",
              "      <th>7279</th>\n",
              "      <td>20399</td>\n",
              "      <td>Fridays for Future :: Nov 18, Noon - Palo Alto...</td>\n",
              "      <td>1</td>\n",
              "    </tr>\n",
              "    <tr>\n",
              "      <th>7280</th>\n",
              "      <td>20400</td>\n",
              "      <td>Global #ClimateStrike today! #TakeAction on #C...</td>\n",
              "      <td>1</td>\n",
              "    </tr>\n",
              "    <tr>\n",
              "      <th>7281</th>\n",
              "      <td>20403</td>\n",
              "      <td>No more empty promises\\nStop the funding Of No...</td>\n",
              "      <td>3</td>\n",
              "    </tr>\n",
              "    <tr>\n",
              "      <th>7282</th>\n",
              "      <td>20404</td>\n",
              "      <td>Young people are not only victims of climate c...</td>\n",
              "      <td>1</td>\n",
              "    </tr>\n",
              "    <tr>\n",
              "      <th>7283</th>\n",
              "      <td>20406</td>\n",
              "      <td>#FridaysForFuture #EverydayForFuture Here I am...</td>\n",
              "      <td>1</td>\n",
              "    </tr>\n",
              "  </tbody>\n",
              "</table>\n",
              "</div>\n",
              "    <div class=\"colab-df-buttons\">\n",
              "\n",
              "  <div class=\"colab-df-container\">\n",
              "    <button class=\"colab-df-convert\" onclick=\"convertToInteractive('df-bc39ebd7-ec8b-4341-93a2-b8f1264e83ee')\"\n",
              "            title=\"Convert this dataframe to an interactive table.\"\n",
              "            style=\"display:none;\">\n",
              "\n",
              "  <svg xmlns=\"http://www.w3.org/2000/svg\" height=\"24px\" viewBox=\"0 -960 960 960\">\n",
              "    <path d=\"M120-120v-720h720v720H120Zm60-500h600v-160H180v160Zm220 220h160v-160H400v160Zm0 220h160v-160H400v160ZM180-400h160v-160H180v160Zm440 0h160v-160H620v160ZM180-180h160v-160H180v160Zm440 0h160v-160H620v160Z\"/>\n",
              "  </svg>\n",
              "    </button>\n",
              "\n",
              "  <style>\n",
              "    .colab-df-container {\n",
              "      display:flex;\n",
              "      gap: 12px;\n",
              "    }\n",
              "\n",
              "    .colab-df-convert {\n",
              "      background-color: #E8F0FE;\n",
              "      border: none;\n",
              "      border-radius: 50%;\n",
              "      cursor: pointer;\n",
              "      display: none;\n",
              "      fill: #1967D2;\n",
              "      height: 32px;\n",
              "      padding: 0 0 0 0;\n",
              "      width: 32px;\n",
              "    }\n",
              "\n",
              "    .colab-df-convert:hover {\n",
              "      background-color: #E2EBFA;\n",
              "      box-shadow: 0px 1px 2px rgba(60, 64, 67, 0.3), 0px 1px 3px 1px rgba(60, 64, 67, 0.15);\n",
              "      fill: #174EA6;\n",
              "    }\n",
              "\n",
              "    .colab-df-buttons div {\n",
              "      margin-bottom: 4px;\n",
              "    }\n",
              "\n",
              "    [theme=dark] .colab-df-convert {\n",
              "      background-color: #3B4455;\n",
              "      fill: #D2E3FC;\n",
              "    }\n",
              "\n",
              "    [theme=dark] .colab-df-convert:hover {\n",
              "      background-color: #434B5C;\n",
              "      box-shadow: 0px 1px 3px 1px rgba(0, 0, 0, 0.15);\n",
              "      filter: drop-shadow(0px 1px 2px rgba(0, 0, 0, 0.3));\n",
              "      fill: #FFFFFF;\n",
              "    }\n",
              "  </style>\n",
              "\n",
              "    <script>\n",
              "      const buttonEl =\n",
              "        document.querySelector('#df-bc39ebd7-ec8b-4341-93a2-b8f1264e83ee button.colab-df-convert');\n",
              "      buttonEl.style.display =\n",
              "        google.colab.kernel.accessAllowed ? 'block' : 'none';\n",
              "\n",
              "      async function convertToInteractive(key) {\n",
              "        const element = document.querySelector('#df-bc39ebd7-ec8b-4341-93a2-b8f1264e83ee');\n",
              "        const dataTable =\n",
              "          await google.colab.kernel.invokeFunction('convertToInteractive',\n",
              "                                                    [key], {});\n",
              "        if (!dataTable) return;\n",
              "\n",
              "        const docLinkHtml = 'Like what you see? Visit the ' +\n",
              "          '<a target=\"_blank\" href=https://colab.research.google.com/notebooks/data_table.ipynb>data table notebook</a>'\n",
              "          + ' to learn more about interactive tables.';\n",
              "        element.innerHTML = '';\n",
              "        dataTable['output_type'] = 'display_data';\n",
              "        await google.colab.output.renderOutput(dataTable, element);\n",
              "        const docLink = document.createElement('div');\n",
              "        docLink.innerHTML = docLinkHtml;\n",
              "        element.appendChild(docLink);\n",
              "      }\n",
              "    </script>\n",
              "  </div>\n",
              "\n",
              "\n",
              "<div id=\"df-4551dbbb-7c87-4dde-abc3-c28ce7169cac\">\n",
              "  <button class=\"colab-df-quickchart\" onclick=\"quickchart('df-4551dbbb-7c87-4dde-abc3-c28ce7169cac')\"\n",
              "            title=\"Suggest charts\"\n",
              "            style=\"display:none;\">\n",
              "\n",
              "<svg xmlns=\"http://www.w3.org/2000/svg\" height=\"24px\"viewBox=\"0 0 24 24\"\n",
              "     width=\"24px\">\n",
              "    <g>\n",
              "        <path d=\"M19 3H5c-1.1 0-2 .9-2 2v14c0 1.1.9 2 2 2h14c1.1 0 2-.9 2-2V5c0-1.1-.9-2-2-2zM9 17H7v-7h2v7zm4 0h-2V7h2v10zm4 0h-2v-4h2v4z\"/>\n",
              "    </g>\n",
              "</svg>\n",
              "  </button>\n",
              "\n",
              "<style>\n",
              "  .colab-df-quickchart {\n",
              "      --bg-color: #E8F0FE;\n",
              "      --fill-color: #1967D2;\n",
              "      --hover-bg-color: #E2EBFA;\n",
              "      --hover-fill-color: #174EA6;\n",
              "      --disabled-fill-color: #AAA;\n",
              "      --disabled-bg-color: #DDD;\n",
              "  }\n",
              "\n",
              "  [theme=dark] .colab-df-quickchart {\n",
              "      --bg-color: #3B4455;\n",
              "      --fill-color: #D2E3FC;\n",
              "      --hover-bg-color: #434B5C;\n",
              "      --hover-fill-color: #FFFFFF;\n",
              "      --disabled-bg-color: #3B4455;\n",
              "      --disabled-fill-color: #666;\n",
              "  }\n",
              "\n",
              "  .colab-df-quickchart {\n",
              "    background-color: var(--bg-color);\n",
              "    border: none;\n",
              "    border-radius: 50%;\n",
              "    cursor: pointer;\n",
              "    display: none;\n",
              "    fill: var(--fill-color);\n",
              "    height: 32px;\n",
              "    padding: 0;\n",
              "    width: 32px;\n",
              "  }\n",
              "\n",
              "  .colab-df-quickchart:hover {\n",
              "    background-color: var(--hover-bg-color);\n",
              "    box-shadow: 0 1px 2px rgba(60, 64, 67, 0.3), 0 1px 3px 1px rgba(60, 64, 67, 0.15);\n",
              "    fill: var(--button-hover-fill-color);\n",
              "  }\n",
              "\n",
              "  .colab-df-quickchart-complete:disabled,\n",
              "  .colab-df-quickchart-complete:disabled:hover {\n",
              "    background-color: var(--disabled-bg-color);\n",
              "    fill: var(--disabled-fill-color);\n",
              "    box-shadow: none;\n",
              "  }\n",
              "\n",
              "  .colab-df-spinner {\n",
              "    border: 2px solid var(--fill-color);\n",
              "    border-color: transparent;\n",
              "    border-bottom-color: var(--fill-color);\n",
              "    animation:\n",
              "      spin 1s steps(1) infinite;\n",
              "  }\n",
              "\n",
              "  @keyframes spin {\n",
              "    0% {\n",
              "      border-color: transparent;\n",
              "      border-bottom-color: var(--fill-color);\n",
              "      border-left-color: var(--fill-color);\n",
              "    }\n",
              "    20% {\n",
              "      border-color: transparent;\n",
              "      border-left-color: var(--fill-color);\n",
              "      border-top-color: var(--fill-color);\n",
              "    }\n",
              "    30% {\n",
              "      border-color: transparent;\n",
              "      border-left-color: var(--fill-color);\n",
              "      border-top-color: var(--fill-color);\n",
              "      border-right-color: var(--fill-color);\n",
              "    }\n",
              "    40% {\n",
              "      border-color: transparent;\n",
              "      border-right-color: var(--fill-color);\n",
              "      border-top-color: var(--fill-color);\n",
              "    }\n",
              "    60% {\n",
              "      border-color: transparent;\n",
              "      border-right-color: var(--fill-color);\n",
              "    }\n",
              "    80% {\n",
              "      border-color: transparent;\n",
              "      border-right-color: var(--fill-color);\n",
              "      border-bottom-color: var(--fill-color);\n",
              "    }\n",
              "    90% {\n",
              "      border-color: transparent;\n",
              "      border-bottom-color: var(--fill-color);\n",
              "    }\n",
              "  }\n",
              "</style>\n",
              "\n",
              "  <script>\n",
              "    async function quickchart(key) {\n",
              "      const quickchartButtonEl =\n",
              "        document.querySelector('#' + key + ' button');\n",
              "      quickchartButtonEl.disabled = true;  // To prevent multiple clicks.\n",
              "      quickchartButtonEl.classList.add('colab-df-spinner');\n",
              "      try {\n",
              "        const charts = await google.colab.kernel.invokeFunction(\n",
              "            'suggestCharts', [key], {});\n",
              "      } catch (error) {\n",
              "        console.error('Error during call to suggestCharts:', error);\n",
              "      }\n",
              "      quickchartButtonEl.classList.remove('colab-df-spinner');\n",
              "      quickchartButtonEl.classList.add('colab-df-quickchart-complete');\n",
              "    }\n",
              "    (() => {\n",
              "      let quickchartButtonEl =\n",
              "        document.querySelector('#df-4551dbbb-7c87-4dde-abc3-c28ce7169cac button');\n",
              "      quickchartButtonEl.style.display =\n",
              "        google.colab.kernel.accessAllowed ? 'block' : 'none';\n",
              "    })();\n",
              "  </script>\n",
              "</div>\n",
              "\n",
              "    </div>\n",
              "  </div>\n"
            ]
          },
          "metadata": {},
          "execution_count": 8
        }
      ],
      "source": [
        "Ctrain.tail()"
      ]
    },
    {
      "cell_type": "code",
      "execution_count": null,
      "metadata": {
        "colab": {
          "base_uri": "https://localhost:8080/"
        },
        "id": "yu-ldG-zYBpJ",
        "outputId": "bc660ed6-428a-492e-c644-bb551fdde54b"
      },
      "outputs": [
        {
          "output_type": "execute_result",
          "data": {
            "text/plain": [
              "   index                                              tweet\n",
              "0  10000  british govt/msm sheer hypocrisy!!! ‘Out of re...\n",
              "1  10004  This #FridaysForFuture on Zoom we will get boo...\n",
              "2  10012  The #ecoteam at SMAB have been busy today! The...\n",
              "3  10015  The fight against climate justice is for both ...\n",
              "4  10031  The world needs more environmentalists \\n#biod..."
            ],
            "text/html": [
              "\n",
              "  <div id=\"df-1e3d4f2e-9b14-442a-8d73-47450d9758bf\" class=\"colab-df-container\">\n",
              "    <div>\n",
              "<style scoped>\n",
              "    .dataframe tbody tr th:only-of-type {\n",
              "        vertical-align: middle;\n",
              "    }\n",
              "\n",
              "    .dataframe tbody tr th {\n",
              "        vertical-align: top;\n",
              "    }\n",
              "\n",
              "    .dataframe thead th {\n",
              "        text-align: right;\n",
              "    }\n",
              "</style>\n",
              "<table border=\"1\" class=\"dataframe\">\n",
              "  <thead>\n",
              "    <tr style=\"text-align: right;\">\n",
              "      <th></th>\n",
              "      <th>index</th>\n",
              "      <th>tweet</th>\n",
              "    </tr>\n",
              "  </thead>\n",
              "  <tbody>\n",
              "    <tr>\n",
              "      <th>0</th>\n",
              "      <td>10000</td>\n",
              "      <td>british govt/msm sheer hypocrisy!!! ‘Out of re...</td>\n",
              "    </tr>\n",
              "    <tr>\n",
              "      <th>1</th>\n",
              "      <td>10004</td>\n",
              "      <td>This #FridaysForFuture on Zoom we will get boo...</td>\n",
              "    </tr>\n",
              "    <tr>\n",
              "      <th>2</th>\n",
              "      <td>10012</td>\n",
              "      <td>The #ecoteam at SMAB have been busy today! The...</td>\n",
              "    </tr>\n",
              "    <tr>\n",
              "      <th>3</th>\n",
              "      <td>10015</td>\n",
              "      <td>The fight against climate justice is for both ...</td>\n",
              "    </tr>\n",
              "    <tr>\n",
              "      <th>4</th>\n",
              "      <td>10031</td>\n",
              "      <td>The world needs more environmentalists \\n#biod...</td>\n",
              "    </tr>\n",
              "  </tbody>\n",
              "</table>\n",
              "</div>\n",
              "    <div class=\"colab-df-buttons\">\n",
              "\n",
              "  <div class=\"colab-df-container\">\n",
              "    <button class=\"colab-df-convert\" onclick=\"convertToInteractive('df-1e3d4f2e-9b14-442a-8d73-47450d9758bf')\"\n",
              "            title=\"Convert this dataframe to an interactive table.\"\n",
              "            style=\"display:none;\">\n",
              "\n",
              "  <svg xmlns=\"http://www.w3.org/2000/svg\" height=\"24px\" viewBox=\"0 -960 960 960\">\n",
              "    <path d=\"M120-120v-720h720v720H120Zm60-500h600v-160H180v160Zm220 220h160v-160H400v160Zm0 220h160v-160H400v160ZM180-400h160v-160H180v160Zm440 0h160v-160H620v160ZM180-180h160v-160H180v160Zm440 0h160v-160H620v160Z\"/>\n",
              "  </svg>\n",
              "    </button>\n",
              "\n",
              "  <style>\n",
              "    .colab-df-container {\n",
              "      display:flex;\n",
              "      gap: 12px;\n",
              "    }\n",
              "\n",
              "    .colab-df-convert {\n",
              "      background-color: #E8F0FE;\n",
              "      border: none;\n",
              "      border-radius: 50%;\n",
              "      cursor: pointer;\n",
              "      display: none;\n",
              "      fill: #1967D2;\n",
              "      height: 32px;\n",
              "      padding: 0 0 0 0;\n",
              "      width: 32px;\n",
              "    }\n",
              "\n",
              "    .colab-df-convert:hover {\n",
              "      background-color: #E2EBFA;\n",
              "      box-shadow: 0px 1px 2px rgba(60, 64, 67, 0.3), 0px 1px 3px 1px rgba(60, 64, 67, 0.15);\n",
              "      fill: #174EA6;\n",
              "    }\n",
              "\n",
              "    .colab-df-buttons div {\n",
              "      margin-bottom: 4px;\n",
              "    }\n",
              "\n",
              "    [theme=dark] .colab-df-convert {\n",
              "      background-color: #3B4455;\n",
              "      fill: #D2E3FC;\n",
              "    }\n",
              "\n",
              "    [theme=dark] .colab-df-convert:hover {\n",
              "      background-color: #434B5C;\n",
              "      box-shadow: 0px 1px 3px 1px rgba(0, 0, 0, 0.15);\n",
              "      filter: drop-shadow(0px 1px 2px rgba(0, 0, 0, 0.3));\n",
              "      fill: #FFFFFF;\n",
              "    }\n",
              "  </style>\n",
              "\n",
              "    <script>\n",
              "      const buttonEl =\n",
              "        document.querySelector('#df-1e3d4f2e-9b14-442a-8d73-47450d9758bf button.colab-df-convert');\n",
              "      buttonEl.style.display =\n",
              "        google.colab.kernel.accessAllowed ? 'block' : 'none';\n",
              "\n",
              "      async function convertToInteractive(key) {\n",
              "        const element = document.querySelector('#df-1e3d4f2e-9b14-442a-8d73-47450d9758bf');\n",
              "        const dataTable =\n",
              "          await google.colab.kernel.invokeFunction('convertToInteractive',\n",
              "                                                    [key], {});\n",
              "        if (!dataTable) return;\n",
              "\n",
              "        const docLinkHtml = 'Like what you see? Visit the ' +\n",
              "          '<a target=\"_blank\" href=https://colab.research.google.com/notebooks/data_table.ipynb>data table notebook</a>'\n",
              "          + ' to learn more about interactive tables.';\n",
              "        element.innerHTML = '';\n",
              "        dataTable['output_type'] = 'display_data';\n",
              "        await google.colab.output.renderOutput(dataTable, element);\n",
              "        const docLink = document.createElement('div');\n",
              "        docLink.innerHTML = docLinkHtml;\n",
              "        element.appendChild(docLink);\n",
              "      }\n",
              "    </script>\n",
              "  </div>\n",
              "\n",
              "\n",
              "<div id=\"df-27f319ee-88ef-47c0-acf1-85e2162b9314\">\n",
              "  <button class=\"colab-df-quickchart\" onclick=\"quickchart('df-27f319ee-88ef-47c0-acf1-85e2162b9314')\"\n",
              "            title=\"Suggest charts\"\n",
              "            style=\"display:none;\">\n",
              "\n",
              "<svg xmlns=\"http://www.w3.org/2000/svg\" height=\"24px\"viewBox=\"0 0 24 24\"\n",
              "     width=\"24px\">\n",
              "    <g>\n",
              "        <path d=\"M19 3H5c-1.1 0-2 .9-2 2v14c0 1.1.9 2 2 2h14c1.1 0 2-.9 2-2V5c0-1.1-.9-2-2-2zM9 17H7v-7h2v7zm4 0h-2V7h2v10zm4 0h-2v-4h2v4z\"/>\n",
              "    </g>\n",
              "</svg>\n",
              "  </button>\n",
              "\n",
              "<style>\n",
              "  .colab-df-quickchart {\n",
              "      --bg-color: #E8F0FE;\n",
              "      --fill-color: #1967D2;\n",
              "      --hover-bg-color: #E2EBFA;\n",
              "      --hover-fill-color: #174EA6;\n",
              "      --disabled-fill-color: #AAA;\n",
              "      --disabled-bg-color: #DDD;\n",
              "  }\n",
              "\n",
              "  [theme=dark] .colab-df-quickchart {\n",
              "      --bg-color: #3B4455;\n",
              "      --fill-color: #D2E3FC;\n",
              "      --hover-bg-color: #434B5C;\n",
              "      --hover-fill-color: #FFFFFF;\n",
              "      --disabled-bg-color: #3B4455;\n",
              "      --disabled-fill-color: #666;\n",
              "  }\n",
              "\n",
              "  .colab-df-quickchart {\n",
              "    background-color: var(--bg-color);\n",
              "    border: none;\n",
              "    border-radius: 50%;\n",
              "    cursor: pointer;\n",
              "    display: none;\n",
              "    fill: var(--fill-color);\n",
              "    height: 32px;\n",
              "    padding: 0;\n",
              "    width: 32px;\n",
              "  }\n",
              "\n",
              "  .colab-df-quickchart:hover {\n",
              "    background-color: var(--hover-bg-color);\n",
              "    box-shadow: 0 1px 2px rgba(60, 64, 67, 0.3), 0 1px 3px 1px rgba(60, 64, 67, 0.15);\n",
              "    fill: var(--button-hover-fill-color);\n",
              "  }\n",
              "\n",
              "  .colab-df-quickchart-complete:disabled,\n",
              "  .colab-df-quickchart-complete:disabled:hover {\n",
              "    background-color: var(--disabled-bg-color);\n",
              "    fill: var(--disabled-fill-color);\n",
              "    box-shadow: none;\n",
              "  }\n",
              "\n",
              "  .colab-df-spinner {\n",
              "    border: 2px solid var(--fill-color);\n",
              "    border-color: transparent;\n",
              "    border-bottom-color: var(--fill-color);\n",
              "    animation:\n",
              "      spin 1s steps(1) infinite;\n",
              "  }\n",
              "\n",
              "  @keyframes spin {\n",
              "    0% {\n",
              "      border-color: transparent;\n",
              "      border-bottom-color: var(--fill-color);\n",
              "      border-left-color: var(--fill-color);\n",
              "    }\n",
              "    20% {\n",
              "      border-color: transparent;\n",
              "      border-left-color: var(--fill-color);\n",
              "      border-top-color: var(--fill-color);\n",
              "    }\n",
              "    30% {\n",
              "      border-color: transparent;\n",
              "      border-left-color: var(--fill-color);\n",
              "      border-top-color: var(--fill-color);\n",
              "      border-right-color: var(--fill-color);\n",
              "    }\n",
              "    40% {\n",
              "      border-color: transparent;\n",
              "      border-right-color: var(--fill-color);\n",
              "      border-top-color: var(--fill-color);\n",
              "    }\n",
              "    60% {\n",
              "      border-color: transparent;\n",
              "      border-right-color: var(--fill-color);\n",
              "    }\n",
              "    80% {\n",
              "      border-color: transparent;\n",
              "      border-right-color: var(--fill-color);\n",
              "      border-bottom-color: var(--fill-color);\n",
              "    }\n",
              "    90% {\n",
              "      border-color: transparent;\n",
              "      border-bottom-color: var(--fill-color);\n",
              "    }\n",
              "  }\n",
              "</style>\n",
              "\n",
              "  <script>\n",
              "    async function quickchart(key) {\n",
              "      const quickchartButtonEl =\n",
              "        document.querySelector('#' + key + ' button');\n",
              "      quickchartButtonEl.disabled = true;  // To prevent multiple clicks.\n",
              "      quickchartButtonEl.classList.add('colab-df-spinner');\n",
              "      try {\n",
              "        const charts = await google.colab.kernel.invokeFunction(\n",
              "            'suggestCharts', [key], {});\n",
              "      } catch (error) {\n",
              "        console.error('Error during call to suggestCharts:', error);\n",
              "      }\n",
              "      quickchartButtonEl.classList.remove('colab-df-spinner');\n",
              "      quickchartButtonEl.classList.add('colab-df-quickchart-complete');\n",
              "    }\n",
              "    (() => {\n",
              "      let quickchartButtonEl =\n",
              "        document.querySelector('#df-27f319ee-88ef-47c0-acf1-85e2162b9314 button');\n",
              "      quickchartButtonEl.style.display =\n",
              "        google.colab.kernel.accessAllowed ? 'block' : 'none';\n",
              "    })();\n",
              "  </script>\n",
              "</div>\n",
              "\n",
              "    </div>\n",
              "  </div>\n"
            ]
          },
          "metadata": {},
          "execution_count": 9
        }
      ],
      "source": [
        "Ctest_tweet.head()"
      ]
    },
    {
      "cell_type": "code",
      "execution_count": null,
      "metadata": {
        "colab": {
          "base_uri": "https://localhost:8080/"
        },
        "id": "egsDesfGYBpK",
        "outputId": "5bbd5202-d0f1-494b-8096-a361122f28d3"
      },
      "outputs": [
        {
          "output_type": "execute_result",
          "data": {
            "text/plain": [
              "   index                                              tweet\n",
              "0  10023  #FridaysForFuture\\n\\n#COP27 #Live Today\\n#Clim...\n",
              "1  10042  Do we really have an average of 6-7 years to c...\n",
              "2  10044  today it's #climatestrike Again&amp;Again #Unt...\n",
              "3  10067  Join the Global #ClimateStrike on September 23...\n",
              "4  10083  Happy #EarthDay! Prioritize Life!\\n\\nReduce #F..."
            ],
            "text/html": [
              "\n",
              "  <div id=\"df-e56386e4-1352-49e9-8023-c1d504ebd1e4\" class=\"colab-df-container\">\n",
              "    <div>\n",
              "<style scoped>\n",
              "    .dataframe tbody tr th:only-of-type {\n",
              "        vertical-align: middle;\n",
              "    }\n",
              "\n",
              "    .dataframe tbody tr th {\n",
              "        vertical-align: top;\n",
              "    }\n",
              "\n",
              "    .dataframe thead th {\n",
              "        text-align: right;\n",
              "    }\n",
              "</style>\n",
              "<table border=\"1\" class=\"dataframe\">\n",
              "  <thead>\n",
              "    <tr style=\"text-align: right;\">\n",
              "      <th></th>\n",
              "      <th>index</th>\n",
              "      <th>tweet</th>\n",
              "    </tr>\n",
              "  </thead>\n",
              "  <tbody>\n",
              "    <tr>\n",
              "      <th>0</th>\n",
              "      <td>10023</td>\n",
              "      <td>#FridaysForFuture\\n\\n#COP27 #Live Today\\n#Clim...</td>\n",
              "    </tr>\n",
              "    <tr>\n",
              "      <th>1</th>\n",
              "      <td>10042</td>\n",
              "      <td>Do we really have an average of 6-7 years to c...</td>\n",
              "    </tr>\n",
              "    <tr>\n",
              "      <th>2</th>\n",
              "      <td>10044</td>\n",
              "      <td>today it's #climatestrike Again&amp;amp;Again #Unt...</td>\n",
              "    </tr>\n",
              "    <tr>\n",
              "      <th>3</th>\n",
              "      <td>10067</td>\n",
              "      <td>Join the Global #ClimateStrike on September 23...</td>\n",
              "    </tr>\n",
              "    <tr>\n",
              "      <th>4</th>\n",
              "      <td>10083</td>\n",
              "      <td>Happy #EarthDay! Prioritize Life!\\n\\nReduce #F...</td>\n",
              "    </tr>\n",
              "  </tbody>\n",
              "</table>\n",
              "</div>\n",
              "    <div class=\"colab-df-buttons\">\n",
              "\n",
              "  <div class=\"colab-df-container\">\n",
              "    <button class=\"colab-df-convert\" onclick=\"convertToInteractive('df-e56386e4-1352-49e9-8023-c1d504ebd1e4')\"\n",
              "            title=\"Convert this dataframe to an interactive table.\"\n",
              "            style=\"display:none;\">\n",
              "\n",
              "  <svg xmlns=\"http://www.w3.org/2000/svg\" height=\"24px\" viewBox=\"0 -960 960 960\">\n",
              "    <path d=\"M120-120v-720h720v720H120Zm60-500h600v-160H180v160Zm220 220h160v-160H400v160Zm0 220h160v-160H400v160ZM180-400h160v-160H180v160Zm440 0h160v-160H620v160ZM180-180h160v-160H180v160Zm440 0h160v-160H620v160Z\"/>\n",
              "  </svg>\n",
              "    </button>\n",
              "\n",
              "  <style>\n",
              "    .colab-df-container {\n",
              "      display:flex;\n",
              "      gap: 12px;\n",
              "    }\n",
              "\n",
              "    .colab-df-convert {\n",
              "      background-color: #E8F0FE;\n",
              "      border: none;\n",
              "      border-radius: 50%;\n",
              "      cursor: pointer;\n",
              "      display: none;\n",
              "      fill: #1967D2;\n",
              "      height: 32px;\n",
              "      padding: 0 0 0 0;\n",
              "      width: 32px;\n",
              "    }\n",
              "\n",
              "    .colab-df-convert:hover {\n",
              "      background-color: #E2EBFA;\n",
              "      box-shadow: 0px 1px 2px rgba(60, 64, 67, 0.3), 0px 1px 3px 1px rgba(60, 64, 67, 0.15);\n",
              "      fill: #174EA6;\n",
              "    }\n",
              "\n",
              "    .colab-df-buttons div {\n",
              "      margin-bottom: 4px;\n",
              "    }\n",
              "\n",
              "    [theme=dark] .colab-df-convert {\n",
              "      background-color: #3B4455;\n",
              "      fill: #D2E3FC;\n",
              "    }\n",
              "\n",
              "    [theme=dark] .colab-df-convert:hover {\n",
              "      background-color: #434B5C;\n",
              "      box-shadow: 0px 1px 3px 1px rgba(0, 0, 0, 0.15);\n",
              "      filter: drop-shadow(0px 1px 2px rgba(0, 0, 0, 0.3));\n",
              "      fill: #FFFFFF;\n",
              "    }\n",
              "  </style>\n",
              "\n",
              "    <script>\n",
              "      const buttonEl =\n",
              "        document.querySelector('#df-e56386e4-1352-49e9-8023-c1d504ebd1e4 button.colab-df-convert');\n",
              "      buttonEl.style.display =\n",
              "        google.colab.kernel.accessAllowed ? 'block' : 'none';\n",
              "\n",
              "      async function convertToInteractive(key) {\n",
              "        const element = document.querySelector('#df-e56386e4-1352-49e9-8023-c1d504ebd1e4');\n",
              "        const dataTable =\n",
              "          await google.colab.kernel.invokeFunction('convertToInteractive',\n",
              "                                                    [key], {});\n",
              "        if (!dataTable) return;\n",
              "\n",
              "        const docLinkHtml = 'Like what you see? Visit the ' +\n",
              "          '<a target=\"_blank\" href=https://colab.research.google.com/notebooks/data_table.ipynb>data table notebook</a>'\n",
              "          + ' to learn more about interactive tables.';\n",
              "        element.innerHTML = '';\n",
              "        dataTable['output_type'] = 'display_data';\n",
              "        await google.colab.output.renderOutput(dataTable, element);\n",
              "        const docLink = document.createElement('div');\n",
              "        docLink.innerHTML = docLinkHtml;\n",
              "        element.appendChild(docLink);\n",
              "      }\n",
              "    </script>\n",
              "  </div>\n",
              "\n",
              "\n",
              "<div id=\"df-5fae21bf-0dff-4e87-8dd0-531fc3119dab\">\n",
              "  <button class=\"colab-df-quickchart\" onclick=\"quickchart('df-5fae21bf-0dff-4e87-8dd0-531fc3119dab')\"\n",
              "            title=\"Suggest charts\"\n",
              "            style=\"display:none;\">\n",
              "\n",
              "<svg xmlns=\"http://www.w3.org/2000/svg\" height=\"24px\"viewBox=\"0 0 24 24\"\n",
              "     width=\"24px\">\n",
              "    <g>\n",
              "        <path d=\"M19 3H5c-1.1 0-2 .9-2 2v14c0 1.1.9 2 2 2h14c1.1 0 2-.9 2-2V5c0-1.1-.9-2-2-2zM9 17H7v-7h2v7zm4 0h-2V7h2v10zm4 0h-2v-4h2v4z\"/>\n",
              "    </g>\n",
              "</svg>\n",
              "  </button>\n",
              "\n",
              "<style>\n",
              "  .colab-df-quickchart {\n",
              "      --bg-color: #E8F0FE;\n",
              "      --fill-color: #1967D2;\n",
              "      --hover-bg-color: #E2EBFA;\n",
              "      --hover-fill-color: #174EA6;\n",
              "      --disabled-fill-color: #AAA;\n",
              "      --disabled-bg-color: #DDD;\n",
              "  }\n",
              "\n",
              "  [theme=dark] .colab-df-quickchart {\n",
              "      --bg-color: #3B4455;\n",
              "      --fill-color: #D2E3FC;\n",
              "      --hover-bg-color: #434B5C;\n",
              "      --hover-fill-color: #FFFFFF;\n",
              "      --disabled-bg-color: #3B4455;\n",
              "      --disabled-fill-color: #666;\n",
              "  }\n",
              "\n",
              "  .colab-df-quickchart {\n",
              "    background-color: var(--bg-color);\n",
              "    border: none;\n",
              "    border-radius: 50%;\n",
              "    cursor: pointer;\n",
              "    display: none;\n",
              "    fill: var(--fill-color);\n",
              "    height: 32px;\n",
              "    padding: 0;\n",
              "    width: 32px;\n",
              "  }\n",
              "\n",
              "  .colab-df-quickchart:hover {\n",
              "    background-color: var(--hover-bg-color);\n",
              "    box-shadow: 0 1px 2px rgba(60, 64, 67, 0.3), 0 1px 3px 1px rgba(60, 64, 67, 0.15);\n",
              "    fill: var(--button-hover-fill-color);\n",
              "  }\n",
              "\n",
              "  .colab-df-quickchart-complete:disabled,\n",
              "  .colab-df-quickchart-complete:disabled:hover {\n",
              "    background-color: var(--disabled-bg-color);\n",
              "    fill: var(--disabled-fill-color);\n",
              "    box-shadow: none;\n",
              "  }\n",
              "\n",
              "  .colab-df-spinner {\n",
              "    border: 2px solid var(--fill-color);\n",
              "    border-color: transparent;\n",
              "    border-bottom-color: var(--fill-color);\n",
              "    animation:\n",
              "      spin 1s steps(1) infinite;\n",
              "  }\n",
              "\n",
              "  @keyframes spin {\n",
              "    0% {\n",
              "      border-color: transparent;\n",
              "      border-bottom-color: var(--fill-color);\n",
              "      border-left-color: var(--fill-color);\n",
              "    }\n",
              "    20% {\n",
              "      border-color: transparent;\n",
              "      border-left-color: var(--fill-color);\n",
              "      border-top-color: var(--fill-color);\n",
              "    }\n",
              "    30% {\n",
              "      border-color: transparent;\n",
              "      border-left-color: var(--fill-color);\n",
              "      border-top-color: var(--fill-color);\n",
              "      border-right-color: var(--fill-color);\n",
              "    }\n",
              "    40% {\n",
              "      border-color: transparent;\n",
              "      border-right-color: var(--fill-color);\n",
              "      border-top-color: var(--fill-color);\n",
              "    }\n",
              "    60% {\n",
              "      border-color: transparent;\n",
              "      border-right-color: var(--fill-color);\n",
              "    }\n",
              "    80% {\n",
              "      border-color: transparent;\n",
              "      border-right-color: var(--fill-color);\n",
              "      border-bottom-color: var(--fill-color);\n",
              "    }\n",
              "    90% {\n",
              "      border-color: transparent;\n",
              "      border-bottom-color: var(--fill-color);\n",
              "    }\n",
              "  }\n",
              "</style>\n",
              "\n",
              "  <script>\n",
              "    async function quickchart(key) {\n",
              "      const quickchartButtonEl =\n",
              "        document.querySelector('#' + key + ' button');\n",
              "      quickchartButtonEl.disabled = true;  // To prevent multiple clicks.\n",
              "      quickchartButtonEl.classList.add('colab-df-spinner');\n",
              "      try {\n",
              "        const charts = await google.colab.kernel.invokeFunction(\n",
              "            'suggestCharts', [key], {});\n",
              "      } catch (error) {\n",
              "        console.error('Error during call to suggestCharts:', error);\n",
              "      }\n",
              "      quickchartButtonEl.classList.remove('colab-df-spinner');\n",
              "      quickchartButtonEl.classList.add('colab-df-quickchart-complete');\n",
              "    }\n",
              "    (() => {\n",
              "      let quickchartButtonEl =\n",
              "        document.querySelector('#df-5fae21bf-0dff-4e87-8dd0-531fc3119dab button');\n",
              "      quickchartButtonEl.style.display =\n",
              "        google.colab.kernel.accessAllowed ? 'block' : 'none';\n",
              "    })();\n",
              "  </script>\n",
              "</div>\n",
              "\n",
              "    </div>\n",
              "  </div>\n"
            ]
          },
          "metadata": {},
          "execution_count": 10
        }
      ],
      "source": [
        "Cval_tweet.head(5)"
      ]
    },
    {
      "cell_type": "code",
      "execution_count": null,
      "metadata": {
        "colab": {
          "base_uri": "https://localhost:8080/"
        },
        "id": "es4J604mYBpL",
        "outputId": "013cce7b-6f9f-4558-9046-56bf5e4bdf98"
      },
      "outputs": [
        {
          "output_type": "execute_result",
          "data": {
            "text/plain": [
              "   index  label\n",
              "0  10023      3\n",
              "1  10042      1\n",
              "2  10044      3\n",
              "3  10067      1\n",
              "4  10083      1"
            ],
            "text/html": [
              "\n",
              "  <div id=\"df-8a5eddc9-8a2b-4e9d-9416-f1622fbf1f18\" class=\"colab-df-container\">\n",
              "    <div>\n",
              "<style scoped>\n",
              "    .dataframe tbody tr th:only-of-type {\n",
              "        vertical-align: middle;\n",
              "    }\n",
              "\n",
              "    .dataframe tbody tr th {\n",
              "        vertical-align: top;\n",
              "    }\n",
              "\n",
              "    .dataframe thead th {\n",
              "        text-align: right;\n",
              "    }\n",
              "</style>\n",
              "<table border=\"1\" class=\"dataframe\">\n",
              "  <thead>\n",
              "    <tr style=\"text-align: right;\">\n",
              "      <th></th>\n",
              "      <th>index</th>\n",
              "      <th>label</th>\n",
              "    </tr>\n",
              "  </thead>\n",
              "  <tbody>\n",
              "    <tr>\n",
              "      <th>0</th>\n",
              "      <td>10023</td>\n",
              "      <td>3</td>\n",
              "    </tr>\n",
              "    <tr>\n",
              "      <th>1</th>\n",
              "      <td>10042</td>\n",
              "      <td>1</td>\n",
              "    </tr>\n",
              "    <tr>\n",
              "      <th>2</th>\n",
              "      <td>10044</td>\n",
              "      <td>3</td>\n",
              "    </tr>\n",
              "    <tr>\n",
              "      <th>3</th>\n",
              "      <td>10067</td>\n",
              "      <td>1</td>\n",
              "    </tr>\n",
              "    <tr>\n",
              "      <th>4</th>\n",
              "      <td>10083</td>\n",
              "      <td>1</td>\n",
              "    </tr>\n",
              "  </tbody>\n",
              "</table>\n",
              "</div>\n",
              "    <div class=\"colab-df-buttons\">\n",
              "\n",
              "  <div class=\"colab-df-container\">\n",
              "    <button class=\"colab-df-convert\" onclick=\"convertToInteractive('df-8a5eddc9-8a2b-4e9d-9416-f1622fbf1f18')\"\n",
              "            title=\"Convert this dataframe to an interactive table.\"\n",
              "            style=\"display:none;\">\n",
              "\n",
              "  <svg xmlns=\"http://www.w3.org/2000/svg\" height=\"24px\" viewBox=\"0 -960 960 960\">\n",
              "    <path d=\"M120-120v-720h720v720H120Zm60-500h600v-160H180v160Zm220 220h160v-160H400v160Zm0 220h160v-160H400v160ZM180-400h160v-160H180v160Zm440 0h160v-160H620v160ZM180-180h160v-160H180v160Zm440 0h160v-160H620v160Z\"/>\n",
              "  </svg>\n",
              "    </button>\n",
              "\n",
              "  <style>\n",
              "    .colab-df-container {\n",
              "      display:flex;\n",
              "      gap: 12px;\n",
              "    }\n",
              "\n",
              "    .colab-df-convert {\n",
              "      background-color: #E8F0FE;\n",
              "      border: none;\n",
              "      border-radius: 50%;\n",
              "      cursor: pointer;\n",
              "      display: none;\n",
              "      fill: #1967D2;\n",
              "      height: 32px;\n",
              "      padding: 0 0 0 0;\n",
              "      width: 32px;\n",
              "    }\n",
              "\n",
              "    .colab-df-convert:hover {\n",
              "      background-color: #E2EBFA;\n",
              "      box-shadow: 0px 1px 2px rgba(60, 64, 67, 0.3), 0px 1px 3px 1px rgba(60, 64, 67, 0.15);\n",
              "      fill: #174EA6;\n",
              "    }\n",
              "\n",
              "    .colab-df-buttons div {\n",
              "      margin-bottom: 4px;\n",
              "    }\n",
              "\n",
              "    [theme=dark] .colab-df-convert {\n",
              "      background-color: #3B4455;\n",
              "      fill: #D2E3FC;\n",
              "    }\n",
              "\n",
              "    [theme=dark] .colab-df-convert:hover {\n",
              "      background-color: #434B5C;\n",
              "      box-shadow: 0px 1px 3px 1px rgba(0, 0, 0, 0.15);\n",
              "      filter: drop-shadow(0px 1px 2px rgba(0, 0, 0, 0.3));\n",
              "      fill: #FFFFFF;\n",
              "    }\n",
              "  </style>\n",
              "\n",
              "    <script>\n",
              "      const buttonEl =\n",
              "        document.querySelector('#df-8a5eddc9-8a2b-4e9d-9416-f1622fbf1f18 button.colab-df-convert');\n",
              "      buttonEl.style.display =\n",
              "        google.colab.kernel.accessAllowed ? 'block' : 'none';\n",
              "\n",
              "      async function convertToInteractive(key) {\n",
              "        const element = document.querySelector('#df-8a5eddc9-8a2b-4e9d-9416-f1622fbf1f18');\n",
              "        const dataTable =\n",
              "          await google.colab.kernel.invokeFunction('convertToInteractive',\n",
              "                                                    [key], {});\n",
              "        if (!dataTable) return;\n",
              "\n",
              "        const docLinkHtml = 'Like what you see? Visit the ' +\n",
              "          '<a target=\"_blank\" href=https://colab.research.google.com/notebooks/data_table.ipynb>data table notebook</a>'\n",
              "          + ' to learn more about interactive tables.';\n",
              "        element.innerHTML = '';\n",
              "        dataTable['output_type'] = 'display_data';\n",
              "        await google.colab.output.renderOutput(dataTable, element);\n",
              "        const docLink = document.createElement('div');\n",
              "        docLink.innerHTML = docLinkHtml;\n",
              "        element.appendChild(docLink);\n",
              "      }\n",
              "    </script>\n",
              "  </div>\n",
              "\n",
              "\n",
              "<div id=\"df-57fbc49e-3914-4e37-9df3-9401a8149096\">\n",
              "  <button class=\"colab-df-quickchart\" onclick=\"quickchart('df-57fbc49e-3914-4e37-9df3-9401a8149096')\"\n",
              "            title=\"Suggest charts\"\n",
              "            style=\"display:none;\">\n",
              "\n",
              "<svg xmlns=\"http://www.w3.org/2000/svg\" height=\"24px\"viewBox=\"0 0 24 24\"\n",
              "     width=\"24px\">\n",
              "    <g>\n",
              "        <path d=\"M19 3H5c-1.1 0-2 .9-2 2v14c0 1.1.9 2 2 2h14c1.1 0 2-.9 2-2V5c0-1.1-.9-2-2-2zM9 17H7v-7h2v7zm4 0h-2V7h2v10zm4 0h-2v-4h2v4z\"/>\n",
              "    </g>\n",
              "</svg>\n",
              "  </button>\n",
              "\n",
              "<style>\n",
              "  .colab-df-quickchart {\n",
              "      --bg-color: #E8F0FE;\n",
              "      --fill-color: #1967D2;\n",
              "      --hover-bg-color: #E2EBFA;\n",
              "      --hover-fill-color: #174EA6;\n",
              "      --disabled-fill-color: #AAA;\n",
              "      --disabled-bg-color: #DDD;\n",
              "  }\n",
              "\n",
              "  [theme=dark] .colab-df-quickchart {\n",
              "      --bg-color: #3B4455;\n",
              "      --fill-color: #D2E3FC;\n",
              "      --hover-bg-color: #434B5C;\n",
              "      --hover-fill-color: #FFFFFF;\n",
              "      --disabled-bg-color: #3B4455;\n",
              "      --disabled-fill-color: #666;\n",
              "  }\n",
              "\n",
              "  .colab-df-quickchart {\n",
              "    background-color: var(--bg-color);\n",
              "    border: none;\n",
              "    border-radius: 50%;\n",
              "    cursor: pointer;\n",
              "    display: none;\n",
              "    fill: var(--fill-color);\n",
              "    height: 32px;\n",
              "    padding: 0;\n",
              "    width: 32px;\n",
              "  }\n",
              "\n",
              "  .colab-df-quickchart:hover {\n",
              "    background-color: var(--hover-bg-color);\n",
              "    box-shadow: 0 1px 2px rgba(60, 64, 67, 0.3), 0 1px 3px 1px rgba(60, 64, 67, 0.15);\n",
              "    fill: var(--button-hover-fill-color);\n",
              "  }\n",
              "\n",
              "  .colab-df-quickchart-complete:disabled,\n",
              "  .colab-df-quickchart-complete:disabled:hover {\n",
              "    background-color: var(--disabled-bg-color);\n",
              "    fill: var(--disabled-fill-color);\n",
              "    box-shadow: none;\n",
              "  }\n",
              "\n",
              "  .colab-df-spinner {\n",
              "    border: 2px solid var(--fill-color);\n",
              "    border-color: transparent;\n",
              "    border-bottom-color: var(--fill-color);\n",
              "    animation:\n",
              "      spin 1s steps(1) infinite;\n",
              "  }\n",
              "\n",
              "  @keyframes spin {\n",
              "    0% {\n",
              "      border-color: transparent;\n",
              "      border-bottom-color: var(--fill-color);\n",
              "      border-left-color: var(--fill-color);\n",
              "    }\n",
              "    20% {\n",
              "      border-color: transparent;\n",
              "      border-left-color: var(--fill-color);\n",
              "      border-top-color: var(--fill-color);\n",
              "    }\n",
              "    30% {\n",
              "      border-color: transparent;\n",
              "      border-left-color: var(--fill-color);\n",
              "      border-top-color: var(--fill-color);\n",
              "      border-right-color: var(--fill-color);\n",
              "    }\n",
              "    40% {\n",
              "      border-color: transparent;\n",
              "      border-right-color: var(--fill-color);\n",
              "      border-top-color: var(--fill-color);\n",
              "    }\n",
              "    60% {\n",
              "      border-color: transparent;\n",
              "      border-right-color: var(--fill-color);\n",
              "    }\n",
              "    80% {\n",
              "      border-color: transparent;\n",
              "      border-right-color: var(--fill-color);\n",
              "      border-bottom-color: var(--fill-color);\n",
              "    }\n",
              "    90% {\n",
              "      border-color: transparent;\n",
              "      border-bottom-color: var(--fill-color);\n",
              "    }\n",
              "  }\n",
              "</style>\n",
              "\n",
              "  <script>\n",
              "    async function quickchart(key) {\n",
              "      const quickchartButtonEl =\n",
              "        document.querySelector('#' + key + ' button');\n",
              "      quickchartButtonEl.disabled = true;  // To prevent multiple clicks.\n",
              "      quickchartButtonEl.classList.add('colab-df-spinner');\n",
              "      try {\n",
              "        const charts = await google.colab.kernel.invokeFunction(\n",
              "            'suggestCharts', [key], {});\n",
              "      } catch (error) {\n",
              "        console.error('Error during call to suggestCharts:', error);\n",
              "      }\n",
              "      quickchartButtonEl.classList.remove('colab-df-spinner');\n",
              "      quickchartButtonEl.classList.add('colab-df-quickchart-complete');\n",
              "    }\n",
              "    (() => {\n",
              "      let quickchartButtonEl =\n",
              "        document.querySelector('#df-57fbc49e-3914-4e37-9df3-9401a8149096 button');\n",
              "      quickchartButtonEl.style.display =\n",
              "        google.colab.kernel.accessAllowed ? 'block' : 'none';\n",
              "    })();\n",
              "  </script>\n",
              "</div>\n",
              "\n",
              "    </div>\n",
              "  </div>\n"
            ]
          },
          "metadata": {},
          "execution_count": 11
        }
      ],
      "source": [
        "Cval_label.head(5)"
      ]
    },
    {
      "cell_type": "code",
      "execution_count": null,
      "metadata": {
        "colab": {
          "base_uri": "https://localhost:8080/"
        },
        "id": "a8dZShOvfwdf",
        "outputId": "863333f3-16d5-4ffa-c14b-d327dc89827c"
      },
      "outputs": [
        {
          "output_type": "stream",
          "name": "stdout",
          "text": [
            "Common Identifiers: {16385, 16389, 16391, 16396, 16404, 16407, 16416, 16425, 16432, 16433, 16436, 16458, 16464, 16465, 16467, 16486, 16492, 16499, 16505, 16506, 16533, 16553, 16558, 16560, 16561, 16564, 16565, 16568, 16578, 16579, 16593, 16604, 16607, 16616, 16619, 16622, 16624, 16631, 16652, 16663, 16667, 16668, 16669, 16682, 16695, 16697, 16701, 16714, 16719, 16720, 16722, 16723, 16731, 16734, 16735, 16739, 16742, 16743, 16750, 16752, 16759, 16766, 16775, 16778, 16790, 16791, 16803, 16814, 16815, 16827, 16841, 16846, 16875, 16878, 16880, 16881, 16882, 16898, 16902, 16909, 16916, 16924, 16925, 16932, 16934, 16941, 16946, 16954, 16959, 16961, 17000, 17005, 17007, 17011, 17021, 17028, 17030, 17040, 17042, 17067, 17083, 17086, 17091, 17094, 17112, 17120, 17123, 17133, 17147, 17160, 17164, 17168, 17169, 17175, 17192, 17194, 17212, 17216, 17218, 17226, 17227, 17229, 17231, 17255, 17258, 17265, 17266, 17282, 17283, 17289, 17291, 17299, 17302, 17304, 17306, 17316, 17333, 17343, 17347, 17363, 17366, 17371, 17385, 17389, 17391, 17395, 17400, 17401, 17405, 17406, 17414, 17419, 17435, 17438, 17439, 17442, 17445, 17473, 17480, 17483, 17508, 17515, 17521, 17524, 17527, 17538, 17543, 17545, 17546, 17547, 17548, 17551, 17553, 17568, 17575, 17578, 17586, 17593, 17595, 17598, 17620, 17628, 17631, 17633, 17634, 17644, 17651, 17655, 17657, 17658, 17671, 17678, 17703, 17704, 17706, 17711, 17718, 17734, 17741, 17751, 17753, 17763, 17765, 17767, 17785, 17789, 17797, 17801, 17814, 17815, 17849, 17861, 17865, 17870, 17874, 17887, 17893, 17894, 17900, 17914, 17924, 17927, 17932, 17938, 17944, 17947, 17972, 17987, 18003, 18008, 18015, 18022, 18027, 18039, 18040, 18047, 18053, 18056, 18061, 18073, 18083, 18088, 18089, 18102, 18112, 18126, 18129, 18139, 18141, 18145, 18151, 18153, 18164, 18165, 18169, 18187, 18193, 18196, 18199, 18204, 18212, 18214, 10023, 18215, 18217, 18219, 18221, 18225, 18226, 10042, 10044, 18244, 10067, 18262, 10083, 18275, 18278, 18283, 18285, 18287, 18288, 10098, 18293, 10104, 10107, 18299, 10109, 18303, 18308, 10121, 18323, 10134, 10138, 10143, 10144, 18341, 10150, 18352, 10165, 18358, 10167, 18360, 10171, 10172, 10173, 18364, 18368, 18370, 10179, 18385, 18386, 18387, 18390, 18396, 10205, 10207, 10209, 18401, 18407, 18409, 18410, 18423, 10240, 18440, 18441, 10251, 18443, 10253, 10255, 18450, 10265, 10268, 10269, 18463, 18464, 10278, 18480, 10291, 10296, 18494, 10309, 18501, 10311, 10312, 18503, 10325, 10331, 18530, 10341, 10348, 10354, 18547, 10356, 18549, 18555, 18560, 18561, 10382, 18582, 10392, 10396, 10402, 10404, 18596, 10414, 18607, 10417, 10419, 18612, 10423, 10425, 10428, 18622, 18623, 10443, 18637, 10448, 18641, 18646, 18651, 18652, 10467, 10469, 18662, 18663, 18670, 18672, 18676, 18679, 10489, 18692, 10503, 10505, 10510, 18702, 10518, 10531, 10536, 10540, 18738, 10551, 10553, 10558, 10560, 10567, 18760, 18761, 10571, 10572, 18768, 18771, 18773, 10584, 18776, 10586, 18778, 10588, 18783, 10600, 10601, 18794, 10603, 18798, 18801, 18807, 10616, 18809, 10627, 10628, 18827, 10637, 18829, 18831, 18832, 10645, 10647, 10651, 10652, 10653, 10654, 10655, 18847, 10661, 10664, 18858, 18861, 18867, 18868, 10678, 10687, 18879, 10699, 10702, 10703, 10706, 10707, 18903, 18905, 10715, 10716, 18909, 10718, 18910, 18912, 10723, 10725, 18917, 18921, 10730, 18931, 10743, 10744, 18936, 10750, 18946, 18949, 10761, 10764, 10766, 10768, 10770, 10771, 18964, 10775, 10776, 18968, 18971, 18974, 18975, 18978, 10789, 18987, 10797, 18991, 10801, 18994, 10803, 18995, 10812, 10817, 10819, 10823, 19020, 10837, 19029, 19031, 19037, 10850, 10851, 10852, 19042, 10854, 19045, 10861, 19053, 10866, 19058, 10878, 19070, 19071, 10885, 19085, 10894, 10901, 19098, 19102, 19103, 19109, 19110, 19111, 10924, 19116, 19123, 19125, 19127, 10941, 19133, 10943, 10945, 10949, 19141, 19146, 10959, 10963, 19161, 19172, 19178, 10996, 11000, 19195, 11004, 19198, 19206, 11016, 19209, 11018, 11026, 11028, 11030, 19222, 11039, 11046, 19239, 11049, 11052, 19250, 11066, 19258, 11068, 11072, 19264, 19271, 19272, 19281, 19289, 11098, 11099, 11110, 11114, 19308, 11123, 19316, 19318, 11133, 11134, 11136, 19331, 19332, 11147, 19339, 19343, 19345, 19349, 19351, 19352, 11164, 11165, 11166, 19361, 11172, 11173, 19367, 19370, 11180, 11182, 11183, 11199, 19392, 11203, 19396, 19397, 11208, 19400, 19403, 11215, 11218, 11220, 11222, 11226, 11228, 19422, 11234, 19433, 11243, 11245, 19445, 11259, 11262, 11263, 11264, 11266, 19458, 19464, 19468, 11277, 11278, 19470, 11281, 19473, 19477, 11287, 11288, 19479, 19480, 19481, 11296, 19495, 11309, 11310, 19501, 19502, 11313, 19512, 11332, 19525, 19526, 11335, 19530, 19531, 11340, 11345, 19541, 11356, 19553, 11370, 19568, 19573, 19576, 11387, 19581, 11395, 19590, 11399, 11402, 11404, 11405, 11407, 19599, 19600, 19602, 11414, 11421, 19614, 11425, 11429, 19621, 11432, 11436, 11440, 19632, 11442, 19644, 19645, 19648, 11457, 11461, 19654, 19656, 19657, 19659, 11475, 19667, 11478, 11479, 19670, 19676, 19680, 11489, 19682, 11492, 19684, 11502, 19704, 19711, 11520, 11521, 11530, 11531, 19726, 11535, 19730, 11541, 19736, 11546, 11548, 19742, 11551, 11552, 19743, 19746, 19749, 11563, 11565, 19757, 11572, 11573, 19772, 11583, 11584, 19781, 11594, 11595, 19791, 11604, 11615, 11616, 19812, 19816, 11626, 19822, 19832, 19835, 19837, 11650, 11651, 19844, 19849, 11660, 11663, 19859, 11675, 11676, 11681, 19876, 19883, 19886, 19887, 19895, 11704, 19896, 11708, 11710, 11714, 19906, 19912, 19916, 11728, 11729, 11731, 19929, 11739, 11740, 11741, 19934, 19937, 11748, 19941, 19956, 11769, 11770, 11772, 19968, 11779, 19975, 19976, 11785, 11790, 19983, 11795, 19995, 20002, 11811, 20004, 11819, 20013, 20017, 20018, 20025, 11834, 20028, 20029, 20030, 11842, 20035, 20040, 11852, 20045, 20046, 20052, 20056, 11878, 20072, 20076, 20084, 20089, 11900, 11901, 20093, 20095, 20099, 20100, 11919, 11921, 11924, 11925, 11934, 11936, 11938, 20131, 20132, 20134, 20144, 20149, 11964, 20162, 11973, 11974, 20165, 11976, 20168, 20170, 11980, 20173, 11984, 20185, 12002, 12009, 20210, 12022, 12035, 12036, 20229, 12040, 20236, 20240, 20251, 20252, 12068, 20261, 12071, 12072, 20264, 20266, 20284, 12097, 12101, 20295, 12111, 12112, 12113, 20303, 12116, 12117, 20312, 20313, 20317, 20318, 20321, 20327, 12136, 12138, 12144, 12145, 20336, 20338, 20340, 20349, 20350, 12167, 12173, 12175, 12181, 20373, 20374, 20376, 20378, 12194, 12196, 20392, 12202, 12205, 12209, 20402, 20405, 12213, 12214, 12233, 12241, 12255, 12260, 12266, 12267, 12270, 12273, 12274, 12275, 12278, 12284, 12291, 12297, 12299, 12310, 12323, 12330, 12332, 12335, 12345, 12356, 12359, 12361, 12375, 12379, 12383, 12384, 12388, 12390, 12393, 12398, 12408, 12413, 12416, 12435, 12458, 12463, 12473, 12475, 12483, 12487, 12488, 12519, 12522, 12544, 12547, 12570, 12574, 12586, 12588, 12590, 12595, 12598, 12604, 12610, 12634, 12636, 12643, 12658, 12662, 12678, 12681, 12682, 12687, 12691, 12693, 12694, 12696, 12699, 12700, 12701, 12704, 12712, 12720, 12721, 12725, 12730, 12735, 12743, 12744, 12756, 12757, 12768, 12769, 12787, 12788, 12791, 12806, 12810, 12818, 12822, 12833, 12835, 12837, 12839, 12851, 12855, 12856, 12866, 12873, 12875, 12879, 12889, 12892, 12894, 12900, 12902, 12908, 12924, 12927, 12937, 12949, 12958, 12970, 12981, 12987, 12990, 13002, 13007, 13008, 13012, 13020, 13025, 13026, 13044, 13049, 13050, 13055, 13058, 13065, 13074, 13079, 13083, 13086, 13097, 13104, 13109, 13134, 13147, 13166, 13176, 13180, 13185, 13188, 13191, 13196, 13198, 13208, 13218, 13222, 13224, 13240, 13254, 13259, 13264, 13279, 13288, 13292, 13295, 13301, 13302, 13308, 13317, 13320, 13326, 13330, 13331, 13338, 13345, 13348, 13352, 13354, 13364, 13377, 13378, 13379, 13386, 13388, 13393, 13396, 13400, 13409, 13421, 13423, 13424, 13434, 13441, 13445, 13456, 13467, 13471, 13477, 13510, 13516, 13529, 13536, 13547, 13549, 13554, 13563, 13568, 13569, 13571, 13575, 13587, 13595, 13603, 13606, 13618, 13619, 13620, 13622, 13629, 13634, 13642, 13644, 13655, 13661, 13665, 13667, 13669, 13673, 13679, 13686, 13695, 13699, 13702, 13720, 13727, 13728, 13731, 13737, 13754, 13760, 13761, 13762, 13765, 13766, 13777, 13795, 13804, 13808, 13813, 13814, 13819, 13821, 13839, 13845, 13851, 13861, 13863, 13867, 13877, 13884, 13893, 13907, 13908, 13911, 13914, 13918, 13921, 13922, 13931, 13940, 13946, 13953, 13959, 13971, 13972, 13987, 13997, 14003, 14020, 14021, 14022, 14035, 14038, 14045, 14056, 14071, 14073, 14075, 14082, 14084, 14087, 14098, 14099, 14100, 14102, 14104, 14107, 14109, 14129, 14136, 14142, 14160, 14175, 14182, 14191, 14205, 14211, 14213, 14221, 14224, 14226, 14239, 14242, 14243, 14245, 14252, 14256, 14257, 14258, 14265, 14267, 14272, 14284, 14291, 14294, 14303, 14308, 14320, 14322, 14328, 14347, 14365, 14378, 14382, 14385, 14401, 14415, 14416, 14421, 14429, 14431, 14445, 14450, 14452, 14455, 14458, 14466, 14473, 14487, 14491, 14500, 14507, 14515, 14517, 14518, 14520, 14521, 14522, 14524, 14526, 14530, 14531, 14532, 14539, 14543, 14553, 14555, 14569, 14575, 14586, 14597, 14600, 14603, 14621, 14630, 14635, 14673, 14677, 14681, 14686, 14695, 14703, 14710, 14722, 14737, 14740, 14747, 14749, 14754, 14766, 14769, 14780, 14785, 14794, 14802, 14806, 14812, 14826, 14844, 14850, 14857, 14862, 14868, 14872, 14877, 14880, 14882, 14901, 14906, 14914, 14916, 14919, 14921, 14933, 14936, 14939, 14940, 14948, 14951, 14952, 14954, 14959, 14960, 14962, 14968, 14969, 14972, 14976, 14980, 14981, 15008, 15013, 15015, 15024, 15027, 15029, 15030, 15044, 15046, 15049, 15053, 15057, 15064, 15067, 15075, 15077, 15086, 15089, 15090, 15097, 15098, 15111, 15113, 15118, 15121, 15133, 15135, 15137, 15138, 15141, 15142, 15144, 15147, 15155, 15156, 15159, 15166, 15174, 15178, 15182, 15191, 15197, 15207, 15215, 15219, 15226, 15235, 15243, 15246, 15253, 15255, 15265, 15279, 15283, 15299, 15306, 15314, 15320, 15321, 15322, 15324, 15332, 15333, 15352, 15354, 15356, 15360, 15363, 15364, 15368, 15369, 15371, 15374, 15375, 15400, 15404, 15407, 15409, 15411, 15424, 15437, 15438, 15443, 15452, 15458, 15471, 15480, 15485, 15498, 15504, 15507, 15509, 15512, 15534, 15543, 15551, 15552, 15553, 15569, 15574, 15576, 15585, 15588, 15589, 15611, 15619, 15637, 15638, 15646, 15659, 15661, 15662, 15674, 15680, 15683, 15690, 15691, 15698, 15703, 15712, 15718, 15723, 15735, 15738, 15739, 15746, 15774, 15777, 15783, 15792, 15798, 15804, 15806, 15811, 15814, 15815, 15821, 15822, 15826, 15830, 15831, 15838, 15842, 15848, 15850, 15860, 15883, 15885, 15896, 15903, 15919, 15922, 15927, 15937, 15959, 15970, 15971, 15977, 15979, 15986, 16020, 16028, 16030, 16031, 16035, 16043, 16045, 16054, 16059, 16060, 16063, 16064, 16082, 16085, 16086, 16094, 16096, 16101, 16109, 16110, 16115, 16116, 16120, 16129, 16130, 16135, 16142, 16143, 16145, 16156, 16161, 16177, 16182, 16191, 16193, 16203, 16218, 16223, 16234, 16250, 16259, 16267, 16268, 16269, 16275, 16277, 16289, 16290, 16291, 16296, 16299, 16302, 16311, 16323, 16342, 16343, 16353, 16358, 16365, 16372}\n",
            "There are common identifiers.\n"
          ]
        }
      ],
      "source": [
        "# Get the unique identifiers from both dataframes\n",
        "identifiers_tweet = set(Cval_tweet['index'])\n",
        "identifiers_label = set(Cval_label['index'])\n",
        "\n",
        "# Find common identifiers using intersection\n",
        "common_identifiers = identifiers_tweet.intersection(identifiers_label)\n",
        "\n",
        "# Print common identifiers\n",
        "print(\"Common Identifiers:\", common_identifiers)\n",
        "\n",
        "# Check if there are any common identifiers\n",
        "if common_identifiers:\n",
        "    print(\"There are common identifiers.\")\n",
        "else:\n",
        "    print(\"No common identifiers found.\")\n"
      ]
    },
    {
      "cell_type": "code",
      "execution_count": null,
      "metadata": {
        "colab": {
          "base_uri": "https://localhost:8080/"
        },
        "id": "hZrjHv1Bfwdg",
        "outputId": "4c4de80b-30ca-4189-cd24-840e4c7095d9"
      },
      "outputs": [
        {
          "output_type": "execute_result",
          "data": {
            "text/plain": [
              "      index                                              tweet  label\n",
              "0     10023  #FridaysForFuture\\n\\n#COP27 #Live Today\\n#Clim...      3\n",
              "1     10042  Do we really have an average of 6-7 years to c...      1\n",
              "2     10044  today it's #climatestrike Again&amp;Again #Unt...      3\n",
              "3     10067  Join the Global #ClimateStrike on September 23...      1\n",
              "4     10083  Happy #EarthDay! Prioritize Life!\\n\\nReduce #F...      1\n",
              "...     ...                                                ...    ...\n",
              "1556  20376  The #ClimateCrisis tide continues to rise, fol...      3\n",
              "1557  20378  #GlobalClimateStrike in Lagos,Nigeria today ev...      1\n",
              "1558  20392  #Greenwashing #Renewables #ClimateStrike #Exti...      2\n",
              "1559  20402  #ExtinctionRebellion     #ClimateCrisis #Clima...      2\n",
              "1560  20405  Everyone who understands, even a bit abt the #...      1\n",
              "\n",
              "[1561 rows x 3 columns]"
            ],
            "text/html": [
              "\n",
              "  <div id=\"df-420455e3-2d09-46a2-aa11-80c833ee8e42\" class=\"colab-df-container\">\n",
              "    <div>\n",
              "<style scoped>\n",
              "    .dataframe tbody tr th:only-of-type {\n",
              "        vertical-align: middle;\n",
              "    }\n",
              "\n",
              "    .dataframe tbody tr th {\n",
              "        vertical-align: top;\n",
              "    }\n",
              "\n",
              "    .dataframe thead th {\n",
              "        text-align: right;\n",
              "    }\n",
              "</style>\n",
              "<table border=\"1\" class=\"dataframe\">\n",
              "  <thead>\n",
              "    <tr style=\"text-align: right;\">\n",
              "      <th></th>\n",
              "      <th>index</th>\n",
              "      <th>tweet</th>\n",
              "      <th>label</th>\n",
              "    </tr>\n",
              "  </thead>\n",
              "  <tbody>\n",
              "    <tr>\n",
              "      <th>0</th>\n",
              "      <td>10023</td>\n",
              "      <td>#FridaysForFuture\\n\\n#COP27 #Live Today\\n#Clim...</td>\n",
              "      <td>3</td>\n",
              "    </tr>\n",
              "    <tr>\n",
              "      <th>1</th>\n",
              "      <td>10042</td>\n",
              "      <td>Do we really have an average of 6-7 years to c...</td>\n",
              "      <td>1</td>\n",
              "    </tr>\n",
              "    <tr>\n",
              "      <th>2</th>\n",
              "      <td>10044</td>\n",
              "      <td>today it's #climatestrike Again&amp;amp;Again #Unt...</td>\n",
              "      <td>3</td>\n",
              "    </tr>\n",
              "    <tr>\n",
              "      <th>3</th>\n",
              "      <td>10067</td>\n",
              "      <td>Join the Global #ClimateStrike on September 23...</td>\n",
              "      <td>1</td>\n",
              "    </tr>\n",
              "    <tr>\n",
              "      <th>4</th>\n",
              "      <td>10083</td>\n",
              "      <td>Happy #EarthDay! Prioritize Life!\\n\\nReduce #F...</td>\n",
              "      <td>1</td>\n",
              "    </tr>\n",
              "    <tr>\n",
              "      <th>...</th>\n",
              "      <td>...</td>\n",
              "      <td>...</td>\n",
              "      <td>...</td>\n",
              "    </tr>\n",
              "    <tr>\n",
              "      <th>1556</th>\n",
              "      <td>20376</td>\n",
              "      <td>The #ClimateCrisis tide continues to rise, fol...</td>\n",
              "      <td>3</td>\n",
              "    </tr>\n",
              "    <tr>\n",
              "      <th>1557</th>\n",
              "      <td>20378</td>\n",
              "      <td>#GlobalClimateStrike in Lagos,Nigeria today ev...</td>\n",
              "      <td>1</td>\n",
              "    </tr>\n",
              "    <tr>\n",
              "      <th>1558</th>\n",
              "      <td>20392</td>\n",
              "      <td>#Greenwashing #Renewables #ClimateStrike #Exti...</td>\n",
              "      <td>2</td>\n",
              "    </tr>\n",
              "    <tr>\n",
              "      <th>1559</th>\n",
              "      <td>20402</td>\n",
              "      <td>#ExtinctionRebellion     #ClimateCrisis #Clima...</td>\n",
              "      <td>2</td>\n",
              "    </tr>\n",
              "    <tr>\n",
              "      <th>1560</th>\n",
              "      <td>20405</td>\n",
              "      <td>Everyone who understands, even a bit abt the #...</td>\n",
              "      <td>1</td>\n",
              "    </tr>\n",
              "  </tbody>\n",
              "</table>\n",
              "<p>1561 rows × 3 columns</p>\n",
              "</div>\n",
              "    <div class=\"colab-df-buttons\">\n",
              "\n",
              "  <div class=\"colab-df-container\">\n",
              "    <button class=\"colab-df-convert\" onclick=\"convertToInteractive('df-420455e3-2d09-46a2-aa11-80c833ee8e42')\"\n",
              "            title=\"Convert this dataframe to an interactive table.\"\n",
              "            style=\"display:none;\">\n",
              "\n",
              "  <svg xmlns=\"http://www.w3.org/2000/svg\" height=\"24px\" viewBox=\"0 -960 960 960\">\n",
              "    <path d=\"M120-120v-720h720v720H120Zm60-500h600v-160H180v160Zm220 220h160v-160H400v160Zm0 220h160v-160H400v160ZM180-400h160v-160H180v160Zm440 0h160v-160H620v160ZM180-180h160v-160H180v160Zm440 0h160v-160H620v160Z\"/>\n",
              "  </svg>\n",
              "    </button>\n",
              "\n",
              "  <style>\n",
              "    .colab-df-container {\n",
              "      display:flex;\n",
              "      gap: 12px;\n",
              "    }\n",
              "\n",
              "    .colab-df-convert {\n",
              "      background-color: #E8F0FE;\n",
              "      border: none;\n",
              "      border-radius: 50%;\n",
              "      cursor: pointer;\n",
              "      display: none;\n",
              "      fill: #1967D2;\n",
              "      height: 32px;\n",
              "      padding: 0 0 0 0;\n",
              "      width: 32px;\n",
              "    }\n",
              "\n",
              "    .colab-df-convert:hover {\n",
              "      background-color: #E2EBFA;\n",
              "      box-shadow: 0px 1px 2px rgba(60, 64, 67, 0.3), 0px 1px 3px 1px rgba(60, 64, 67, 0.15);\n",
              "      fill: #174EA6;\n",
              "    }\n",
              "\n",
              "    .colab-df-buttons div {\n",
              "      margin-bottom: 4px;\n",
              "    }\n",
              "\n",
              "    [theme=dark] .colab-df-convert {\n",
              "      background-color: #3B4455;\n",
              "      fill: #D2E3FC;\n",
              "    }\n",
              "\n",
              "    [theme=dark] .colab-df-convert:hover {\n",
              "      background-color: #434B5C;\n",
              "      box-shadow: 0px 1px 3px 1px rgba(0, 0, 0, 0.15);\n",
              "      filter: drop-shadow(0px 1px 2px rgba(0, 0, 0, 0.3));\n",
              "      fill: #FFFFFF;\n",
              "    }\n",
              "  </style>\n",
              "\n",
              "    <script>\n",
              "      const buttonEl =\n",
              "        document.querySelector('#df-420455e3-2d09-46a2-aa11-80c833ee8e42 button.colab-df-convert');\n",
              "      buttonEl.style.display =\n",
              "        google.colab.kernel.accessAllowed ? 'block' : 'none';\n",
              "\n",
              "      async function convertToInteractive(key) {\n",
              "        const element = document.querySelector('#df-420455e3-2d09-46a2-aa11-80c833ee8e42');\n",
              "        const dataTable =\n",
              "          await google.colab.kernel.invokeFunction('convertToInteractive',\n",
              "                                                    [key], {});\n",
              "        if (!dataTable) return;\n",
              "\n",
              "        const docLinkHtml = 'Like what you see? Visit the ' +\n",
              "          '<a target=\"_blank\" href=https://colab.research.google.com/notebooks/data_table.ipynb>data table notebook</a>'\n",
              "          + ' to learn more about interactive tables.';\n",
              "        element.innerHTML = '';\n",
              "        dataTable['output_type'] = 'display_data';\n",
              "        await google.colab.output.renderOutput(dataTable, element);\n",
              "        const docLink = document.createElement('div');\n",
              "        docLink.innerHTML = docLinkHtml;\n",
              "        element.appendChild(docLink);\n",
              "      }\n",
              "    </script>\n",
              "  </div>\n",
              "\n",
              "\n",
              "<div id=\"df-e6572e2f-14f2-474d-89d8-05b29dd6e046\">\n",
              "  <button class=\"colab-df-quickchart\" onclick=\"quickchart('df-e6572e2f-14f2-474d-89d8-05b29dd6e046')\"\n",
              "            title=\"Suggest charts\"\n",
              "            style=\"display:none;\">\n",
              "\n",
              "<svg xmlns=\"http://www.w3.org/2000/svg\" height=\"24px\"viewBox=\"0 0 24 24\"\n",
              "     width=\"24px\">\n",
              "    <g>\n",
              "        <path d=\"M19 3H5c-1.1 0-2 .9-2 2v14c0 1.1.9 2 2 2h14c1.1 0 2-.9 2-2V5c0-1.1-.9-2-2-2zM9 17H7v-7h2v7zm4 0h-2V7h2v10zm4 0h-2v-4h2v4z\"/>\n",
              "    </g>\n",
              "</svg>\n",
              "  </button>\n",
              "\n",
              "<style>\n",
              "  .colab-df-quickchart {\n",
              "      --bg-color: #E8F0FE;\n",
              "      --fill-color: #1967D2;\n",
              "      --hover-bg-color: #E2EBFA;\n",
              "      --hover-fill-color: #174EA6;\n",
              "      --disabled-fill-color: #AAA;\n",
              "      --disabled-bg-color: #DDD;\n",
              "  }\n",
              "\n",
              "  [theme=dark] .colab-df-quickchart {\n",
              "      --bg-color: #3B4455;\n",
              "      --fill-color: #D2E3FC;\n",
              "      --hover-bg-color: #434B5C;\n",
              "      --hover-fill-color: #FFFFFF;\n",
              "      --disabled-bg-color: #3B4455;\n",
              "      --disabled-fill-color: #666;\n",
              "  }\n",
              "\n",
              "  .colab-df-quickchart {\n",
              "    background-color: var(--bg-color);\n",
              "    border: none;\n",
              "    border-radius: 50%;\n",
              "    cursor: pointer;\n",
              "    display: none;\n",
              "    fill: var(--fill-color);\n",
              "    height: 32px;\n",
              "    padding: 0;\n",
              "    width: 32px;\n",
              "  }\n",
              "\n",
              "  .colab-df-quickchart:hover {\n",
              "    background-color: var(--hover-bg-color);\n",
              "    box-shadow: 0 1px 2px rgba(60, 64, 67, 0.3), 0 1px 3px 1px rgba(60, 64, 67, 0.15);\n",
              "    fill: var(--button-hover-fill-color);\n",
              "  }\n",
              "\n",
              "  .colab-df-quickchart-complete:disabled,\n",
              "  .colab-df-quickchart-complete:disabled:hover {\n",
              "    background-color: var(--disabled-bg-color);\n",
              "    fill: var(--disabled-fill-color);\n",
              "    box-shadow: none;\n",
              "  }\n",
              "\n",
              "  .colab-df-spinner {\n",
              "    border: 2px solid var(--fill-color);\n",
              "    border-color: transparent;\n",
              "    border-bottom-color: var(--fill-color);\n",
              "    animation:\n",
              "      spin 1s steps(1) infinite;\n",
              "  }\n",
              "\n",
              "  @keyframes spin {\n",
              "    0% {\n",
              "      border-color: transparent;\n",
              "      border-bottom-color: var(--fill-color);\n",
              "      border-left-color: var(--fill-color);\n",
              "    }\n",
              "    20% {\n",
              "      border-color: transparent;\n",
              "      border-left-color: var(--fill-color);\n",
              "      border-top-color: var(--fill-color);\n",
              "    }\n",
              "    30% {\n",
              "      border-color: transparent;\n",
              "      border-left-color: var(--fill-color);\n",
              "      border-top-color: var(--fill-color);\n",
              "      border-right-color: var(--fill-color);\n",
              "    }\n",
              "    40% {\n",
              "      border-color: transparent;\n",
              "      border-right-color: var(--fill-color);\n",
              "      border-top-color: var(--fill-color);\n",
              "    }\n",
              "    60% {\n",
              "      border-color: transparent;\n",
              "      border-right-color: var(--fill-color);\n",
              "    }\n",
              "    80% {\n",
              "      border-color: transparent;\n",
              "      border-right-color: var(--fill-color);\n",
              "      border-bottom-color: var(--fill-color);\n",
              "    }\n",
              "    90% {\n",
              "      border-color: transparent;\n",
              "      border-bottom-color: var(--fill-color);\n",
              "    }\n",
              "  }\n",
              "</style>\n",
              "\n",
              "  <script>\n",
              "    async function quickchart(key) {\n",
              "      const quickchartButtonEl =\n",
              "        document.querySelector('#' + key + ' button');\n",
              "      quickchartButtonEl.disabled = true;  // To prevent multiple clicks.\n",
              "      quickchartButtonEl.classList.add('colab-df-spinner');\n",
              "      try {\n",
              "        const charts = await google.colab.kernel.invokeFunction(\n",
              "            'suggestCharts', [key], {});\n",
              "      } catch (error) {\n",
              "        console.error('Error during call to suggestCharts:', error);\n",
              "      }\n",
              "      quickchartButtonEl.classList.remove('colab-df-spinner');\n",
              "      quickchartButtonEl.classList.add('colab-df-quickchart-complete');\n",
              "    }\n",
              "    (() => {\n",
              "      let quickchartButtonEl =\n",
              "        document.querySelector('#df-e6572e2f-14f2-474d-89d8-05b29dd6e046 button');\n",
              "      quickchartButtonEl.style.display =\n",
              "        google.colab.kernel.accessAllowed ? 'block' : 'none';\n",
              "    })();\n",
              "  </script>\n",
              "</div>\n",
              "\n",
              "  <div id=\"id_cdd5ae10-8fed-4ae1-b593-e2ee79e3a5d3\">\n",
              "    <style>\n",
              "      .colab-df-generate {\n",
              "        background-color: #E8F0FE;\n",
              "        border: none;\n",
              "        border-radius: 50%;\n",
              "        cursor: pointer;\n",
              "        display: none;\n",
              "        fill: #1967D2;\n",
              "        height: 32px;\n",
              "        padding: 0 0 0 0;\n",
              "        width: 32px;\n",
              "      }\n",
              "\n",
              "      .colab-df-generate:hover {\n",
              "        background-color: #E2EBFA;\n",
              "        box-shadow: 0px 1px 2px rgba(60, 64, 67, 0.3), 0px 1px 3px 1px rgba(60, 64, 67, 0.15);\n",
              "        fill: #174EA6;\n",
              "      }\n",
              "\n",
              "      [theme=dark] .colab-df-generate {\n",
              "        background-color: #3B4455;\n",
              "        fill: #D2E3FC;\n",
              "      }\n",
              "\n",
              "      [theme=dark] .colab-df-generate:hover {\n",
              "        background-color: #434B5C;\n",
              "        box-shadow: 0px 1px 3px 1px rgba(0, 0, 0, 0.15);\n",
              "        filter: drop-shadow(0px 1px 2px rgba(0, 0, 0, 0.3));\n",
              "        fill: #FFFFFF;\n",
              "      }\n",
              "    </style>\n",
              "    <button class=\"colab-df-generate\" onclick=\"generateWithVariable('Cval')\"\n",
              "            title=\"Generate code using this dataframe.\"\n",
              "            style=\"display:none;\">\n",
              "\n",
              "  <svg xmlns=\"http://www.w3.org/2000/svg\" height=\"24px\"viewBox=\"0 0 24 24\"\n",
              "       width=\"24px\">\n",
              "    <path d=\"M7,19H8.4L18.45,9,17,7.55,7,17.6ZM5,21V16.75L18.45,3.32a2,2,0,0,1,2.83,0l1.4,1.43a1.91,1.91,0,0,1,.58,1.4,1.91,1.91,0,0,1-.58,1.4L9.25,21ZM18.45,9,17,7.55Zm-12,3A5.31,5.31,0,0,0,4.9,8.1,5.31,5.31,0,0,0,1,6.5,5.31,5.31,0,0,0,4.9,4.9,5.31,5.31,0,0,0,6.5,1,5.31,5.31,0,0,0,8.1,4.9,5.31,5.31,0,0,0,12,6.5,5.46,5.46,0,0,0,6.5,12Z\"/>\n",
              "  </svg>\n",
              "    </button>\n",
              "    <script>\n",
              "      (() => {\n",
              "      const buttonEl =\n",
              "        document.querySelector('#id_cdd5ae10-8fed-4ae1-b593-e2ee79e3a5d3 button.colab-df-generate');\n",
              "      buttonEl.style.display =\n",
              "        google.colab.kernel.accessAllowed ? 'block' : 'none';\n",
              "\n",
              "      buttonEl.onclick = () => {\n",
              "        google.colab.notebook.generateWithVariable('Cval');\n",
              "      }\n",
              "      })();\n",
              "    </script>\n",
              "  </div>\n",
              "\n",
              "    </div>\n",
              "  </div>\n"
            ]
          },
          "metadata": {},
          "execution_count": 13
        }
      ],
      "source": [
        "import pandas as pd\n",
        "\n",
        "# Assuming 'identifier' is the common column in both dataframes\n",
        "# Concatenate Aval_tweet and Aval_label along columns (axis=1)\n",
        "Cval = pd.concat([Cval_tweet.set_index('index'), Cval_label.set_index('index')], axis=1)\n",
        "\n",
        "# Drop any rows with NaN values (if any)\n",
        "Cval = Cval.dropna()\n",
        "\n",
        "# Reset the index to make 'identifier' a regular column again\n",
        "Cval.reset_index(inplace=True)\n",
        "\n",
        "# Print the resulting DataFrame\n",
        "Cval"
      ]
    },
    {
      "cell_type": "code",
      "source": [
        "import pandas as pd\n",
        "\n",
        "# Assuming 'identifier' is the common column in both dataframes\n",
        "# Concatenate Aval_tweet and Aval_label along columns (axis=1)\n",
        "Ctest = pd.concat([Ctest_tweet.set_index('index'), Ctest_label.set_index('index')], axis=1)\n",
        "\n",
        "# Drop any rows with NaN values (if any)\n",
        "Ctest = Ctest.dropna()\n",
        "\n",
        "# Reset the index to make 'identifier' a regular column again\n",
        "Ctest.reset_index(inplace=True)\n",
        "\n",
        "# Print the resulting DataFrame\n",
        "Ctest"
      ],
      "metadata": {
        "colab": {
          "base_uri": "https://localhost:8080/"
        },
        "id": "Z-aksh5vQoIS",
        "outputId": "56d03e10-cc99-4c4c-a267-9e664b49963a"
      },
      "execution_count": null,
      "outputs": [
        {
          "output_type": "execute_result",
          "data": {
            "text/plain": [
              "      index                                              tweet  label\n",
              "0     10000  british govt/msm sheer hypocrisy!!! ‘Out of re...      1\n",
              "1     10004  This #FridaysForFuture on Zoom we will get boo...      1\n",
              "2     10012  The #ecoteam at SMAB have been busy today! The...      3\n",
              "3     10015  The fight against climate justice is for both ...      1\n",
              "4     10031  The world needs more environmentalists \\n#biod...      1\n",
              "...     ...                                                ...    ...\n",
              "1557  20391  #ClimateChange #Greenwashing #Renewables  #Cli...      2\n",
              "1558  20394  🌍🌿👇 Solidarity Cora and everyone below..! ✌️💚🌱...      1\n",
              "1559  20395  Welcome to the world of extreme heat, extreme ...      3\n",
              "1560  20398  +++ Save the Date +++\\nThe next #FridaysForFut...      1\n",
              "1561  20401  @FFF_NYC_ second half of the climate march #Fr...      1\n",
              "\n",
              "[1562 rows x 3 columns]"
            ],
            "text/html": [
              "\n",
              "  <div id=\"df-5497ffd8-b388-4b70-8715-e90d0f0e66cb\" class=\"colab-df-container\">\n",
              "    <div>\n",
              "<style scoped>\n",
              "    .dataframe tbody tr th:only-of-type {\n",
              "        vertical-align: middle;\n",
              "    }\n",
              "\n",
              "    .dataframe tbody tr th {\n",
              "        vertical-align: top;\n",
              "    }\n",
              "\n",
              "    .dataframe thead th {\n",
              "        text-align: right;\n",
              "    }\n",
              "</style>\n",
              "<table border=\"1\" class=\"dataframe\">\n",
              "  <thead>\n",
              "    <tr style=\"text-align: right;\">\n",
              "      <th></th>\n",
              "      <th>index</th>\n",
              "      <th>tweet</th>\n",
              "      <th>label</th>\n",
              "    </tr>\n",
              "  </thead>\n",
              "  <tbody>\n",
              "    <tr>\n",
              "      <th>0</th>\n",
              "      <td>10000</td>\n",
              "      <td>british govt/msm sheer hypocrisy!!! ‘Out of re...</td>\n",
              "      <td>1</td>\n",
              "    </tr>\n",
              "    <tr>\n",
              "      <th>1</th>\n",
              "      <td>10004</td>\n",
              "      <td>This #FridaysForFuture on Zoom we will get boo...</td>\n",
              "      <td>1</td>\n",
              "    </tr>\n",
              "    <tr>\n",
              "      <th>2</th>\n",
              "      <td>10012</td>\n",
              "      <td>The #ecoteam at SMAB have been busy today! The...</td>\n",
              "      <td>3</td>\n",
              "    </tr>\n",
              "    <tr>\n",
              "      <th>3</th>\n",
              "      <td>10015</td>\n",
              "      <td>The fight against climate justice is for both ...</td>\n",
              "      <td>1</td>\n",
              "    </tr>\n",
              "    <tr>\n",
              "      <th>4</th>\n",
              "      <td>10031</td>\n",
              "      <td>The world needs more environmentalists \\n#biod...</td>\n",
              "      <td>1</td>\n",
              "    </tr>\n",
              "    <tr>\n",
              "      <th>...</th>\n",
              "      <td>...</td>\n",
              "      <td>...</td>\n",
              "      <td>...</td>\n",
              "    </tr>\n",
              "    <tr>\n",
              "      <th>1557</th>\n",
              "      <td>20391</td>\n",
              "      <td>#ClimateChange #Greenwashing #Renewables  #Cli...</td>\n",
              "      <td>2</td>\n",
              "    </tr>\n",
              "    <tr>\n",
              "      <th>1558</th>\n",
              "      <td>20394</td>\n",
              "      <td>🌍🌿👇 Solidarity Cora and everyone below..! ✌️💚🌱...</td>\n",
              "      <td>1</td>\n",
              "    </tr>\n",
              "    <tr>\n",
              "      <th>1559</th>\n",
              "      <td>20395</td>\n",
              "      <td>Welcome to the world of extreme heat, extreme ...</td>\n",
              "      <td>3</td>\n",
              "    </tr>\n",
              "    <tr>\n",
              "      <th>1560</th>\n",
              "      <td>20398</td>\n",
              "      <td>+++ Save the Date +++\\nThe next #FridaysForFut...</td>\n",
              "      <td>1</td>\n",
              "    </tr>\n",
              "    <tr>\n",
              "      <th>1561</th>\n",
              "      <td>20401</td>\n",
              "      <td>@FFF_NYC_ second half of the climate march #Fr...</td>\n",
              "      <td>1</td>\n",
              "    </tr>\n",
              "  </tbody>\n",
              "</table>\n",
              "<p>1562 rows × 3 columns</p>\n",
              "</div>\n",
              "    <div class=\"colab-df-buttons\">\n",
              "\n",
              "  <div class=\"colab-df-container\">\n",
              "    <button class=\"colab-df-convert\" onclick=\"convertToInteractive('df-5497ffd8-b388-4b70-8715-e90d0f0e66cb')\"\n",
              "            title=\"Convert this dataframe to an interactive table.\"\n",
              "            style=\"display:none;\">\n",
              "\n",
              "  <svg xmlns=\"http://www.w3.org/2000/svg\" height=\"24px\" viewBox=\"0 -960 960 960\">\n",
              "    <path d=\"M120-120v-720h720v720H120Zm60-500h600v-160H180v160Zm220 220h160v-160H400v160Zm0 220h160v-160H400v160ZM180-400h160v-160H180v160Zm440 0h160v-160H620v160ZM180-180h160v-160H180v160Zm440 0h160v-160H620v160Z\"/>\n",
              "  </svg>\n",
              "    </button>\n",
              "\n",
              "  <style>\n",
              "    .colab-df-container {\n",
              "      display:flex;\n",
              "      gap: 12px;\n",
              "    }\n",
              "\n",
              "    .colab-df-convert {\n",
              "      background-color: #E8F0FE;\n",
              "      border: none;\n",
              "      border-radius: 50%;\n",
              "      cursor: pointer;\n",
              "      display: none;\n",
              "      fill: #1967D2;\n",
              "      height: 32px;\n",
              "      padding: 0 0 0 0;\n",
              "      width: 32px;\n",
              "    }\n",
              "\n",
              "    .colab-df-convert:hover {\n",
              "      background-color: #E2EBFA;\n",
              "      box-shadow: 0px 1px 2px rgba(60, 64, 67, 0.3), 0px 1px 3px 1px rgba(60, 64, 67, 0.15);\n",
              "      fill: #174EA6;\n",
              "    }\n",
              "\n",
              "    .colab-df-buttons div {\n",
              "      margin-bottom: 4px;\n",
              "    }\n",
              "\n",
              "    [theme=dark] .colab-df-convert {\n",
              "      background-color: #3B4455;\n",
              "      fill: #D2E3FC;\n",
              "    }\n",
              "\n",
              "    [theme=dark] .colab-df-convert:hover {\n",
              "      background-color: #434B5C;\n",
              "      box-shadow: 0px 1px 3px 1px rgba(0, 0, 0, 0.15);\n",
              "      filter: drop-shadow(0px 1px 2px rgba(0, 0, 0, 0.3));\n",
              "      fill: #FFFFFF;\n",
              "    }\n",
              "  </style>\n",
              "\n",
              "    <script>\n",
              "      const buttonEl =\n",
              "        document.querySelector('#df-5497ffd8-b388-4b70-8715-e90d0f0e66cb button.colab-df-convert');\n",
              "      buttonEl.style.display =\n",
              "        google.colab.kernel.accessAllowed ? 'block' : 'none';\n",
              "\n",
              "      async function convertToInteractive(key) {\n",
              "        const element = document.querySelector('#df-5497ffd8-b388-4b70-8715-e90d0f0e66cb');\n",
              "        const dataTable =\n",
              "          await google.colab.kernel.invokeFunction('convertToInteractive',\n",
              "                                                    [key], {});\n",
              "        if (!dataTable) return;\n",
              "\n",
              "        const docLinkHtml = 'Like what you see? Visit the ' +\n",
              "          '<a target=\"_blank\" href=https://colab.research.google.com/notebooks/data_table.ipynb>data table notebook</a>'\n",
              "          + ' to learn more about interactive tables.';\n",
              "        element.innerHTML = '';\n",
              "        dataTable['output_type'] = 'display_data';\n",
              "        await google.colab.output.renderOutput(dataTable, element);\n",
              "        const docLink = document.createElement('div');\n",
              "        docLink.innerHTML = docLinkHtml;\n",
              "        element.appendChild(docLink);\n",
              "      }\n",
              "    </script>\n",
              "  </div>\n",
              "\n",
              "\n",
              "<div id=\"df-5cef346b-57e5-41ce-835c-f0b53fa34984\">\n",
              "  <button class=\"colab-df-quickchart\" onclick=\"quickchart('df-5cef346b-57e5-41ce-835c-f0b53fa34984')\"\n",
              "            title=\"Suggest charts\"\n",
              "            style=\"display:none;\">\n",
              "\n",
              "<svg xmlns=\"http://www.w3.org/2000/svg\" height=\"24px\"viewBox=\"0 0 24 24\"\n",
              "     width=\"24px\">\n",
              "    <g>\n",
              "        <path d=\"M19 3H5c-1.1 0-2 .9-2 2v14c0 1.1.9 2 2 2h14c1.1 0 2-.9 2-2V5c0-1.1-.9-2-2-2zM9 17H7v-7h2v7zm4 0h-2V7h2v10zm4 0h-2v-4h2v4z\"/>\n",
              "    </g>\n",
              "</svg>\n",
              "  </button>\n",
              "\n",
              "<style>\n",
              "  .colab-df-quickchart {\n",
              "      --bg-color: #E8F0FE;\n",
              "      --fill-color: #1967D2;\n",
              "      --hover-bg-color: #E2EBFA;\n",
              "      --hover-fill-color: #174EA6;\n",
              "      --disabled-fill-color: #AAA;\n",
              "      --disabled-bg-color: #DDD;\n",
              "  }\n",
              "\n",
              "  [theme=dark] .colab-df-quickchart {\n",
              "      --bg-color: #3B4455;\n",
              "      --fill-color: #D2E3FC;\n",
              "      --hover-bg-color: #434B5C;\n",
              "      --hover-fill-color: #FFFFFF;\n",
              "      --disabled-bg-color: #3B4455;\n",
              "      --disabled-fill-color: #666;\n",
              "  }\n",
              "\n",
              "  .colab-df-quickchart {\n",
              "    background-color: var(--bg-color);\n",
              "    border: none;\n",
              "    border-radius: 50%;\n",
              "    cursor: pointer;\n",
              "    display: none;\n",
              "    fill: var(--fill-color);\n",
              "    height: 32px;\n",
              "    padding: 0;\n",
              "    width: 32px;\n",
              "  }\n",
              "\n",
              "  .colab-df-quickchart:hover {\n",
              "    background-color: var(--hover-bg-color);\n",
              "    box-shadow: 0 1px 2px rgba(60, 64, 67, 0.3), 0 1px 3px 1px rgba(60, 64, 67, 0.15);\n",
              "    fill: var(--button-hover-fill-color);\n",
              "  }\n",
              "\n",
              "  .colab-df-quickchart-complete:disabled,\n",
              "  .colab-df-quickchart-complete:disabled:hover {\n",
              "    background-color: var(--disabled-bg-color);\n",
              "    fill: var(--disabled-fill-color);\n",
              "    box-shadow: none;\n",
              "  }\n",
              "\n",
              "  .colab-df-spinner {\n",
              "    border: 2px solid var(--fill-color);\n",
              "    border-color: transparent;\n",
              "    border-bottom-color: var(--fill-color);\n",
              "    animation:\n",
              "      spin 1s steps(1) infinite;\n",
              "  }\n",
              "\n",
              "  @keyframes spin {\n",
              "    0% {\n",
              "      border-color: transparent;\n",
              "      border-bottom-color: var(--fill-color);\n",
              "      border-left-color: var(--fill-color);\n",
              "    }\n",
              "    20% {\n",
              "      border-color: transparent;\n",
              "      border-left-color: var(--fill-color);\n",
              "      border-top-color: var(--fill-color);\n",
              "    }\n",
              "    30% {\n",
              "      border-color: transparent;\n",
              "      border-left-color: var(--fill-color);\n",
              "      border-top-color: var(--fill-color);\n",
              "      border-right-color: var(--fill-color);\n",
              "    }\n",
              "    40% {\n",
              "      border-color: transparent;\n",
              "      border-right-color: var(--fill-color);\n",
              "      border-top-color: var(--fill-color);\n",
              "    }\n",
              "    60% {\n",
              "      border-color: transparent;\n",
              "      border-right-color: var(--fill-color);\n",
              "    }\n",
              "    80% {\n",
              "      border-color: transparent;\n",
              "      border-right-color: var(--fill-color);\n",
              "      border-bottom-color: var(--fill-color);\n",
              "    }\n",
              "    90% {\n",
              "      border-color: transparent;\n",
              "      border-bottom-color: var(--fill-color);\n",
              "    }\n",
              "  }\n",
              "</style>\n",
              "\n",
              "  <script>\n",
              "    async function quickchart(key) {\n",
              "      const quickchartButtonEl =\n",
              "        document.querySelector('#' + key + ' button');\n",
              "      quickchartButtonEl.disabled = true;  // To prevent multiple clicks.\n",
              "      quickchartButtonEl.classList.add('colab-df-spinner');\n",
              "      try {\n",
              "        const charts = await google.colab.kernel.invokeFunction(\n",
              "            'suggestCharts', [key], {});\n",
              "      } catch (error) {\n",
              "        console.error('Error during call to suggestCharts:', error);\n",
              "      }\n",
              "      quickchartButtonEl.classList.remove('colab-df-spinner');\n",
              "      quickchartButtonEl.classList.add('colab-df-quickchart-complete');\n",
              "    }\n",
              "    (() => {\n",
              "      let quickchartButtonEl =\n",
              "        document.querySelector('#df-5cef346b-57e5-41ce-835c-f0b53fa34984 button');\n",
              "      quickchartButtonEl.style.display =\n",
              "        google.colab.kernel.accessAllowed ? 'block' : 'none';\n",
              "    })();\n",
              "  </script>\n",
              "</div>\n",
              "\n",
              "  <div id=\"id_ab40e72e-6422-4669-b745-5ed0a6662492\">\n",
              "    <style>\n",
              "      .colab-df-generate {\n",
              "        background-color: #E8F0FE;\n",
              "        border: none;\n",
              "        border-radius: 50%;\n",
              "        cursor: pointer;\n",
              "        display: none;\n",
              "        fill: #1967D2;\n",
              "        height: 32px;\n",
              "        padding: 0 0 0 0;\n",
              "        width: 32px;\n",
              "      }\n",
              "\n",
              "      .colab-df-generate:hover {\n",
              "        background-color: #E2EBFA;\n",
              "        box-shadow: 0px 1px 2px rgba(60, 64, 67, 0.3), 0px 1px 3px 1px rgba(60, 64, 67, 0.15);\n",
              "        fill: #174EA6;\n",
              "      }\n",
              "\n",
              "      [theme=dark] .colab-df-generate {\n",
              "        background-color: #3B4455;\n",
              "        fill: #D2E3FC;\n",
              "      }\n",
              "\n",
              "      [theme=dark] .colab-df-generate:hover {\n",
              "        background-color: #434B5C;\n",
              "        box-shadow: 0px 1px 3px 1px rgba(0, 0, 0, 0.15);\n",
              "        filter: drop-shadow(0px 1px 2px rgba(0, 0, 0, 0.3));\n",
              "        fill: #FFFFFF;\n",
              "      }\n",
              "    </style>\n",
              "    <button class=\"colab-df-generate\" onclick=\"generateWithVariable('Ctest')\"\n",
              "            title=\"Generate code using this dataframe.\"\n",
              "            style=\"display:none;\">\n",
              "\n",
              "  <svg xmlns=\"http://www.w3.org/2000/svg\" height=\"24px\"viewBox=\"0 0 24 24\"\n",
              "       width=\"24px\">\n",
              "    <path d=\"M7,19H8.4L18.45,9,17,7.55,7,17.6ZM5,21V16.75L18.45,3.32a2,2,0,0,1,2.83,0l1.4,1.43a1.91,1.91,0,0,1,.58,1.4,1.91,1.91,0,0,1-.58,1.4L9.25,21ZM18.45,9,17,7.55Zm-12,3A5.31,5.31,0,0,0,4.9,8.1,5.31,5.31,0,0,0,1,6.5,5.31,5.31,0,0,0,4.9,4.9,5.31,5.31,0,0,0,6.5,1,5.31,5.31,0,0,0,8.1,4.9,5.31,5.31,0,0,0,12,6.5,5.46,5.46,0,0,0,6.5,12Z\"/>\n",
              "  </svg>\n",
              "    </button>\n",
              "    <script>\n",
              "      (() => {\n",
              "      const buttonEl =\n",
              "        document.querySelector('#id_ab40e72e-6422-4669-b745-5ed0a6662492 button.colab-df-generate');\n",
              "      buttonEl.style.display =\n",
              "        google.colab.kernel.accessAllowed ? 'block' : 'none';\n",
              "\n",
              "      buttonEl.onclick = () => {\n",
              "        google.colab.notebook.generateWithVariable('Ctest');\n",
              "      }\n",
              "      })();\n",
              "    </script>\n",
              "  </div>\n",
              "\n",
              "    </div>\n",
              "  </div>\n"
            ]
          },
          "metadata": {},
          "execution_count": 14
        }
      ]
    },
    {
      "cell_type": "markdown",
      "metadata": {
        "id": "cRU1aKz253-Q"
      },
      "source": [
        "# Data Set Analysis"
      ]
    },
    {
      "cell_type": "code",
      "execution_count": null,
      "metadata": {
        "colab": {
          "base_uri": "https://localhost:8080/"
        },
        "id": "JfF5fuQgtpMZ",
        "outputId": "3065b76b-586c-4e9d-a89e-6bbac6195e51"
      },
      "outputs": [
        {
          "output_type": "stream",
          "name": "stdout",
          "text": [
            "1    4328\n",
            "3    2256\n",
            "2     700\n",
            "Name: label, dtype: int64\n",
            "1    897\n",
            "3    511\n",
            "2    153\n",
            "Name: label, dtype: int64\n"
          ]
        }
      ],
      "source": [
        "print(Ctrain['label'].value_counts())\n",
        "print(Cval_label['label'].value_counts())"
      ]
    },
    {
      "cell_type": "code",
      "execution_count": null,
      "metadata": {
        "id": "2DH-h-3IwUdb"
      },
      "outputs": [],
      "source": [
        "train_corpus = Ctrain[\"tweet\"].sum()\n",
        "test_corpus = Ctest[\"tweet\"].sum()\n",
        "#test_corpus"
      ]
    },
    {
      "cell_type": "code",
      "execution_count": null,
      "metadata": {
        "colab": {
          "base_uri": "https://localhost:8080/"
        },
        "id": "o9DHSoRN5-0u",
        "outputId": "d7886c92-2b0e-4050-e426-24434c514f67"
      },
      "outputs": [
        {
          "output_type": "stream",
          "name": "stdout",
          "text": [
            "Number of unique words in training data: 29021\n",
            "Number of unique words in test data: 9970\n",
            "Number of out-of-vocabulary (OOV) words: 4204\n"
          ]
        }
      ],
      "source": [
        "import re\n",
        "\n",
        "# Remove punctuations\n",
        "chars_to_ignore = '[-,\\.:;\\'\"\\!?।]'\n",
        "\n",
        "train_corpus = re.sub(chars_to_ignore, ' ', train_corpus)\n",
        "train_vocab = set(train_corpus.split())\n",
        "\n",
        "test_corpus = re.sub(chars_to_ignore, ' ', test_corpus)\n",
        "test_vocab = set(test_corpus.split())\n",
        "\n",
        "oov = test_vocab - train_vocab\n",
        "\n",
        "print(\"Number of unique words in training data:\", len(train_vocab))\n",
        "print(\"Number of unique words in test data:\", len(test_vocab))\n",
        "print(\"Number of out-of-vocabulary (OOV) words:\", len(oov))"
      ]
    },
    {
      "cell_type": "code",
      "execution_count": null,
      "metadata": {
        "colab": {
          "base_uri": "https://localhost:8080/",
          "height": 330
        },
        "id": "B_6WCeew6G33",
        "outputId": "22f7fdc9-b773-4c20-9a59-19ce97ea4c48"
      },
      "outputs": [
        {
          "output_type": "display_data",
          "data": {
            "text/plain": [
              "      index  \\\n",
              "7279  20399   \n",
              "7280  20400   \n",
              "7281  20403   \n",
              "7282  20404   \n",
              "7283  20406   \n",
              "\n",
              "                                                                                                                                                                                                                                                                                                                 tweet  \\\n",
              "7279  Fridays for Future :: Nov 18, Noon - Palo Alto Civic Center (Week #45) - https://t.co/S3s9foxY3g\\n#FridaysForFuture\\n#PeopleNotProfit\\n#ClimateStrike\\n#ClimateActionNow\\n#GlobalWarming\\n@FFFUnitedStates\\n@polimatt1 https://t.co/k4402dNCtf                                                                     \n",
              "7280  Global #ClimateStrike today! #TakeAction on #ClimateChange! \\n\\nLet's start making a difference today! #SaveTheWorld #TakeActionNow #MakeADifference\\n\\nThank you #FridaysForFuture! \\n\\nMore on the #climatecrisis: \\nhttps://t.co/mHOk8MnsBa https://t.co/9LuKpeaQ85                                             \n",
              "7281  No more empty promises\\nStop the funding Of Nonrenewables\\nClimate Justice\\n#STOP EACOP to save the Environment\\n#FridaysForFuture                                                                                                                                                                                 \n",
              "7282  Young people are not only victims of climate change. They're also valuable contributors to climate action. We had a productive interactive session with climate change ambs on the way forward of rolling out greening activities at @KenyattaUni \\n#climate \\n#FridaysForFuture https://t.co/oNJcdDdSGD           \n",
              "7283  #FridaysForFuture #EverydayForFuture Here I am in front of the #GlobalGoals display that my students made. They wrote persuasive letters to our Mayor asking him to make sure all schools in #Leuven and the world teach children about the #SDGs and next week he will visit our class! https://t.co/XxSjFbMPlo   \n",
              "\n",
              "      label  \n",
              "7279  1      \n",
              "7280  1      \n",
              "7281  3      \n",
              "7282  1      \n",
              "7283  1      "
            ],
            "text/html": [
              "\n",
              "  <div id=\"df-f06358d6-b4fa-4c5b-9d32-1a436cc3c6d6\" class=\"colab-df-container\">\n",
              "    <div>\n",
              "<style scoped>\n",
              "    .dataframe tbody tr th:only-of-type {\n",
              "        vertical-align: middle;\n",
              "    }\n",
              "\n",
              "    .dataframe tbody tr th {\n",
              "        vertical-align: top;\n",
              "    }\n",
              "\n",
              "    .dataframe thead th {\n",
              "        text-align: right;\n",
              "    }\n",
              "</style>\n",
              "<table border=\"1\" class=\"dataframe\">\n",
              "  <thead>\n",
              "    <tr style=\"text-align: right;\">\n",
              "      <th></th>\n",
              "      <th>index</th>\n",
              "      <th>tweet</th>\n",
              "      <th>label</th>\n",
              "    </tr>\n",
              "  </thead>\n",
              "  <tbody>\n",
              "    <tr>\n",
              "      <th>7279</th>\n",
              "      <td>20399</td>\n",
              "      <td>Fridays for Future :: Nov 18, Noon - Palo Alto Civic Center (Week #45) - https://t.co/S3s9foxY3g\\n#FridaysForFuture\\n#PeopleNotProfit\\n#ClimateStrike\\n#ClimateActionNow\\n#GlobalWarming\\n@FFFUnitedStates\\n@polimatt1 https://t.co/k4402dNCtf</td>\n",
              "      <td>1</td>\n",
              "    </tr>\n",
              "    <tr>\n",
              "      <th>7280</th>\n",
              "      <td>20400</td>\n",
              "      <td>Global #ClimateStrike today! #TakeAction on #ClimateChange! \\n\\nLet's start making a difference today! #SaveTheWorld #TakeActionNow #MakeADifference\\n\\nThank you #FridaysForFuture! \\n\\nMore on the #climatecrisis: \\nhttps://t.co/mHOk8MnsBa https://t.co/9LuKpeaQ85</td>\n",
              "      <td>1</td>\n",
              "    </tr>\n",
              "    <tr>\n",
              "      <th>7281</th>\n",
              "      <td>20403</td>\n",
              "      <td>No more empty promises\\nStop the funding Of Nonrenewables\\nClimate Justice\\n#STOP EACOP to save the Environment\\n#FridaysForFuture</td>\n",
              "      <td>3</td>\n",
              "    </tr>\n",
              "    <tr>\n",
              "      <th>7282</th>\n",
              "      <td>20404</td>\n",
              "      <td>Young people are not only victims of climate change. They're also valuable contributors to climate action. We had a productive interactive session with climate change ambs on the way forward of rolling out greening activities at @KenyattaUni \\n#climate \\n#FridaysForFuture https://t.co/oNJcdDdSGD</td>\n",
              "      <td>1</td>\n",
              "    </tr>\n",
              "    <tr>\n",
              "      <th>7283</th>\n",
              "      <td>20406</td>\n",
              "      <td>#FridaysForFuture #EverydayForFuture Here I am in front of the #GlobalGoals display that my students made. They wrote persuasive letters to our Mayor asking him to make sure all schools in #Leuven and the world teach children about the #SDGs and next week he will visit our class! https://t.co/XxSjFbMPlo</td>\n",
              "      <td>1</td>\n",
              "    </tr>\n",
              "  </tbody>\n",
              "</table>\n",
              "</div>\n",
              "    <div class=\"colab-df-buttons\">\n",
              "\n",
              "  <div class=\"colab-df-container\">\n",
              "    <button class=\"colab-df-convert\" onclick=\"convertToInteractive('df-f06358d6-b4fa-4c5b-9d32-1a436cc3c6d6')\"\n",
              "            title=\"Convert this dataframe to an interactive table.\"\n",
              "            style=\"display:none;\">\n",
              "\n",
              "  <svg xmlns=\"http://www.w3.org/2000/svg\" height=\"24px\" viewBox=\"0 -960 960 960\">\n",
              "    <path d=\"M120-120v-720h720v720H120Zm60-500h600v-160H180v160Zm220 220h160v-160H400v160Zm0 220h160v-160H400v160ZM180-400h160v-160H180v160Zm440 0h160v-160H620v160ZM180-180h160v-160H180v160Zm440 0h160v-160H620v160Z\"/>\n",
              "  </svg>\n",
              "    </button>\n",
              "\n",
              "  <style>\n",
              "    .colab-df-container {\n",
              "      display:flex;\n",
              "      gap: 12px;\n",
              "    }\n",
              "\n",
              "    .colab-df-convert {\n",
              "      background-color: #E8F0FE;\n",
              "      border: none;\n",
              "      border-radius: 50%;\n",
              "      cursor: pointer;\n",
              "      display: none;\n",
              "      fill: #1967D2;\n",
              "      height: 32px;\n",
              "      padding: 0 0 0 0;\n",
              "      width: 32px;\n",
              "    }\n",
              "\n",
              "    .colab-df-convert:hover {\n",
              "      background-color: #E2EBFA;\n",
              "      box-shadow: 0px 1px 2px rgba(60, 64, 67, 0.3), 0px 1px 3px 1px rgba(60, 64, 67, 0.15);\n",
              "      fill: #174EA6;\n",
              "    }\n",
              "\n",
              "    .colab-df-buttons div {\n",
              "      margin-bottom: 4px;\n",
              "    }\n",
              "\n",
              "    [theme=dark] .colab-df-convert {\n",
              "      background-color: #3B4455;\n",
              "      fill: #D2E3FC;\n",
              "    }\n",
              "\n",
              "    [theme=dark] .colab-df-convert:hover {\n",
              "      background-color: #434B5C;\n",
              "      box-shadow: 0px 1px 3px 1px rgba(0, 0, 0, 0.15);\n",
              "      filter: drop-shadow(0px 1px 2px rgba(0, 0, 0, 0.3));\n",
              "      fill: #FFFFFF;\n",
              "    }\n",
              "  </style>\n",
              "\n",
              "    <script>\n",
              "      const buttonEl =\n",
              "        document.querySelector('#df-f06358d6-b4fa-4c5b-9d32-1a436cc3c6d6 button.colab-df-convert');\n",
              "      buttonEl.style.display =\n",
              "        google.colab.kernel.accessAllowed ? 'block' : 'none';\n",
              "\n",
              "      async function convertToInteractive(key) {\n",
              "        const element = document.querySelector('#df-f06358d6-b4fa-4c5b-9d32-1a436cc3c6d6');\n",
              "        const dataTable =\n",
              "          await google.colab.kernel.invokeFunction('convertToInteractive',\n",
              "                                                    [key], {});\n",
              "        if (!dataTable) return;\n",
              "\n",
              "        const docLinkHtml = 'Like what you see? Visit the ' +\n",
              "          '<a target=\"_blank\" href=https://colab.research.google.com/notebooks/data_table.ipynb>data table notebook</a>'\n",
              "          + ' to learn more about interactive tables.';\n",
              "        element.innerHTML = '';\n",
              "        dataTable['output_type'] = 'display_data';\n",
              "        await google.colab.output.renderOutput(dataTable, element);\n",
              "        const docLink = document.createElement('div');\n",
              "        docLink.innerHTML = docLinkHtml;\n",
              "        element.appendChild(docLink);\n",
              "      }\n",
              "    </script>\n",
              "  </div>\n",
              "\n",
              "\n",
              "<div id=\"df-b6b1a8d7-7676-437e-b2de-d3068abfb381\">\n",
              "  <button class=\"colab-df-quickchart\" onclick=\"quickchart('df-b6b1a8d7-7676-437e-b2de-d3068abfb381')\"\n",
              "            title=\"Suggest charts\"\n",
              "            style=\"display:none;\">\n",
              "\n",
              "<svg xmlns=\"http://www.w3.org/2000/svg\" height=\"24px\"viewBox=\"0 0 24 24\"\n",
              "     width=\"24px\">\n",
              "    <g>\n",
              "        <path d=\"M19 3H5c-1.1 0-2 .9-2 2v14c0 1.1.9 2 2 2h14c1.1 0 2-.9 2-2V5c0-1.1-.9-2-2-2zM9 17H7v-7h2v7zm4 0h-2V7h2v10zm4 0h-2v-4h2v4z\"/>\n",
              "    </g>\n",
              "</svg>\n",
              "  </button>\n",
              "\n",
              "<style>\n",
              "  .colab-df-quickchart {\n",
              "      --bg-color: #E8F0FE;\n",
              "      --fill-color: #1967D2;\n",
              "      --hover-bg-color: #E2EBFA;\n",
              "      --hover-fill-color: #174EA6;\n",
              "      --disabled-fill-color: #AAA;\n",
              "      --disabled-bg-color: #DDD;\n",
              "  }\n",
              "\n",
              "  [theme=dark] .colab-df-quickchart {\n",
              "      --bg-color: #3B4455;\n",
              "      --fill-color: #D2E3FC;\n",
              "      --hover-bg-color: #434B5C;\n",
              "      --hover-fill-color: #FFFFFF;\n",
              "      --disabled-bg-color: #3B4455;\n",
              "      --disabled-fill-color: #666;\n",
              "  }\n",
              "\n",
              "  .colab-df-quickchart {\n",
              "    background-color: var(--bg-color);\n",
              "    border: none;\n",
              "    border-radius: 50%;\n",
              "    cursor: pointer;\n",
              "    display: none;\n",
              "    fill: var(--fill-color);\n",
              "    height: 32px;\n",
              "    padding: 0;\n",
              "    width: 32px;\n",
              "  }\n",
              "\n",
              "  .colab-df-quickchart:hover {\n",
              "    background-color: var(--hover-bg-color);\n",
              "    box-shadow: 0 1px 2px rgba(60, 64, 67, 0.3), 0 1px 3px 1px rgba(60, 64, 67, 0.15);\n",
              "    fill: var(--button-hover-fill-color);\n",
              "  }\n",
              "\n",
              "  .colab-df-quickchart-complete:disabled,\n",
              "  .colab-df-quickchart-complete:disabled:hover {\n",
              "    background-color: var(--disabled-bg-color);\n",
              "    fill: var(--disabled-fill-color);\n",
              "    box-shadow: none;\n",
              "  }\n",
              "\n",
              "  .colab-df-spinner {\n",
              "    border: 2px solid var(--fill-color);\n",
              "    border-color: transparent;\n",
              "    border-bottom-color: var(--fill-color);\n",
              "    animation:\n",
              "      spin 1s steps(1) infinite;\n",
              "  }\n",
              "\n",
              "  @keyframes spin {\n",
              "    0% {\n",
              "      border-color: transparent;\n",
              "      border-bottom-color: var(--fill-color);\n",
              "      border-left-color: var(--fill-color);\n",
              "    }\n",
              "    20% {\n",
              "      border-color: transparent;\n",
              "      border-left-color: var(--fill-color);\n",
              "      border-top-color: var(--fill-color);\n",
              "    }\n",
              "    30% {\n",
              "      border-color: transparent;\n",
              "      border-left-color: var(--fill-color);\n",
              "      border-top-color: var(--fill-color);\n",
              "      border-right-color: var(--fill-color);\n",
              "    }\n",
              "    40% {\n",
              "      border-color: transparent;\n",
              "      border-right-color: var(--fill-color);\n",
              "      border-top-color: var(--fill-color);\n",
              "    }\n",
              "    60% {\n",
              "      border-color: transparent;\n",
              "      border-right-color: var(--fill-color);\n",
              "    }\n",
              "    80% {\n",
              "      border-color: transparent;\n",
              "      border-right-color: var(--fill-color);\n",
              "      border-bottom-color: var(--fill-color);\n",
              "    }\n",
              "    90% {\n",
              "      border-color: transparent;\n",
              "      border-bottom-color: var(--fill-color);\n",
              "    }\n",
              "  }\n",
              "</style>\n",
              "\n",
              "  <script>\n",
              "    async function quickchart(key) {\n",
              "      const quickchartButtonEl =\n",
              "        document.querySelector('#' + key + ' button');\n",
              "      quickchartButtonEl.disabled = true;  // To prevent multiple clicks.\n",
              "      quickchartButtonEl.classList.add('colab-df-spinner');\n",
              "      try {\n",
              "        const charts = await google.colab.kernel.invokeFunction(\n",
              "            'suggestCharts', [key], {});\n",
              "      } catch (error) {\n",
              "        console.error('Error during call to suggestCharts:', error);\n",
              "      }\n",
              "      quickchartButtonEl.classList.remove('colab-df-spinner');\n",
              "      quickchartButtonEl.classList.add('colab-df-quickchart-complete');\n",
              "    }\n",
              "    (() => {\n",
              "      let quickchartButtonEl =\n",
              "        document.querySelector('#df-b6b1a8d7-7676-437e-b2de-d3068abfb381 button');\n",
              "      quickchartButtonEl.style.display =\n",
              "        google.colab.kernel.accessAllowed ? 'block' : 'none';\n",
              "    })();\n",
              "  </script>\n",
              "</div>\n",
              "\n",
              "    </div>\n",
              "  </div>\n"
            ]
          },
          "metadata": {}
        }
      ],
      "source": [
        "filtered_train = Ctrain[lambda x: x[\"tweet\"].str.contains(\"[^A-Za-z0-9]\")]\n",
        "\n",
        "with pd.option_context('display.max_colwidth', 0):\n",
        "    display(filtered_train.tail(n=5))"
      ]
    },
    {
      "cell_type": "code",
      "execution_count": null,
      "metadata": {
        "colab": {
          "base_uri": "https://localhost:8080/"
        },
        "id": "lz3r9WDBYBpO",
        "outputId": "86b122bd-7a86-40b8-bc5a-293e71512648"
      },
      "outputs": [
        {
          "output_type": "execute_result",
          "data": {
            "text/plain": [
              "(7284, 3)"
            ]
          },
          "metadata": {},
          "execution_count": 19
        }
      ],
      "source": [
        "filtered_train.shape"
      ]
    },
    {
      "cell_type": "markdown",
      "metadata": {
        "id": "4s5oYoJ_YBpO"
      },
      "source": [
        "## Check For Codemixed"
      ]
    },
    {
      "cell_type": "code",
      "execution_count": null,
      "metadata": {
        "colab": {
          "base_uri": "https://localhost:8080/",
          "height": 330
        },
        "id": "Xb-Bzb9sYBpO",
        "outputId": "c7957931-052d-4df8-e040-f8cf7d49d4b6"
      },
      "outputs": [
        {
          "output_type": "display_data",
          "data": {
            "text/plain": [
              "      index  \\\n",
              "7279  20399   \n",
              "7280  20400   \n",
              "7281  20403   \n",
              "7282  20404   \n",
              "7283  20406   \n",
              "\n",
              "                                                                                                                                                                                                                                                                                                                 tweet  \\\n",
              "7279  Fridays for Future :: Nov 18, Noon - Palo Alto Civic Center (Week #45) - https://t.co/S3s9foxY3g\\n#FridaysForFuture\\n#PeopleNotProfit\\n#ClimateStrike\\n#ClimateActionNow\\n#GlobalWarming\\n@FFFUnitedStates\\n@polimatt1 https://t.co/k4402dNCtf                                                                     \n",
              "7280  Global #ClimateStrike today! #TakeAction on #ClimateChange! \\n\\nLet's start making a difference today! #SaveTheWorld #TakeActionNow #MakeADifference\\n\\nThank you #FridaysForFuture! \\n\\nMore on the #climatecrisis: \\nhttps://t.co/mHOk8MnsBa https://t.co/9LuKpeaQ85                                             \n",
              "7281  No more empty promises\\nStop the funding Of Nonrenewables\\nClimate Justice\\n#STOP EACOP to save the Environment\\n#FridaysForFuture                                                                                                                                                                                 \n",
              "7282  Young people are not only victims of climate change. They're also valuable contributors to climate action. We had a productive interactive session with climate change ambs on the way forward of rolling out greening activities at @KenyattaUni \\n#climate \\n#FridaysForFuture https://t.co/oNJcdDdSGD           \n",
              "7283  #FridaysForFuture #EverydayForFuture Here I am in front of the #GlobalGoals display that my students made. They wrote persuasive letters to our Mayor asking him to make sure all schools in #Leuven and the world teach children about the #SDGs and next week he will visit our class! https://t.co/XxSjFbMPlo   \n",
              "\n",
              "      label  \n",
              "7279  1      \n",
              "7280  1      \n",
              "7281  3      \n",
              "7282  1      \n",
              "7283  1      "
            ],
            "text/html": [
              "\n",
              "  <div id=\"df-80242366-eacd-4181-ac31-0066454ce501\" class=\"colab-df-container\">\n",
              "    <div>\n",
              "<style scoped>\n",
              "    .dataframe tbody tr th:only-of-type {\n",
              "        vertical-align: middle;\n",
              "    }\n",
              "\n",
              "    .dataframe tbody tr th {\n",
              "        vertical-align: top;\n",
              "    }\n",
              "\n",
              "    .dataframe thead th {\n",
              "        text-align: right;\n",
              "    }\n",
              "</style>\n",
              "<table border=\"1\" class=\"dataframe\">\n",
              "  <thead>\n",
              "    <tr style=\"text-align: right;\">\n",
              "      <th></th>\n",
              "      <th>index</th>\n",
              "      <th>tweet</th>\n",
              "      <th>label</th>\n",
              "    </tr>\n",
              "  </thead>\n",
              "  <tbody>\n",
              "    <tr>\n",
              "      <th>7279</th>\n",
              "      <td>20399</td>\n",
              "      <td>Fridays for Future :: Nov 18, Noon - Palo Alto Civic Center (Week #45) - https://t.co/S3s9foxY3g\\n#FridaysForFuture\\n#PeopleNotProfit\\n#ClimateStrike\\n#ClimateActionNow\\n#GlobalWarming\\n@FFFUnitedStates\\n@polimatt1 https://t.co/k4402dNCtf</td>\n",
              "      <td>1</td>\n",
              "    </tr>\n",
              "    <tr>\n",
              "      <th>7280</th>\n",
              "      <td>20400</td>\n",
              "      <td>Global #ClimateStrike today! #TakeAction on #ClimateChange! \\n\\nLet's start making a difference today! #SaveTheWorld #TakeActionNow #MakeADifference\\n\\nThank you #FridaysForFuture! \\n\\nMore on the #climatecrisis: \\nhttps://t.co/mHOk8MnsBa https://t.co/9LuKpeaQ85</td>\n",
              "      <td>1</td>\n",
              "    </tr>\n",
              "    <tr>\n",
              "      <th>7281</th>\n",
              "      <td>20403</td>\n",
              "      <td>No more empty promises\\nStop the funding Of Nonrenewables\\nClimate Justice\\n#STOP EACOP to save the Environment\\n#FridaysForFuture</td>\n",
              "      <td>3</td>\n",
              "    </tr>\n",
              "    <tr>\n",
              "      <th>7282</th>\n",
              "      <td>20404</td>\n",
              "      <td>Young people are not only victims of climate change. They're also valuable contributors to climate action. We had a productive interactive session with climate change ambs on the way forward of rolling out greening activities at @KenyattaUni \\n#climate \\n#FridaysForFuture https://t.co/oNJcdDdSGD</td>\n",
              "      <td>1</td>\n",
              "    </tr>\n",
              "    <tr>\n",
              "      <th>7283</th>\n",
              "      <td>20406</td>\n",
              "      <td>#FridaysForFuture #EverydayForFuture Here I am in front of the #GlobalGoals display that my students made. They wrote persuasive letters to our Mayor asking him to make sure all schools in #Leuven and the world teach children about the #SDGs and next week he will visit our class! https://t.co/XxSjFbMPlo</td>\n",
              "      <td>1</td>\n",
              "    </tr>\n",
              "  </tbody>\n",
              "</table>\n",
              "</div>\n",
              "    <div class=\"colab-df-buttons\">\n",
              "\n",
              "  <div class=\"colab-df-container\">\n",
              "    <button class=\"colab-df-convert\" onclick=\"convertToInteractive('df-80242366-eacd-4181-ac31-0066454ce501')\"\n",
              "            title=\"Convert this dataframe to an interactive table.\"\n",
              "            style=\"display:none;\">\n",
              "\n",
              "  <svg xmlns=\"http://www.w3.org/2000/svg\" height=\"24px\" viewBox=\"0 -960 960 960\">\n",
              "    <path d=\"M120-120v-720h720v720H120Zm60-500h600v-160H180v160Zm220 220h160v-160H400v160Zm0 220h160v-160H400v160ZM180-400h160v-160H180v160Zm440 0h160v-160H620v160ZM180-180h160v-160H180v160Zm440 0h160v-160H620v160Z\"/>\n",
              "  </svg>\n",
              "    </button>\n",
              "\n",
              "  <style>\n",
              "    .colab-df-container {\n",
              "      display:flex;\n",
              "      gap: 12px;\n",
              "    }\n",
              "\n",
              "    .colab-df-convert {\n",
              "      background-color: #E8F0FE;\n",
              "      border: none;\n",
              "      border-radius: 50%;\n",
              "      cursor: pointer;\n",
              "      display: none;\n",
              "      fill: #1967D2;\n",
              "      height: 32px;\n",
              "      padding: 0 0 0 0;\n",
              "      width: 32px;\n",
              "    }\n",
              "\n",
              "    .colab-df-convert:hover {\n",
              "      background-color: #E2EBFA;\n",
              "      box-shadow: 0px 1px 2px rgba(60, 64, 67, 0.3), 0px 1px 3px 1px rgba(60, 64, 67, 0.15);\n",
              "      fill: #174EA6;\n",
              "    }\n",
              "\n",
              "    .colab-df-buttons div {\n",
              "      margin-bottom: 4px;\n",
              "    }\n",
              "\n",
              "    [theme=dark] .colab-df-convert {\n",
              "      background-color: #3B4455;\n",
              "      fill: #D2E3FC;\n",
              "    }\n",
              "\n",
              "    [theme=dark] .colab-df-convert:hover {\n",
              "      background-color: #434B5C;\n",
              "      box-shadow: 0px 1px 3px 1px rgba(0, 0, 0, 0.15);\n",
              "      filter: drop-shadow(0px 1px 2px rgba(0, 0, 0, 0.3));\n",
              "      fill: #FFFFFF;\n",
              "    }\n",
              "  </style>\n",
              "\n",
              "    <script>\n",
              "      const buttonEl =\n",
              "        document.querySelector('#df-80242366-eacd-4181-ac31-0066454ce501 button.colab-df-convert');\n",
              "      buttonEl.style.display =\n",
              "        google.colab.kernel.accessAllowed ? 'block' : 'none';\n",
              "\n",
              "      async function convertToInteractive(key) {\n",
              "        const element = document.querySelector('#df-80242366-eacd-4181-ac31-0066454ce501');\n",
              "        const dataTable =\n",
              "          await google.colab.kernel.invokeFunction('convertToInteractive',\n",
              "                                                    [key], {});\n",
              "        if (!dataTable) return;\n",
              "\n",
              "        const docLinkHtml = 'Like what you see? Visit the ' +\n",
              "          '<a target=\"_blank\" href=https://colab.research.google.com/notebooks/data_table.ipynb>data table notebook</a>'\n",
              "          + ' to learn more about interactive tables.';\n",
              "        element.innerHTML = '';\n",
              "        dataTable['output_type'] = 'display_data';\n",
              "        await google.colab.output.renderOutput(dataTable, element);\n",
              "        const docLink = document.createElement('div');\n",
              "        docLink.innerHTML = docLinkHtml;\n",
              "        element.appendChild(docLink);\n",
              "      }\n",
              "    </script>\n",
              "  </div>\n",
              "\n",
              "\n",
              "<div id=\"df-26cd7f5a-f16f-420b-ac10-812c4238b87c\">\n",
              "  <button class=\"colab-df-quickchart\" onclick=\"quickchart('df-26cd7f5a-f16f-420b-ac10-812c4238b87c')\"\n",
              "            title=\"Suggest charts\"\n",
              "            style=\"display:none;\">\n",
              "\n",
              "<svg xmlns=\"http://www.w3.org/2000/svg\" height=\"24px\"viewBox=\"0 0 24 24\"\n",
              "     width=\"24px\">\n",
              "    <g>\n",
              "        <path d=\"M19 3H5c-1.1 0-2 .9-2 2v14c0 1.1.9 2 2 2h14c1.1 0 2-.9 2-2V5c0-1.1-.9-2-2-2zM9 17H7v-7h2v7zm4 0h-2V7h2v10zm4 0h-2v-4h2v4z\"/>\n",
              "    </g>\n",
              "</svg>\n",
              "  </button>\n",
              "\n",
              "<style>\n",
              "  .colab-df-quickchart {\n",
              "      --bg-color: #E8F0FE;\n",
              "      --fill-color: #1967D2;\n",
              "      --hover-bg-color: #E2EBFA;\n",
              "      --hover-fill-color: #174EA6;\n",
              "      --disabled-fill-color: #AAA;\n",
              "      --disabled-bg-color: #DDD;\n",
              "  }\n",
              "\n",
              "  [theme=dark] .colab-df-quickchart {\n",
              "      --bg-color: #3B4455;\n",
              "      --fill-color: #D2E3FC;\n",
              "      --hover-bg-color: #434B5C;\n",
              "      --hover-fill-color: #FFFFFF;\n",
              "      --disabled-bg-color: #3B4455;\n",
              "      --disabled-fill-color: #666;\n",
              "  }\n",
              "\n",
              "  .colab-df-quickchart {\n",
              "    background-color: var(--bg-color);\n",
              "    border: none;\n",
              "    border-radius: 50%;\n",
              "    cursor: pointer;\n",
              "    display: none;\n",
              "    fill: var(--fill-color);\n",
              "    height: 32px;\n",
              "    padding: 0;\n",
              "    width: 32px;\n",
              "  }\n",
              "\n",
              "  .colab-df-quickchart:hover {\n",
              "    background-color: var(--hover-bg-color);\n",
              "    box-shadow: 0 1px 2px rgba(60, 64, 67, 0.3), 0 1px 3px 1px rgba(60, 64, 67, 0.15);\n",
              "    fill: var(--button-hover-fill-color);\n",
              "  }\n",
              "\n",
              "  .colab-df-quickchart-complete:disabled,\n",
              "  .colab-df-quickchart-complete:disabled:hover {\n",
              "    background-color: var(--disabled-bg-color);\n",
              "    fill: var(--disabled-fill-color);\n",
              "    box-shadow: none;\n",
              "  }\n",
              "\n",
              "  .colab-df-spinner {\n",
              "    border: 2px solid var(--fill-color);\n",
              "    border-color: transparent;\n",
              "    border-bottom-color: var(--fill-color);\n",
              "    animation:\n",
              "      spin 1s steps(1) infinite;\n",
              "  }\n",
              "\n",
              "  @keyframes spin {\n",
              "    0% {\n",
              "      border-color: transparent;\n",
              "      border-bottom-color: var(--fill-color);\n",
              "      border-left-color: var(--fill-color);\n",
              "    }\n",
              "    20% {\n",
              "      border-color: transparent;\n",
              "      border-left-color: var(--fill-color);\n",
              "      border-top-color: var(--fill-color);\n",
              "    }\n",
              "    30% {\n",
              "      border-color: transparent;\n",
              "      border-left-color: var(--fill-color);\n",
              "      border-top-color: var(--fill-color);\n",
              "      border-right-color: var(--fill-color);\n",
              "    }\n",
              "    40% {\n",
              "      border-color: transparent;\n",
              "      border-right-color: var(--fill-color);\n",
              "      border-top-color: var(--fill-color);\n",
              "    }\n",
              "    60% {\n",
              "      border-color: transparent;\n",
              "      border-right-color: var(--fill-color);\n",
              "    }\n",
              "    80% {\n",
              "      border-color: transparent;\n",
              "      border-right-color: var(--fill-color);\n",
              "      border-bottom-color: var(--fill-color);\n",
              "    }\n",
              "    90% {\n",
              "      border-color: transparent;\n",
              "      border-bottom-color: var(--fill-color);\n",
              "    }\n",
              "  }\n",
              "</style>\n",
              "\n",
              "  <script>\n",
              "    async function quickchart(key) {\n",
              "      const quickchartButtonEl =\n",
              "        document.querySelector('#' + key + ' button');\n",
              "      quickchartButtonEl.disabled = true;  // To prevent multiple clicks.\n",
              "      quickchartButtonEl.classList.add('colab-df-spinner');\n",
              "      try {\n",
              "        const charts = await google.colab.kernel.invokeFunction(\n",
              "            'suggestCharts', [key], {});\n",
              "      } catch (error) {\n",
              "        console.error('Error during call to suggestCharts:', error);\n",
              "      }\n",
              "      quickchartButtonEl.classList.remove('colab-df-spinner');\n",
              "      quickchartButtonEl.classList.add('colab-df-quickchart-complete');\n",
              "    }\n",
              "    (() => {\n",
              "      let quickchartButtonEl =\n",
              "        document.querySelector('#df-26cd7f5a-f16f-420b-ac10-812c4238b87c button');\n",
              "      quickchartButtonEl.style.display =\n",
              "        google.colab.kernel.accessAllowed ? 'block' : 'none';\n",
              "    })();\n",
              "  </script>\n",
              "</div>\n",
              "\n",
              "    </div>\n",
              "  </div>\n"
            ]
          },
          "metadata": {}
        }
      ],
      "source": [
        "filtered_train = Ctrain[Ctrain['tweet'].str.contains('[A-Za-z]+') & Ctrain['tweet'].str.contains('[^A-Za-z]+')]\n",
        "with pd.option_context('display.max_colwidth', 0):\n",
        "    display(filtered_train.tail(n=5))"
      ]
    },
    {
      "cell_type": "code",
      "execution_count": null,
      "metadata": {
        "colab": {
          "base_uri": "https://localhost:8080/"
        },
        "id": "GqKOGDtd6UQE",
        "outputId": "897f4aad-ded6-4783-b75a-3e5090781e6c"
      },
      "outputs": [
        {
          "output_type": "execute_result",
          "data": {
            "text/plain": [
              "(7284, 3)"
            ]
          },
          "metadata": {},
          "execution_count": 21
        }
      ],
      "source": [
        "filtered_train.shape"
      ]
    },
    {
      "cell_type": "code",
      "execution_count": null,
      "metadata": {
        "colab": {
          "base_uri": "https://localhost:8080/"
        },
        "id": "DkRvGTp4uiKq",
        "outputId": "97f88815-152b-4172-c3e3-cd3df3dd2ddd"
      },
      "outputs": [
        {
          "output_type": "stream",
          "name": "stdout",
          "text": [
            "URL Frequency:\n",
            "https://t.co/26T1X3q8V8    10\n",
            "https://t.co/p9Y5Cv5hrh     8\n",
            "https://t.co/w9adRhI5PN     6\n",
            "https://t.co/C8WvupADPo     5\n",
            "https://t.co/5NjMYlDUn8     5\n",
            "                           ..\n",
            "https://t.co/tgMTe5OYWd     1\n",
            "https://t.co/HNLVPrQwY3     1\n",
            "https://t.co/ZXSSO6vZHb     1\n",
            "https://t.co/8ojeeDT0zM     1\n",
            "https://t.co/XxSjFbMPlo     1\n",
            "Name: URL, Length: 5340, dtype: int64\n"
          ]
        }
      ],
      "source": [
        "import pandas as pd\n",
        "import re\n",
        "\n",
        "# Assuming 'tweet' is the column where you want to find and count similar URLs\n",
        "tweets = Ctrain['tweet']\n",
        "\n",
        "# Define a regular expression to extract URLs\n",
        "url_pattern = re.compile(r'https?://\\S+|www\\.\\S+')\n",
        "\n",
        "# Extract URLs from each tweet\n",
        "all_urls = [url_pattern.findall(tweet) for tweet in tweets]\n",
        "\n",
        "# Flatten the list of lists into a single list\n",
        "all_urls_flat = [url for sublist in all_urls for url in sublist]\n",
        "\n",
        "# Create a DataFrame to count the occurrences of each URL\n",
        "url_df = pd.DataFrame(all_urls_flat, columns=['URL'])\n",
        "url_frequency = url_df['URL'].value_counts()\n",
        "\n",
        "# Display the count of occurrences for each unique URL\n",
        "print(\"URL Frequency:\")\n",
        "print(url_frequency)\n"
      ]
    },
    {
      "cell_type": "code",
      "execution_count": null,
      "metadata": {
        "colab": {
          "base_uri": "https://localhost:8080/"
        },
        "id": "Uk0JlKccu8sO",
        "outputId": "4f9e072d-9d4a-4696-db8f-075737206f35"
      },
      "outputs": [
        {
          "output_type": "stream",
          "name": "stdout",
          "text": [
            "Number of common URLs: 59\n"
          ]
        }
      ],
      "source": [
        "import pandas as pd\n",
        "import re\n",
        "\n",
        "# Assuming 'tweet' is the column where you want to find and compare URLs\n",
        "train_tweets = Ctrain['tweet']\n",
        "test_tweets = Ctest['tweet']\n",
        "\n",
        "# Define a regular expression to extract URLs\n",
        "url_pattern = re.compile(r'https?://\\S+|www\\.\\S+')\n",
        "\n",
        "# Extract URLs from each tweet in train dataset\n",
        "train_urls = [url_pattern.findall(tweet) for tweet in train_tweets]\n",
        "train_urls_flat = [url for sublist in train_urls for url in sublist]\n",
        "\n",
        "# Extract URLs from each tweet in test dataset\n",
        "test_urls = [url_pattern.findall(tweet) for tweet in test_tweets]\n",
        "test_urls_flat = [url for sublist in test_urls for url in sublist]\n",
        "\n",
        "# Find common URLs between train and test datasets\n",
        "common_urls = set(train_urls_flat).intersection(test_urls_flat)\n",
        "\n",
        "# Display common URLs\n",
        "# print(\"Common URLs:\")\n",
        "# print(common_urls)\n",
        "\n",
        "num_common_urls = len(common_urls)\n",
        "print(f\"Number of common URLs: {num_common_urls}\")\n"
      ]
    },
    {
      "cell_type": "markdown",
      "metadata": {
        "id": "hphD1uHEv9_0"
      },
      "source": [
        "# Preprocessing"
      ]
    },
    {
      "cell_type": "code",
      "execution_count": null,
      "metadata": {
        "id": "vM9H1NMmYBpP"
      },
      "outputs": [],
      "source": [
        "# import re\n",
        "# from collections import Counter\n",
        "\n",
        "# # Assuming Btrain['tweet'] is a pandas Series containing the tweets\n",
        "# all_tokens = []\n",
        "\n",
        "# for tweet in Btrain['tweet']:\n",
        "#     # Find all tokens starting with a hash(#) or at the rate(@) and followed by some number of alphabets or numbers\n",
        "#     matches = re.findall(r'[@#][_a-zA-Z0-9]+', tweet)\n",
        "\n",
        "#     # Extend the list of all tokens with the matches for each tweet\n",
        "#     all_tokens.extend(matches)\n",
        "\n",
        "# # Count the occurrences of each token\n",
        "# token_counts = Counter(all_tokens)\n",
        "\n",
        "# # Display tokens sorted by count\n",
        "# sorted_tokens = sorted(token_counts.items(), key=lambda x: x[1], reverse=True)\n",
        "\n",
        "# for token, count in sorted_tokens:\n",
        "#     print(f\"{token}: {count}\")\n"
      ]
    },
    {
      "cell_type": "code",
      "execution_count": null,
      "metadata": {
        "id": "OyfV6dRn6eJa"
      },
      "outputs": [],
      "source": [
        "def text_to_word_list(text):\n",
        "    text = text.split()\n",
        "    return text\n",
        "\n",
        "def replace_strings(text):\n",
        "    emoji = re.compile(\"[\"         # this emoj is to remove all emojis\n",
        "        u\"\\U0001F600-\\U0001F64F\"  # emoticons\n",
        "        u\"\\U0001F300-\\U0001F5FF\"  # symbols & pictographs\n",
        "        u\"\\U0001F680-\\U0001F6FF\"  # transport & map symbols\n",
        "        u\"\\U0001F1E0-\\U0001F1FF\"  # flags (iOS)\n",
        "        u\"\\U00002500-\\U00002BEF\"  # chinese char\n",
        "        u\"\\U00002702-\\U000027B0\"\n",
        "        u\"\\U000024C2-\\U0001F251\"\n",
        "        u\"\\U0001f926-\\U0001f937\"\n",
        "        u\"\\U00010000-\\U0010ffff\"\n",
        "        u\"\\u00C0-\\u017F\"          #latin\n",
        "        u\"\\u2000-\\u206F\"          #generalPunctuations\n",
        "        u\"\\u2640-\\u2642\"\n",
        "        u\"\\u2600-\\u2B55\"\n",
        "        u\"\\u200d\"\n",
        "        u\"\\u23cf\"\n",
        "        u\"\\u23e9\"\n",
        "        u\"\\u231a\"\n",
        "        u\"\\ufe0f\"  # dingbats\n",
        "        u\"\\u3030\" \"]+\", re.UNICODE)\n",
        "\n",
        "    text = text.lower()\n",
        "    url_pattern = r'https?://\\S+|www\\.\\S+'\n",
        "    text = re.sub(url_pattern, ' ', text)\n",
        "\n",
        "    text = BeautifulSoup(text, 'html.parser').get_text()\n",
        "    text = re.sub(r'(https|http|www)?:\\/\\/(\\w|\\.|\\/|\\?|\\=|\\&|\\%)*\\b', ' ', text, flags=re.MULTILINE)\n",
        "    # emoji removal\n",
        "    text = emoji.sub(r' ',text)\n",
        "    # text = re.sub(r'[@#][_a-zA-Z0-9]+', ' ', text)\n",
        "    text = text.replace('\\n', ' ')\n",
        "    text = text.replace('—', ' ')\n",
        "    return text\n",
        "\n",
        "def remove_punctuations(my_str):\n",
        "    # define punctuation\n",
        "    punctuations = '''````£|¢|Ñ+-*=৳।!/_:.()-[]{};'\"“\\’,<>?@#$%^&*~‘—॥”‰￰৷￰'''\n",
        "    no_punct = \"\"\n",
        "    for char in my_str:\n",
        "        if char not in punctuations:\n",
        "            no_punct = no_punct + char\n",
        "        else :\n",
        "            no_punct = no_punct + \" \"\n",
        "\n",
        "    no_punct = re.sub(r'\\s+', ' ', no_punct)  #replace multiple space with single space\n",
        "\n",
        "    return no_punct\n",
        "\n",
        "def joining(text):\n",
        "    out=' '.join(text)\n",
        "    return out\n",
        "\n",
        "def preprocessing(text):\n",
        "    out=remove_punctuations(replace_strings(text))\n",
        "    return out"
      ]
    },
    {
      "cell_type": "code",
      "execution_count": null,
      "metadata": {
        "id": "dGEkuz8_6jOj"
      },
      "outputs": [],
      "source": [
        "Ctrain['cleanText'] = Ctrain.tweet.apply(lambda x: preprocessing(str(x)))\n",
        "Cval['cleanText'] = Cval.tweet.apply(lambda x: preprocessing(str(x)))\n",
        "Ctest['cleanText'] = Ctest.tweet.apply(lambda x: preprocessing(str(x)))"
      ]
    },
    {
      "cell_type": "markdown",
      "metadata": {
        "id": "Gmrqe_L5YBpQ"
      },
      "source": [
        "## Stop Words Removal"
      ]
    },
    {
      "cell_type": "code",
      "execution_count": null,
      "metadata": {
        "colab": {
          "base_uri": "https://localhost:8080/"
        },
        "id": "ysU0A3leciPw",
        "outputId": "caf74c93-c7d6-43da-8b11-61afe85db769"
      },
      "outputs": [
        {
          "output_type": "stream",
          "name": "stderr",
          "text": [
            "[nltk_data] Downloading collection 'all'\n",
            "[nltk_data]    | \n",
            "[nltk_data]    | Downloading package abc to /root/nltk_data...\n",
            "[nltk_data]    |   Unzipping corpora/abc.zip.\n",
            "[nltk_data]    | Downloading package alpino to /root/nltk_data...\n",
            "[nltk_data]    |   Unzipping corpora/alpino.zip.\n",
            "[nltk_data]    | Downloading package averaged_perceptron_tagger to\n",
            "[nltk_data]    |     /root/nltk_data...\n",
            "[nltk_data]    |   Unzipping taggers/averaged_perceptron_tagger.zip.\n",
            "[nltk_data]    | Downloading package averaged_perceptron_tagger_ru to\n",
            "[nltk_data]    |     /root/nltk_data...\n",
            "[nltk_data]    |   Unzipping\n",
            "[nltk_data]    |       taggers/averaged_perceptron_tagger_ru.zip.\n",
            "[nltk_data]    | Downloading package basque_grammars to\n",
            "[nltk_data]    |     /root/nltk_data...\n",
            "[nltk_data]    |   Unzipping grammars/basque_grammars.zip.\n",
            "[nltk_data]    | Downloading package bcp47 to /root/nltk_data...\n",
            "[nltk_data]    | Downloading package biocreative_ppi to\n",
            "[nltk_data]    |     /root/nltk_data...\n",
            "[nltk_data]    |   Unzipping corpora/biocreative_ppi.zip.\n",
            "[nltk_data]    | Downloading package bllip_wsj_no_aux to\n",
            "[nltk_data]    |     /root/nltk_data...\n",
            "[nltk_data]    |   Unzipping models/bllip_wsj_no_aux.zip.\n",
            "[nltk_data]    | Downloading package book_grammars to\n",
            "[nltk_data]    |     /root/nltk_data...\n",
            "[nltk_data]    |   Unzipping grammars/book_grammars.zip.\n",
            "[nltk_data]    | Downloading package brown to /root/nltk_data...\n",
            "[nltk_data]    |   Unzipping corpora/brown.zip.\n",
            "[nltk_data]    | Downloading package brown_tei to /root/nltk_data...\n",
            "[nltk_data]    |   Unzipping corpora/brown_tei.zip.\n",
            "[nltk_data]    | Downloading package cess_cat to /root/nltk_data...\n",
            "[nltk_data]    |   Unzipping corpora/cess_cat.zip.\n",
            "[nltk_data]    | Downloading package cess_esp to /root/nltk_data...\n",
            "[nltk_data]    |   Unzipping corpora/cess_esp.zip.\n",
            "[nltk_data]    | Downloading package chat80 to /root/nltk_data...\n",
            "[nltk_data]    |   Unzipping corpora/chat80.zip.\n",
            "[nltk_data]    | Downloading package city_database to\n",
            "[nltk_data]    |     /root/nltk_data...\n",
            "[nltk_data]    |   Unzipping corpora/city_database.zip.\n",
            "[nltk_data]    | Downloading package cmudict to /root/nltk_data...\n",
            "[nltk_data]    |   Unzipping corpora/cmudict.zip.\n",
            "[nltk_data]    | Downloading package comparative_sentences to\n",
            "[nltk_data]    |     /root/nltk_data...\n",
            "[nltk_data]    |   Unzipping corpora/comparative_sentences.zip.\n",
            "[nltk_data]    | Downloading package comtrans to /root/nltk_data...\n",
            "[nltk_data]    | Downloading package conll2000 to /root/nltk_data...\n",
            "[nltk_data]    |   Unzipping corpora/conll2000.zip.\n",
            "[nltk_data]    | Downloading package conll2002 to /root/nltk_data...\n",
            "[nltk_data]    |   Unzipping corpora/conll2002.zip.\n",
            "[nltk_data]    | Downloading package conll2007 to /root/nltk_data...\n",
            "[nltk_data]    | Downloading package crubadan to /root/nltk_data...\n",
            "[nltk_data]    |   Unzipping corpora/crubadan.zip.\n",
            "[nltk_data]    | Downloading package dependency_treebank to\n",
            "[nltk_data]    |     /root/nltk_data...\n",
            "[nltk_data]    |   Unzipping corpora/dependency_treebank.zip.\n",
            "[nltk_data]    | Downloading package dolch to /root/nltk_data...\n",
            "[nltk_data]    |   Unzipping corpora/dolch.zip.\n",
            "[nltk_data]    | Downloading package europarl_raw to\n",
            "[nltk_data]    |     /root/nltk_data...\n",
            "[nltk_data]    |   Unzipping corpora/europarl_raw.zip.\n",
            "[nltk_data]    | Downloading package extended_omw to\n",
            "[nltk_data]    |     /root/nltk_data...\n",
            "[nltk_data]    | Downloading package floresta to /root/nltk_data...\n",
            "[nltk_data]    |   Unzipping corpora/floresta.zip.\n",
            "[nltk_data]    | Downloading package framenet_v15 to\n",
            "[nltk_data]    |     /root/nltk_data...\n",
            "[nltk_data]    |   Unzipping corpora/framenet_v15.zip.\n",
            "[nltk_data]    | Downloading package framenet_v17 to\n",
            "[nltk_data]    |     /root/nltk_data...\n",
            "[nltk_data]    |   Unzipping corpora/framenet_v17.zip.\n",
            "[nltk_data]    | Downloading package gazetteers to /root/nltk_data...\n",
            "[nltk_data]    |   Unzipping corpora/gazetteers.zip.\n",
            "[nltk_data]    | Downloading package genesis to /root/nltk_data...\n",
            "[nltk_data]    |   Unzipping corpora/genesis.zip.\n",
            "[nltk_data]    | Downloading package gutenberg to /root/nltk_data...\n",
            "[nltk_data]    |   Unzipping corpora/gutenberg.zip.\n",
            "[nltk_data]    | Downloading package ieer to /root/nltk_data...\n",
            "[nltk_data]    |   Unzipping corpora/ieer.zip.\n",
            "[nltk_data]    | Downloading package inaugural to /root/nltk_data...\n",
            "[nltk_data]    |   Unzipping corpora/inaugural.zip.\n",
            "[nltk_data]    | Downloading package indian to /root/nltk_data...\n",
            "[nltk_data]    |   Unzipping corpora/indian.zip.\n",
            "[nltk_data]    | Downloading package jeita to /root/nltk_data...\n",
            "[nltk_data]    | Downloading package kimmo to /root/nltk_data...\n",
            "[nltk_data]    |   Unzipping corpora/kimmo.zip.\n",
            "[nltk_data]    | Downloading package knbc to /root/nltk_data...\n",
            "[nltk_data]    | Downloading package large_grammars to\n",
            "[nltk_data]    |     /root/nltk_data...\n",
            "[nltk_data]    |   Unzipping grammars/large_grammars.zip.\n",
            "[nltk_data]    | Downloading package lin_thesaurus to\n",
            "[nltk_data]    |     /root/nltk_data...\n",
            "[nltk_data]    |   Unzipping corpora/lin_thesaurus.zip.\n",
            "[nltk_data]    | Downloading package mac_morpho to /root/nltk_data...\n",
            "[nltk_data]    |   Unzipping corpora/mac_morpho.zip.\n",
            "[nltk_data]    | Downloading package machado to /root/nltk_data...\n",
            "[nltk_data]    | Downloading package masc_tagged to /root/nltk_data...\n",
            "[nltk_data]    | Downloading package maxent_ne_chunker to\n",
            "[nltk_data]    |     /root/nltk_data...\n",
            "[nltk_data]    |   Unzipping chunkers/maxent_ne_chunker.zip.\n",
            "[nltk_data]    | Downloading package maxent_treebank_pos_tagger to\n",
            "[nltk_data]    |     /root/nltk_data...\n",
            "[nltk_data]    |   Unzipping taggers/maxent_treebank_pos_tagger.zip.\n",
            "[nltk_data]    | Downloading package moses_sample to\n",
            "[nltk_data]    |     /root/nltk_data...\n",
            "[nltk_data]    |   Unzipping models/moses_sample.zip.\n",
            "[nltk_data]    | Downloading package movie_reviews to\n",
            "[nltk_data]    |     /root/nltk_data...\n",
            "[nltk_data]    |   Unzipping corpora/movie_reviews.zip.\n",
            "[nltk_data]    | Downloading package mte_teip5 to /root/nltk_data...\n",
            "[nltk_data]    |   Unzipping corpora/mte_teip5.zip.\n",
            "[nltk_data]    | Downloading package mwa_ppdb to /root/nltk_data...\n",
            "[nltk_data]    |   Unzipping misc/mwa_ppdb.zip.\n",
            "[nltk_data]    | Downloading package names to /root/nltk_data...\n",
            "[nltk_data]    |   Unzipping corpora/names.zip.\n",
            "[nltk_data]    | Downloading package nombank.1.0 to /root/nltk_data...\n",
            "[nltk_data]    | Downloading package nonbreaking_prefixes to\n",
            "[nltk_data]    |     /root/nltk_data...\n",
            "[nltk_data]    |   Unzipping corpora/nonbreaking_prefixes.zip.\n",
            "[nltk_data]    | Downloading package nps_chat to /root/nltk_data...\n",
            "[nltk_data]    |   Unzipping corpora/nps_chat.zip.\n",
            "[nltk_data]    | Downloading package omw to /root/nltk_data...\n",
            "[nltk_data]    | Downloading package omw-1.4 to /root/nltk_data...\n",
            "[nltk_data]    | Downloading package opinion_lexicon to\n",
            "[nltk_data]    |     /root/nltk_data...\n",
            "[nltk_data]    |   Unzipping corpora/opinion_lexicon.zip.\n",
            "[nltk_data]    | Downloading package panlex_swadesh to\n",
            "[nltk_data]    |     /root/nltk_data...\n",
            "[nltk_data]    | Downloading package paradigms to /root/nltk_data...\n",
            "[nltk_data]    |   Unzipping corpora/paradigms.zip.\n",
            "[nltk_data]    | Downloading package pe08 to /root/nltk_data...\n",
            "[nltk_data]    |   Unzipping corpora/pe08.zip.\n",
            "[nltk_data]    | Downloading package perluniprops to\n",
            "[nltk_data]    |     /root/nltk_data...\n",
            "[nltk_data]    |   Unzipping misc/perluniprops.zip.\n",
            "[nltk_data]    | Downloading package pil to /root/nltk_data...\n",
            "[nltk_data]    |   Unzipping corpora/pil.zip.\n",
            "[nltk_data]    | Downloading package pl196x to /root/nltk_data...\n",
            "[nltk_data]    |   Unzipping corpora/pl196x.zip.\n",
            "[nltk_data]    | Downloading package porter_test to /root/nltk_data...\n",
            "[nltk_data]    |   Unzipping stemmers/porter_test.zip.\n",
            "[nltk_data]    | Downloading package ppattach to /root/nltk_data...\n",
            "[nltk_data]    |   Unzipping corpora/ppattach.zip.\n",
            "[nltk_data]    | Downloading package problem_reports to\n",
            "[nltk_data]    |     /root/nltk_data...\n",
            "[nltk_data]    |   Unzipping corpora/problem_reports.zip.\n",
            "[nltk_data]    | Downloading package product_reviews_1 to\n",
            "[nltk_data]    |     /root/nltk_data...\n",
            "[nltk_data]    |   Unzipping corpora/product_reviews_1.zip.\n",
            "[nltk_data]    | Downloading package product_reviews_2 to\n",
            "[nltk_data]    |     /root/nltk_data...\n",
            "[nltk_data]    |   Unzipping corpora/product_reviews_2.zip.\n",
            "[nltk_data]    | Downloading package propbank to /root/nltk_data...\n",
            "[nltk_data]    | Downloading package pros_cons to /root/nltk_data...\n",
            "[nltk_data]    |   Unzipping corpora/pros_cons.zip.\n",
            "[nltk_data]    | Downloading package ptb to /root/nltk_data...\n",
            "[nltk_data]    |   Unzipping corpora/ptb.zip.\n",
            "[nltk_data]    | Downloading package punkt to /root/nltk_data...\n",
            "[nltk_data]    |   Package punkt is already up-to-date!\n",
            "[nltk_data]    | Downloading package qc to /root/nltk_data...\n",
            "[nltk_data]    |   Unzipping corpora/qc.zip.\n",
            "[nltk_data]    | Downloading package reuters to /root/nltk_data...\n",
            "[nltk_data]    | Downloading package rslp to /root/nltk_data...\n",
            "[nltk_data]    |   Unzipping stemmers/rslp.zip.\n",
            "[nltk_data]    | Downloading package rte to /root/nltk_data...\n",
            "[nltk_data]    |   Unzipping corpora/rte.zip.\n",
            "[nltk_data]    | Downloading package sample_grammars to\n",
            "[nltk_data]    |     /root/nltk_data...\n",
            "[nltk_data]    |   Unzipping grammars/sample_grammars.zip.\n",
            "[nltk_data]    | Downloading package semcor to /root/nltk_data...\n",
            "[nltk_data]    | Downloading package senseval to /root/nltk_data...\n",
            "[nltk_data]    |   Unzipping corpora/senseval.zip.\n",
            "[nltk_data]    | Downloading package sentence_polarity to\n",
            "[nltk_data]    |     /root/nltk_data...\n",
            "[nltk_data]    |   Unzipping corpora/sentence_polarity.zip.\n",
            "[nltk_data]    | Downloading package sentiwordnet to\n",
            "[nltk_data]    |     /root/nltk_data...\n",
            "[nltk_data]    |   Unzipping corpora/sentiwordnet.zip.\n",
            "[nltk_data]    | Downloading package shakespeare to /root/nltk_data...\n",
            "[nltk_data]    |   Unzipping corpora/shakespeare.zip.\n",
            "[nltk_data]    | Downloading package sinica_treebank to\n",
            "[nltk_data]    |     /root/nltk_data...\n",
            "[nltk_data]    |   Unzipping corpora/sinica_treebank.zip.\n",
            "[nltk_data]    | Downloading package smultron to /root/nltk_data...\n",
            "[nltk_data]    |   Unzipping corpora/smultron.zip.\n",
            "[nltk_data]    | Downloading package snowball_data to\n",
            "[nltk_data]    |     /root/nltk_data...\n",
            "[nltk_data]    | Downloading package spanish_grammars to\n",
            "[nltk_data]    |     /root/nltk_data...\n",
            "[nltk_data]    |   Unzipping grammars/spanish_grammars.zip.\n",
            "[nltk_data]    | Downloading package state_union to /root/nltk_data...\n",
            "[nltk_data]    |   Unzipping corpora/state_union.zip.\n",
            "[nltk_data]    | Downloading package stopwords to /root/nltk_data...\n",
            "[nltk_data]    |   Unzipping corpora/stopwords.zip.\n",
            "[nltk_data]    | Downloading package subjectivity to\n",
            "[nltk_data]    |     /root/nltk_data...\n",
            "[nltk_data]    |   Unzipping corpora/subjectivity.zip.\n",
            "[nltk_data]    | Downloading package swadesh to /root/nltk_data...\n",
            "[nltk_data]    |   Unzipping corpora/swadesh.zip.\n",
            "[nltk_data]    | Downloading package switchboard to /root/nltk_data...\n",
            "[nltk_data]    |   Unzipping corpora/switchboard.zip.\n",
            "[nltk_data]    | Downloading package tagsets to /root/nltk_data...\n",
            "[nltk_data]    |   Unzipping help/tagsets.zip.\n",
            "[nltk_data]    | Downloading package timit to /root/nltk_data...\n",
            "[nltk_data]    |   Unzipping corpora/timit.zip.\n",
            "[nltk_data]    | Downloading package toolbox to /root/nltk_data...\n",
            "[nltk_data]    |   Unzipping corpora/toolbox.zip.\n",
            "[nltk_data]    | Downloading package treebank to /root/nltk_data...\n",
            "[nltk_data]    |   Unzipping corpora/treebank.zip.\n",
            "[nltk_data]    | Downloading package twitter_samples to\n",
            "[nltk_data]    |     /root/nltk_data...\n",
            "[nltk_data]    |   Unzipping corpora/twitter_samples.zip.\n",
            "[nltk_data]    | Downloading package udhr to /root/nltk_data...\n",
            "[nltk_data]    |   Unzipping corpora/udhr.zip.\n",
            "[nltk_data]    | Downloading package udhr2 to /root/nltk_data...\n",
            "[nltk_data]    |   Unzipping corpora/udhr2.zip.\n",
            "[nltk_data]    | Downloading package unicode_samples to\n",
            "[nltk_data]    |     /root/nltk_data...\n",
            "[nltk_data]    |   Unzipping corpora/unicode_samples.zip.\n",
            "[nltk_data]    | Downloading package universal_tagset to\n",
            "[nltk_data]    |     /root/nltk_data...\n",
            "[nltk_data]    |   Unzipping taggers/universal_tagset.zip.\n",
            "[nltk_data]    | Downloading package universal_treebanks_v20 to\n",
            "[nltk_data]    |     /root/nltk_data...\n",
            "[nltk_data]    | Downloading package vader_lexicon to\n",
            "[nltk_data]    |     /root/nltk_data...\n",
            "[nltk_data]    | Downloading package verbnet to /root/nltk_data...\n",
            "[nltk_data]    |   Unzipping corpora/verbnet.zip.\n",
            "[nltk_data]    | Downloading package verbnet3 to /root/nltk_data...\n",
            "[nltk_data]    |   Unzipping corpora/verbnet3.zip.\n",
            "[nltk_data]    | Downloading package webtext to /root/nltk_data...\n",
            "[nltk_data]    |   Unzipping corpora/webtext.zip.\n",
            "[nltk_data]    | Downloading package wmt15_eval to /root/nltk_data...\n",
            "[nltk_data]    |   Unzipping models/wmt15_eval.zip.\n",
            "[nltk_data]    | Downloading package word2vec_sample to\n",
            "[nltk_data]    |     /root/nltk_data...\n",
            "[nltk_data]    |   Unzipping models/word2vec_sample.zip.\n",
            "[nltk_data]    | Downloading package wordnet to /root/nltk_data...\n",
            "[nltk_data]    | Downloading package wordnet2021 to /root/nltk_data...\n",
            "[nltk_data]    | Downloading package wordnet2022 to /root/nltk_data...\n",
            "[nltk_data]    |   Unzipping corpora/wordnet2022.zip.\n",
            "[nltk_data]    | Downloading package wordnet31 to /root/nltk_data...\n",
            "[nltk_data]    | Downloading package wordnet_ic to /root/nltk_data...\n",
            "[nltk_data]    |   Unzipping corpora/wordnet_ic.zip.\n",
            "[nltk_data]    | Downloading package words to /root/nltk_data...\n",
            "[nltk_data]    |   Unzipping corpora/words.zip.\n",
            "[nltk_data]    | Downloading package ycoe to /root/nltk_data...\n",
            "[nltk_data]    |   Unzipping corpora/ycoe.zip.\n",
            "[nltk_data]    | \n",
            "[nltk_data]  Done downloading collection all\n"
          ]
        },
        {
          "output_type": "execute_result",
          "data": {
            "text/plain": [
              "True"
            ]
          },
          "metadata": {},
          "execution_count": 18
        }
      ],
      "source": [
        "nltk.download('all')"
      ]
    },
    {
      "cell_type": "code",
      "execution_count": null,
      "metadata": {
        "id": "insOxDfuYBpQ"
      },
      "outputs": [],
      "source": [
        "from nltk.corpus import stopwords\n",
        "STOPWORDS = set(stopwords.words('english'))\n",
        "def remove_stopwords(text):\n",
        "    \"\"\"custom function to remove the stopwords\"\"\"\n",
        "    return \" \".join([word for word in str(text).split() if word not in STOPWORDS])\n",
        "\n",
        "Ctrain[\"cleanText\"] = Ctrain[\"cleanText\"].apply(lambda text: remove_stopwords(text))\n",
        "Cval[\"cleanText\"] = Cval[\"cleanText\"].apply(lambda text: remove_stopwords(text))\n",
        "Ctest[\"cleanText\"] = Ctest[\"cleanText\"].apply(lambda text: remove_stopwords(text))"
      ]
    },
    {
      "cell_type": "code",
      "execution_count": null,
      "metadata": {
        "id": "TdXDypk1YBpR",
        "colab": {
          "base_uri": "https://localhost:8080/"
        },
        "outputId": "189c5cb6-a50d-47ec-a4d8-16ef7303fd68"
      },
      "outputs": [
        {
          "output_type": "execute_result",
          "data": {
            "text/plain": [
              "   index                                              tweet  label  \\\n",
              "0  10001  Burning native forest wood waste for electrici...      1   \n",
              "1  10002  November is here!!! \\nIt's a new chance for yo...      1   \n",
              "2  10003  Fight For Climate Justice At Queen's Park.  In...      1   \n",
              "3  10005  We all need to rise up and speak at a time lik...      1   \n",
              "4  10006  Fridays For Future Week 88🌍 \\n\\n#PeopleNotProf...      3   \n",
              "5  10007  Great turnout for Week171 #FridaysforFuture, D...      1   \n",
              "6  10008  There is no climate justice without climate fi...      1   \n",
              "7  10009  #FridaysForFuture Dublin, WEEEEEK 200!!Congrat...      1   \n",
              "8  10010  .\\nYouth #climate activists get boost from Dut...      3   \n",
              "9  10011  #ClimateCrisis #ClimateAction #GlobalWarming  ...      2   \n",
              "\n",
              "                                           cleanText  \n",
              "0  burning native forest wood waste electricity c...  \n",
              "1  november new chance make decisions contribute ...  \n",
              "2  fight climate justice queen park toronto ontar...  \n",
              "3  need rise speak time like climate justice rise...  \n",
              "4  fridays future week 88 peoplenotprofit uproott...  \n",
              "5  great turnout week171 fridaysforfuture dublin ...  \n",
              "6  climate justice without climate finance show u...  \n",
              "7  fridaysforfuture dublin weeeeek 200 congrats i...  \n",
              "8  youth climate activists get boost dutch tech b...  \n",
              "9  climatecrisis climateaction globalwarming frid...  "
            ],
            "text/html": [
              "\n",
              "  <div id=\"df-b121a8b0-39de-4abe-b009-14a8e0ff61e3\" class=\"colab-df-container\">\n",
              "    <div>\n",
              "<style scoped>\n",
              "    .dataframe tbody tr th:only-of-type {\n",
              "        vertical-align: middle;\n",
              "    }\n",
              "\n",
              "    .dataframe tbody tr th {\n",
              "        vertical-align: top;\n",
              "    }\n",
              "\n",
              "    .dataframe thead th {\n",
              "        text-align: right;\n",
              "    }\n",
              "</style>\n",
              "<table border=\"1\" class=\"dataframe\">\n",
              "  <thead>\n",
              "    <tr style=\"text-align: right;\">\n",
              "      <th></th>\n",
              "      <th>index</th>\n",
              "      <th>tweet</th>\n",
              "      <th>label</th>\n",
              "      <th>cleanText</th>\n",
              "    </tr>\n",
              "  </thead>\n",
              "  <tbody>\n",
              "    <tr>\n",
              "      <th>0</th>\n",
              "      <td>10001</td>\n",
              "      <td>Burning native forest wood waste for electrici...</td>\n",
              "      <td>1</td>\n",
              "      <td>burning native forest wood waste electricity c...</td>\n",
              "    </tr>\n",
              "    <tr>\n",
              "      <th>1</th>\n",
              "      <td>10002</td>\n",
              "      <td>November is here!!! \\nIt's a new chance for yo...</td>\n",
              "      <td>1</td>\n",
              "      <td>november new chance make decisions contribute ...</td>\n",
              "    </tr>\n",
              "    <tr>\n",
              "      <th>2</th>\n",
              "      <td>10003</td>\n",
              "      <td>Fight For Climate Justice At Queen's Park.  In...</td>\n",
              "      <td>1</td>\n",
              "      <td>fight climate justice queen park toronto ontar...</td>\n",
              "    </tr>\n",
              "    <tr>\n",
              "      <th>3</th>\n",
              "      <td>10005</td>\n",
              "      <td>We all need to rise up and speak at a time lik...</td>\n",
              "      <td>1</td>\n",
              "      <td>need rise speak time like climate justice rise...</td>\n",
              "    </tr>\n",
              "    <tr>\n",
              "      <th>4</th>\n",
              "      <td>10006</td>\n",
              "      <td>Fridays For Future Week 88🌍 \\n\\n#PeopleNotProf...</td>\n",
              "      <td>3</td>\n",
              "      <td>fridays future week 88 peoplenotprofit uproott...</td>\n",
              "    </tr>\n",
              "    <tr>\n",
              "      <th>5</th>\n",
              "      <td>10007</td>\n",
              "      <td>Great turnout for Week171 #FridaysforFuture, D...</td>\n",
              "      <td>1</td>\n",
              "      <td>great turnout week171 fridaysforfuture dublin ...</td>\n",
              "    </tr>\n",
              "    <tr>\n",
              "      <th>6</th>\n",
              "      <td>10008</td>\n",
              "      <td>There is no climate justice without climate fi...</td>\n",
              "      <td>1</td>\n",
              "      <td>climate justice without climate finance show u...</td>\n",
              "    </tr>\n",
              "    <tr>\n",
              "      <th>7</th>\n",
              "      <td>10009</td>\n",
              "      <td>#FridaysForFuture Dublin, WEEEEEK 200!!Congrat...</td>\n",
              "      <td>1</td>\n",
              "      <td>fridaysforfuture dublin weeeeek 200 congrats i...</td>\n",
              "    </tr>\n",
              "    <tr>\n",
              "      <th>8</th>\n",
              "      <td>10010</td>\n",
              "      <td>.\\nYouth #climate activists get boost from Dut...</td>\n",
              "      <td>3</td>\n",
              "      <td>youth climate activists get boost dutch tech b...</td>\n",
              "    </tr>\n",
              "    <tr>\n",
              "      <th>9</th>\n",
              "      <td>10011</td>\n",
              "      <td>#ClimateCrisis #ClimateAction #GlobalWarming  ...</td>\n",
              "      <td>2</td>\n",
              "      <td>climatecrisis climateaction globalwarming frid...</td>\n",
              "    </tr>\n",
              "  </tbody>\n",
              "</table>\n",
              "</div>\n",
              "    <div class=\"colab-df-buttons\">\n",
              "\n",
              "  <div class=\"colab-df-container\">\n",
              "    <button class=\"colab-df-convert\" onclick=\"convertToInteractive('df-b121a8b0-39de-4abe-b009-14a8e0ff61e3')\"\n",
              "            title=\"Convert this dataframe to an interactive table.\"\n",
              "            style=\"display:none;\">\n",
              "\n",
              "  <svg xmlns=\"http://www.w3.org/2000/svg\" height=\"24px\" viewBox=\"0 -960 960 960\">\n",
              "    <path d=\"M120-120v-720h720v720H120Zm60-500h600v-160H180v160Zm220 220h160v-160H400v160Zm0 220h160v-160H400v160ZM180-400h160v-160H180v160Zm440 0h160v-160H620v160ZM180-180h160v-160H180v160Zm440 0h160v-160H620v160Z\"/>\n",
              "  </svg>\n",
              "    </button>\n",
              "\n",
              "  <style>\n",
              "    .colab-df-container {\n",
              "      display:flex;\n",
              "      gap: 12px;\n",
              "    }\n",
              "\n",
              "    .colab-df-convert {\n",
              "      background-color: #E8F0FE;\n",
              "      border: none;\n",
              "      border-radius: 50%;\n",
              "      cursor: pointer;\n",
              "      display: none;\n",
              "      fill: #1967D2;\n",
              "      height: 32px;\n",
              "      padding: 0 0 0 0;\n",
              "      width: 32px;\n",
              "    }\n",
              "\n",
              "    .colab-df-convert:hover {\n",
              "      background-color: #E2EBFA;\n",
              "      box-shadow: 0px 1px 2px rgba(60, 64, 67, 0.3), 0px 1px 3px 1px rgba(60, 64, 67, 0.15);\n",
              "      fill: #174EA6;\n",
              "    }\n",
              "\n",
              "    .colab-df-buttons div {\n",
              "      margin-bottom: 4px;\n",
              "    }\n",
              "\n",
              "    [theme=dark] .colab-df-convert {\n",
              "      background-color: #3B4455;\n",
              "      fill: #D2E3FC;\n",
              "    }\n",
              "\n",
              "    [theme=dark] .colab-df-convert:hover {\n",
              "      background-color: #434B5C;\n",
              "      box-shadow: 0px 1px 3px 1px rgba(0, 0, 0, 0.15);\n",
              "      filter: drop-shadow(0px 1px 2px rgba(0, 0, 0, 0.3));\n",
              "      fill: #FFFFFF;\n",
              "    }\n",
              "  </style>\n",
              "\n",
              "    <script>\n",
              "      const buttonEl =\n",
              "        document.querySelector('#df-b121a8b0-39de-4abe-b009-14a8e0ff61e3 button.colab-df-convert');\n",
              "      buttonEl.style.display =\n",
              "        google.colab.kernel.accessAllowed ? 'block' : 'none';\n",
              "\n",
              "      async function convertToInteractive(key) {\n",
              "        const element = document.querySelector('#df-b121a8b0-39de-4abe-b009-14a8e0ff61e3');\n",
              "        const dataTable =\n",
              "          await google.colab.kernel.invokeFunction('convertToInteractive',\n",
              "                                                    [key], {});\n",
              "        if (!dataTable) return;\n",
              "\n",
              "        const docLinkHtml = 'Like what you see? Visit the ' +\n",
              "          '<a target=\"_blank\" href=https://colab.research.google.com/notebooks/data_table.ipynb>data table notebook</a>'\n",
              "          + ' to learn more about interactive tables.';\n",
              "        element.innerHTML = '';\n",
              "        dataTable['output_type'] = 'display_data';\n",
              "        await google.colab.output.renderOutput(dataTable, element);\n",
              "        const docLink = document.createElement('div');\n",
              "        docLink.innerHTML = docLinkHtml;\n",
              "        element.appendChild(docLink);\n",
              "      }\n",
              "    </script>\n",
              "  </div>\n",
              "\n",
              "\n",
              "<div id=\"df-ae4ecc9e-bb0d-4fe5-95a4-82e11c987ab4\">\n",
              "  <button class=\"colab-df-quickchart\" onclick=\"quickchart('df-ae4ecc9e-bb0d-4fe5-95a4-82e11c987ab4')\"\n",
              "            title=\"Suggest charts\"\n",
              "            style=\"display:none;\">\n",
              "\n",
              "<svg xmlns=\"http://www.w3.org/2000/svg\" height=\"24px\"viewBox=\"0 0 24 24\"\n",
              "     width=\"24px\">\n",
              "    <g>\n",
              "        <path d=\"M19 3H5c-1.1 0-2 .9-2 2v14c0 1.1.9 2 2 2h14c1.1 0 2-.9 2-2V5c0-1.1-.9-2-2-2zM9 17H7v-7h2v7zm4 0h-2V7h2v10zm4 0h-2v-4h2v4z\"/>\n",
              "    </g>\n",
              "</svg>\n",
              "  </button>\n",
              "\n",
              "<style>\n",
              "  .colab-df-quickchart {\n",
              "      --bg-color: #E8F0FE;\n",
              "      --fill-color: #1967D2;\n",
              "      --hover-bg-color: #E2EBFA;\n",
              "      --hover-fill-color: #174EA6;\n",
              "      --disabled-fill-color: #AAA;\n",
              "      --disabled-bg-color: #DDD;\n",
              "  }\n",
              "\n",
              "  [theme=dark] .colab-df-quickchart {\n",
              "      --bg-color: #3B4455;\n",
              "      --fill-color: #D2E3FC;\n",
              "      --hover-bg-color: #434B5C;\n",
              "      --hover-fill-color: #FFFFFF;\n",
              "      --disabled-bg-color: #3B4455;\n",
              "      --disabled-fill-color: #666;\n",
              "  }\n",
              "\n",
              "  .colab-df-quickchart {\n",
              "    background-color: var(--bg-color);\n",
              "    border: none;\n",
              "    border-radius: 50%;\n",
              "    cursor: pointer;\n",
              "    display: none;\n",
              "    fill: var(--fill-color);\n",
              "    height: 32px;\n",
              "    padding: 0;\n",
              "    width: 32px;\n",
              "  }\n",
              "\n",
              "  .colab-df-quickchart:hover {\n",
              "    background-color: var(--hover-bg-color);\n",
              "    box-shadow: 0 1px 2px rgba(60, 64, 67, 0.3), 0 1px 3px 1px rgba(60, 64, 67, 0.15);\n",
              "    fill: var(--button-hover-fill-color);\n",
              "  }\n",
              "\n",
              "  .colab-df-quickchart-complete:disabled,\n",
              "  .colab-df-quickchart-complete:disabled:hover {\n",
              "    background-color: var(--disabled-bg-color);\n",
              "    fill: var(--disabled-fill-color);\n",
              "    box-shadow: none;\n",
              "  }\n",
              "\n",
              "  .colab-df-spinner {\n",
              "    border: 2px solid var(--fill-color);\n",
              "    border-color: transparent;\n",
              "    border-bottom-color: var(--fill-color);\n",
              "    animation:\n",
              "      spin 1s steps(1) infinite;\n",
              "  }\n",
              "\n",
              "  @keyframes spin {\n",
              "    0% {\n",
              "      border-color: transparent;\n",
              "      border-bottom-color: var(--fill-color);\n",
              "      border-left-color: var(--fill-color);\n",
              "    }\n",
              "    20% {\n",
              "      border-color: transparent;\n",
              "      border-left-color: var(--fill-color);\n",
              "      border-top-color: var(--fill-color);\n",
              "    }\n",
              "    30% {\n",
              "      border-color: transparent;\n",
              "      border-left-color: var(--fill-color);\n",
              "      border-top-color: var(--fill-color);\n",
              "      border-right-color: var(--fill-color);\n",
              "    }\n",
              "    40% {\n",
              "      border-color: transparent;\n",
              "      border-right-color: var(--fill-color);\n",
              "      border-top-color: var(--fill-color);\n",
              "    }\n",
              "    60% {\n",
              "      border-color: transparent;\n",
              "      border-right-color: var(--fill-color);\n",
              "    }\n",
              "    80% {\n",
              "      border-color: transparent;\n",
              "      border-right-color: var(--fill-color);\n",
              "      border-bottom-color: var(--fill-color);\n",
              "    }\n",
              "    90% {\n",
              "      border-color: transparent;\n",
              "      border-bottom-color: var(--fill-color);\n",
              "    }\n",
              "  }\n",
              "</style>\n",
              "\n",
              "  <script>\n",
              "    async function quickchart(key) {\n",
              "      const quickchartButtonEl =\n",
              "        document.querySelector('#' + key + ' button');\n",
              "      quickchartButtonEl.disabled = true;  // To prevent multiple clicks.\n",
              "      quickchartButtonEl.classList.add('colab-df-spinner');\n",
              "      try {\n",
              "        const charts = await google.colab.kernel.invokeFunction(\n",
              "            'suggestCharts', [key], {});\n",
              "      } catch (error) {\n",
              "        console.error('Error during call to suggestCharts:', error);\n",
              "      }\n",
              "      quickchartButtonEl.classList.remove('colab-df-spinner');\n",
              "      quickchartButtonEl.classList.add('colab-df-quickchart-complete');\n",
              "    }\n",
              "    (() => {\n",
              "      let quickchartButtonEl =\n",
              "        document.querySelector('#df-ae4ecc9e-bb0d-4fe5-95a4-82e11c987ab4 button');\n",
              "      quickchartButtonEl.style.display =\n",
              "        google.colab.kernel.accessAllowed ? 'block' : 'none';\n",
              "    })();\n",
              "  </script>\n",
              "</div>\n",
              "\n",
              "    </div>\n",
              "  </div>\n"
            ]
          },
          "metadata": {},
          "execution_count": 20
        }
      ],
      "source": [
        "Ctrain.head(10)"
      ]
    },
    {
      "cell_type": "code",
      "execution_count": null,
      "metadata": {
        "id": "XSQqQf95YBpR",
        "colab": {
          "base_uri": "https://localhost:8080/"
        },
        "outputId": "28b31c2c-31c0-4447-fe74-8122fe0d0c18"
      },
      "outputs": [
        {
          "output_type": "execute_result",
          "data": {
            "text/plain": [
              "   index                                              tweet  label  \\\n",
              "0  10023  #FridaysForFuture\\n\\n#COP27 #Live Today\\n#Clim...      3   \n",
              "1  10042  Do we really have an average of 6-7 years to c...      1   \n",
              "2  10044  today it's #climatestrike Again&amp;Again #Unt...      3   \n",
              "3  10067  Join the Global #ClimateStrike on September 23...      1   \n",
              "4  10083  Happy #EarthDay! Prioritize Life!\\n\\nReduce #F...      1   \n",
              "5  10098  We shouldn’t be putting all of our electricity...      1   \n",
              "6  10104  Tomorrow is the day! All over the planet peopl...      1   \n",
              "7  10107  Marine life face mass extinction due to climat...      1   \n",
              "8  10109  #ClimateStrike Week 38\\nWe want #ClimateAction...      3   \n",
              "9  10121  notiammex: RT @DanielBlasing: #ClimateStrike W...      3   \n",
              "\n",
              "                                           cleanText  \n",
              "0    fridaysforfuture cop27 live today climateaction  \n",
              "1  really average 6 7 years curb tackle halt clim...  \n",
              "2  today climatestrike untilwearedone fridaysforf...  \n",
              "3  join global climatestrike september 23rd deman...  \n",
              "4  happy earthday prioritize life reduce fossilfu...  \n",
              "5  putting electricity eggs grid basket especiall...  \n",
              "6  tomorrow day planet people strike march protes...  \n",
              "7  marine life face mass extinction due climate c...  \n",
              "8  climatestrike week 38 want climateactionnow st...  \n",
              "9  notiammex rt danielblasing climatestrike week ...  "
            ],
            "text/html": [
              "\n",
              "  <div id=\"df-0c1cb318-279e-48ac-8922-0d660044188e\" class=\"colab-df-container\">\n",
              "    <div>\n",
              "<style scoped>\n",
              "    .dataframe tbody tr th:only-of-type {\n",
              "        vertical-align: middle;\n",
              "    }\n",
              "\n",
              "    .dataframe tbody tr th {\n",
              "        vertical-align: top;\n",
              "    }\n",
              "\n",
              "    .dataframe thead th {\n",
              "        text-align: right;\n",
              "    }\n",
              "</style>\n",
              "<table border=\"1\" class=\"dataframe\">\n",
              "  <thead>\n",
              "    <tr style=\"text-align: right;\">\n",
              "      <th></th>\n",
              "      <th>index</th>\n",
              "      <th>tweet</th>\n",
              "      <th>label</th>\n",
              "      <th>cleanText</th>\n",
              "    </tr>\n",
              "  </thead>\n",
              "  <tbody>\n",
              "    <tr>\n",
              "      <th>0</th>\n",
              "      <td>10023</td>\n",
              "      <td>#FridaysForFuture\\n\\n#COP27 #Live Today\\n#Clim...</td>\n",
              "      <td>3</td>\n",
              "      <td>fridaysforfuture cop27 live today climateaction</td>\n",
              "    </tr>\n",
              "    <tr>\n",
              "      <th>1</th>\n",
              "      <td>10042</td>\n",
              "      <td>Do we really have an average of 6-7 years to c...</td>\n",
              "      <td>1</td>\n",
              "      <td>really average 6 7 years curb tackle halt clim...</td>\n",
              "    </tr>\n",
              "    <tr>\n",
              "      <th>2</th>\n",
              "      <td>10044</td>\n",
              "      <td>today it's #climatestrike Again&amp;amp;Again #Unt...</td>\n",
              "      <td>3</td>\n",
              "      <td>today climatestrike untilwearedone fridaysforf...</td>\n",
              "    </tr>\n",
              "    <tr>\n",
              "      <th>3</th>\n",
              "      <td>10067</td>\n",
              "      <td>Join the Global #ClimateStrike on September 23...</td>\n",
              "      <td>1</td>\n",
              "      <td>join global climatestrike september 23rd deman...</td>\n",
              "    </tr>\n",
              "    <tr>\n",
              "      <th>4</th>\n",
              "      <td>10083</td>\n",
              "      <td>Happy #EarthDay! Prioritize Life!\\n\\nReduce #F...</td>\n",
              "      <td>1</td>\n",
              "      <td>happy earthday prioritize life reduce fossilfu...</td>\n",
              "    </tr>\n",
              "    <tr>\n",
              "      <th>5</th>\n",
              "      <td>10098</td>\n",
              "      <td>We shouldn’t be putting all of our electricity...</td>\n",
              "      <td>1</td>\n",
              "      <td>putting electricity eggs grid basket especiall...</td>\n",
              "    </tr>\n",
              "    <tr>\n",
              "      <th>6</th>\n",
              "      <td>10104</td>\n",
              "      <td>Tomorrow is the day! All over the planet peopl...</td>\n",
              "      <td>1</td>\n",
              "      <td>tomorrow day planet people strike march protes...</td>\n",
              "    </tr>\n",
              "    <tr>\n",
              "      <th>7</th>\n",
              "      <td>10107</td>\n",
              "      <td>Marine life face mass extinction due to climat...</td>\n",
              "      <td>1</td>\n",
              "      <td>marine life face mass extinction due climate c...</td>\n",
              "    </tr>\n",
              "    <tr>\n",
              "      <th>8</th>\n",
              "      <td>10109</td>\n",
              "      <td>#ClimateStrike Week 38\\nWe want #ClimateAction...</td>\n",
              "      <td>3</td>\n",
              "      <td>climatestrike week 38 want climateactionnow st...</td>\n",
              "    </tr>\n",
              "    <tr>\n",
              "      <th>9</th>\n",
              "      <td>10121</td>\n",
              "      <td>notiammex: RT @DanielBlasing: #ClimateStrike W...</td>\n",
              "      <td>3</td>\n",
              "      <td>notiammex rt danielblasing climatestrike week ...</td>\n",
              "    </tr>\n",
              "  </tbody>\n",
              "</table>\n",
              "</div>\n",
              "    <div class=\"colab-df-buttons\">\n",
              "\n",
              "  <div class=\"colab-df-container\">\n",
              "    <button class=\"colab-df-convert\" onclick=\"convertToInteractive('df-0c1cb318-279e-48ac-8922-0d660044188e')\"\n",
              "            title=\"Convert this dataframe to an interactive table.\"\n",
              "            style=\"display:none;\">\n",
              "\n",
              "  <svg xmlns=\"http://www.w3.org/2000/svg\" height=\"24px\" viewBox=\"0 -960 960 960\">\n",
              "    <path d=\"M120-120v-720h720v720H120Zm60-500h600v-160H180v160Zm220 220h160v-160H400v160Zm0 220h160v-160H400v160ZM180-400h160v-160H180v160Zm440 0h160v-160H620v160ZM180-180h160v-160H180v160Zm440 0h160v-160H620v160Z\"/>\n",
              "  </svg>\n",
              "    </button>\n",
              "\n",
              "  <style>\n",
              "    .colab-df-container {\n",
              "      display:flex;\n",
              "      gap: 12px;\n",
              "    }\n",
              "\n",
              "    .colab-df-convert {\n",
              "      background-color: #E8F0FE;\n",
              "      border: none;\n",
              "      border-radius: 50%;\n",
              "      cursor: pointer;\n",
              "      display: none;\n",
              "      fill: #1967D2;\n",
              "      height: 32px;\n",
              "      padding: 0 0 0 0;\n",
              "      width: 32px;\n",
              "    }\n",
              "\n",
              "    .colab-df-convert:hover {\n",
              "      background-color: #E2EBFA;\n",
              "      box-shadow: 0px 1px 2px rgba(60, 64, 67, 0.3), 0px 1px 3px 1px rgba(60, 64, 67, 0.15);\n",
              "      fill: #174EA6;\n",
              "    }\n",
              "\n",
              "    .colab-df-buttons div {\n",
              "      margin-bottom: 4px;\n",
              "    }\n",
              "\n",
              "    [theme=dark] .colab-df-convert {\n",
              "      background-color: #3B4455;\n",
              "      fill: #D2E3FC;\n",
              "    }\n",
              "\n",
              "    [theme=dark] .colab-df-convert:hover {\n",
              "      background-color: #434B5C;\n",
              "      box-shadow: 0px 1px 3px 1px rgba(0, 0, 0, 0.15);\n",
              "      filter: drop-shadow(0px 1px 2px rgba(0, 0, 0, 0.3));\n",
              "      fill: #FFFFFF;\n",
              "    }\n",
              "  </style>\n",
              "\n",
              "    <script>\n",
              "      const buttonEl =\n",
              "        document.querySelector('#df-0c1cb318-279e-48ac-8922-0d660044188e button.colab-df-convert');\n",
              "      buttonEl.style.display =\n",
              "        google.colab.kernel.accessAllowed ? 'block' : 'none';\n",
              "\n",
              "      async function convertToInteractive(key) {\n",
              "        const element = document.querySelector('#df-0c1cb318-279e-48ac-8922-0d660044188e');\n",
              "        const dataTable =\n",
              "          await google.colab.kernel.invokeFunction('convertToInteractive',\n",
              "                                                    [key], {});\n",
              "        if (!dataTable) return;\n",
              "\n",
              "        const docLinkHtml = 'Like what you see? Visit the ' +\n",
              "          '<a target=\"_blank\" href=https://colab.research.google.com/notebooks/data_table.ipynb>data table notebook</a>'\n",
              "          + ' to learn more about interactive tables.';\n",
              "        element.innerHTML = '';\n",
              "        dataTable['output_type'] = 'display_data';\n",
              "        await google.colab.output.renderOutput(dataTable, element);\n",
              "        const docLink = document.createElement('div');\n",
              "        docLink.innerHTML = docLinkHtml;\n",
              "        element.appendChild(docLink);\n",
              "      }\n",
              "    </script>\n",
              "  </div>\n",
              "\n",
              "\n",
              "<div id=\"df-13581756-d73b-48ac-a168-2b1f937e98b8\">\n",
              "  <button class=\"colab-df-quickchart\" onclick=\"quickchart('df-13581756-d73b-48ac-a168-2b1f937e98b8')\"\n",
              "            title=\"Suggest charts\"\n",
              "            style=\"display:none;\">\n",
              "\n",
              "<svg xmlns=\"http://www.w3.org/2000/svg\" height=\"24px\"viewBox=\"0 0 24 24\"\n",
              "     width=\"24px\">\n",
              "    <g>\n",
              "        <path d=\"M19 3H5c-1.1 0-2 .9-2 2v14c0 1.1.9 2 2 2h14c1.1 0 2-.9 2-2V5c0-1.1-.9-2-2-2zM9 17H7v-7h2v7zm4 0h-2V7h2v10zm4 0h-2v-4h2v4z\"/>\n",
              "    </g>\n",
              "</svg>\n",
              "  </button>\n",
              "\n",
              "<style>\n",
              "  .colab-df-quickchart {\n",
              "      --bg-color: #E8F0FE;\n",
              "      --fill-color: #1967D2;\n",
              "      --hover-bg-color: #E2EBFA;\n",
              "      --hover-fill-color: #174EA6;\n",
              "      --disabled-fill-color: #AAA;\n",
              "      --disabled-bg-color: #DDD;\n",
              "  }\n",
              "\n",
              "  [theme=dark] .colab-df-quickchart {\n",
              "      --bg-color: #3B4455;\n",
              "      --fill-color: #D2E3FC;\n",
              "      --hover-bg-color: #434B5C;\n",
              "      --hover-fill-color: #FFFFFF;\n",
              "      --disabled-bg-color: #3B4455;\n",
              "      --disabled-fill-color: #666;\n",
              "  }\n",
              "\n",
              "  .colab-df-quickchart {\n",
              "    background-color: var(--bg-color);\n",
              "    border: none;\n",
              "    border-radius: 50%;\n",
              "    cursor: pointer;\n",
              "    display: none;\n",
              "    fill: var(--fill-color);\n",
              "    height: 32px;\n",
              "    padding: 0;\n",
              "    width: 32px;\n",
              "  }\n",
              "\n",
              "  .colab-df-quickchart:hover {\n",
              "    background-color: var(--hover-bg-color);\n",
              "    box-shadow: 0 1px 2px rgba(60, 64, 67, 0.3), 0 1px 3px 1px rgba(60, 64, 67, 0.15);\n",
              "    fill: var(--button-hover-fill-color);\n",
              "  }\n",
              "\n",
              "  .colab-df-quickchart-complete:disabled,\n",
              "  .colab-df-quickchart-complete:disabled:hover {\n",
              "    background-color: var(--disabled-bg-color);\n",
              "    fill: var(--disabled-fill-color);\n",
              "    box-shadow: none;\n",
              "  }\n",
              "\n",
              "  .colab-df-spinner {\n",
              "    border: 2px solid var(--fill-color);\n",
              "    border-color: transparent;\n",
              "    border-bottom-color: var(--fill-color);\n",
              "    animation:\n",
              "      spin 1s steps(1) infinite;\n",
              "  }\n",
              "\n",
              "  @keyframes spin {\n",
              "    0% {\n",
              "      border-color: transparent;\n",
              "      border-bottom-color: var(--fill-color);\n",
              "      border-left-color: var(--fill-color);\n",
              "    }\n",
              "    20% {\n",
              "      border-color: transparent;\n",
              "      border-left-color: var(--fill-color);\n",
              "      border-top-color: var(--fill-color);\n",
              "    }\n",
              "    30% {\n",
              "      border-color: transparent;\n",
              "      border-left-color: var(--fill-color);\n",
              "      border-top-color: var(--fill-color);\n",
              "      border-right-color: var(--fill-color);\n",
              "    }\n",
              "    40% {\n",
              "      border-color: transparent;\n",
              "      border-right-color: var(--fill-color);\n",
              "      border-top-color: var(--fill-color);\n",
              "    }\n",
              "    60% {\n",
              "      border-color: transparent;\n",
              "      border-right-color: var(--fill-color);\n",
              "    }\n",
              "    80% {\n",
              "      border-color: transparent;\n",
              "      border-right-color: var(--fill-color);\n",
              "      border-bottom-color: var(--fill-color);\n",
              "    }\n",
              "    90% {\n",
              "      border-color: transparent;\n",
              "      border-bottom-color: var(--fill-color);\n",
              "    }\n",
              "  }\n",
              "</style>\n",
              "\n",
              "  <script>\n",
              "    async function quickchart(key) {\n",
              "      const quickchartButtonEl =\n",
              "        document.querySelector('#' + key + ' button');\n",
              "      quickchartButtonEl.disabled = true;  // To prevent multiple clicks.\n",
              "      quickchartButtonEl.classList.add('colab-df-spinner');\n",
              "      try {\n",
              "        const charts = await google.colab.kernel.invokeFunction(\n",
              "            'suggestCharts', [key], {});\n",
              "      } catch (error) {\n",
              "        console.error('Error during call to suggestCharts:', error);\n",
              "      }\n",
              "      quickchartButtonEl.classList.remove('colab-df-spinner');\n",
              "      quickchartButtonEl.classList.add('colab-df-quickchart-complete');\n",
              "    }\n",
              "    (() => {\n",
              "      let quickchartButtonEl =\n",
              "        document.querySelector('#df-13581756-d73b-48ac-a168-2b1f937e98b8 button');\n",
              "      quickchartButtonEl.style.display =\n",
              "        google.colab.kernel.accessAllowed ? 'block' : 'none';\n",
              "    })();\n",
              "  </script>\n",
              "</div>\n",
              "\n",
              "    </div>\n",
              "  </div>\n"
            ]
          },
          "metadata": {},
          "execution_count": 21
        }
      ],
      "source": [
        "Cval.head(10)"
      ]
    },
    {
      "cell_type": "markdown",
      "metadata": {
        "id": "rTLcsZDOYBpR"
      },
      "source": [
        "## Lemmatization"
      ]
    },
    {
      "cell_type": "code",
      "execution_count": null,
      "metadata": {
        "id": "5rxVSj_aYBpS"
      },
      "outputs": [],
      "source": [
        "# from nltk.corpus import wordnet\n",
        "# from nltk.stem import WordNetLemmatizer\n",
        "\n",
        "# lemmatizer = WordNetLemmatizer()\n",
        "# wordnet_map = {\"N\":wordnet.NOUN, \"V\":wordnet.VERB, \"J\":wordnet.ADJ, \"R\":wordnet.ADV}\n",
        "# def lemmatize_words(text):\n",
        "#     pos_tagged_text = nltk.pos_tag(text.split())\n",
        "#     return \" \".join([lemmatizer.lemmatize(word, wordnet_map.get(pos[0], wordnet.NOUN)) for word, pos in pos_tagged_text])\n",
        "\n",
        "\n",
        "# Btrain[\"cleanText\"] = Btrain[\"cleanText\"].apply(lambda text: lemmatize_words(text))\n",
        "# Bval[\"cleanText\"] = Bval[\"cleanText\"].apply(lambda text: lemmatize_words(text))\n",
        "# Btest[\"cleanText\"] = Btest[\"cleanText\"].apply(lambda text: lemmatize_words(text))"
      ]
    },
    {
      "cell_type": "code",
      "execution_count": null,
      "metadata": {
        "id": "5cNzxDSnYBpS",
        "colab": {
          "base_uri": "https://localhost:8080/"
        },
        "outputId": "d3a78da9-ccd5-4fb0-e1e4-43bb08d2889c"
      },
      "outputs": [
        {
          "output_type": "stream",
          "name": "stdout",
          "text": [
            "Requirement already satisfied: spacy in /usr/local/lib/python3.10/dist-packages (3.6.1)\n",
            "Requirement already satisfied: spacy-legacy<3.1.0,>=3.0.11 in /usr/local/lib/python3.10/dist-packages (from spacy) (3.0.12)\n",
            "Requirement already satisfied: spacy-loggers<2.0.0,>=1.0.0 in /usr/local/lib/python3.10/dist-packages (from spacy) (1.0.5)\n",
            "Requirement already satisfied: murmurhash<1.1.0,>=0.28.0 in /usr/local/lib/python3.10/dist-packages (from spacy) (1.0.10)\n",
            "Requirement already satisfied: cymem<2.1.0,>=2.0.2 in /usr/local/lib/python3.10/dist-packages (from spacy) (2.0.8)\n",
            "Requirement already satisfied: preshed<3.1.0,>=3.0.2 in /usr/local/lib/python3.10/dist-packages (from spacy) (3.0.9)\n",
            "Requirement already satisfied: thinc<8.2.0,>=8.1.8 in /usr/local/lib/python3.10/dist-packages (from spacy) (8.1.12)\n",
            "Requirement already satisfied: wasabi<1.2.0,>=0.9.1 in /usr/local/lib/python3.10/dist-packages (from spacy) (1.1.2)\n",
            "Requirement already satisfied: srsly<3.0.0,>=2.4.3 in /usr/local/lib/python3.10/dist-packages (from spacy) (2.4.8)\n",
            "Requirement already satisfied: catalogue<2.1.0,>=2.0.6 in /usr/local/lib/python3.10/dist-packages (from spacy) (2.0.10)\n",
            "Requirement already satisfied: typer<0.10.0,>=0.3.0 in /usr/local/lib/python3.10/dist-packages (from spacy) (0.9.0)\n",
            "Requirement already satisfied: pathy>=0.10.0 in /usr/local/lib/python3.10/dist-packages (from spacy) (0.10.3)\n",
            "Requirement already satisfied: smart-open<7.0.0,>=5.2.1 in /usr/local/lib/python3.10/dist-packages (from spacy) (6.4.0)\n",
            "Requirement already satisfied: tqdm<5.0.0,>=4.38.0 in /usr/local/lib/python3.10/dist-packages (from spacy) (4.66.1)\n",
            "Requirement already satisfied: numpy>=1.15.0 in /usr/local/lib/python3.10/dist-packages (from spacy) (1.23.5)\n",
            "Requirement already satisfied: requests<3.0.0,>=2.13.0 in /usr/local/lib/python3.10/dist-packages (from spacy) (2.31.0)\n",
            "Requirement already satisfied: pydantic!=1.8,!=1.8.1,<3.0.0,>=1.7.4 in /usr/local/lib/python3.10/dist-packages (from spacy) (1.10.13)\n",
            "Requirement already satisfied: jinja2 in /usr/local/lib/python3.10/dist-packages (from spacy) (3.1.2)\n",
            "Requirement already satisfied: setuptools in /usr/local/lib/python3.10/dist-packages (from spacy) (67.7.2)\n",
            "Requirement already satisfied: packaging>=20.0 in /usr/local/lib/python3.10/dist-packages (from spacy) (23.2)\n",
            "Requirement already satisfied: langcodes<4.0.0,>=3.2.0 in /usr/local/lib/python3.10/dist-packages (from spacy) (3.3.0)\n",
            "Requirement already satisfied: typing-extensions>=4.2.0 in /usr/local/lib/python3.10/dist-packages (from pydantic!=1.8,!=1.8.1,<3.0.0,>=1.7.4->spacy) (4.5.0)\n",
            "Requirement already satisfied: charset-normalizer<4,>=2 in /usr/local/lib/python3.10/dist-packages (from requests<3.0.0,>=2.13.0->spacy) (3.3.2)\n",
            "Requirement already satisfied: idna<4,>=2.5 in /usr/local/lib/python3.10/dist-packages (from requests<3.0.0,>=2.13.0->spacy) (3.6)\n",
            "Requirement already satisfied: urllib3<3,>=1.21.1 in /usr/local/lib/python3.10/dist-packages (from requests<3.0.0,>=2.13.0->spacy) (2.0.7)\n",
            "Requirement already satisfied: certifi>=2017.4.17 in /usr/local/lib/python3.10/dist-packages (from requests<3.0.0,>=2.13.0->spacy) (2023.11.17)\n",
            "Requirement already satisfied: blis<0.8.0,>=0.7.8 in /usr/local/lib/python3.10/dist-packages (from thinc<8.2.0,>=8.1.8->spacy) (0.7.11)\n",
            "Requirement already satisfied: confection<1.0.0,>=0.0.1 in /usr/local/lib/python3.10/dist-packages (from thinc<8.2.0,>=8.1.8->spacy) (0.1.4)\n",
            "Requirement already satisfied: click<9.0.0,>=7.1.1 in /usr/local/lib/python3.10/dist-packages (from typer<0.10.0,>=0.3.0->spacy) (8.1.7)\n",
            "Requirement already satisfied: MarkupSafe>=2.0 in /usr/local/lib/python3.10/dist-packages (from jinja2->spacy) (2.1.3)\n",
            "2024-01-16 11:32:45.649627: E external/local_xla/xla/stream_executor/cuda/cuda_dnn.cc:9261] Unable to register cuDNN factory: Attempting to register factory for plugin cuDNN when one has already been registered\n",
            "2024-01-16 11:32:45.649686: E external/local_xla/xla/stream_executor/cuda/cuda_fft.cc:607] Unable to register cuFFT factory: Attempting to register factory for plugin cuFFT when one has already been registered\n",
            "2024-01-16 11:32:45.651003: E external/local_xla/xla/stream_executor/cuda/cuda_blas.cc:1515] Unable to register cuBLAS factory: Attempting to register factory for plugin cuBLAS when one has already been registered\n",
            "2024-01-16 11:32:46.756136: W tensorflow/compiler/tf2tensorrt/utils/py_utils.cc:38] TF-TRT Warning: Could not find TensorRT\n",
            "Collecting en-core-web-sm==3.6.0\n",
            "  Downloading https://github.com/explosion/spacy-models/releases/download/en_core_web_sm-3.6.0/en_core_web_sm-3.6.0-py3-none-any.whl (12.8 MB)\n",
            "\u001b[2K     \u001b[90m━━━━━━━━━━━━━━━━━━━━━━━━━━━━━━━━━━━━━━━━\u001b[0m \u001b[32m12.8/12.8 MB\u001b[0m \u001b[31m53.7 MB/s\u001b[0m eta \u001b[36m0:00:00\u001b[0m\n",
            "\u001b[?25hRequirement already satisfied: spacy<3.7.0,>=3.6.0 in /usr/local/lib/python3.10/dist-packages (from en-core-web-sm==3.6.0) (3.6.1)\n",
            "Requirement already satisfied: spacy-legacy<3.1.0,>=3.0.11 in /usr/local/lib/python3.10/dist-packages (from spacy<3.7.0,>=3.6.0->en-core-web-sm==3.6.0) (3.0.12)\n",
            "Requirement already satisfied: spacy-loggers<2.0.0,>=1.0.0 in /usr/local/lib/python3.10/dist-packages (from spacy<3.7.0,>=3.6.0->en-core-web-sm==3.6.0) (1.0.5)\n",
            "Requirement already satisfied: murmurhash<1.1.0,>=0.28.0 in /usr/local/lib/python3.10/dist-packages (from spacy<3.7.0,>=3.6.0->en-core-web-sm==3.6.0) (1.0.10)\n",
            "Requirement already satisfied: cymem<2.1.0,>=2.0.2 in /usr/local/lib/python3.10/dist-packages (from spacy<3.7.0,>=3.6.0->en-core-web-sm==3.6.0) (2.0.8)\n",
            "Requirement already satisfied: preshed<3.1.0,>=3.0.2 in /usr/local/lib/python3.10/dist-packages (from spacy<3.7.0,>=3.6.0->en-core-web-sm==3.6.0) (3.0.9)\n",
            "Requirement already satisfied: thinc<8.2.0,>=8.1.8 in /usr/local/lib/python3.10/dist-packages (from spacy<3.7.0,>=3.6.0->en-core-web-sm==3.6.0) (8.1.12)\n",
            "Requirement already satisfied: wasabi<1.2.0,>=0.9.1 in /usr/local/lib/python3.10/dist-packages (from spacy<3.7.0,>=3.6.0->en-core-web-sm==3.6.0) (1.1.2)\n",
            "Requirement already satisfied: srsly<3.0.0,>=2.4.3 in /usr/local/lib/python3.10/dist-packages (from spacy<3.7.0,>=3.6.0->en-core-web-sm==3.6.0) (2.4.8)\n",
            "Requirement already satisfied: catalogue<2.1.0,>=2.0.6 in /usr/local/lib/python3.10/dist-packages (from spacy<3.7.0,>=3.6.0->en-core-web-sm==3.6.0) (2.0.10)\n",
            "Requirement already satisfied: typer<0.10.0,>=0.3.0 in /usr/local/lib/python3.10/dist-packages (from spacy<3.7.0,>=3.6.0->en-core-web-sm==3.6.0) (0.9.0)\n",
            "Requirement already satisfied: pathy>=0.10.0 in /usr/local/lib/python3.10/dist-packages (from spacy<3.7.0,>=3.6.0->en-core-web-sm==3.6.0) (0.10.3)\n",
            "Requirement already satisfied: smart-open<7.0.0,>=5.2.1 in /usr/local/lib/python3.10/dist-packages (from spacy<3.7.0,>=3.6.0->en-core-web-sm==3.6.0) (6.4.0)\n",
            "Requirement already satisfied: tqdm<5.0.0,>=4.38.0 in /usr/local/lib/python3.10/dist-packages (from spacy<3.7.0,>=3.6.0->en-core-web-sm==3.6.0) (4.66.1)\n",
            "Requirement already satisfied: numpy>=1.15.0 in /usr/local/lib/python3.10/dist-packages (from spacy<3.7.0,>=3.6.0->en-core-web-sm==3.6.0) (1.23.5)\n",
            "Requirement already satisfied: requests<3.0.0,>=2.13.0 in /usr/local/lib/python3.10/dist-packages (from spacy<3.7.0,>=3.6.0->en-core-web-sm==3.6.0) (2.31.0)\n",
            "Requirement already satisfied: pydantic!=1.8,!=1.8.1,<3.0.0,>=1.7.4 in /usr/local/lib/python3.10/dist-packages (from spacy<3.7.0,>=3.6.0->en-core-web-sm==3.6.0) (1.10.13)\n",
            "Requirement already satisfied: jinja2 in /usr/local/lib/python3.10/dist-packages (from spacy<3.7.0,>=3.6.0->en-core-web-sm==3.6.0) (3.1.2)\n",
            "Requirement already satisfied: setuptools in /usr/local/lib/python3.10/dist-packages (from spacy<3.7.0,>=3.6.0->en-core-web-sm==3.6.0) (67.7.2)\n",
            "Requirement already satisfied: packaging>=20.0 in /usr/local/lib/python3.10/dist-packages (from spacy<3.7.0,>=3.6.0->en-core-web-sm==3.6.0) (23.2)\n",
            "Requirement already satisfied: langcodes<4.0.0,>=3.2.0 in /usr/local/lib/python3.10/dist-packages (from spacy<3.7.0,>=3.6.0->en-core-web-sm==3.6.0) (3.3.0)\n",
            "Requirement already satisfied: typing-extensions>=4.2.0 in /usr/local/lib/python3.10/dist-packages (from pydantic!=1.8,!=1.8.1,<3.0.0,>=1.7.4->spacy<3.7.0,>=3.6.0->en-core-web-sm==3.6.0) (4.5.0)\n",
            "Requirement already satisfied: charset-normalizer<4,>=2 in /usr/local/lib/python3.10/dist-packages (from requests<3.0.0,>=2.13.0->spacy<3.7.0,>=3.6.0->en-core-web-sm==3.6.0) (3.3.2)\n",
            "Requirement already satisfied: idna<4,>=2.5 in /usr/local/lib/python3.10/dist-packages (from requests<3.0.0,>=2.13.0->spacy<3.7.0,>=3.6.0->en-core-web-sm==3.6.0) (3.6)\n",
            "Requirement already satisfied: urllib3<3,>=1.21.1 in /usr/local/lib/python3.10/dist-packages (from requests<3.0.0,>=2.13.0->spacy<3.7.0,>=3.6.0->en-core-web-sm==3.6.0) (2.0.7)\n",
            "Requirement already satisfied: certifi>=2017.4.17 in /usr/local/lib/python3.10/dist-packages (from requests<3.0.0,>=2.13.0->spacy<3.7.0,>=3.6.0->en-core-web-sm==3.6.0) (2023.11.17)\n",
            "Requirement already satisfied: blis<0.8.0,>=0.7.8 in /usr/local/lib/python3.10/dist-packages (from thinc<8.2.0,>=8.1.8->spacy<3.7.0,>=3.6.0->en-core-web-sm==3.6.0) (0.7.11)\n",
            "Requirement already satisfied: confection<1.0.0,>=0.0.1 in /usr/local/lib/python3.10/dist-packages (from thinc<8.2.0,>=8.1.8->spacy<3.7.0,>=3.6.0->en-core-web-sm==3.6.0) (0.1.4)\n",
            "Requirement already satisfied: click<9.0.0,>=7.1.1 in /usr/local/lib/python3.10/dist-packages (from typer<0.10.0,>=0.3.0->spacy<3.7.0,>=3.6.0->en-core-web-sm==3.6.0) (8.1.7)\n",
            "Requirement already satisfied: MarkupSafe>=2.0 in /usr/local/lib/python3.10/dist-packages (from jinja2->spacy<3.7.0,>=3.6.0->en-core-web-sm==3.6.0) (2.1.3)\n",
            "\u001b[38;5;2m✔ Download and installation successful\u001b[0m\n",
            "You can now load the package via spacy.load('en_core_web_sm')\n"
          ]
        }
      ],
      "source": [
        "!pip install spacy\n",
        "!python -m spacy download en_core_web_sm"
      ]
    },
    {
      "cell_type": "code",
      "execution_count": null,
      "metadata": {
        "id": "DNSqLxzFYBpT"
      },
      "outputs": [],
      "source": [
        "import spacy\n",
        "\n",
        "# Load the English language model\n",
        "nlp = spacy.load(\"en_core_web_sm\")\n",
        "\n",
        "# Function to perform lemmatization using spaCy\n",
        "def lemmatize_with_spacy(text):\n",
        "    # Process the text using spaCy\n",
        "    doc = nlp(text)\n",
        "\n",
        "    # Extract lemmatized tokens and join them back into a string\n",
        "    lemmatized_text = \" \".join([token.lemma_ for token in doc])\n",
        "\n",
        "    return lemmatized_text\n",
        "\n",
        "# Apply the lemmatization function to your DataFrame columns\n",
        "Ctrain[\"cleanText\"] = Ctrain[\"cleanText\"].apply(lemmatize_with_spacy)\n",
        "Cval[\"cleanText\"] = Cval[\"cleanText\"].apply(lemmatize_with_spacy)\n",
        "Ctest[\"cleanText\"] = Ctest[\"cleanText\"].apply(lemmatize_with_spacy)"
      ]
    },
    {
      "cell_type": "code",
      "execution_count": null,
      "metadata": {
        "id": "jvz3PMFcYBpT",
        "colab": {
          "base_uri": "https://localhost:8080/"
        },
        "outputId": "ed4aa0fd-1c92-4a13-d877-a779cde3ccbc"
      },
      "outputs": [
        {
          "output_type": "execute_result",
          "data": {
            "text/plain": [
              "   index                                              tweet  label  \\\n",
              "0  10001  Burning native forest wood waste for electrici...      1   \n",
              "1  10002  November is here!!! \\nIt's a new chance for yo...      1   \n",
              "2  10003  Fight For Climate Justice At Queen's Park.  In...      1   \n",
              "3  10005  We all need to rise up and speak at a time lik...      1   \n",
              "4  10006  Fridays For Future Week 88🌍 \\n\\n#PeopleNotProf...      3   \n",
              "5  10007  Great turnout for Week171 #FridaysforFuture, D...      1   \n",
              "6  10008  There is no climate justice without climate fi...      1   \n",
              "7  10009  #FridaysForFuture Dublin, WEEEEEK 200!!Congrat...      1   \n",
              "8  10010  .\\nYouth #climate activists get boost from Dut...      3   \n",
              "9  10011  #ClimateCrisis #ClimateAction #GlobalWarming  ...      2   \n",
              "\n",
              "                                           cleanText  \n",
              "0  burn native forest wood waste electricity clas...  \n",
              "1  november new chance make decision contribute t...  \n",
              "2  fight climate justice queen park toronto ontar...  \n",
              "3  need rise speak time like climate justice rise...  \n",
              "4  friday future week 88 peoplenotprofit uprootth...  \n",
              "5  great turnout week171 fridaysforfuture dublin ...  \n",
              "6  climate justice without climate finance show w...  \n",
              "7  fridaysforfuture dublin weeeeek 200 congrat in...  \n",
              "8  youth climate activist get boost dutch tech bi...  \n",
              "9  climatecrisis climateaction globalwarme friday...  "
            ],
            "text/html": [
              "\n",
              "  <div id=\"df-45e9f41d-180b-43c6-aec6-414704e3e548\" class=\"colab-df-container\">\n",
              "    <div>\n",
              "<style scoped>\n",
              "    .dataframe tbody tr th:only-of-type {\n",
              "        vertical-align: middle;\n",
              "    }\n",
              "\n",
              "    .dataframe tbody tr th {\n",
              "        vertical-align: top;\n",
              "    }\n",
              "\n",
              "    .dataframe thead th {\n",
              "        text-align: right;\n",
              "    }\n",
              "</style>\n",
              "<table border=\"1\" class=\"dataframe\">\n",
              "  <thead>\n",
              "    <tr style=\"text-align: right;\">\n",
              "      <th></th>\n",
              "      <th>index</th>\n",
              "      <th>tweet</th>\n",
              "      <th>label</th>\n",
              "      <th>cleanText</th>\n",
              "    </tr>\n",
              "  </thead>\n",
              "  <tbody>\n",
              "    <tr>\n",
              "      <th>0</th>\n",
              "      <td>10001</td>\n",
              "      <td>Burning native forest wood waste for electrici...</td>\n",
              "      <td>1</td>\n",
              "      <td>burn native forest wood waste electricity clas...</td>\n",
              "    </tr>\n",
              "    <tr>\n",
              "      <th>1</th>\n",
              "      <td>10002</td>\n",
              "      <td>November is here!!! \\nIt's a new chance for yo...</td>\n",
              "      <td>1</td>\n",
              "      <td>november new chance make decision contribute t...</td>\n",
              "    </tr>\n",
              "    <tr>\n",
              "      <th>2</th>\n",
              "      <td>10003</td>\n",
              "      <td>Fight For Climate Justice At Queen's Park.  In...</td>\n",
              "      <td>1</td>\n",
              "      <td>fight climate justice queen park toronto ontar...</td>\n",
              "    </tr>\n",
              "    <tr>\n",
              "      <th>3</th>\n",
              "      <td>10005</td>\n",
              "      <td>We all need to rise up and speak at a time lik...</td>\n",
              "      <td>1</td>\n",
              "      <td>need rise speak time like climate justice rise...</td>\n",
              "    </tr>\n",
              "    <tr>\n",
              "      <th>4</th>\n",
              "      <td>10006</td>\n",
              "      <td>Fridays For Future Week 88🌍 \\n\\n#PeopleNotProf...</td>\n",
              "      <td>3</td>\n",
              "      <td>friday future week 88 peoplenotprofit uprootth...</td>\n",
              "    </tr>\n",
              "    <tr>\n",
              "      <th>5</th>\n",
              "      <td>10007</td>\n",
              "      <td>Great turnout for Week171 #FridaysforFuture, D...</td>\n",
              "      <td>1</td>\n",
              "      <td>great turnout week171 fridaysforfuture dublin ...</td>\n",
              "    </tr>\n",
              "    <tr>\n",
              "      <th>6</th>\n",
              "      <td>10008</td>\n",
              "      <td>There is no climate justice without climate fi...</td>\n",
              "      <td>1</td>\n",
              "      <td>climate justice without climate finance show w...</td>\n",
              "    </tr>\n",
              "    <tr>\n",
              "      <th>7</th>\n",
              "      <td>10009</td>\n",
              "      <td>#FridaysForFuture Dublin, WEEEEEK 200!!Congrat...</td>\n",
              "      <td>1</td>\n",
              "      <td>fridaysforfuture dublin weeeeek 200 congrat in...</td>\n",
              "    </tr>\n",
              "    <tr>\n",
              "      <th>8</th>\n",
              "      <td>10010</td>\n",
              "      <td>.\\nYouth #climate activists get boost from Dut...</td>\n",
              "      <td>3</td>\n",
              "      <td>youth climate activist get boost dutch tech bi...</td>\n",
              "    </tr>\n",
              "    <tr>\n",
              "      <th>9</th>\n",
              "      <td>10011</td>\n",
              "      <td>#ClimateCrisis #ClimateAction #GlobalWarming  ...</td>\n",
              "      <td>2</td>\n",
              "      <td>climatecrisis climateaction globalwarme friday...</td>\n",
              "    </tr>\n",
              "  </tbody>\n",
              "</table>\n",
              "</div>\n",
              "    <div class=\"colab-df-buttons\">\n",
              "\n",
              "  <div class=\"colab-df-container\">\n",
              "    <button class=\"colab-df-convert\" onclick=\"convertToInteractive('df-45e9f41d-180b-43c6-aec6-414704e3e548')\"\n",
              "            title=\"Convert this dataframe to an interactive table.\"\n",
              "            style=\"display:none;\">\n",
              "\n",
              "  <svg xmlns=\"http://www.w3.org/2000/svg\" height=\"24px\" viewBox=\"0 -960 960 960\">\n",
              "    <path d=\"M120-120v-720h720v720H120Zm60-500h600v-160H180v160Zm220 220h160v-160H400v160Zm0 220h160v-160H400v160ZM180-400h160v-160H180v160Zm440 0h160v-160H620v160ZM180-180h160v-160H180v160Zm440 0h160v-160H620v160Z\"/>\n",
              "  </svg>\n",
              "    </button>\n",
              "\n",
              "  <style>\n",
              "    .colab-df-container {\n",
              "      display:flex;\n",
              "      gap: 12px;\n",
              "    }\n",
              "\n",
              "    .colab-df-convert {\n",
              "      background-color: #E8F0FE;\n",
              "      border: none;\n",
              "      border-radius: 50%;\n",
              "      cursor: pointer;\n",
              "      display: none;\n",
              "      fill: #1967D2;\n",
              "      height: 32px;\n",
              "      padding: 0 0 0 0;\n",
              "      width: 32px;\n",
              "    }\n",
              "\n",
              "    .colab-df-convert:hover {\n",
              "      background-color: #E2EBFA;\n",
              "      box-shadow: 0px 1px 2px rgba(60, 64, 67, 0.3), 0px 1px 3px 1px rgba(60, 64, 67, 0.15);\n",
              "      fill: #174EA6;\n",
              "    }\n",
              "\n",
              "    .colab-df-buttons div {\n",
              "      margin-bottom: 4px;\n",
              "    }\n",
              "\n",
              "    [theme=dark] .colab-df-convert {\n",
              "      background-color: #3B4455;\n",
              "      fill: #D2E3FC;\n",
              "    }\n",
              "\n",
              "    [theme=dark] .colab-df-convert:hover {\n",
              "      background-color: #434B5C;\n",
              "      box-shadow: 0px 1px 3px 1px rgba(0, 0, 0, 0.15);\n",
              "      filter: drop-shadow(0px 1px 2px rgba(0, 0, 0, 0.3));\n",
              "      fill: #FFFFFF;\n",
              "    }\n",
              "  </style>\n",
              "\n",
              "    <script>\n",
              "      const buttonEl =\n",
              "        document.querySelector('#df-45e9f41d-180b-43c6-aec6-414704e3e548 button.colab-df-convert');\n",
              "      buttonEl.style.display =\n",
              "        google.colab.kernel.accessAllowed ? 'block' : 'none';\n",
              "\n",
              "      async function convertToInteractive(key) {\n",
              "        const element = document.querySelector('#df-45e9f41d-180b-43c6-aec6-414704e3e548');\n",
              "        const dataTable =\n",
              "          await google.colab.kernel.invokeFunction('convertToInteractive',\n",
              "                                                    [key], {});\n",
              "        if (!dataTable) return;\n",
              "\n",
              "        const docLinkHtml = 'Like what you see? Visit the ' +\n",
              "          '<a target=\"_blank\" href=https://colab.research.google.com/notebooks/data_table.ipynb>data table notebook</a>'\n",
              "          + ' to learn more about interactive tables.';\n",
              "        element.innerHTML = '';\n",
              "        dataTable['output_type'] = 'display_data';\n",
              "        await google.colab.output.renderOutput(dataTable, element);\n",
              "        const docLink = document.createElement('div');\n",
              "        docLink.innerHTML = docLinkHtml;\n",
              "        element.appendChild(docLink);\n",
              "      }\n",
              "    </script>\n",
              "  </div>\n",
              "\n",
              "\n",
              "<div id=\"df-c2c1a726-2013-4664-b238-f9391b93e4f6\">\n",
              "  <button class=\"colab-df-quickchart\" onclick=\"quickchart('df-c2c1a726-2013-4664-b238-f9391b93e4f6')\"\n",
              "            title=\"Suggest charts\"\n",
              "            style=\"display:none;\">\n",
              "\n",
              "<svg xmlns=\"http://www.w3.org/2000/svg\" height=\"24px\"viewBox=\"0 0 24 24\"\n",
              "     width=\"24px\">\n",
              "    <g>\n",
              "        <path d=\"M19 3H5c-1.1 0-2 .9-2 2v14c0 1.1.9 2 2 2h14c1.1 0 2-.9 2-2V5c0-1.1-.9-2-2-2zM9 17H7v-7h2v7zm4 0h-2V7h2v10zm4 0h-2v-4h2v4z\"/>\n",
              "    </g>\n",
              "</svg>\n",
              "  </button>\n",
              "\n",
              "<style>\n",
              "  .colab-df-quickchart {\n",
              "      --bg-color: #E8F0FE;\n",
              "      --fill-color: #1967D2;\n",
              "      --hover-bg-color: #E2EBFA;\n",
              "      --hover-fill-color: #174EA6;\n",
              "      --disabled-fill-color: #AAA;\n",
              "      --disabled-bg-color: #DDD;\n",
              "  }\n",
              "\n",
              "  [theme=dark] .colab-df-quickchart {\n",
              "      --bg-color: #3B4455;\n",
              "      --fill-color: #D2E3FC;\n",
              "      --hover-bg-color: #434B5C;\n",
              "      --hover-fill-color: #FFFFFF;\n",
              "      --disabled-bg-color: #3B4455;\n",
              "      --disabled-fill-color: #666;\n",
              "  }\n",
              "\n",
              "  .colab-df-quickchart {\n",
              "    background-color: var(--bg-color);\n",
              "    border: none;\n",
              "    border-radius: 50%;\n",
              "    cursor: pointer;\n",
              "    display: none;\n",
              "    fill: var(--fill-color);\n",
              "    height: 32px;\n",
              "    padding: 0;\n",
              "    width: 32px;\n",
              "  }\n",
              "\n",
              "  .colab-df-quickchart:hover {\n",
              "    background-color: var(--hover-bg-color);\n",
              "    box-shadow: 0 1px 2px rgba(60, 64, 67, 0.3), 0 1px 3px 1px rgba(60, 64, 67, 0.15);\n",
              "    fill: var(--button-hover-fill-color);\n",
              "  }\n",
              "\n",
              "  .colab-df-quickchart-complete:disabled,\n",
              "  .colab-df-quickchart-complete:disabled:hover {\n",
              "    background-color: var(--disabled-bg-color);\n",
              "    fill: var(--disabled-fill-color);\n",
              "    box-shadow: none;\n",
              "  }\n",
              "\n",
              "  .colab-df-spinner {\n",
              "    border: 2px solid var(--fill-color);\n",
              "    border-color: transparent;\n",
              "    border-bottom-color: var(--fill-color);\n",
              "    animation:\n",
              "      spin 1s steps(1) infinite;\n",
              "  }\n",
              "\n",
              "  @keyframes spin {\n",
              "    0% {\n",
              "      border-color: transparent;\n",
              "      border-bottom-color: var(--fill-color);\n",
              "      border-left-color: var(--fill-color);\n",
              "    }\n",
              "    20% {\n",
              "      border-color: transparent;\n",
              "      border-left-color: var(--fill-color);\n",
              "      border-top-color: var(--fill-color);\n",
              "    }\n",
              "    30% {\n",
              "      border-color: transparent;\n",
              "      border-left-color: var(--fill-color);\n",
              "      border-top-color: var(--fill-color);\n",
              "      border-right-color: var(--fill-color);\n",
              "    }\n",
              "    40% {\n",
              "      border-color: transparent;\n",
              "      border-right-color: var(--fill-color);\n",
              "      border-top-color: var(--fill-color);\n",
              "    }\n",
              "    60% {\n",
              "      border-color: transparent;\n",
              "      border-right-color: var(--fill-color);\n",
              "    }\n",
              "    80% {\n",
              "      border-color: transparent;\n",
              "      border-right-color: var(--fill-color);\n",
              "      border-bottom-color: var(--fill-color);\n",
              "    }\n",
              "    90% {\n",
              "      border-color: transparent;\n",
              "      border-bottom-color: var(--fill-color);\n",
              "    }\n",
              "  }\n",
              "</style>\n",
              "\n",
              "  <script>\n",
              "    async function quickchart(key) {\n",
              "      const quickchartButtonEl =\n",
              "        document.querySelector('#' + key + ' button');\n",
              "      quickchartButtonEl.disabled = true;  // To prevent multiple clicks.\n",
              "      quickchartButtonEl.classList.add('colab-df-spinner');\n",
              "      try {\n",
              "        const charts = await google.colab.kernel.invokeFunction(\n",
              "            'suggestCharts', [key], {});\n",
              "      } catch (error) {\n",
              "        console.error('Error during call to suggestCharts:', error);\n",
              "      }\n",
              "      quickchartButtonEl.classList.remove('colab-df-spinner');\n",
              "      quickchartButtonEl.classList.add('colab-df-quickchart-complete');\n",
              "    }\n",
              "    (() => {\n",
              "      let quickchartButtonEl =\n",
              "        document.querySelector('#df-c2c1a726-2013-4664-b238-f9391b93e4f6 button');\n",
              "      quickchartButtonEl.style.display =\n",
              "        google.colab.kernel.accessAllowed ? 'block' : 'none';\n",
              "    })();\n",
              "  </script>\n",
              "</div>\n",
              "\n",
              "    </div>\n",
              "  </div>\n"
            ]
          },
          "metadata": {},
          "execution_count": 25
        }
      ],
      "source": [
        "Ctrain.head(10)"
      ]
    },
    {
      "cell_type": "code",
      "execution_count": null,
      "metadata": {
        "id": "T5nJO6CgYBpT",
        "colab": {
          "base_uri": "https://localhost:8080/"
        },
        "outputId": "94663033-f845-4452-e168-a32ef63dc73a"
      },
      "outputs": [
        {
          "output_type": "execute_result",
          "data": {
            "text/plain": [
              "   index                                              tweet  label  \\\n",
              "0  10023  #FridaysForFuture\\n\\n#COP27 #Live Today\\n#Clim...      3   \n",
              "1  10042  Do we really have an average of 6-7 years to c...      1   \n",
              "2  10044  today it's #climatestrike Again&amp;Again #Unt...      3   \n",
              "3  10067  Join the Global #ClimateStrike on September 23...      1   \n",
              "4  10083  Happy #EarthDay! Prioritize Life!\\n\\nReduce #F...      1   \n",
              "5  10098  We shouldn’t be putting all of our electricity...      1   \n",
              "6  10104  Tomorrow is the day! All over the planet peopl...      1   \n",
              "7  10107  Marine life face mass extinction due to climat...      1   \n",
              "8  10109  #ClimateStrike Week 38\\nWe want #ClimateAction...      3   \n",
              "9  10121  notiammex: RT @DanielBlasing: #ClimateStrike W...      3   \n",
              "\n",
              "                                           cleanText  \n",
              "0    fridaysforfuture cop27 live today climateaction  \n",
              "1  really average 6 7 year curb tackle halt clima...  \n",
              "2  today climatestrike untilwearedone fridaysforf...  \n",
              "3  join global climatestrike september 23rd deman...  \n",
              "4  happy earthday prioritize life reduce fossilfu...  \n",
              "5  put electricity egg grid basket especially one...  \n",
              "6  tomorrow day planet people strike march protes...  \n",
              "7  marine life face mass extinction due climate c...  \n",
              "8  climatestrike week 38 want climateactionnow st...  \n",
              "9  notiammex rt danielblase climatestrike week 29...  "
            ],
            "text/html": [
              "\n",
              "  <div id=\"df-d57ec694-2413-46e6-a9d0-e1b4a76570c3\" class=\"colab-df-container\">\n",
              "    <div>\n",
              "<style scoped>\n",
              "    .dataframe tbody tr th:only-of-type {\n",
              "        vertical-align: middle;\n",
              "    }\n",
              "\n",
              "    .dataframe tbody tr th {\n",
              "        vertical-align: top;\n",
              "    }\n",
              "\n",
              "    .dataframe thead th {\n",
              "        text-align: right;\n",
              "    }\n",
              "</style>\n",
              "<table border=\"1\" class=\"dataframe\">\n",
              "  <thead>\n",
              "    <tr style=\"text-align: right;\">\n",
              "      <th></th>\n",
              "      <th>index</th>\n",
              "      <th>tweet</th>\n",
              "      <th>label</th>\n",
              "      <th>cleanText</th>\n",
              "    </tr>\n",
              "  </thead>\n",
              "  <tbody>\n",
              "    <tr>\n",
              "      <th>0</th>\n",
              "      <td>10023</td>\n",
              "      <td>#FridaysForFuture\\n\\n#COP27 #Live Today\\n#Clim...</td>\n",
              "      <td>3</td>\n",
              "      <td>fridaysforfuture cop27 live today climateaction</td>\n",
              "    </tr>\n",
              "    <tr>\n",
              "      <th>1</th>\n",
              "      <td>10042</td>\n",
              "      <td>Do we really have an average of 6-7 years to c...</td>\n",
              "      <td>1</td>\n",
              "      <td>really average 6 7 year curb tackle halt clima...</td>\n",
              "    </tr>\n",
              "    <tr>\n",
              "      <th>2</th>\n",
              "      <td>10044</td>\n",
              "      <td>today it's #climatestrike Again&amp;amp;Again #Unt...</td>\n",
              "      <td>3</td>\n",
              "      <td>today climatestrike untilwearedone fridaysforf...</td>\n",
              "    </tr>\n",
              "    <tr>\n",
              "      <th>3</th>\n",
              "      <td>10067</td>\n",
              "      <td>Join the Global #ClimateStrike on September 23...</td>\n",
              "      <td>1</td>\n",
              "      <td>join global climatestrike september 23rd deman...</td>\n",
              "    </tr>\n",
              "    <tr>\n",
              "      <th>4</th>\n",
              "      <td>10083</td>\n",
              "      <td>Happy #EarthDay! Prioritize Life!\\n\\nReduce #F...</td>\n",
              "      <td>1</td>\n",
              "      <td>happy earthday prioritize life reduce fossilfu...</td>\n",
              "    </tr>\n",
              "    <tr>\n",
              "      <th>5</th>\n",
              "      <td>10098</td>\n",
              "      <td>We shouldn’t be putting all of our electricity...</td>\n",
              "      <td>1</td>\n",
              "      <td>put electricity egg grid basket especially one...</td>\n",
              "    </tr>\n",
              "    <tr>\n",
              "      <th>6</th>\n",
              "      <td>10104</td>\n",
              "      <td>Tomorrow is the day! All over the planet peopl...</td>\n",
              "      <td>1</td>\n",
              "      <td>tomorrow day planet people strike march protes...</td>\n",
              "    </tr>\n",
              "    <tr>\n",
              "      <th>7</th>\n",
              "      <td>10107</td>\n",
              "      <td>Marine life face mass extinction due to climat...</td>\n",
              "      <td>1</td>\n",
              "      <td>marine life face mass extinction due climate c...</td>\n",
              "    </tr>\n",
              "    <tr>\n",
              "      <th>8</th>\n",
              "      <td>10109</td>\n",
              "      <td>#ClimateStrike Week 38\\nWe want #ClimateAction...</td>\n",
              "      <td>3</td>\n",
              "      <td>climatestrike week 38 want climateactionnow st...</td>\n",
              "    </tr>\n",
              "    <tr>\n",
              "      <th>9</th>\n",
              "      <td>10121</td>\n",
              "      <td>notiammex: RT @DanielBlasing: #ClimateStrike W...</td>\n",
              "      <td>3</td>\n",
              "      <td>notiammex rt danielblase climatestrike week 29...</td>\n",
              "    </tr>\n",
              "  </tbody>\n",
              "</table>\n",
              "</div>\n",
              "    <div class=\"colab-df-buttons\">\n",
              "\n",
              "  <div class=\"colab-df-container\">\n",
              "    <button class=\"colab-df-convert\" onclick=\"convertToInteractive('df-d57ec694-2413-46e6-a9d0-e1b4a76570c3')\"\n",
              "            title=\"Convert this dataframe to an interactive table.\"\n",
              "            style=\"display:none;\">\n",
              "\n",
              "  <svg xmlns=\"http://www.w3.org/2000/svg\" height=\"24px\" viewBox=\"0 -960 960 960\">\n",
              "    <path d=\"M120-120v-720h720v720H120Zm60-500h600v-160H180v160Zm220 220h160v-160H400v160Zm0 220h160v-160H400v160ZM180-400h160v-160H180v160Zm440 0h160v-160H620v160ZM180-180h160v-160H180v160Zm440 0h160v-160H620v160Z\"/>\n",
              "  </svg>\n",
              "    </button>\n",
              "\n",
              "  <style>\n",
              "    .colab-df-container {\n",
              "      display:flex;\n",
              "      gap: 12px;\n",
              "    }\n",
              "\n",
              "    .colab-df-convert {\n",
              "      background-color: #E8F0FE;\n",
              "      border: none;\n",
              "      border-radius: 50%;\n",
              "      cursor: pointer;\n",
              "      display: none;\n",
              "      fill: #1967D2;\n",
              "      height: 32px;\n",
              "      padding: 0 0 0 0;\n",
              "      width: 32px;\n",
              "    }\n",
              "\n",
              "    .colab-df-convert:hover {\n",
              "      background-color: #E2EBFA;\n",
              "      box-shadow: 0px 1px 2px rgba(60, 64, 67, 0.3), 0px 1px 3px 1px rgba(60, 64, 67, 0.15);\n",
              "      fill: #174EA6;\n",
              "    }\n",
              "\n",
              "    .colab-df-buttons div {\n",
              "      margin-bottom: 4px;\n",
              "    }\n",
              "\n",
              "    [theme=dark] .colab-df-convert {\n",
              "      background-color: #3B4455;\n",
              "      fill: #D2E3FC;\n",
              "    }\n",
              "\n",
              "    [theme=dark] .colab-df-convert:hover {\n",
              "      background-color: #434B5C;\n",
              "      box-shadow: 0px 1px 3px 1px rgba(0, 0, 0, 0.15);\n",
              "      filter: drop-shadow(0px 1px 2px rgba(0, 0, 0, 0.3));\n",
              "      fill: #FFFFFF;\n",
              "    }\n",
              "  </style>\n",
              "\n",
              "    <script>\n",
              "      const buttonEl =\n",
              "        document.querySelector('#df-d57ec694-2413-46e6-a9d0-e1b4a76570c3 button.colab-df-convert');\n",
              "      buttonEl.style.display =\n",
              "        google.colab.kernel.accessAllowed ? 'block' : 'none';\n",
              "\n",
              "      async function convertToInteractive(key) {\n",
              "        const element = document.querySelector('#df-d57ec694-2413-46e6-a9d0-e1b4a76570c3');\n",
              "        const dataTable =\n",
              "          await google.colab.kernel.invokeFunction('convertToInteractive',\n",
              "                                                    [key], {});\n",
              "        if (!dataTable) return;\n",
              "\n",
              "        const docLinkHtml = 'Like what you see? Visit the ' +\n",
              "          '<a target=\"_blank\" href=https://colab.research.google.com/notebooks/data_table.ipynb>data table notebook</a>'\n",
              "          + ' to learn more about interactive tables.';\n",
              "        element.innerHTML = '';\n",
              "        dataTable['output_type'] = 'display_data';\n",
              "        await google.colab.output.renderOutput(dataTable, element);\n",
              "        const docLink = document.createElement('div');\n",
              "        docLink.innerHTML = docLinkHtml;\n",
              "        element.appendChild(docLink);\n",
              "      }\n",
              "    </script>\n",
              "  </div>\n",
              "\n",
              "\n",
              "<div id=\"df-3d9b5474-2dd2-4810-8197-4b196f7152cc\">\n",
              "  <button class=\"colab-df-quickchart\" onclick=\"quickchart('df-3d9b5474-2dd2-4810-8197-4b196f7152cc')\"\n",
              "            title=\"Suggest charts\"\n",
              "            style=\"display:none;\">\n",
              "\n",
              "<svg xmlns=\"http://www.w3.org/2000/svg\" height=\"24px\"viewBox=\"0 0 24 24\"\n",
              "     width=\"24px\">\n",
              "    <g>\n",
              "        <path d=\"M19 3H5c-1.1 0-2 .9-2 2v14c0 1.1.9 2 2 2h14c1.1 0 2-.9 2-2V5c0-1.1-.9-2-2-2zM9 17H7v-7h2v7zm4 0h-2V7h2v10zm4 0h-2v-4h2v4z\"/>\n",
              "    </g>\n",
              "</svg>\n",
              "  </button>\n",
              "\n",
              "<style>\n",
              "  .colab-df-quickchart {\n",
              "      --bg-color: #E8F0FE;\n",
              "      --fill-color: #1967D2;\n",
              "      --hover-bg-color: #E2EBFA;\n",
              "      --hover-fill-color: #174EA6;\n",
              "      --disabled-fill-color: #AAA;\n",
              "      --disabled-bg-color: #DDD;\n",
              "  }\n",
              "\n",
              "  [theme=dark] .colab-df-quickchart {\n",
              "      --bg-color: #3B4455;\n",
              "      --fill-color: #D2E3FC;\n",
              "      --hover-bg-color: #434B5C;\n",
              "      --hover-fill-color: #FFFFFF;\n",
              "      --disabled-bg-color: #3B4455;\n",
              "      --disabled-fill-color: #666;\n",
              "  }\n",
              "\n",
              "  .colab-df-quickchart {\n",
              "    background-color: var(--bg-color);\n",
              "    border: none;\n",
              "    border-radius: 50%;\n",
              "    cursor: pointer;\n",
              "    display: none;\n",
              "    fill: var(--fill-color);\n",
              "    height: 32px;\n",
              "    padding: 0;\n",
              "    width: 32px;\n",
              "  }\n",
              "\n",
              "  .colab-df-quickchart:hover {\n",
              "    background-color: var(--hover-bg-color);\n",
              "    box-shadow: 0 1px 2px rgba(60, 64, 67, 0.3), 0 1px 3px 1px rgba(60, 64, 67, 0.15);\n",
              "    fill: var(--button-hover-fill-color);\n",
              "  }\n",
              "\n",
              "  .colab-df-quickchart-complete:disabled,\n",
              "  .colab-df-quickchart-complete:disabled:hover {\n",
              "    background-color: var(--disabled-bg-color);\n",
              "    fill: var(--disabled-fill-color);\n",
              "    box-shadow: none;\n",
              "  }\n",
              "\n",
              "  .colab-df-spinner {\n",
              "    border: 2px solid var(--fill-color);\n",
              "    border-color: transparent;\n",
              "    border-bottom-color: var(--fill-color);\n",
              "    animation:\n",
              "      spin 1s steps(1) infinite;\n",
              "  }\n",
              "\n",
              "  @keyframes spin {\n",
              "    0% {\n",
              "      border-color: transparent;\n",
              "      border-bottom-color: var(--fill-color);\n",
              "      border-left-color: var(--fill-color);\n",
              "    }\n",
              "    20% {\n",
              "      border-color: transparent;\n",
              "      border-left-color: var(--fill-color);\n",
              "      border-top-color: var(--fill-color);\n",
              "    }\n",
              "    30% {\n",
              "      border-color: transparent;\n",
              "      border-left-color: var(--fill-color);\n",
              "      border-top-color: var(--fill-color);\n",
              "      border-right-color: var(--fill-color);\n",
              "    }\n",
              "    40% {\n",
              "      border-color: transparent;\n",
              "      border-right-color: var(--fill-color);\n",
              "      border-top-color: var(--fill-color);\n",
              "    }\n",
              "    60% {\n",
              "      border-color: transparent;\n",
              "      border-right-color: var(--fill-color);\n",
              "    }\n",
              "    80% {\n",
              "      border-color: transparent;\n",
              "      border-right-color: var(--fill-color);\n",
              "      border-bottom-color: var(--fill-color);\n",
              "    }\n",
              "    90% {\n",
              "      border-color: transparent;\n",
              "      border-bottom-color: var(--fill-color);\n",
              "    }\n",
              "  }\n",
              "</style>\n",
              "\n",
              "  <script>\n",
              "    async function quickchart(key) {\n",
              "      const quickchartButtonEl =\n",
              "        document.querySelector('#' + key + ' button');\n",
              "      quickchartButtonEl.disabled = true;  // To prevent multiple clicks.\n",
              "      quickchartButtonEl.classList.add('colab-df-spinner');\n",
              "      try {\n",
              "        const charts = await google.colab.kernel.invokeFunction(\n",
              "            'suggestCharts', [key], {});\n",
              "      } catch (error) {\n",
              "        console.error('Error during call to suggestCharts:', error);\n",
              "      }\n",
              "      quickchartButtonEl.classList.remove('colab-df-spinner');\n",
              "      quickchartButtonEl.classList.add('colab-df-quickchart-complete');\n",
              "    }\n",
              "    (() => {\n",
              "      let quickchartButtonEl =\n",
              "        document.querySelector('#df-3d9b5474-2dd2-4810-8197-4b196f7152cc button');\n",
              "      quickchartButtonEl.style.display =\n",
              "        google.colab.kernel.accessAllowed ? 'block' : 'none';\n",
              "    })();\n",
              "  </script>\n",
              "</div>\n",
              "\n",
              "    </div>\n",
              "  </div>\n"
            ]
          },
          "metadata": {},
          "execution_count": 26
        }
      ],
      "source": [
        "Cval.head(10)"
      ]
    },
    {
      "cell_type": "markdown",
      "metadata": {
        "id": "zdSqmUkvYBpk"
      },
      "source": [
        "# Remove Duplicate Samples"
      ]
    },
    {
      "cell_type": "code",
      "execution_count": null,
      "metadata": {
        "id": "o8pV8omEYBpk",
        "colab": {
          "base_uri": "https://localhost:8080/"
        },
        "outputId": "797002b4-94d5-4011-bbd3-ea068c02a361"
      },
      "outputs": [
        {
          "output_type": "stream",
          "name": "stdout",
          "text": [
            "[]\n",
            "\n",
            "[('fridaysforfuture', 4369), ('climate', 1996), ('climatestrike', 1072), ('climatecrisis', 892), ('strike', 874), ('climateaction', 763), ('week', 707), ('peoplenotprofit', 702), ('gretathunberg', 600), ('change', 510), ('climateemergency', 483), ('action', 467), ('people', 447), ('need', 429), ('global', 412), ('future', 404), ('join', 391), ('climatechange', 389), ('we', 377), ('world', 374)]\n"
          ]
        }
      ],
      "source": [
        "from collections import Counter\n",
        "import nltk\n",
        "from nltk.tokenize import word_tokenize\n",
        "from nltk.corpus import stopwords\n",
        "\n",
        "# Assuming Btrain['tweet'] and Btrain['label'] are your tweet and label columns\n",
        "class_1_tweets = Ctrain[Ctrain['label'] == 0]['cleanText']\n",
        "class_2_tweets = Ctrain[Ctrain['label'] == 1]['cleanText']\n",
        "\n",
        "# Tokenize the tweets\n",
        "class_1_tokens = [token.lower() for tweet in class_1_tweets for token in word_tokenize(tweet)]\n",
        "class_2_tokens = [token.lower() for tweet in class_2_tweets for token in word_tokenize(tweet)]\n",
        "\n",
        "\n",
        "# Count the frequency of each token\n",
        "counter_class_1 = Counter(class_1_tokens)\n",
        "counter_class_2 = Counter(class_2_tokens)\n",
        "print(counter_class_1.most_common(20))\n",
        "print()\n",
        "print(counter_class_2.most_common(20))\n",
        "# Find the top 100 common tokens\n",
        "common_tokens = set(counter_class_1.most_common(50)).intersection(counter_class_2.most_common(50))\n",
        "\n",
        "# Print common tokens and their frequencies\n",
        "for token, freq in common_tokens:\n",
        "    print(f\"Token: {token}, Class 1 Frequency: {counter_class_1[token]}, Class 2 Frequency: {counter_class_2[token]}\")\n",
        "\n"
      ]
    },
    {
      "cell_type": "code",
      "execution_count": null,
      "metadata": {
        "id": "-FzBCx40YBpl"
      },
      "outputs": [],
      "source": [
        "# words_to_remove = [, 'climate', 'climBtestrike', 'climatecrisis', 'strike',\n",
        "#                    'peoplenotprofit', 'climBtestrike', 'climateaction', 'climatecrisis',\n",
        "#                    'extinctionrebellion', 'climatechange', 'thunberg', 'greta',\n",
        "#                    'gretathunberg', 'climateemergency', 'climatejustice',\n",
        "#                    'climateactionnow', 'renewable', 'crisis', 'change', 'action']\n",
        "\n",
        "# words_to_remove = ['fridaysforfuture']\n",
        "\n",
        "# def remove_specific_words(text):\n",
        "#     for word in words_to_remove:\n",
        "#         text = text.replace(word, '')\n",
        "#     return text\n",
        "\n",
        "# Btrain['cleanText'] = Btrain['cleanText'].apply(remove_specific_words)\n",
        "\n",
        "# Bval['cleanText'] = Bval['cleanText'].apply(remove_specific_words)\n",
        "\n",
        "# Btest['cleanText'] = Btest['cleanText'].apply(remove_specific_words)\n"
      ]
    },
    {
      "cell_type": "code",
      "execution_count": null,
      "metadata": {
        "id": "aN0FgBIkfQYH",
        "colab": {
          "base_uri": "https://localhost:8080/"
        },
        "outputId": "31301921-242c-410d-e1ae-7855eddd9b99"
      },
      "outputs": [
        {
          "output_type": "stream",
          "name": "stdout",
          "text": [
            "Label 2: 488 occurrences\n",
            "Label 1: 1 occurrences\n"
          ]
        }
      ],
      "source": [
        "# Text to search\n",
        "search_text = \"fool greta thunberg\"\n",
        "\n",
        "# Initialize a dictionary to store label-wise frequencies\n",
        "label_frequencies = {}\n",
        "\n",
        "# Iterate over each row in Btrain\n",
        "for index, row in Ctrain.iterrows():\n",
        "    label = row['label']\n",
        "    tweet_text = row['cleanText']\n",
        "\n",
        "    # Check if the search text is present in the tweet text\n",
        "    if search_text in tweet_text:\n",
        "        # Increment the count for the label\n",
        "        label_frequencies[label] = label_frequencies.get(label, 0) + 1\n",
        "\n",
        "# Display the label-wise frequencies\n",
        "for label, frequency in label_frequencies.items():\n",
        "    print(f\"Label {label}: {frequency} occurrences\")\n"
      ]
    },
    {
      "cell_type": "code",
      "execution_count": null,
      "metadata": {
        "id": "6_5skT7Qfwdq"
      },
      "outputs": [],
      "source": [
        "# for text in Btrain[(Btrain['cleanText'].str.contains('greta thunberg')) & (Btrain['label'] == 3)]['cleanText']:\n",
        "#     print(text)"
      ]
    },
    {
      "cell_type": "code",
      "execution_count": null,
      "metadata": {
        "id": "CeYvvmHsfwdq"
      },
      "outputs": [],
      "source": [
        "import pandas as pd\n",
        "\n",
        "# Assuming Atrain['cleanText'] is the column containing the text\n",
        "\n",
        "# Keep just one row containing that text\n",
        "one_row = Ctrain[Ctrain['cleanText'].str.contains(\"fool greta thunberg\")].head(1)\n",
        "\n",
        "\n",
        "# Drop rows containing the specified text\n",
        "Ctrain = Ctrain[~Ctrain['cleanText'].str.contains(\"fool greta thunberg\")]\n",
        "\n",
        "\n",
        "# Concatenate the one_row with the original DataFrame\n",
        "Ctrain = pd.concat([Ctrain, one_row], ignore_index=True)"
      ]
    },
    {
      "cell_type": "code",
      "execution_count": null,
      "metadata": {
        "id": "Lu_8as_kFmB9",
        "colab": {
          "base_uri": "https://localhost:8080/"
        },
        "outputId": "9ff4c532-1b76-4cc9-8b6e-1dd46e376673"
      },
      "outputs": [
        {
          "output_type": "execute_result",
          "data": {
            "text/plain": [
              "(594, 4)"
            ]
          },
          "metadata": {},
          "execution_count": 32
        }
      ],
      "source": [
        "# Assuming Btrain is your DataFrame\n",
        "duplicate_rows = Ctrain[Ctrain.duplicated('cleanText', keep=False)]\n",
        "\n",
        "# Display the duplicate rows\n",
        "duplicate_rows.shape\n"
      ]
    },
    {
      "cell_type": "code",
      "execution_count": null,
      "metadata": {
        "id": "SaenHXlqGOLt"
      },
      "outputs": [],
      "source": [
        "# Assuming Btrain is your DataFrame\n",
        "Ctrain.drop_duplicates(subset='cleanText', keep='first', inplace=True)"
      ]
    },
    {
      "cell_type": "code",
      "execution_count": null,
      "metadata": {
        "id": "DEa975J0Gchl",
        "colab": {
          "base_uri": "https://localhost:8080/"
        },
        "outputId": "34e13de5-1183-445e-eefb-6a561a189e4d"
      },
      "outputs": [
        {
          "output_type": "execute_result",
          "data": {
            "text/plain": [
              "1    4105\n",
              "3    2115\n",
              "2     190\n",
              "Name: label, dtype: int64"
            ]
          },
          "metadata": {},
          "execution_count": 34
        }
      ],
      "source": [
        "Ctrain['label'].value_counts()"
      ]
    },
    {
      "cell_type": "markdown",
      "source": [
        "# Over Sampling"
      ],
      "metadata": {
        "id": "ahvw6AKhNWeS"
      }
    },
    {
      "cell_type": "code",
      "source": [
        "!pip install -U imbalanced-learn"
      ],
      "metadata": {
        "id": "CM2cBK7w-yqB",
        "colab": {
          "base_uri": "https://localhost:8080/"
        },
        "outputId": "c02ece07-d96c-4c84-d93a-681494f544bf"
      },
      "execution_count": null,
      "outputs": [
        {
          "output_type": "stream",
          "name": "stdout",
          "text": [
            "Requirement already satisfied: imbalanced-learn in /usr/local/lib/python3.10/dist-packages (0.10.1)\n",
            "Collecting imbalanced-learn\n",
            "  Downloading imbalanced_learn-0.11.0-py3-none-any.whl (235 kB)\n",
            "\u001b[2K     \u001b[90m━━━━━━━━━━━━━━━━━━━━━━━━━━━━━━━━━━━━━━━━\u001b[0m \u001b[32m235.6/235.6 kB\u001b[0m \u001b[31m5.2 MB/s\u001b[0m eta \u001b[36m0:00:00\u001b[0m\n",
            "\u001b[?25hRequirement already satisfied: numpy>=1.17.3 in /usr/local/lib/python3.10/dist-packages (from imbalanced-learn) (1.23.5)\n",
            "Requirement already satisfied: scipy>=1.5.0 in /usr/local/lib/python3.10/dist-packages (from imbalanced-learn) (1.11.4)\n",
            "Requirement already satisfied: scikit-learn>=1.0.2 in /usr/local/lib/python3.10/dist-packages (from imbalanced-learn) (1.2.2)\n",
            "Requirement already satisfied: joblib>=1.1.1 in /usr/local/lib/python3.10/dist-packages (from imbalanced-learn) (1.3.2)\n",
            "Requirement already satisfied: threadpoolctl>=2.0.0 in /usr/local/lib/python3.10/dist-packages (from imbalanced-learn) (3.2.0)\n",
            "Installing collected packages: imbalanced-learn\n",
            "  Attempting uninstall: imbalanced-learn\n",
            "    Found existing installation: imbalanced-learn 0.10.1\n",
            "    Uninstalling imbalanced-learn-0.10.1:\n",
            "      Successfully uninstalled imbalanced-learn-0.10.1\n",
            "Successfully installed imbalanced-learn-0.11.0\n"
          ]
        }
      ]
    },
    {
      "cell_type": "code",
      "source": [
        "import numpy as np\n",
        "import pandas as pd\n",
        "from imblearn.over_sampling import RandomOverSampler\n",
        "from collections import Counter\n",
        "\n",
        "# Assuming you have a DataFrame Ctrain with 'cleanText' and 'label' columns\n",
        "# Replace this with your actual data\n",
        "\n",
        "# Sample data (replace this with your actual data)\n",
        "\n",
        "\n",
        "# Print the class distribution before oversampling\n",
        "print(\"Class distribution before oversampling:\", Counter(Ctrain['label']))\n",
        "\n",
        "# Set target counts for oversampling\n",
        "target_count_class2 = 2000\n",
        "target_count_class3 = 4000\n",
        "\n",
        "# Reshape the input data\n",
        "X = np.array(Ctrain['cleanText']).reshape(-1, 1)\n",
        "y = np.array(Ctrain['label'])\n",
        "\n",
        "# Create the RandomOverSampler\n",
        "oversampler = RandomOverSampler(sampling_strategy={2: target_count_class2, 3: target_count_class3}, random_state=42)\n",
        "\n",
        "# Fit and apply the oversampler to the data\n",
        "X_train_over, y_train_over = oversampler.fit_resample(X, y)\n",
        "\n",
        "\n",
        "Ctrain_over = pd.DataFrame({})\n",
        "# Update the DataFrame with resampled data\n",
        "Ctrain_over['cleanText'] = X_train_over.flatten()\n",
        "Ctrain_over['label'] = y_train_over\n",
        "\n",
        "# Print the class distribution after oversampling\n",
        "print(\"Class distribution after oversampling:\", Counter(Ctrain_over['label']))"
      ],
      "metadata": {
        "id": "ot-oC95k-8fJ",
        "colab": {
          "base_uri": "https://localhost:8080/"
        },
        "outputId": "f67225ae-db78-478d-bff1-8a02194b9a24"
      },
      "execution_count": null,
      "outputs": [
        {
          "output_type": "stream",
          "name": "stdout",
          "text": [
            "Class distribution before oversampling: Counter({1: 4105, 3: 2115, 2: 190})\n",
            "Class distribution after oversampling: Counter({1: 4105, 3: 4000, 2: 2000})\n"
          ]
        }
      ]
    },
    {
      "cell_type": "markdown",
      "metadata": {
        "id": "H1WjlCul53-f"
      },
      "source": [
        "# Data Set Visualization"
      ]
    },
    {
      "cell_type": "code",
      "execution_count": null,
      "metadata": {
        "id": "eV4HGnR7YBpl",
        "colab": {
          "base_uri": "https://localhost:8080/"
        },
        "outputId": "7ed13f2f-ced3-4ff5-c3c4-e2b0d87282b7"
      },
      "outputs": [
        {
          "output_type": "stream",
          "name": "stdout",
          "text": [
            "\n",
            "Class Name :  1\n",
            "Number of tweets:4105\n",
            "Number of Words:74452\n",
            "Number of Unique Words:10513\n",
            "Most Frequent Words:\n",
            "\n",
            "fridaysforfuture\t4142\n",
            "climate\t1910\n",
            "climatestrike\t976\n",
            "climatecrisis\t831\n",
            "strike\t808\n",
            "climateaction\t712\n",
            "week\t689\n",
            "peoplenotprofit\t666\n",
            "gretathunberg\t588\n",
            "change\t487\n",
            "\n",
            "Class Name :  3\n",
            "Number of tweets:2115\n",
            "Number of Words:37360\n",
            "Number of Unique Words:7463\n",
            "Most Frequent Words:\n",
            "\n",
            "fridaysforfuture\t2148\n",
            "climate\t823\n",
            "climatestrike\t544\n",
            "climatecrisis\t501\n",
            "climatechange\t329\n",
            "week\t314\n",
            "climateaction\t294\n",
            "strike\t278\n",
            "peoplenotprofit\t277\n",
            "change\t261\n",
            "\n",
            "Class Name :  2\n",
            "Number of tweets:190\n",
            "Number of Words:3530\n",
            "Number of Unique Words:1657\n",
            "Most Frequent Words:\n",
            "\n",
            "fridaysforfuture\t192\n",
            "climatecrisis\t58\n",
            "climate\t53\n",
            "climatestrike\t33\n",
            "climatechange\t31\n",
            "gretathunberg\t25\n",
            "climateaction\t23\n",
            "climatetalk\t19\n",
            "stopfossilfuel\t19\n",
            "1\t18\n",
            "Total Number of Unique Words:13988\n"
          ]
        }
      ],
      "source": [
        "Ctrain_summary = Ctrain.filter(['cleanText', 'label'])\n",
        "Ctrain_over_summary = Ctrain_over.filter(['cleanText', 'label'])\n",
        "\n",
        "def data_summary(dataset):\n",
        "    tweets = []\n",
        "    words = []\n",
        "    u_words = []\n",
        "    total_u_words = [word.strip().lower() for t in list(dataset.cleanText) for word in t.strip().split()]\n",
        "    class_label = [k for k, v in dataset.label.value_counts().to_dict().items()]\n",
        "    # find word list\n",
        "    for label in class_label:\n",
        "        word_list = [word.strip().lower() for t in list(dataset[dataset.label == label].cleanText) for word in t.strip().split()]\n",
        "        counts = dict()\n",
        "        for word in word_list:\n",
        "            counts[word] = counts.get(word, 0) + 1\n",
        "        # sort the dictionary of word list\n",
        "        ordered = sorted(counts.items(), key=lambda item: item[1], reverse=True)\n",
        "        # Documents per class\n",
        "        tweets.append(len(list(dataset[dataset.label == label].cleanText)))\n",
        "        # Total Word per class\n",
        "        words.append(len(word_list))\n",
        "        # Unique words per class\n",
        "        u_words.append(len(np.unique(word_list)))\n",
        "\n",
        "        print(\"\\nClass Name : \", label)\n",
        "        print(\"Number of tweets:{}\".format(len(list(dataset[dataset.label == label].cleanText))))\n",
        "        print(\"Number of Words:{}\".format(len(word_list)))\n",
        "        print(\"Number of Unique Words:{}\".format(len(np.unique(word_list))))\n",
        "        print(\"Most Frequent Words:\\n\")\n",
        "        for k, v in ordered[:10]:\n",
        "            print(\"{}\\t{}\".format(k, v))\n",
        "    print(\"Total Number of Unique Words:{}\".format(len(np.unique(total_u_words))))\n",
        "\n",
        "    return tweets, words, u_words, class_label\n",
        "\n",
        "# Call the function for Btrain\n",
        "Ctrain_comments, Ctrain_words, Ctrain_u_words, Ctrain_class_names = data_summary(Ctrain_summary)\n"
      ]
    },
    {
      "cell_type": "code",
      "source": [
        "Ctrain_over_comments, Ctrain_over_words, Ctrain_over_u_words, Ctrain_over_class_names = data_summary(Ctrain_over_summary)\n"
      ],
      "metadata": {
        "id": "9GdE0RTaBczU",
        "colab": {
          "base_uri": "https://localhost:8080/"
        },
        "outputId": "96927698-11b5-40d3-f9ce-b02169cdd578"
      },
      "execution_count": null,
      "outputs": [
        {
          "output_type": "stream",
          "name": "stdout",
          "text": [
            "\n",
            "Class Name :  1\n",
            "Number of tweets:4105\n",
            "Number of Words:74452\n",
            "Number of Unique Words:10513\n",
            "Most Frequent Words:\n",
            "\n",
            "fridaysforfuture\t4142\n",
            "climate\t1910\n",
            "climatestrike\t976\n",
            "climatecrisis\t831\n",
            "strike\t808\n",
            "climateaction\t712\n",
            "week\t689\n",
            "peoplenotprofit\t666\n",
            "gretathunberg\t588\n",
            "change\t487\n",
            "\n",
            "Class Name :  3\n",
            "Number of tweets:4000\n",
            "Number of Words:70410\n",
            "Number of Unique Words:7463\n",
            "Most Frequent Words:\n",
            "\n",
            "fridaysforfuture\t4074\n",
            "climate\t1568\n",
            "climatestrike\t1029\n",
            "climatecrisis\t993\n",
            "climatechange\t657\n",
            "climateaction\t591\n",
            "week\t576\n",
            "strike\t531\n",
            "peoplenotprofit\t530\n",
            "change\t507\n",
            "\n",
            "Class Name :  2\n",
            "Number of tweets:2000\n",
            "Number of Words:37513\n",
            "Number of Unique Words:1657\n",
            "Most Frequent Words:\n",
            "\n",
            "fridaysforfuture\t2020\n",
            "climatecrisis\t602\n",
            "climate\t507\n",
            "climatestrike\t348\n",
            "climatechange\t341\n",
            "gretathunberg\t279\n",
            "climateaction\t260\n",
            "greta\t200\n",
            "like\t198\n",
            "climatetalk\t197\n",
            "Total Number of Unique Words:13988\n"
          ]
        }
      ]
    },
    {
      "cell_type": "code",
      "execution_count": null,
      "metadata": {
        "id": "pVxlGUhp53-g",
        "colab": {
          "base_uri": "https://localhost:8080/",
          "height": 566
        },
        "outputId": "1a6d1b56-d50b-4c63-8559-9c84141a351e"
      },
      "outputs": [
        {
          "output_type": "display_data",
          "data": {
            "text/plain": [
              "<Figure size 800x600 with 1 Axes>"
            ],
            "image/png": "[encoded data removed]"
          },
          "metadata": {}
        }
      ],
      "source": [
        "Ctrain_data_matrix = pd.DataFrame({\n",
        "    'Total Tweets': Ctrain_comments,\n",
        "    'Total Words': Ctrain_words,\n",
        "    'Unique Words': Ctrain_u_words,\n",
        "    'Class Names': Ctrain_class_names\n",
        "})\n",
        "\n",
        "Ctrain_df = pd.melt(Ctrain_data_matrix, id_vars=\"Class Names\", var_name=\"Category\", value_name=\"Values\")\n",
        "\n",
        "plt.figure(figsize=(8, 6))\n",
        "ax = plt.subplot()\n",
        "\n",
        "sns.barplot(data=Ctrain_df, x='Class Names', y='Values', hue='Category')\n",
        "ax.set_xlabel('Class Names')\n",
        "ax.set_title('Data Statistics - Btrain')\n",
        "\n",
        "ax.xaxis.set_ticklabels(Ctrain_class_names, rotation=45);\n",
        "\n",
        "plt.show()"
      ]
    },
    {
      "cell_type": "code",
      "execution_count": null,
      "metadata": {
        "id": "0a9u3m2j53-h",
        "colab": {
          "base_uri": "https://localhost:8080/",
          "height": 524
        },
        "outputId": "a10f31a5-1ba8-44e7-de0d-7fcfc198fd39"
      },
      "outputs": [
        {
          "output_type": "display_data",
          "data": {
            "text/plain": [
              "<Figure size 640x480 with 1 Axes>"
            ],
            "image/png": "[encoded data removed]"
          },
          "metadata": {}
        },
        {
          "output_type": "stream",
          "name": "stdout",
          "text": [
            "Maximum Length of a Tweet: 858\n",
            "Minimum Length of a Tweet: 16\n",
            "Average Length of a Tweet: 156.0\n"
          ]
        }
      ],
      "source": [
        "Ctrain['Tweet_length'] = Ctrain.cleanText.apply(lambda x: len(x))\n",
        "frequency = dict()\n",
        "\n",
        "for i in Ctrain.Tweet_length:\n",
        "    frequency[i] = frequency.get(i, 0) + 1\n",
        "\n",
        "plt.bar(frequency.keys(), frequency.values(), color=\"b\")\n",
        "plt.xlim(1, 300)  # Adjust the xlim based on your data distribution\n",
        "plt.xlabel('Length of the Tweet')\n",
        "plt.ylabel('Frequency')\n",
        "plt.title('Tweet Length-Frequency Distribution - Btrain')\n",
        "plt.show()\n",
        "\n",
        "print(f\"Maximum Length of a Tweet: {max(Ctrain.Tweet_length)}\")\n",
        "print(f\"Minimum Length of a Tweet: {min(Ctrain.Tweet_length)}\")\n",
        "print(f\"Average Length of a Tweet: {round(np.mean(Ctrain.Tweet_length), 0)}\")"
      ]
    },
    {
      "cell_type": "code",
      "execution_count": null,
      "metadata": {
        "id": "HnYvqqdn53-i",
        "colab": {
          "base_uri": "https://localhost:8080/"
        },
        "outputId": "7c34c8ce-ec95-4dc7-a9cc-6adae487e405"
      },
      "outputs": [
        {
          "output_type": "execute_result",
          "data": {
            "text/plain": [
              "1    27\n",
              "3    14\n",
              "Name: label, dtype: int64"
            ]
          },
          "metadata": {},
          "execution_count": 50
        }
      ],
      "source": [
        "Ctrain.loc[Ctrain['Tweet_length'] > 256]['label'].value_counts()"
      ]
    },
    {
      "cell_type": "code",
      "execution_count": null,
      "metadata": {
        "id": "Y_ke4o9gYBpn",
        "colab": {
          "base_uri": "https://localhost:8080/"
        },
        "outputId": "c832f991-7410-440f-9d80-23308ec098dd"
      },
      "outputs": [
        {
          "output_type": "stream",
          "name": "stdout",
          "text": [
            "\n",
            "Class Name :  1\n",
            "Number of tweets:897\n",
            "Number of Words:16365\n",
            "Number of Unique Words:4226\n",
            "Most Frequent Words:\n",
            "\n",
            "fridaysforfuture\t911\n",
            "climate\t451\n",
            "climatestrike\t235\n",
            "strike\t186\n",
            "climatecrisis\t176\n",
            "peoplenotprofit\t157\n",
            "week\t137\n",
            "climateaction\t131\n",
            "gretathunberg\t128\n",
            "change\t124\n",
            "\n",
            "Class Name :  3\n",
            "Number of tweets:511\n",
            "Number of Words:8887\n",
            "Number of Unique Words:3048\n",
            "Most Frequent Words:\n",
            "\n",
            "fridaysforfuture\t520\n",
            "climate\t185\n",
            "climatestrike\t159\n",
            "climatecrisis\t121\n",
            "climatechange\t83\n",
            "week\t81\n",
            "strike\t78\n",
            "climateaction\t71\n",
            "peoplenotprofit\t71\n",
            "change\t68\n",
            "\n",
            "Class Name :  2\n",
            "Number of tweets:153\n",
            "Number of Words:2177\n",
            "Number of Unique Words:587\n",
            "Most Frequent Words:\n",
            "\n",
            "fridaysforfuture\t153\n",
            "climatestrike\t112\n",
            "climatecrisis\t112\n",
            "climatechange\t109\n",
            "extinctionrebellion\t108\n",
            "renewable\t105\n",
            "climateaction\t105\n",
            "thunberg\t105\n",
            "greta\t104\n",
            "fool\t100\n",
            "Total Number of Unique Words:5814\n"
          ]
        }
      ],
      "source": [
        "\n",
        "def data_summary(dataset):\n",
        "    tweets = []\n",
        "    words = []\n",
        "    u_words = []\n",
        "    total_u_words = [word.strip().lower() for t in list(dataset.cleanText) for word in t.strip().split()]\n",
        "    class_label = [k for k, v in dataset.label.value_counts().to_dict().items()]\n",
        "    # find word list\n",
        "    for label in class_label:\n",
        "        word_list = [word.strip().lower() for t in list(dataset[dataset.label == label].cleanText) for word in t.strip().split()]\n",
        "        counts = dict()\n",
        "        for word in word_list:\n",
        "            counts[word] = counts.get(word, 0) + 1\n",
        "        # sort the dictionary of word list\n",
        "        ordered = sorted(counts.items(), key=lambda item: item[1], reverse=True)\n",
        "        # Documents per class\n",
        "        tweets.append(len(list(dataset[dataset.label == label].cleanText)))\n",
        "        # Total Word per class\n",
        "        words.append(len(word_list))\n",
        "        # Unique words per class\n",
        "        u_words.append(len(np.unique(word_list)))\n",
        "\n",
        "        print(\"\\nClass Name : \", label)\n",
        "        print(\"Number of tweets:{}\".format(len(list(dataset[dataset.label == label].cleanText))))\n",
        "        print(\"Number of Words:{}\".format(len(word_list)))\n",
        "        print(\"Number of Unique Words:{}\".format(len(np.unique(word_list))))\n",
        "        print(\"Most Frequent Words:\\n\")\n",
        "        for k, v in ordered[:10]:\n",
        "            print(\"{}\\t{}\".format(k, v))\n",
        "    print(\"Total Number of Unique Words:{}\".format(len(np.unique(total_u_words))))\n",
        "\n",
        "    return tweets, words, u_words, class_label\n",
        "\n",
        "# Call the function for Bval\n",
        "Cval_comments, Cval_words, Cval_u_words, Cval_class_names = data_summary(Cval)\n"
      ]
    },
    {
      "cell_type": "code",
      "execution_count": null,
      "metadata": {
        "id": "DVoR08rm53-i",
        "colab": {
          "base_uri": "https://localhost:8080/",
          "height": 524
        },
        "outputId": "f1935e89-5cc8-4a1b-d997-18fb877ee3fe"
      },
      "outputs": [
        {
          "output_type": "display_data",
          "data": {
            "text/plain": [
              "<Figure size 640x480 with 1 Axes>"
            ],
            "image/png": "[encoded data removed]"
          },
          "metadata": {}
        },
        {
          "output_type": "stream",
          "name": "stdout",
          "text": [
            "Maximum Length of a Tweet: 93\n",
            "Minimum Length of a Tweet: 2\n",
            "Average Length of a Tweet: 18.0\n"
          ]
        }
      ],
      "source": [
        "# Assuming 'cleanText' contains the text in Bval_tweet\n",
        "Cval['Tweet_length'] = Cval['cleanText'].apply(lambda x: len(x.split()))\n",
        "\n",
        "frequency = dict()\n",
        "\n",
        "for i in Cval['Tweet_length']:\n",
        "    frequency[i] = frequency.get(i, 0) + 1\n",
        "\n",
        "plt.bar(frequency.keys(), frequency.values(), color=\"b\")\n",
        "plt.xlim(1, 50)  # Adjust the xlim based on your data distribution\n",
        "plt.xlabel('Length of the Tweet')\n",
        "plt.ylabel('Frequency')\n",
        "plt.title('Tweet Length-Frequency Distribution - Bval_tweet')\n",
        "plt.show()\n",
        "\n",
        "print(f\"Maximum Length of a Tweet: {max(Cval['Tweet_length'])}\")\n",
        "print(f\"Minimum Length of a Tweet: {min(Cval['Tweet_length'])}\")\n",
        "print(f\"Average Length of a Tweet: {round(np.mean(Cval['Tweet_length']), 0)}\")\n"
      ]
    },
    {
      "cell_type": "code",
      "execution_count": null,
      "metadata": {
        "id": "f_o3AmR1YBpp",
        "colab": {
          "base_uri": "https://localhost:8080/"
        },
        "outputId": "b8e7c791-c345-4b3a-f631-b0336357eb58"
      },
      "outputs": [
        {
          "output_type": "stream",
          "name": "stdout",
          "text": [
            "\n",
            "Dataset Summary\n",
            "Total Number of Words:26774\n",
            "Number of Unique Words:5646\n",
            "Most Frequent Words:\n",
            "\n",
            "fridaysforfuture\t1583\n",
            "climate\t624\n",
            "climatestrike\t484\n",
            "climatecrisis\t454\n",
            "climateaction\t320\n",
            "climatechange\t266\n",
            "strike\t249\n",
            "week\t239\n",
            "peoplenotprofit\t225\n",
            "gretathunberg\t194\n",
            "Total Number of Unique Words:5646\n"
          ]
        }
      ],
      "source": [
        "Ctest_summary = Ctest.filter(['cleanText'])\n",
        "\n",
        "def data_summary(dataset):\n",
        "    tweets = []\n",
        "    words = []\n",
        "    u_words = []\n",
        "    total_u_words = [word.strip().lower() for t in list(dataset.cleanText) for word in t.strip().split()]\n",
        "\n",
        "    # find word list\n",
        "    word_list = [word.strip().lower() for t in list(dataset.cleanText) for word in t.strip().split()]\n",
        "    counts = dict()\n",
        "    for word in word_list:\n",
        "        counts[word] = counts.get(word, 0) + 1\n",
        "\n",
        "    # sort the dictionary of the word list\n",
        "    ordered = sorted(counts.items(), key=lambda item: item[1], reverse=True)\n",
        "\n",
        "    # Total Word per dataset\n",
        "    words.append(len(word_list))\n",
        "    # Unique words per dataset\n",
        "    u_words.append(len(np.unique(word_list)))\n",
        "\n",
        "    print(\"\\nDataset Summary\")\n",
        "    print(\"Total Number of Words:{}\".format(len(word_list)))\n",
        "    print(\"Number of Unique Words:{}\".format(len(np.unique(word_list))))\n",
        "    print(\"Most Frequent Words:\\n\")\n",
        "    for k, v in ordered[:10]:\n",
        "        print(\"{}\\t{}\".format(k, v))\n",
        "    print(\"Total Number of Unique Words:{}\".format(len(np.unique(total_u_words))))\n",
        "\n",
        "    return words, u_words\n",
        "\n",
        "# Call the function for Btest\n",
        "Ctest_words, Ctest_u_words = data_summary(Ctest_summary)\n"
      ]
    },
    {
      "cell_type": "code",
      "execution_count": null,
      "metadata": {
        "id": "QgOG5Qm8YBpq",
        "colab": {
          "base_uri": "https://localhost:8080/",
          "height": 524
        },
        "outputId": "efae3924-6b1a-4e8c-e6ed-a62f424af55f"
      },
      "outputs": [
        {
          "output_type": "display_data",
          "data": {
            "text/plain": [
              "<Figure size 640x480 with 1 Axes>"
            ],
            "image/png": "[encoded data removed]"
          },
          "metadata": {}
        },
        {
          "output_type": "stream",
          "name": "stdout",
          "text": [
            "Maximum Length of a Tweet: 93\n",
            "Minimum Length of a Tweet: 1\n",
            "Average Length of a Tweet: 17.0\n"
          ]
        }
      ],
      "source": [
        "# Assuming 'cleanText' contains the text in Btest\n",
        "Ctest['Tweet_length'] = Ctest['cleanText'].apply(lambda x: len(x.split()))\n",
        "\n",
        "frequency = dict()\n",
        "\n",
        "for i in Ctest['Tweet_length']:\n",
        "    frequency[i] = frequency.get(i, 0) + 1\n",
        "\n",
        "plt.bar(frequency.keys(), frequency.values(), color=\"b\")\n",
        "plt.xlabel('Length of the Tweet')\n",
        "plt.ylabel('Frequency')\n",
        "plt.title('Tweet Length-Frequency Distribution - Btest')\n",
        "plt.show()\n",
        "\n",
        "print(f\"Maximum Length of a Tweet: {max(Ctest['Tweet_length'])}\")\n",
        "print(f\"Minimum Length of a Tweet: {min(Ctest['Tweet_length'])}\")\n",
        "print(f\"Average Length of a Tweet: {round(np.mean(Ctest['Tweet_length']), 0)}\")\n"
      ]
    },
    {
      "cell_type": "markdown",
      "metadata": {
        "id": "tgzH4ATOSOny"
      },
      "source": [
        "# Converting tolist()"
      ]
    },
    {
      "cell_type": "code",
      "source": [
        "Ctrain_over['enc_label'] = Ctrain_over['label'] - 1\n",
        "Ctrain_over.enc_label.value_counts()"
      ],
      "metadata": {
        "id": "RLOziNbJC2Sg",
        "colab": {
          "base_uri": "https://localhost:8080/"
        },
        "outputId": "9fe97b37-463e-4f6c-ca33-1a723c345744"
      },
      "execution_count": null,
      "outputs": [
        {
          "output_type": "execute_result",
          "data": {
            "text/plain": [
              "0    4105\n",
              "2    4000\n",
              "1    2000\n",
              "Name: enc_label, dtype: int64"
            ]
          },
          "metadata": {},
          "execution_count": 37
        }
      ]
    },
    {
      "cell_type": "code",
      "source": [
        "Cval['enc_label'] = Cval['label'] - 1\n",
        "Ctrain['enc_label'] = Ctrain['label'] - 1\n",
        "Ctest['enc_label'] = Ctest['label'] - 1\n",
        "\n",
        "print(Cval['enc_label'].unique())\n",
        "print(Ctrain['enc_label'].unique())"
      ],
      "metadata": {
        "id": "ZSLbrkpc9kyM",
        "colab": {
          "base_uri": "https://localhost:8080/"
        },
        "outputId": "a9471a37-d46c-41f0-f9bb-e092b21c9267"
      },
      "execution_count": null,
      "outputs": [
        {
          "output_type": "stream",
          "name": "stdout",
          "text": [
            "[2 0 1]\n",
            "[0 2 1]\n"
          ]
        }
      ]
    },
    {
      "cell_type": "code",
      "execution_count": null,
      "metadata": {
        "id": "Qc1x_AWwYBpr"
      },
      "outputs": [],
      "source": [
        "X_train = Ctrain['cleanText'].tolist()\n",
        "y_train = Ctrain['enc_label'].tolist()\n",
        "\n",
        "X_train_over = Ctrain_over['cleanText'].tolist()\n",
        "y_train_over = Ctrain_over['enc_label'].tolist()\n",
        "\n",
        "X_valid = Cval['cleanText'].tolist()\n",
        "y_valid = Cval['enc_label'].tolist()\n",
        "X_test = Ctest['cleanText'].tolist()\n",
        "y_test = Ctest['enc_label'].tolist()"
      ]
    },
    {
      "cell_type": "code",
      "execution_count": null,
      "metadata": {
        "id": "rObRhk9XYBpv",
        "colab": {
          "base_uri": "https://localhost:8080/"
        },
        "outputId": "d2e77781-6bb8-4ba0-cab8-ec1b00380ea6"
      },
      "outputs": [
        {
          "output_type": "execute_result",
          "data": {
            "text/plain": [
              "(1561, 5)"
            ]
          },
          "metadata": {},
          "execution_count": 40
        }
      ],
      "source": [
        "Cval.shape"
      ]
    },
    {
      "cell_type": "code",
      "source": [
        "print(set(y_train))\n",
        "print(set(y_valid))\n",
        "print(set(y_test))\n",
        "print(set(y_train_over))"
      ],
      "metadata": {
        "colab": {
          "base_uri": "https://localhost:8080/"
        },
        "id": "2T2ifyrCCr7u",
        "outputId": "63f63e02-9de5-4dad-bd11-5270cc126213"
      },
      "execution_count": null,
      "outputs": [
        {
          "output_type": "stream",
          "name": "stdout",
          "text": [
            "{0, 1, 2}\n",
            "{0, 1, 2}\n",
            "{0, 1, 2}\n",
            "{0, 1, 2}\n"
          ]
        }
      ]
    },
    {
      "cell_type": "markdown",
      "metadata": {
        "id": "gufiQOxQA4w_"
      },
      "source": [
        "# Compute Class Weight"
      ]
    },
    {
      "cell_type": "code",
      "execution_count": null,
      "metadata": {
        "id": "zHaIgUJkA8Hm",
        "colab": {
          "base_uri": "https://localhost:8080/"
        },
        "outputId": "d745366b-f245-48ea-9cdc-bdf31d69fb2a"
      },
      "outputs": [
        {
          "output_type": "execute_result",
          "data": {
            "text/plain": [
              "{0: 0.5205034510759237, 1: 11.24561403508772, 2: 1.0102442868400314}"
            ]
          },
          "metadata": {},
          "execution_count": 61
        }
      ],
      "source": [
        "from sklearn.utils.class_weight import compute_class_weight\n",
        "# cls = np.unique(train_data['Label'])\n",
        "# print(cls)\n",
        "class_weights = compute_class_weight(\n",
        "                                        class_weight = \"balanced\",\n",
        "                                        classes = np.unique(Ctrain['enc_label']),\n",
        "                                        y = Ctrain['enc_label']\n",
        "                                    )\n",
        "\n",
        "weight = {i : class_weights[i] for i in range(3)}\n",
        "weight"
      ]
    },
    {
      "cell_type": "markdown",
      "metadata": {
        "id": "4hVDLtnr3wGH"
      },
      "source": [
        "# ML Models"
      ]
    },
    {
      "cell_type": "markdown",
      "metadata": {
        "id": "fuXdzgVK3wGh"
      },
      "source": [
        "## TF-IDF"
      ]
    },
    {
      "cell_type": "code",
      "execution_count": null,
      "metadata": {
        "id": "Ms1nq7SC3wGi"
      },
      "outputs": [],
      "source": [
        "#TF-IDF\n",
        "tfidf = TfidfVectorizer()\n",
        "X_train_tfidf = tfidf.fit_transform(X_train_over)\n",
        "X_val_tfidf = tfidf.transform(X_valid)\n",
        "X_test_tfidf = tfidf.transform(X_test)"
      ]
    },
    {
      "cell_type": "markdown",
      "metadata": {
        "id": "kgamksvG3wGi"
      },
      "source": [
        "### Random Forest"
      ]
    },
    {
      "cell_type": "code",
      "execution_count": null,
      "metadata": {
        "colab": {
          "base_uri": "https://localhost:8080/",
          "height": 74
        },
        "id": "VdDbJlH13wGi",
        "outputId": "945a6de9-147b-46cd-fa7b-96efdee89b0d"
      },
      "outputs": [
        {
          "output_type": "execute_result",
          "data": {
            "text/plain": [
              "RandomForestClassifier(max_depth=10)"
            ],
            "text/html": [
              "<style>#sk-container-id-13 {color: black;background-color: white;}#sk-container-id-13 pre{padding: 0;}#sk-container-id-13 div.sk-toggleable {background-color: white;}#sk-container-id-13 label.sk-toggleable__label {cursor: pointer;display: block;width: 100%;margin-bottom: 0;padding: 0.3em;box-sizing: border-box;text-align: center;}#sk-container-id-13 label.sk-toggleable__label-arrow:before {content: \"▸\";float: left;margin-right: 0.25em;color: #696969;}#sk-container-id-13 label.sk-toggleable__label-arrow:hover:before {color: black;}#sk-container-id-13 div.sk-estimator:hover label.sk-toggleable__label-arrow:before {color: black;}#sk-container-id-13 div.sk-toggleable__content {max-height: 0;max-width: 0;overflow: hidden;text-align: left;background-color: #f0f8ff;}#sk-container-id-13 div.sk-toggleable__content pre {margin: 0.2em;color: black;border-radius: 0.25em;background-color: #f0f8ff;}#sk-container-id-13 input.sk-toggleable__control:checked~div.sk-toggleable__content {max-height: 200px;max-width: 100%;overflow: auto;}#sk-container-id-13 input.sk-toggleable__control:checked~label.sk-toggleable__label-arrow:before {content: \"▾\";}#sk-container-id-13 div.sk-estimator input.sk-toggleable__control:checked~label.sk-toggleable__label {background-color: #d4ebff;}#sk-container-id-13 div.sk-label input.sk-toggleable__control:checked~label.sk-toggleable__label {background-color: #d4ebff;}#sk-container-id-13 input.sk-hidden--visually {border: 0;clip: rect(1px 1px 1px 1px);clip: rect(1px, 1px, 1px, 1px);height: 1px;margin: -1px;overflow: hidden;padding: 0;position: absolute;width: 1px;}#sk-container-id-13 div.sk-estimator {font-family: monospace;background-color: #f0f8ff;border: 1px dotted black;border-radius: 0.25em;box-sizing: border-box;margin-bottom: 0.5em;}#sk-container-id-13 div.sk-estimator:hover {background-color: #d4ebff;}#sk-container-id-13 div.sk-parallel-item::after {content: \"\";width: 100%;border-bottom: 1px solid gray;flex-grow: 1;}#sk-container-id-13 div.sk-label:hover label.sk-toggleable__label {background-color: #d4ebff;}#sk-container-id-13 div.sk-serial::before {content: \"\";position: absolute;border-left: 1px solid gray;box-sizing: border-box;top: 0;bottom: 0;left: 50%;z-index: 0;}#sk-container-id-13 div.sk-serial {display: flex;flex-direction: column;align-items: center;background-color: white;padding-right: 0.2em;padding-left: 0.2em;position: relative;}#sk-container-id-13 div.sk-item {position: relative;z-index: 1;}#sk-container-id-13 div.sk-parallel {display: flex;align-items: stretch;justify-content: center;background-color: white;position: relative;}#sk-container-id-13 div.sk-item::before, #sk-container-id-13 div.sk-parallel-item::before {content: \"\";position: absolute;border-left: 1px solid gray;box-sizing: border-box;top: 0;bottom: 0;left: 50%;z-index: -1;}#sk-container-id-13 div.sk-parallel-item {display: flex;flex-direction: column;z-index: 1;position: relative;background-color: white;}#sk-container-id-13 div.sk-parallel-item:first-child::after {align-self: flex-end;width: 50%;}#sk-container-id-13 div.sk-parallel-item:last-child::after {align-self: flex-start;width: 50%;}#sk-container-id-13 div.sk-parallel-item:only-child::after {width: 0;}#sk-container-id-13 div.sk-dashed-wrapped {border: 1px dashed gray;margin: 0 0.4em 0.5em 0.4em;box-sizing: border-box;padding-bottom: 0.4em;background-color: white;}#sk-container-id-13 div.sk-label label {font-family: monospace;font-weight: bold;display: inline-block;line-height: 1.2em;}#sk-container-id-13 div.sk-label-container {text-align: center;}#sk-container-id-13 div.sk-container {/* jupyter's `normalize.less` sets `[hidden] { display: none; }` but bootstrap.min.css set `[hidden] { display: none !important; }` so we also need the `!important` here to be able to override the default hidden behavior on the sphinx rendered scikit-learn.org. See: https://github.com/scikit-learn/scikit-learn/issues/21755 */display: inline-block !important;position: relative;}#sk-container-id-13 div.sk-text-repr-fallback {display: none;}</style><div id=\"sk-container-id-13\" class=\"sk-top-container\"><div class=\"sk-text-repr-fallback\"><pre>RandomForestClassifier(max_depth=10)</pre><b>In a Jupyter environment, please rerun this cell to show the HTML representation or trust the notebook. <br />On GitHub, the HTML representation is unable to render, please try loading this page with nbviewer.org.</b></div><div class=\"sk-container\" hidden><div class=\"sk-item\"><div class=\"sk-estimator sk-toggleable\"><input class=\"sk-toggleable__control sk-hidden--visually\" id=\"sk-estimator-id-13\" type=\"checkbox\" checked><label for=\"sk-estimator-id-13\" class=\"sk-toggleable__label sk-toggleable__label-arrow\">RandomForestClassifier</label><div class=\"sk-toggleable__content\"><pre>RandomForestClassifier(max_depth=10)</pre></div></div></div></div></div>"
            ]
          },
          "metadata": {},
          "execution_count": 115
        }
      ],
      "source": [
        "from sklearn.ensemble import RandomForestClassifier\n",
        "from sklearn.metrics import accuracy_score, classification_report\n",
        "\n",
        "\n",
        "# Example: Training individual models\n",
        "model_rf = RandomForestClassifier(max_depth=10, n_estimators=100)  #use class_weight='balanced'\n",
        "model_rf.fit(X_train_tfidf, y_train_over)"
      ]
    },
    {
      "cell_type": "code",
      "execution_count": null,
      "metadata": {
        "colab": {
          "base_uri": "https://localhost:8080/"
        },
        "id": "jd0h8p8H3wGj",
        "outputId": "51f683db-8ea2-4695-a928-7f8632778b66"
      },
      "outputs": [
        {
          "output_type": "stream",
          "name": "stdout",
          "text": [
            "Accuracy: 0.6037131882202305\n",
            "Classification Report:\n",
            "              precision    recall  f1-score   support\n",
            "\n",
            "           0       0.60      1.00      0.75       921\n",
            "           1       0.00      0.00      0.00       141\n",
            "           2       0.87      0.05      0.10       500\n",
            "\n",
            "    accuracy                           0.60      1562\n",
            "   macro avg       0.49      0.35      0.28      1562\n",
            "weighted avg       0.63      0.60      0.47      1562\n",
            "\n"
          ]
        }
      ],
      "source": [
        "\n",
        "y_pred = model_rf.predict(X_test_tfidf)\n",
        "\n",
        "accuracy = accuracy_score(y_test, y_pred)\n",
        "report = classification_report(y_test, y_pred)\n",
        "\n",
        "print(f\"Accuracy: {accuracy}\")\n",
        "print(\"Classification Report:\")\n",
        "print(report)             #estimator 1000--> 0.58      0.57      0.57"
      ]
    },
    {
      "cell_type": "markdown",
      "metadata": {
        "id": "oz_6ehCq3wGj"
      },
      "source": [
        "### LR"
      ]
    },
    {
      "cell_type": "code",
      "execution_count": null,
      "metadata": {
        "colab": {
          "base_uri": "https://localhost:8080/",
          "height": 74
        },
        "id": "8qB1Viur3wGk",
        "outputId": "1b646a0d-3d15-441c-c55a-5442f284c34e"
      },
      "outputs": [
        {
          "output_type": "execute_result",
          "data": {
            "text/plain": [
              "LogisticRegression(C=1, solver='liblinear')"
            ],
            "text/html": [
              "<style>#sk-container-id-1 {color: black;background-color: white;}#sk-container-id-1 pre{padding: 0;}#sk-container-id-1 div.sk-toggleable {background-color: white;}#sk-container-id-1 label.sk-toggleable__label {cursor: pointer;display: block;width: 100%;margin-bottom: 0;padding: 0.3em;box-sizing: border-box;text-align: center;}#sk-container-id-1 label.sk-toggleable__label-arrow:before {content: \"▸\";float: left;margin-right: 0.25em;color: #696969;}#sk-container-id-1 label.sk-toggleable__label-arrow:hover:before {color: black;}#sk-container-id-1 div.sk-estimator:hover label.sk-toggleable__label-arrow:before {color: black;}#sk-container-id-1 div.sk-toggleable__content {max-height: 0;max-width: 0;overflow: hidden;text-align: left;background-color: #f0f8ff;}#sk-container-id-1 div.sk-toggleable__content pre {margin: 0.2em;color: black;border-radius: 0.25em;background-color: #f0f8ff;}#sk-container-id-1 input.sk-toggleable__control:checked~div.sk-toggleable__content {max-height: 200px;max-width: 100%;overflow: auto;}#sk-container-id-1 input.sk-toggleable__control:checked~label.sk-toggleable__label-arrow:before {content: \"▾\";}#sk-container-id-1 div.sk-estimator input.sk-toggleable__control:checked~label.sk-toggleable__label {background-color: #d4ebff;}#sk-container-id-1 div.sk-label input.sk-toggleable__control:checked~label.sk-toggleable__label {background-color: #d4ebff;}#sk-container-id-1 input.sk-hidden--visually {border: 0;clip: rect(1px 1px 1px 1px);clip: rect(1px, 1px, 1px, 1px);height: 1px;margin: -1px;overflow: hidden;padding: 0;position: absolute;width: 1px;}#sk-container-id-1 div.sk-estimator {font-family: monospace;background-color: #f0f8ff;border: 1px dotted black;border-radius: 0.25em;box-sizing: border-box;margin-bottom: 0.5em;}#sk-container-id-1 div.sk-estimator:hover {background-color: #d4ebff;}#sk-container-id-1 div.sk-parallel-item::after {content: \"\";width: 100%;border-bottom: 1px solid gray;flex-grow: 1;}#sk-container-id-1 div.sk-label:hover label.sk-toggleable__label {background-color: #d4ebff;}#sk-container-id-1 div.sk-serial::before {content: \"\";position: absolute;border-left: 1px solid gray;box-sizing: border-box;top: 0;bottom: 0;left: 50%;z-index: 0;}#sk-container-id-1 div.sk-serial {display: flex;flex-direction: column;align-items: center;background-color: white;padding-right: 0.2em;padding-left: 0.2em;position: relative;}#sk-container-id-1 div.sk-item {position: relative;z-index: 1;}#sk-container-id-1 div.sk-parallel {display: flex;align-items: stretch;justify-content: center;background-color: white;position: relative;}#sk-container-id-1 div.sk-item::before, #sk-container-id-1 div.sk-parallel-item::before {content: \"\";position: absolute;border-left: 1px solid gray;box-sizing: border-box;top: 0;bottom: 0;left: 50%;z-index: -1;}#sk-container-id-1 div.sk-parallel-item {display: flex;flex-direction: column;z-index: 1;position: relative;background-color: white;}#sk-container-id-1 div.sk-parallel-item:first-child::after {align-self: flex-end;width: 50%;}#sk-container-id-1 div.sk-parallel-item:last-child::after {align-self: flex-start;width: 50%;}#sk-container-id-1 div.sk-parallel-item:only-child::after {width: 0;}#sk-container-id-1 div.sk-dashed-wrapped {border: 1px dashed gray;margin: 0 0.4em 0.5em 0.4em;box-sizing: border-box;padding-bottom: 0.4em;background-color: white;}#sk-container-id-1 div.sk-label label {font-family: monospace;font-weight: bold;display: inline-block;line-height: 1.2em;}#sk-container-id-1 div.sk-label-container {text-align: center;}#sk-container-id-1 div.sk-container {/* jupyter's `normalize.less` sets `[hidden] { display: none; }` but bootstrap.min.css set `[hidden] { display: none !important; }` so we also need the `!important` here to be able to override the default hidden behavior on the sphinx rendered scikit-learn.org. See: https://github.com/scikit-learn/scikit-learn/issues/21755 */display: inline-block !important;position: relative;}#sk-container-id-1 div.sk-text-repr-fallback {display: none;}</style><div id=\"sk-container-id-1\" class=\"sk-top-container\"><div class=\"sk-text-repr-fallback\"><pre>LogisticRegression(C=1, solver=&#x27;liblinear&#x27;)</pre><b>In a Jupyter environment, please rerun this cell to show the HTML representation or trust the notebook. <br />On GitHub, the HTML representation is unable to render, please try loading this page with nbviewer.org.</b></div><div class=\"sk-container\" hidden><div class=\"sk-item\"><div class=\"sk-estimator sk-toggleable\"><input class=\"sk-toggleable__control sk-hidden--visually\" id=\"sk-estimator-id-1\" type=\"checkbox\" checked><label for=\"sk-estimator-id-1\" class=\"sk-toggleable__label sk-toggleable__label-arrow\">LogisticRegression</label><div class=\"sk-toggleable__content\"><pre>LogisticRegression(C=1, solver=&#x27;liblinear&#x27;)</pre></div></div></div></div></div>"
            ]
          },
          "metadata": {},
          "execution_count": 86
        }
      ],
      "source": [
        "from sklearn.linear_model import LogisticRegression\n",
        "\n",
        "# Logistic Regression\n",
        "model_lr = LogisticRegression( solver='liblinear', C=1)\n",
        "model_lr.fit(X_train_tfidf, y_train_over)"
      ]
    },
    {
      "cell_type": "code",
      "execution_count": null,
      "metadata": {
        "colab": {
          "base_uri": "https://localhost:8080/"
        },
        "id": "ta2yuV7L3wGk",
        "outputId": "325d5f96-732b-4d2e-a860-d2be961af350"
      },
      "outputs": [
        {
          "output_type": "stream",
          "name": "stdout",
          "text": [
            "Logistic Regression Accuracy: 0.6434058898847631\n",
            "Classification Report for Logistic Regression:\n",
            "               precision    recall  f1-score   support\n",
            "\n",
            "           0       0.68      0.92      0.79       921\n",
            "           1       0.00      0.00      0.00       141\n",
            "           2       0.49      0.31      0.38       500\n",
            "\n",
            "    accuracy                           0.64      1562\n",
            "   macro avg       0.39      0.41      0.39      1562\n",
            "weighted avg       0.56      0.64      0.58      1562\n",
            "\n"
          ]
        }
      ],
      "source": [
        "# Predict on the test set\n",
        "y_pred_lr = model_lr.predict(X_test_tfidf)\n",
        "\n",
        "# Evaluation\n",
        "accuracy_lr = accuracy_score(y_test, y_pred_lr)\n",
        "classification_report_lr = classification_report(y_test, y_pred_lr)\n",
        "\n",
        "print(f'Logistic Regression Accuracy: {accuracy_lr}')\n",
        "print('Classification Report for Logistic Regression:\\n', classification_report_lr) # 0.63      0.63      0.63"
      ]
    },
    {
      "cell_type": "code",
      "execution_count": null,
      "metadata": {
        "id": "8wP0DifS3wGk"
      },
      "outputs": [],
      "source": [
        "y_pred = model_lr.predict(X_test_tfidf)"
      ]
    },
    {
      "cell_type": "code",
      "execution_count": null,
      "metadata": {
        "id": "9KQu7-ce3wGk"
      },
      "outputs": [],
      "source": [
        "'''import json\n",
        "import zipfile\n",
        "\n",
        "# Assuming Btest is your DataFrame with an \"index\" column and y_pred is your predicted labels\n",
        "# Replace y_pred with your actual predicted labels\n",
        "\n",
        "# Create a DataFrame with \"index\" and \"prediction\" columns\n",
        "submission_df = pd.DataFrame({\"index\": Btest[\"index\"].tolist(), \"prediction\": y_pred})\n",
        "\n",
        "# Sort the DataFrame based on the \"index\" column\n",
        "submission_df = submission_df.sort_values(by=\"index\")\n",
        "\n",
        "# Define the path to save the submission file\n",
        "submission_file_path = \"/content/submission.json\"\n",
        "\n",
        "# Save the DataFrame to a JSON file\n",
        "submission_df.to_json(submission_file_path, orient=\"records\", lines=True)\n",
        "\n",
        "# Zip the JSON file\n",
        "with zipfile.ZipFile(\"submission.zip\", \"w\") as zipf:\n",
        "    zipf.write(submission_file_path, arcname=\"submission.json\")"
      ]
    },
    {
      "cell_type": "markdown",
      "metadata": {
        "id": "sgvgpTam3wGl"
      },
      "source": [
        "### MNB"
      ]
    },
    {
      "cell_type": "code",
      "execution_count": null,
      "metadata": {
        "colab": {
          "base_uri": "https://localhost:8080/"
        },
        "id": "0wEAh5qQ3wGl",
        "outputId": "bb67a68b-4927-48e9-8b00-4e43f25aaf57"
      },
      "outputs": [
        {
          "output_type": "stream",
          "name": "stdout",
          "text": [
            "Multinomial Naive Bayes Accuracy: 0.6248399487836107\n",
            "Classification Report for Multinomial Naive Bayes:\n",
            "               precision    recall  f1-score   support\n",
            "\n",
            "           0       0.61      0.98      0.75       921\n",
            "           1       0.00      0.00      0.00       141\n",
            "           2       0.78      0.15      0.26       500\n",
            "\n",
            "    accuracy                           0.62      1562\n",
            "   macro avg       0.46      0.38      0.34      1562\n",
            "weighted avg       0.61      0.62      0.53      1562\n",
            "\n"
          ]
        }
      ],
      "source": [
        "from sklearn.naive_bayes import MultinomialNB\n",
        "from sklearn.metrics import accuracy_score, classification_report\n",
        "\n",
        "# Multinomial Naive Bayes\n",
        "model_nb = MultinomialNB(class_prior=None, fit_prior=True)\n",
        "model_nb.fit(X_train_tfidf, y_train_over)\n",
        "\n",
        "# Predict on the test set\n",
        "y_pred_nb = model_nb.predict(X_test_tfidf)\n",
        "\n",
        "# Evaluation\n",
        "accuracy_nb = accuracy_score(y_test, y_pred_nb)\n",
        "classification_report_nb = classification_report(y_test, y_pred_nb)\n",
        "\n",
        "print(f'Multinomial Naive Bayes Accuracy: {accuracy_nb}')\n",
        "print('Classification Report for Multinomial Naive Bayes:\\n', classification_report_nb)\n"
      ]
    },
    {
      "cell_type": "markdown",
      "metadata": {
        "id": "ZmZ3m3V_3wGl"
      },
      "source": [
        "### SVM"
      ]
    },
    {
      "cell_type": "code",
      "execution_count": null,
      "metadata": {
        "colab": {
          "base_uri": "https://localhost:8080/"
        },
        "id": "diV4i-dw3wGl",
        "outputId": "7a76a3eb-230f-41c1-a7d2-81881e345643"
      },
      "outputs": [
        {
          "output_type": "stream",
          "name": "stdout",
          "text": [
            "SVM Accuracy: 0.6325224071702945\n",
            "Classification Report for SVM:\n",
            "               precision    recall  f1-score   support\n",
            "\n",
            "           0       0.68      0.89      0.77       921\n",
            "           1       0.00      0.00      0.00       141\n",
            "           2       0.47      0.34      0.40       500\n",
            "\n",
            "    accuracy                           0.63      1562\n",
            "   macro avg       0.38      0.41      0.39      1562\n",
            "weighted avg       0.55      0.63      0.58      1562\n",
            "\n"
          ]
        }
      ],
      "source": [
        "from sklearn.svm import SVC\n",
        "from sklearn.metrics import accuracy_score, classification_report\n",
        "\n",
        "# Support Vector Machine (SVM)\n",
        "model_svm = SVC(C=1, kernel='linear')\n",
        "model_svm.fit(X_train_tfidf, y_train_over)\n",
        "\n",
        "# Predict on the test set\n",
        "y_pred = model_svm.predict(X_test_tfidf)\n",
        "\n",
        "# Evaluation\n",
        "accuracy_svm = accuracy_score(y_test, y_pred)\n",
        "classification_report_svm = classification_report(y_test, y_pred)\n",
        "\n",
        "print(f'SVM Accuracy: {accuracy_svm}')\n",
        "print('Classification Report for SVM:\\n', classification_report_svm) # 0.65      0.65      0.65"
      ]
    },
    {
      "cell_type": "code",
      "execution_count": null,
      "metadata": {
        "id": "kPY9oeSm3wGm"
      },
      "outputs": [],
      "source": [
        "y_pred = model_svm.predict(X_test_tfidf)"
      ]
    },
    {
      "cell_type": "code",
      "execution_count": null,
      "metadata": {
        "id": "R345DkYS3wGm"
      },
      "outputs": [],
      "source": [
        "'''import json\n",
        "import zipfile\n",
        "\n",
        "# Assuming Btest is your DataFrame with an \"index\" column and y_pred is your predicted labels\n",
        "# Replace y_pred with your actual predicted labels\n",
        "\n",
        "# Create a DataFrame with \"index\" and \"prediction\" columns\n",
        "submission_df = pd.DataFrame({\"index\": Btest[\"index\"].tolist(), \"prediction\": y_pred})\n",
        "\n",
        "# Sort the DataFrame based on the \"index\" column\n",
        "submission_df = submission_df.sort_values(by=\"index\")\n",
        "\n",
        "# Define the path to save the submission file\n",
        "submission_file_path = \"/content/submission.json\"\n",
        "\n",
        "# Save the DataFrame to a JSON file\n",
        "submission_df.to_json(submission_file_path, orient=\"records\", lines=True)\n",
        "\n",
        "# Zip the JSON file\n",
        "with zipfile.ZipFile(\"submission.zip\", \"w\") as zipf:\n",
        "    zipf.write(submission_file_path, arcname=\"submission.json\")"
      ]
    },
    {
      "cell_type": "markdown",
      "metadata": {
        "id": "7v3-jYET3wGo"
      },
      "source": [
        "## Word2Vec(spacy)"
      ]
    },
    {
      "cell_type": "code",
      "execution_count": null,
      "metadata": {
        "colab": {
          "base_uri": "https://localhost:8080/"
        },
        "id": "IUeBrqMY3wGo",
        "outputId": "d9d40961-4141-48f2-d670-cef68709e0fe"
      },
      "outputs": [
        {
          "output_type": "stream",
          "name": "stdout",
          "text": [
            "2024-01-15 16:23:35.607914: E external/local_xla/xla/stream_executor/cuda/cuda_dnn.cc:9261] Unable to register cuDNN factory: Attempting to register factory for plugin cuDNN when one has already been registered\n",
            "2024-01-15 16:23:35.607963: E external/local_xla/xla/stream_executor/cuda/cuda_fft.cc:607] Unable to register cuFFT factory: Attempting to register factory for plugin cuFFT when one has already been registered\n",
            "2024-01-15 16:23:35.609164: E external/local_xla/xla/stream_executor/cuda/cuda_blas.cc:1515] Unable to register cuBLAS factory: Attempting to register factory for plugin cuBLAS when one has already been registered\n",
            "2024-01-15 16:23:36.732968: W tensorflow/compiler/tf2tensorrt/utils/py_utils.cc:38] TF-TRT Warning: Could not find TensorRT\n",
            "Collecting en-core-web-md==3.6.0\n",
            "  Downloading https://github.com/explosion/spacy-models/releases/download/en_core_web_md-3.6.0/en_core_web_md-3.6.0-py3-none-any.whl (42.8 MB)\n",
            "\u001b[2K     \u001b[90m━━━━━━━━━━━━━━━━━━━━━━━━━━━━━━━━━━━━━━━━\u001b[0m \u001b[32m42.8/42.8 MB\u001b[0m \u001b[31m18.3 MB/s\u001b[0m eta \u001b[36m0:00:00\u001b[0m\n",
            "\u001b[?25hRequirement already satisfied: spacy<3.7.0,>=3.6.0 in /usr/local/lib/python3.10/dist-packages (from en-core-web-md==3.6.0) (3.6.1)\n",
            "Requirement already satisfied: spacy-legacy<3.1.0,>=3.0.11 in /usr/local/lib/python3.10/dist-packages (from spacy<3.7.0,>=3.6.0->en-core-web-md==3.6.0) (3.0.12)\n",
            "Requirement already satisfied: spacy-loggers<2.0.0,>=1.0.0 in /usr/local/lib/python3.10/dist-packages (from spacy<3.7.0,>=3.6.0->en-core-web-md==3.6.0) (1.0.5)\n",
            "Requirement already satisfied: murmurhash<1.1.0,>=0.28.0 in /usr/local/lib/python3.10/dist-packages (from spacy<3.7.0,>=3.6.0->en-core-web-md==3.6.0) (1.0.10)\n",
            "Requirement already satisfied: cymem<2.1.0,>=2.0.2 in /usr/local/lib/python3.10/dist-packages (from spacy<3.7.0,>=3.6.0->en-core-web-md==3.6.0) (2.0.8)\n",
            "Requirement already satisfied: preshed<3.1.0,>=3.0.2 in /usr/local/lib/python3.10/dist-packages (from spacy<3.7.0,>=3.6.0->en-core-web-md==3.6.0) (3.0.9)\n",
            "Requirement already satisfied: thinc<8.2.0,>=8.1.8 in /usr/local/lib/python3.10/dist-packages (from spacy<3.7.0,>=3.6.0->en-core-web-md==3.6.0) (8.1.12)\n",
            "Requirement already satisfied: wasabi<1.2.0,>=0.9.1 in /usr/local/lib/python3.10/dist-packages (from spacy<3.7.0,>=3.6.0->en-core-web-md==3.6.0) (1.1.2)\n",
            "Requirement already satisfied: srsly<3.0.0,>=2.4.3 in /usr/local/lib/python3.10/dist-packages (from spacy<3.7.0,>=3.6.0->en-core-web-md==3.6.0) (2.4.8)\n",
            "Requirement already satisfied: catalogue<2.1.0,>=2.0.6 in /usr/local/lib/python3.10/dist-packages (from spacy<3.7.0,>=3.6.0->en-core-web-md==3.6.0) (2.0.10)\n",
            "Requirement already satisfied: typer<0.10.0,>=0.3.0 in /usr/local/lib/python3.10/dist-packages (from spacy<3.7.0,>=3.6.0->en-core-web-md==3.6.0) (0.9.0)\n",
            "Requirement already satisfied: pathy>=0.10.0 in /usr/local/lib/python3.10/dist-packages (from spacy<3.7.0,>=3.6.0->en-core-web-md==3.6.0) (0.10.3)\n",
            "Requirement already satisfied: smart-open<7.0.0,>=5.2.1 in /usr/local/lib/python3.10/dist-packages (from spacy<3.7.0,>=3.6.0->en-core-web-md==3.6.0) (6.4.0)\n",
            "Requirement already satisfied: tqdm<5.0.0,>=4.38.0 in /usr/local/lib/python3.10/dist-packages (from spacy<3.7.0,>=3.6.0->en-core-web-md==3.6.0) (4.66.1)\n",
            "Requirement already satisfied: numpy>=1.15.0 in /usr/local/lib/python3.10/dist-packages (from spacy<3.7.0,>=3.6.0->en-core-web-md==3.6.0) (1.23.5)\n",
            "Requirement already satisfied: requests<3.0.0,>=2.13.0 in /usr/local/lib/python3.10/dist-packages (from spacy<3.7.0,>=3.6.0->en-core-web-md==3.6.0) (2.31.0)\n",
            "Requirement already satisfied: pydantic!=1.8,!=1.8.1,<3.0.0,>=1.7.4 in /usr/local/lib/python3.10/dist-packages (from spacy<3.7.0,>=3.6.0->en-core-web-md==3.6.0) (1.10.13)\n",
            "Requirement already satisfied: jinja2 in /usr/local/lib/python3.10/dist-packages (from spacy<3.7.0,>=3.6.0->en-core-web-md==3.6.0) (3.1.2)\n",
            "Requirement already satisfied: setuptools in /usr/local/lib/python3.10/dist-packages (from spacy<3.7.0,>=3.6.0->en-core-web-md==3.6.0) (67.7.2)\n",
            "Requirement already satisfied: packaging>=20.0 in /usr/local/lib/python3.10/dist-packages (from spacy<3.7.0,>=3.6.0->en-core-web-md==3.6.0) (23.2)\n",
            "Requirement already satisfied: langcodes<4.0.0,>=3.2.0 in /usr/local/lib/python3.10/dist-packages (from spacy<3.7.0,>=3.6.0->en-core-web-md==3.6.0) (3.3.0)\n",
            "Requirement already satisfied: typing-extensions>=4.2.0 in /usr/local/lib/python3.10/dist-packages (from pydantic!=1.8,!=1.8.1,<3.0.0,>=1.7.4->spacy<3.7.0,>=3.6.0->en-core-web-md==3.6.0) (4.5.0)\n",
            "Requirement already satisfied: charset-normalizer<4,>=2 in /usr/local/lib/python3.10/dist-packages (from requests<3.0.0,>=2.13.0->spacy<3.7.0,>=3.6.0->en-core-web-md==3.6.0) (3.3.2)\n",
            "Requirement already satisfied: idna<4,>=2.5 in /usr/local/lib/python3.10/dist-packages (from requests<3.0.0,>=2.13.0->spacy<3.7.0,>=3.6.0->en-core-web-md==3.6.0) (3.6)\n",
            "Requirement already satisfied: urllib3<3,>=1.21.1 in /usr/local/lib/python3.10/dist-packages (from requests<3.0.0,>=2.13.0->spacy<3.7.0,>=3.6.0->en-core-web-md==3.6.0) (2.0.7)\n",
            "Requirement already satisfied: certifi>=2017.4.17 in /usr/local/lib/python3.10/dist-packages (from requests<3.0.0,>=2.13.0->spacy<3.7.0,>=3.6.0->en-core-web-md==3.6.0) (2023.11.17)\n",
            "Requirement already satisfied: blis<0.8.0,>=0.7.8 in /usr/local/lib/python3.10/dist-packages (from thinc<8.2.0,>=8.1.8->spacy<3.7.0,>=3.6.0->en-core-web-md==3.6.0) (0.7.11)\n",
            "Requirement already satisfied: confection<1.0.0,>=0.0.1 in /usr/local/lib/python3.10/dist-packages (from thinc<8.2.0,>=8.1.8->spacy<3.7.0,>=3.6.0->en-core-web-md==3.6.0) (0.1.4)\n",
            "Requirement already satisfied: click<9.0.0,>=7.1.1 in /usr/local/lib/python3.10/dist-packages (from typer<0.10.0,>=0.3.0->spacy<3.7.0,>=3.6.0->en-core-web-md==3.6.0) (8.1.7)\n",
            "Requirement already satisfied: MarkupSafe>=2.0 in /usr/local/lib/python3.10/dist-packages (from jinja2->spacy<3.7.0,>=3.6.0->en-core-web-md==3.6.0) (2.1.3)\n",
            "Installing collected packages: en-core-web-md\n",
            "Successfully installed en-core-web-md-3.6.0\n",
            "\u001b[38;5;2m✔ Download and installation successful\u001b[0m\n",
            "You can now load the package via spacy.load('en_core_web_md')\n"
          ]
        }
      ],
      "source": [
        "!python -m spacy download en_core_web_md"
      ]
    },
    {
      "cell_type": "code",
      "execution_count": null,
      "metadata": {
        "id": "e5M1mx853wGo"
      },
      "outputs": [],
      "source": [
        "import spacy\n",
        "from sklearn.svm import SVC\n",
        "from sklearn.metrics import accuracy_score, classification_report\n",
        "from sklearn.feature_extraction.text import CountVectorizer\n",
        "\n",
        "# Load spaCy model\n",
        "nlp = spacy.load(\"en_core_web_md\")\n",
        "\n",
        "# Tokenize and extract word vectors using spaCy\n",
        "def spacy_word_vectors(text):\n",
        "    doc = nlp(text)\n",
        "    return doc.vector\n",
        "\n",
        "# Apply spaCy word vectors extraction to the training set\n",
        "X_train_spacy = [spacy_word_vectors(text) for text in X_trai_over]\n",
        "\n",
        "# Apply spaCy word vectors extraction to the validation set\n",
        "X_valid_spacy = [spacy_word_vectors(text) for text in X_valid]\n",
        "\n",
        "# Apply spaCy word vectors extraction to the test set\n",
        "X_test_spacy = [spacy_word_vectors(text) for text in X_test]"
      ]
    },
    {
      "cell_type": "markdown",
      "metadata": {
        "id": "s6I8RQP53wGo"
      },
      "source": [
        "### SVM"
      ]
    },
    {
      "cell_type": "code",
      "execution_count": null,
      "metadata": {
        "colab": {
          "base_uri": "https://localhost:8080/"
        },
        "id": "stUSZE163wGo",
        "outputId": "04ec983d-0302-4d6b-c4ad-dbd128969854"
      },
      "outputs": [
        {
          "output_type": "stream",
          "name": "stdout",
          "text": [
            "SVM Accuracy on Validation Set: 0.588348271446863\n",
            "Classification Report for SVM on Validation Set:\n",
            "               precision    recall  f1-score   support\n",
            "\n",
            "           0       0.77      0.58      0.66       921\n",
            "           1       0.38      0.82      0.52       141\n",
            "           2       0.48      0.54      0.51       500\n",
            "\n",
            "    accuracy                           0.59      1562\n",
            "   macro avg       0.54      0.65      0.56      1562\n",
            "weighted avg       0.64      0.59      0.60      1562\n",
            "\n"
          ]
        }
      ],
      "source": [
        "model_svm = SVC(C=1, class_weight='balanced', kernel='linear')\n",
        "model_svm.fit(X_train_spacy, y_train_over)\n",
        "\n",
        "# Predict on the validation set\n",
        "#y_pred_valid = model_svm.predict(X_valid_spacy)\n",
        "\n",
        "# Predict on the test set\n",
        "y_pred = model_svm.predict(X_test_spacy)\n",
        "\n",
        "# Evaluation on the validation set\n",
        "accuracy_svm_valid = accuracy_score(y_test, y_pred)\n",
        "classification_report_svm_valid = classification_report(y_test, y_pred)\n",
        "\n",
        "print(f'SVM Accuracy on Validation Set: {accuracy_svm_valid}')\n",
        "print('Classification Report for SVM on Validation Set:\\n', classification_report_svm_valid)"
      ]
    },
    {
      "cell_type": "markdown",
      "metadata": {
        "id": "BZlQETJs3wGp"
      },
      "source": [
        "### MNB"
      ]
    },
    {
      "cell_type": "code",
      "execution_count": null,
      "metadata": {
        "id": "PiqIKkhB3wGp"
      },
      "outputs": [],
      "source": [
        "from sklearn.naive_bayes import MultinomialNB\n",
        "from sklearn.preprocessing import MinMaxScaler\n",
        "\n",
        "\n",
        "scaler = MinMaxScaler()\n",
        "scaled_train_embed = scaler.fit_transform(X_train_spacy)\n",
        "scaled_val_embed = scaler.transform(X_valid_spacy)\n",
        "scaled_test_embed = scaler.transform(X_test_spacy)"
      ]
    },
    {
      "cell_type": "code",
      "execution_count": null,
      "metadata": {
        "colab": {
          "base_uri": "https://localhost:8080/"
        },
        "id": "qc2EpIZs3wGp",
        "outputId": "818f4f71-c717-4840-83d6-243060b7e72d"
      },
      "outputs": [
        {
          "output_type": "stream",
          "name": "stdout",
          "text": [
            "MNB Accuracy on Validation Set: 0.5960307298335468\n",
            "Classification Report for MNB on Validation Set:\n",
            "               precision    recall  f1-score   support\n",
            "\n",
            "           0       0.59      0.99      0.74       921\n",
            "           1       0.00      0.00      0.00       141\n",
            "           2       0.71      0.03      0.06       500\n",
            "\n",
            "    accuracy                           0.60      1562\n",
            "   macro avg       0.43      0.34      0.27      1562\n",
            "weighted avg       0.58      0.60      0.46      1562\n",
            "\n"
          ]
        }
      ],
      "source": [
        "from sklearn.naive_bayes import MultinomialNB\n",
        "\n",
        "# Multinomial Naive Bayes (MNB)\n",
        "model_mnb = MultinomialNB()\n",
        "model_mnb.fit(scaled_train_embed, y_train_over)\n",
        "\n",
        "# Predict on the validation set\n",
        "y_pred_valid_mnb = model_mnb.predict(scaled_val_embed)\n",
        "\n",
        "# Predict on the test set\n",
        "y_pred_test_mnb = model_mnb.predict(scaled_test_embed)\n",
        "\n",
        "# Evaluation on the validation set\n",
        "accuracy_mnb_valid = accuracy_score(y_test, y_pred_test_mnb)\n",
        "classification_report_mnb_valid = classification_report(y_test, y_pred_test_mnb)\n",
        "\n",
        "print(f'MNB Accuracy on Validation Set: {accuracy_mnb_valid}')\n",
        "print('Classification Report for MNB on Validation Set:\\n', classification_report_mnb_valid)\n",
        "\n",
        "# You can use y_pred_test_mnb for predictions on the test set\n"
      ]
    },
    {
      "cell_type": "markdown",
      "metadata": {
        "id": "n3IpZs8c3wGp"
      },
      "source": [
        "### LR"
      ]
    },
    {
      "cell_type": "code",
      "execution_count": null,
      "metadata": {
        "colab": {
          "base_uri": "https://localhost:8080/"
        },
        "id": "U3NM5iiO3wGq",
        "outputId": "7ef2ebf1-3b54-4cfc-9a22-becf8db5e89d"
      },
      "outputs": [
        {
          "output_type": "stream",
          "name": "stdout",
          "text": [
            "LR Accuracy on Validation Set: 0.5723431498079385\n",
            "Classification Report for LR on Validation Set:\n",
            "               precision    recall  f1-score   support\n",
            "\n",
            "           0       0.77      0.54      0.63       921\n",
            "           1       0.36      0.84      0.50       141\n",
            "           2       0.48      0.56      0.52       500\n",
            "\n",
            "    accuracy                           0.57      1562\n",
            "   macro avg       0.54      0.65      0.55      1562\n",
            "weighted avg       0.64      0.57      0.58      1562\n",
            "\n"
          ]
        }
      ],
      "source": [
        "from sklearn.linear_model import LogisticRegression\n",
        "\n",
        "# Logistic Regression (LR)\n",
        "model_lr = LogisticRegression(class_weight='balanced', max_iter=1000)\n",
        "model_lr.fit(X_train_spacy, y_train_over)\n",
        "\n",
        "# Predict on the validation set\n",
        "y_pred_valid_lr = model_lr.predict(X_valid_spacy)\n",
        "\n",
        "# Predict on the test set\n",
        "y_pred_test_lr = model_lr.predict(X_test_spacy)\n",
        "\n",
        "# Evaluation on the validation set\n",
        "accuracy_lr_valid = accuracy_score(y_test, y_pred_test_lr)\n",
        "classification_report_lr_valid = classification_report(y_test, y_pred_test_lr)\n",
        "\n",
        "print(f'LR Accuracy on Validation Set: {accuracy_lr_valid}')\n",
        "print('Classification Report for LR on Validation Set:\\n', classification_report_lr_valid)\n",
        "\n",
        "# You can use y_pred_test_lr for predictions on the test set"
      ]
    },
    {
      "cell_type": "markdown",
      "metadata": {
        "id": "nV3blRmcxiZa"
      },
      "source": [
        "### Random Forest"
      ]
    },
    {
      "cell_type": "code",
      "execution_count": null,
      "metadata": {
        "colab": {
          "base_uri": "https://localhost:8080/",
          "height": 74
        },
        "outputId": "82cbe9ab-0739-49fc-898c-ec59b6c8e094",
        "id": "TRQyGdCHxiZb"
      },
      "outputs": [
        {
          "output_type": "execute_result",
          "data": {
            "text/plain": [
              "RandomForestClassifier(class_weight='balanced', n_estimators=1000)"
            ],
            "text/html": [
              "<style>#sk-container-id-4 {color: black;background-color: white;}#sk-container-id-4 pre{padding: 0;}#sk-container-id-4 div.sk-toggleable {background-color: white;}#sk-container-id-4 label.sk-toggleable__label {cursor: pointer;display: block;width: 100%;margin-bottom: 0;padding: 0.3em;box-sizing: border-box;text-align: center;}#sk-container-id-4 label.sk-toggleable__label-arrow:before {content: \"▸\";float: left;margin-right: 0.25em;color: #696969;}#sk-container-id-4 label.sk-toggleable__label-arrow:hover:before {color: black;}#sk-container-id-4 div.sk-estimator:hover label.sk-toggleable__label-arrow:before {color: black;}#sk-container-id-4 div.sk-toggleable__content {max-height: 0;max-width: 0;overflow: hidden;text-align: left;background-color: #f0f8ff;}#sk-container-id-4 div.sk-toggleable__content pre {margin: 0.2em;color: black;border-radius: 0.25em;background-color: #f0f8ff;}#sk-container-id-4 input.sk-toggleable__control:checked~div.sk-toggleable__content {max-height: 200px;max-width: 100%;overflow: auto;}#sk-container-id-4 input.sk-toggleable__control:checked~label.sk-toggleable__label-arrow:before {content: \"▾\";}#sk-container-id-4 div.sk-estimator input.sk-toggleable__control:checked~label.sk-toggleable__label {background-color: #d4ebff;}#sk-container-id-4 div.sk-label input.sk-toggleable__control:checked~label.sk-toggleable__label {background-color: #d4ebff;}#sk-container-id-4 input.sk-hidden--visually {border: 0;clip: rect(1px 1px 1px 1px);clip: rect(1px, 1px, 1px, 1px);height: 1px;margin: -1px;overflow: hidden;padding: 0;position: absolute;width: 1px;}#sk-container-id-4 div.sk-estimator {font-family: monospace;background-color: #f0f8ff;border: 1px dotted black;border-radius: 0.25em;box-sizing: border-box;margin-bottom: 0.5em;}#sk-container-id-4 div.sk-estimator:hover {background-color: #d4ebff;}#sk-container-id-4 div.sk-parallel-item::after {content: \"\";width: 100%;border-bottom: 1px solid gray;flex-grow: 1;}#sk-container-id-4 div.sk-label:hover label.sk-toggleable__label {background-color: #d4ebff;}#sk-container-id-4 div.sk-serial::before {content: \"\";position: absolute;border-left: 1px solid gray;box-sizing: border-box;top: 0;bottom: 0;left: 50%;z-index: 0;}#sk-container-id-4 div.sk-serial {display: flex;flex-direction: column;align-items: center;background-color: white;padding-right: 0.2em;padding-left: 0.2em;position: relative;}#sk-container-id-4 div.sk-item {position: relative;z-index: 1;}#sk-container-id-4 div.sk-parallel {display: flex;align-items: stretch;justify-content: center;background-color: white;position: relative;}#sk-container-id-4 div.sk-item::before, #sk-container-id-4 div.sk-parallel-item::before {content: \"\";position: absolute;border-left: 1px solid gray;box-sizing: border-box;top: 0;bottom: 0;left: 50%;z-index: -1;}#sk-container-id-4 div.sk-parallel-item {display: flex;flex-direction: column;z-index: 1;position: relative;background-color: white;}#sk-container-id-4 div.sk-parallel-item:first-child::after {align-self: flex-end;width: 50%;}#sk-container-id-4 div.sk-parallel-item:last-child::after {align-self: flex-start;width: 50%;}#sk-container-id-4 div.sk-parallel-item:only-child::after {width: 0;}#sk-container-id-4 div.sk-dashed-wrapped {border: 1px dashed gray;margin: 0 0.4em 0.5em 0.4em;box-sizing: border-box;padding-bottom: 0.4em;background-color: white;}#sk-container-id-4 div.sk-label label {font-family: monospace;font-weight: bold;display: inline-block;line-height: 1.2em;}#sk-container-id-4 div.sk-label-container {text-align: center;}#sk-container-id-4 div.sk-container {/* jupyter's `normalize.less` sets `[hidden] { display: none; }` but bootstrap.min.css set `[hidden] { display: none !important; }` so we also need the `!important` here to be able to override the default hidden behavior on the sphinx rendered scikit-learn.org. See: https://github.com/scikit-learn/scikit-learn/issues/21755 */display: inline-block !important;position: relative;}#sk-container-id-4 div.sk-text-repr-fallback {display: none;}</style><div id=\"sk-container-id-4\" class=\"sk-top-container\"><div class=\"sk-text-repr-fallback\"><pre>RandomForestClassifier(class_weight=&#x27;balanced&#x27;, n_estimators=1000)</pre><b>In a Jupyter environment, please rerun this cell to show the HTML representation or trust the notebook. <br />On GitHub, the HTML representation is unable to render, please try loading this page with nbviewer.org.</b></div><div class=\"sk-container\" hidden><div class=\"sk-item\"><div class=\"sk-estimator sk-toggleable\"><input class=\"sk-toggleable__control sk-hidden--visually\" id=\"sk-estimator-id-4\" type=\"checkbox\" checked><label for=\"sk-estimator-id-4\" class=\"sk-toggleable__label sk-toggleable__label-arrow\">RandomForestClassifier</label><div class=\"sk-toggleable__content\"><pre>RandomForestClassifier(class_weight=&#x27;balanced&#x27;, n_estimators=1000)</pre></div></div></div></div></div>"
            ]
          },
          "metadata": {},
          "execution_count": 97
        }
      ],
      "source": [
        "from sklearn.ensemble import RandomForestClassifier\n",
        "from sklearn.metrics import accuracy_score, classification_report\n",
        "\n",
        "\n",
        "# Example: Training individual models\n",
        "model_rf = RandomForestClassifier(class_weight='balanced', n_estimators=1000)  #use class_weight='balanced'\n",
        "model_rf.fit(X_train_spacy, y_train_over)"
      ]
    },
    {
      "cell_type": "code",
      "execution_count": null,
      "metadata": {
        "colab": {
          "base_uri": "https://localhost:8080/"
        },
        "outputId": "6ab76482-0a1e-496a-dab5-eadf7531cc3d",
        "id": "_BIFHb4dxiZb"
      },
      "outputs": [
        {
          "output_type": "stream",
          "name": "stdout",
          "text": [
            "Accuracy: 0.6446862996158771\n",
            "Classification Report:\n",
            "              precision    recall  f1-score   support\n",
            "\n",
            "           0       0.64      0.93      0.76       921\n",
            "           1       0.96      0.39      0.56       141\n",
            "           2       0.59      0.19      0.29       500\n",
            "\n",
            "    accuracy                           0.64      1562\n",
            "   macro avg       0.73      0.50      0.53      1562\n",
            "weighted avg       0.65      0.64      0.59      1562\n",
            "\n"
          ]
        }
      ],
      "source": [
        "\n",
        "y_pred = model_rf.predict(X_test_spacy)\n",
        "\n",
        "accuracy = accuracy_score(y_test, y_pred)\n",
        "report = classification_report(y_test, y_pred)\n",
        "\n",
        "print(f\"Accuracy: {accuracy}\")\n",
        "print(\"Classification Report:\")\n",
        "print(report)             #estimator 1000--> 0.58      0.57      0.57"
      ]
    },
    {
      "cell_type": "markdown",
      "metadata": {
        "id": "zc1TD3lY5QY4"
      },
      "source": [
        "# Deep Learning\n"
      ]
    },
    {
      "cell_type": "markdown",
      "metadata": {
        "id": "-6bUcjoB5QY5"
      },
      "source": [
        "## Glove BiGRU\n"
      ]
    },
    {
      "cell_type": "code",
      "execution_count": null,
      "metadata": {
        "id": "IUH3F6Oo5QY5"
      },
      "outputs": [],
      "source": [
        "import tensorflow as tf\n",
        "from tensorflow import keras\n",
        "from tensorflow.keras.preprocessing.sequence import pad_sequences\n",
        "from tensorflow.keras.preprocessing.text import Tokenizer\n",
        "from tensorflow.keras import regularizers\n",
        "from tensorflow.keras.layers import LSTM,GRU\n",
        "from tensorflow.keras.models import load_model"
      ]
    },
    {
      "cell_type": "code",
      "execution_count": null,
      "metadata": {
        "id": "1KhT1Bc_5QY6"
      },
      "outputs": [],
      "source": [
        "tokenizer = Tokenizer(num_words = 116000,filters='!\"#$%&()*+,-./:;<=>?@[\\\\]^_`{|}~\\t\\n-',\n",
        "                      split=' ', char_level=False, oov_token='<oov>', document_count=0)     #tokenization\n",
        "tokenizer.fit_on_texts(Ctrain_over['cleanText'])\n",
        "word_index = tokenizer.word_index\n",
        "vocab_size = len(word_index)+1"
      ]
    },
    {
      "cell_type": "code",
      "execution_count": null,
      "metadata": {
        "id": "ycPdXgEZ5QY9"
      },
      "outputs": [],
      "source": [
        "import numpy as np\n",
        "import pandas as pd\n",
        "from sklearn.model_selection import train_test_split\n",
        "from sklearn.preprocessing import LabelEncoder\n",
        "from tensorflow.keras.preprocessing.text import Tokenizer\n",
        "from tensorflow.keras.preprocessing.sequence import pad_sequences\n",
        "from tensorflow.keras.models import Sequential\n",
        "from tensorflow.keras.layers import Embedding, Bidirectional, LSTM, Conv1D, MaxPooling1D, Flatten, Dense, Dropout\n",
        "from tensorflow.keras.utils import to_categorical\n",
        "from gensim.scripts.glove2word2vec import glove2word2vec\n",
        "from gensim.models import KeyedVectors\n",
        "\n",
        "# Load GloVe embeddings\n",
        "glove_file = '/content/drive/MyDrive/Colab Notebooks/CASE 2024/glove.twitter.27B.100d.txt'  # Specify the path to your GloVe file\n",
        "word2vec_output_file = '/content/drive/MyDrive/Colab Notebooks/CASE 2024/glove.twitter.27B.100d.word2vec'\n",
        "#glove2word2vec(glove_file, word2vec_output_file)\n",
        "glove_model = KeyedVectors.load_word2vec_format(word2vec_output_file, binary=False)\n"
      ]
    },
    {
      "cell_type": "code",
      "execution_count": null,
      "metadata": {
        "id": "o-uGK5FL5QY-"
      },
      "outputs": [],
      "source": [
        "# Create an embedding matrix\n",
        "embedding_matrix = np.zeros((len(tokenizer.word_index) + 1, 100))  # Assuming GloVe embeddings are 300-dimensional\n",
        "for word, i in tokenizer.word_index.items():\n",
        "    if word in glove_model:\n",
        "        embedding_matrix[i] = glove_model[word]"
      ]
    },
    {
      "cell_type": "code",
      "execution_count": null,
      "metadata": {
        "colab": {
          "base_uri": "https://localhost:8080/"
        },
        "id": "B93_v8Kh5QY7",
        "outputId": "40e38a4b-b613-458c-ee6c-e89d344a332c"
      },
      "outputs": [
        {
          "output_type": "stream",
          "name": "stdout",
          "text": [
            "13989\n"
          ]
        }
      ],
      "source": [
        "print(vocab_size)"
      ]
    },
    {
      "cell_type": "code",
      "execution_count": null,
      "metadata": {
        "colab": {
          "base_uri": "https://localhost:8080/"
        },
        "id": "5F9yZ6bZ5QY7",
        "outputId": "5235d7da-e5d1-4ff9-8fd1-375cf6d8d887"
      },
      "outputs": [
        {
          "output_type": "stream",
          "name": "stdout",
          "text": [
            "13988\n",
            "Number of Training Sequences : (10105, 256)\n",
            "Number of Validation Sequences : (1561, 256)\n",
            "Number of test Sequences : (1562, 256)\n"
          ]
        }
      ],
      "source": [
        "max_len = 256\n",
        "# Training Sequences\n",
        "train_sequences = tokenizer.texts_to_sequences(X_train_over)\n",
        "print(len(tokenizer.word_index))\n",
        "train_pad_sequences =  pad_sequences(train_sequences, value=0.0, padding='post', maxlen= max_len)\n",
        "print(\"Number of Training Sequences :\" ,train_pad_sequences.shape)\n",
        "\n",
        "# Validation Sequences\n",
        "validation_sequences = tokenizer.texts_to_sequences(X_valid)\n",
        "validation_pad_sequences =  pad_sequences(validation_sequences, value=0.0, padding='post', maxlen= max_len)\n",
        "print(\"Number of Validation Sequences :\" ,validation_pad_sequences.shape)\n",
        "\n",
        "# Validation Sequences\n",
        "test_sequences = tokenizer.texts_to_sequences(X_test)\n",
        "test_pad_sequences =  pad_sequences(test_sequences, value=0.0, padding='post', maxlen= max_len)\n",
        "print(\"Number of test Sequences :\" ,test_pad_sequences.shape)"
      ]
    },
    {
      "cell_type": "code",
      "execution_count": null,
      "metadata": {
        "colab": {
          "base_uri": "https://localhost:8080/"
        },
        "id": "PC7CUrvb5QY8",
        "outputId": "c9ca75a5-19ea-4b75-fd87-abcb537215bb"
      },
      "outputs": [
        {
          "output_type": "stream",
          "name": "stdout",
          "text": [
            "[2 0 1]\n",
            "[0 2 1]\n"
          ]
        }
      ],
      "source": [
        "Cval['enc_label'] = Cval['label'] - 1\n",
        "Ctrain_over['enc_label'] = Ctrain_over['label'] - 1\n",
        "Ctest['enc_label'] = Ctest['label'] - 1\n",
        "print(Cval['enc_label'].unique())\n",
        "print(Ctrain_over['enc_label'].unique())"
      ]
    },
    {
      "cell_type": "code",
      "execution_count": null,
      "metadata": {
        "colab": {
          "base_uri": "https://localhost:8080/"
        },
        "id": "5AfC_g7c5QY8",
        "outputId": "5578c9c4-31c6-4680-80d5-c137eeb91546"
      },
      "outputs": [
        {
          "output_type": "stream",
          "name": "stdout",
          "text": [
            "Model: \"sequential\"\n",
            "_________________________________________________________________\n",
            " Layer (type)                Output Shape              Param #   \n",
            "=================================================================\n",
            " embedding (Embedding)       (None, 256, 100)          1398900   \n",
            "                                                                 \n",
            " bidirectional (Bidirection  (None, 256, 256)          176640    \n",
            " al)                                                             \n",
            "                                                                 \n",
            " flatten (Flatten)           (None, 65536)             0         \n",
            "                                                                 \n",
            " dense (Dense)               (None, 128)               8388736   \n",
            "                                                                 \n",
            " dropout (Dropout)           (None, 128)               0         \n",
            "                                                                 \n",
            " dense_1 (Dense)             (None, 3)                 387       \n",
            "                                                                 \n",
            "=================================================================\n",
            "Total params: 9964663 (38.01 MB)\n",
            "Trainable params: 8565763 (32.68 MB)\n",
            "Non-trainable params: 1398900 (5.34 MB)\n",
            "_________________________________________________________________\n"
          ]
        }
      ],
      "source": [
        "num_classes = 3            #### change class number\n",
        "\n",
        "accuracy_threshold = 0.99\n",
        "\n",
        "class myCallback(keras.callbacks.Callback):\n",
        "  def on_epoch_end(self, epoch, logs={}):\n",
        "      if(logs.get('accuracy')>accuracy_threshold):\n",
        "        print(\"\\nReached %2.2f%% accuracy so we will stop trianing\" % (accuracy_threshold*100))\n",
        "        self.model.stop_training = True\n",
        "\n",
        "acc_callback = myCallback()\n",
        "# Saved the Best Model\n",
        "filepath =  \"OverTaskB_BiGRU_tf.h5\"\n",
        "checkpoint = keras.callbacks.ModelCheckpoint(filepath, monitor='val_accuracy', verbose=2, save_best_only=True,\n",
        "                                             save_weights_only=False, mode='max')\n",
        "# callback list\n",
        "callback_list = [acc_callback, checkpoint]\n",
        "model = Sequential()\n",
        "model.add(Embedding(len(tokenizer.word_index) + 1, 100, input_length=max_len, weights=[embedding_matrix], trainable=False))\n",
        "model.add(Bidirectional(GRU(units = 128,return_sequences=True,dropout = 0.2)))\n",
        "# model.add(Conv1D(64, 3, activation='relu'))\n",
        "# model.add(MaxPooling1D(3))\n",
        "model.add(Flatten())\n",
        "model.add(Dense(128, activation='relu'))\n",
        "model.add(Dropout(0.2))\n",
        "model.add(Dense(3, activation='softmax'))  # Adjust for binary/multi-class classification\n",
        "\n",
        "model.summary()"
      ]
    },
    {
      "cell_type": "code",
      "execution_count": null,
      "metadata": {
        "colab": {
          "base_uri": "https://localhost:8080/"
        },
        "id": "DvG4QZ865QY8",
        "outputId": "227bf15b-4971-4e23-872f-f3ca18cfb5e3"
      },
      "outputs": [
        {
          "output_type": "stream",
          "name": "stdout",
          "text": [
            "Epoch 1/15\n",
            "316/316 [==============================] - ETA: 0s - loss: 0.6330 - accuracy: 0.6840\n",
            "Epoch 1: val_accuracy improved from -inf to 0.65535, saving model to OverTaskB_BiGRU_tf.h5\n",
            "316/316 [==============================] - 61s 162ms/step - loss: 0.6330 - accuracy: 0.6840 - val_loss: 0.8655 - val_accuracy: 0.6553\n",
            "Epoch 2/15\n",
            "316/316 [==============================] - ETA: 0s - loss: 0.2289 - accuracy: 0.9108\n",
            "Epoch 2: val_accuracy did not improve from 0.65535\n",
            "316/316 [==============================] - 17s 52ms/step - loss: 0.2289 - accuracy: 0.9108 - val_loss: 1.0023 - val_accuracy: 0.6329\n",
            "Epoch 3/15\n",
            "316/316 [==============================] - ETA: 0s - loss: 0.1041 - accuracy: 0.9634\n",
            "Epoch 3: val_accuracy did not improve from 0.65535\n",
            "316/316 [==============================] - 17s 53ms/step - loss: 0.1041 - accuracy: 0.9634 - val_loss: 1.2891 - val_accuracy: 0.6464\n",
            "Epoch 4/15\n",
            "315/316 [============================>.] - ETA: 0s - loss: 0.0685 - accuracy: 0.9794\n",
            "Epoch 4: val_accuracy did not improve from 0.65535\n",
            "316/316 [==============================] - 13s 42ms/step - loss: 0.0686 - accuracy: 0.9793 - val_loss: 1.3862 - val_accuracy: 0.6477\n",
            "Epoch 5/15\n",
            "316/316 [==============================] - ETA: 0s - loss: 0.0542 - accuracy: 0.9837\n",
            "Epoch 5: val_accuracy did not improve from 0.65535\n",
            "316/316 [==============================] - 13s 40ms/step - loss: 0.0542 - accuracy: 0.9837 - val_loss: 1.5071 - val_accuracy: 0.6284\n",
            "Epoch 6/15\n",
            "316/316 [==============================] - ETA: 0s - loss: 0.0432 - accuracy: 0.9860\n",
            "Epoch 6: val_accuracy did not improve from 0.65535\n",
            "316/316 [==============================] - 15s 48ms/step - loss: 0.0432 - accuracy: 0.9860 - val_loss: 1.7445 - val_accuracy: 0.6355\n",
            "Epoch 7/15\n",
            "315/316 [============================>.] - ETA: 0s - loss: 0.0363 - accuracy: 0.9897\n",
            "Epoch 7: val_accuracy did not improve from 0.65535\n",
            "316/316 [==============================] - 12s 36ms/step - loss: 0.0362 - accuracy: 0.9897 - val_loss: 1.7468 - val_accuracy: 0.6246\n",
            "Epoch 8/15\n",
            "315/316 [============================>.] - ETA: 0s - loss: 0.0293 - accuracy: 0.9910\n",
            "Reached 99.00% accuracy so we will stop trianing\n",
            "\n",
            "Epoch 8: val_accuracy did not improve from 0.65535\n",
            "316/316 [==============================] - 12s 38ms/step - loss: 0.0292 - accuracy: 0.9910 - val_loss: 1.9156 - val_accuracy: 0.6176\n"
          ]
        }
      ],
      "source": [
        "model.compile(optimizer=keras.optimizers.Adam(learning_rate=0.001),\n",
        "    loss='sparse_categorical_crossentropy',\n",
        "    metrics=['accuracy'])\n",
        "\n",
        "history = model.fit(\n",
        "    train_pad_sequences,\n",
        "    Ctrain_over['enc_label'],\n",
        "    epochs=15,\n",
        "    batch_size=32,\n",
        "    validation_data=(validation_pad_sequences, Cval['enc_label']),\n",
        "    verbose=1,\n",
        "    callbacks=callback_list\n",
        ")"
      ]
    },
    {
      "cell_type": "code",
      "execution_count": null,
      "metadata": {
        "colab": {
          "base_uri": "https://localhost:8080/"
        },
        "id": "EpAwvghq5QY8",
        "outputId": "50fa5a98-999d-4518-b7dc-3c63a2ddd3f0"
      },
      "outputs": [
        {
          "output_type": "stream",
          "name": "stdout",
          "text": [
            "49/49 [==============================] - 1s 11ms/step\n",
            "F1-Score: 63.65863625587228\n",
            "Accuracy: 65.5349135169763\n"
          ]
        }
      ],
      "source": [
        "# Load the saved model\n",
        "model = load_model(filepath)\n",
        "# prediction\n",
        "y_pred = np.argmax(model.predict(validation_pad_sequences), axis=-1)\n",
        "\n",
        "print(\"F1-Score:\",f1_score(Cval['enc_label'],y_pred,average='macro')*100)\n",
        "print(\"Accuracy:\",accuracy_score(Cval['enc_label'],y_pred)*100)"
      ]
    },
    {
      "cell_type": "code",
      "execution_count": null,
      "metadata": {
        "colab": {
          "base_uri": "https://localhost:8080/"
        },
        "id": "v0kS7Ob65QY9",
        "outputId": "11309d4e-4113-4c20-d539-a0998c982dda"
      },
      "outputs": [
        {
          "output_type": "stream",
          "name": "stdout",
          "text": [
            "Classification Report:\n",
            "              precision    recall  f1-score   support\n",
            "\n",
            "           0       0.69      0.80      0.74       897\n",
            "           1       0.85      0.60      0.70       153\n",
            "           2       0.52      0.42      0.47       511\n",
            "\n",
            "    accuracy                           0.66      1561\n",
            "   macro avg       0.69      0.61      0.64      1561\n",
            "weighted avg       0.65      0.66      0.65      1561\n",
            "\n"
          ]
        }
      ],
      "source": [
        "from sklearn.metrics import classification_report\n",
        "\n",
        "#Show precision and recall per genre\n",
        "report = classification_report(Cval['enc_label'], y_pred)\n",
        "\n",
        "#print(f\"Accuracy: {accuracy:.4f}\")\n",
        "print(\"Classification Report:\")\n",
        "print(report)"
      ]
    },
    {
      "cell_type": "code",
      "source": [
        "y_pred = np.argmax(model.predict(test_pad_sequences), axis=-1)\n",
        "from sklearn.metrics import classification_report\n",
        "\n",
        "#Show precision and recall per genre\n",
        "report = classification_report(Ctest['enc_label'], y_pred)\n",
        "\n",
        "#print(f\"Accuracy: {accuracy:.4f}\")\n",
        "print(\"Classification Report:\")\n",
        "print(report)"
      ],
      "metadata": {
        "colab": {
          "base_uri": "https://localhost:8080/"
        },
        "id": "bhb56Yr6odEK",
        "outputId": "037ac277-0671-4cad-8fd7-c2889256f114"
      },
      "execution_count": null,
      "outputs": [
        {
          "output_type": "stream",
          "name": "stdout",
          "text": [
            "49/49 [==============================] - 1s 10ms/step\n",
            "Classification Report:\n",
            "              precision    recall  f1-score   support\n",
            "\n",
            "           0       0.71      0.82      0.76       921\n",
            "           1       0.93      0.65      0.76       141\n",
            "           2       0.55      0.44      0.49       500\n",
            "\n",
            "    accuracy                           0.68      1562\n",
            "   macro avg       0.73      0.63      0.67      1562\n",
            "weighted avg       0.68      0.68      0.67      1562\n",
            "\n"
          ]
        }
      ]
    },
    {
      "cell_type": "markdown",
      "metadata": {
        "id": "yqjvh0m75QY9"
      },
      "source": [
        "## Glove BiLSTM + CNN"
      ]
    },
    {
      "cell_type": "code",
      "execution_count": null,
      "metadata": {
        "id": "U_kEzJAE5QY-"
      },
      "outputs": [],
      "source": [
        "#folderpath = \"/content/drive/MyDrive/Colab Notebooks/case/TaskB\""
      ]
    },
    {
      "cell_type": "code",
      "execution_count": null,
      "metadata": {
        "colab": {
          "base_uri": "https://localhost:8080/"
        },
        "id": "wC2tKWKo5QY-",
        "outputId": "f1fe935d-363d-44f5-b6b8-dd2409c60b6c"
      },
      "outputs": [
        {
          "output_type": "stream",
          "name": "stdout",
          "text": [
            "Model: \"sequential_2\"\n",
            "_________________________________________________________________\n",
            " Layer (type)                Output Shape              Param #   \n",
            "=================================================================\n",
            " embedding_2 (Embedding)     (None, 256, 100)          1398900   \n",
            "                                                                 \n",
            " bidirectional_2 (Bidirecti  (None, 256, 128)          84480     \n",
            " onal)                                                           \n",
            "                                                                 \n",
            " conv1d (Conv1D)             (None, 254, 64)           24640     \n",
            "                                                                 \n",
            " max_pooling1d (MaxPooling1  (None, 84, 64)            0         \n",
            " D)                                                              \n",
            "                                                                 \n",
            " flatten_2 (Flatten)         (None, 5376)              0         \n",
            "                                                                 \n",
            " dense_2 (Dense)             (None, 128)               688256    \n",
            "                                                                 \n",
            " dropout_40 (Dropout)        (None, 128)               0         \n",
            "                                                                 \n",
            " dense_3 (Dense)             (None, 3)                 387       \n",
            "                                                                 \n",
            "=================================================================\n",
            "Total params: 2196663 (8.38 MB)\n",
            "Trainable params: 797763 (3.04 MB)\n",
            "Non-trainable params: 1398900 (5.34 MB)\n",
            "_________________________________________________________________\n"
          ]
        }
      ],
      "source": [
        "from tensorflow.keras.metrics import Precision, Recall\n",
        "\n",
        "num_classes = 3            #### change class number\n",
        "\n",
        "accuracy_threshold = 0.99\n",
        "\n",
        "class myCallback(keras.callbacks.Callback):\n",
        "  def on_epoch_end(self, epoch, logs={}):\n",
        "      if(logs.get('accuracy')>accuracy_threshold):\n",
        "        print(\"\\nReached %2.2f%% accuracy so we will stop trianing\" % (accuracy_threshold*100))\n",
        "        self.model.stop_training = True\n",
        "\n",
        "acc_callback = myCallback()\n",
        "# Saved the Best Model\n",
        "filepath =  \"Overglovebilstmcnn.h5\"\n",
        "checkpoint = keras.callbacks.ModelCheckpoint(filepath, monitor='val_accuracy', verbose=2, save_best_only=True,\n",
        "                                             save_weights_only=False, mode='max')\n",
        "# callback list\n",
        "callback_list = [acc_callback, checkpoint]\n",
        "# Build the model\n",
        "model = Sequential()\n",
        "model.add(Embedding(len(tokenizer.word_index) + 1, 100, input_length=max_len, weights=[embedding_matrix], trainable=False))\n",
        "model.add(Bidirectional(LSTM(64, return_sequences=True)))\n",
        "model.add(Conv1D(64, 3, activation='relu'))\n",
        "model.add(MaxPooling1D(3))\n",
        "model.add(Flatten())\n",
        "model.add(Dense(128, activation='relu'))\n",
        "model.add(Dropout(0.2))\n",
        "model.add(Dense(3, activation='softmax'))  # Adjust for binary/multi-class classification\n",
        "\n",
        "model.summary()"
      ]
    },
    {
      "cell_type": "code",
      "execution_count": null,
      "metadata": {
        "id": "vpl053Ru5QY-"
      },
      "outputs": [],
      "source": [
        "model.compile(optimizer=keras.optimizers.Adam(learning_rate=0.001), loss='sparse_categorical_crossentropy', metrics=['accuracy'])\n"
      ]
    },
    {
      "cell_type": "code",
      "execution_count": null,
      "metadata": {
        "colab": {
          "base_uri": "https://localhost:8080/"
        },
        "id": "JHiXuiwQ5QY_",
        "outputId": "1551237f-a686-4629-8d9d-90021111a106"
      },
      "outputs": [
        {
          "output_type": "stream",
          "name": "stdout",
          "text": [
            "Epoch 1/15\n",
            "316/316 [==============================] - ETA: 0s - loss: 0.8242 - accuracy: 0.5793\n",
            "Epoch 1: val_accuracy improved from -inf to 0.63677, saving model to Overglovebilstmcnn.h5\n",
            "316/316 [==============================] - 16s 25ms/step - loss: 0.8242 - accuracy: 0.5793 - val_loss: 0.7746 - val_accuracy: 0.6368\n",
            "Epoch 2/15\n",
            "315/316 [============================>.] - ETA: 0s - loss: 0.5717 - accuracy: 0.7082\n",
            "Epoch 2: val_accuracy did not improve from 0.63677\n",
            "316/316 [==============================] - 7s 21ms/step - loss: 0.5715 - accuracy: 0.7082 - val_loss: 0.7945 - val_accuracy: 0.6304\n",
            "Epoch 3/15\n",
            "315/316 [============================>.] - ETA: 0s - loss: 0.4839 - accuracy: 0.7538\n",
            "Epoch 3: val_accuracy did not improve from 0.63677\n",
            "316/316 [==============================] - 6s 18ms/step - loss: 0.4842 - accuracy: 0.7536 - val_loss: 0.8510 - val_accuracy: 0.6336\n",
            "Epoch 4/15\n",
            "313/316 [============================>.] - ETA: 0s - loss: 0.4255 - accuracy: 0.7949\n",
            "Epoch 4: val_accuracy improved from 0.63677 to 0.64574, saving model to Overglovebilstmcnn.h5\n",
            "316/316 [==============================] - 7s 23ms/step - loss: 0.4253 - accuracy: 0.7952 - val_loss: 0.9125 - val_accuracy: 0.6457\n",
            "Epoch 5/15\n",
            "315/316 [============================>.] - ETA: 0s - loss: 0.3593 - accuracy: 0.8372\n",
            "Epoch 5: val_accuracy improved from 0.64574 to 0.64958, saving model to Overglovebilstmcnn.h5\n",
            "316/316 [==============================] - 6s 18ms/step - loss: 0.3593 - accuracy: 0.8372 - val_loss: 1.0476 - val_accuracy: 0.6496\n",
            "Epoch 6/15\n",
            "314/316 [============================>.] - ETA: 0s - loss: 0.2801 - accuracy: 0.8760\n",
            "Epoch 6: val_accuracy did not improve from 0.64958\n",
            "316/316 [==============================] - 7s 23ms/step - loss: 0.2799 - accuracy: 0.8762 - val_loss: 1.1064 - val_accuracy: 0.6387\n",
            "Epoch 7/15\n",
            "313/316 [============================>.] - ETA: 0s - loss: 0.2102 - accuracy: 0.9125\n",
            "Epoch 7: val_accuracy did not improve from 0.64958\n",
            "316/316 [==============================] - 6s 18ms/step - loss: 0.2106 - accuracy: 0.9123 - val_loss: 1.2944 - val_accuracy: 0.6470\n",
            "Epoch 8/15\n",
            "314/316 [============================>.] - ETA: 0s - loss: 0.1657 - accuracy: 0.9325\n",
            "Epoch 8: val_accuracy did not improve from 0.64958\n",
            "316/316 [==============================] - 7s 21ms/step - loss: 0.1664 - accuracy: 0.9319 - val_loss: 1.4921 - val_accuracy: 0.6323\n",
            "Epoch 9/15\n",
            "313/316 [============================>.] - ETA: 0s - loss: 0.1468 - accuracy: 0.9410\n",
            "Epoch 9: val_accuracy improved from 0.64958 to 0.65151, saving model to Overglovebilstmcnn.h5\n",
            "316/316 [==============================] - 6s 19ms/step - loss: 0.1461 - accuracy: 0.9413 - val_loss: 1.7132 - val_accuracy: 0.6515\n",
            "Epoch 10/15\n",
            "313/316 [============================>.] - ETA: 0s - loss: 0.1299 - accuracy: 0.9484\n",
            "Epoch 10: val_accuracy did not improve from 0.65151\n",
            "316/316 [==============================] - 6s 18ms/step - loss: 0.1302 - accuracy: 0.9483 - val_loss: 1.7007 - val_accuracy: 0.6445\n",
            "Epoch 11/15\n",
            "315/316 [============================>.] - ETA: 0s - loss: 0.1279 - accuracy: 0.9497\n",
            "Epoch 11: val_accuracy improved from 0.65151 to 0.65343, saving model to Overglovebilstmcnn.h5\n",
            "316/316 [==============================] - 7s 22ms/step - loss: 0.1279 - accuracy: 0.9497 - val_loss: 1.8082 - val_accuracy: 0.6534\n",
            "Epoch 12/15\n",
            "314/316 [============================>.] - ETA: 0s - loss: 0.1048 - accuracy: 0.9586\n",
            "Epoch 12: val_accuracy did not improve from 0.65343\n",
            "316/316 [==============================] - 6s 18ms/step - loss: 0.1054 - accuracy: 0.9583 - val_loss: 1.8915 - val_accuracy: 0.6336\n",
            "Epoch 13/15\n",
            "316/316 [==============================] - ETA: 0s - loss: 0.0954 - accuracy: 0.9611\n",
            "Epoch 13: val_accuracy did not improve from 0.65343\n",
            "316/316 [==============================] - 7s 22ms/step - loss: 0.0954 - accuracy: 0.9611 - val_loss: 1.9829 - val_accuracy: 0.6240\n",
            "Epoch 14/15\n",
            "314/316 [============================>.] - ETA: 0s - loss: 0.0870 - accuracy: 0.9633\n",
            "Epoch 14: val_accuracy did not improve from 0.65343\n",
            "316/316 [==============================] - 6s 18ms/step - loss: 0.0874 - accuracy: 0.9633 - val_loss: 2.2008 - val_accuracy: 0.6406\n",
            "Epoch 15/15\n",
            "315/316 [============================>.] - ETA: 0s - loss: 0.0769 - accuracy: 0.9665\n",
            "Epoch 15: val_accuracy did not improve from 0.65343\n",
            "316/316 [==============================] - 7s 23ms/step - loss: 0.0771 - accuracy: 0.9664 - val_loss: 2.2303 - val_accuracy: 0.6188\n"
          ]
        }
      ],
      "source": [
        "history = model.fit(\n",
        "    train_pad_sequences,\n",
        "    Ctrain_over['enc_label'],\n",
        "    epochs=15,\n",
        "    batch_size=32,\n",
        "    validation_data=(validation_pad_sequences, Cval['enc_label']),\n",
        "    verbose=1,\n",
        "    callbacks=callback_list\n",
        ")"
      ]
    },
    {
      "cell_type": "code",
      "execution_count": null,
      "metadata": {
        "colab": {
          "base_uri": "https://localhost:8080/"
        },
        "id": "FEHLlPOO5QY_",
        "outputId": "4597af50-87da-40e0-d834-a0282fc04f44"
      },
      "outputs": [
        {
          "output_type": "stream",
          "name": "stdout",
          "text": [
            "49/49 [==============================] - 1s 10ms/step\n",
            "Classification Report for Loaded Model:\n",
            "               precision    recall  f1-score   support\n",
            "\n",
            "           0     0.7034    0.7692    0.7348       897\n",
            "           1     0.6871    0.6601    0.6733       153\n",
            "           2     0.5289    0.4481    0.4852       511\n",
            "\n",
            "    accuracy                         0.6534      1561\n",
            "   macro avg     0.6398    0.6258    0.6311      1561\n",
            "weighted avg     0.6446    0.6534    0.6471      1561\n",
            "\n"
          ]
        }
      ],
      "source": [
        "import numpy as np\n",
        "from sklearn.metrics import classification_report\n",
        "\n",
        "# Assuming y_pred is a 2D array of predicted probabilities for each class\n",
        "# Adjust axis parameter if needed based on the shape of your y_pred array\n",
        "loaded_model = load_model(filepath)\n",
        "\n",
        "# Evaluate the model on the validation set\n",
        "y_pred = loaded_model.predict(validation_pad_sequences)\n",
        "y_pred_classes = np.argmax(y_pred, axis=1)\n",
        "\n",
        "# Generate a classification report\n",
        "classification_report_loaded_model = classification_report(Cval['enc_label'], y_pred_classes, digits=4)\n",
        "print('Classification Report for Loaded Model:\\n', classification_report_loaded_model)\n"
      ]
    },
    {
      "cell_type": "code",
      "source": [
        "import numpy as np\n",
        "from sklearn.metrics import classification_report\n",
        "\n",
        "# Assuming y_pred is a 2D array of predicted probabilities for each class\n",
        "# Adjust axis parameter if needed based on the shape of your y_pred array\n",
        "loaded_model = load_model(filepath)\n",
        "\n",
        "# Evaluate the model on the validation set\n",
        "y_pred = loaded_model.predict(test_pad_sequences)\n",
        "y_pred_classes = np.argmax(y_pred, axis=1)\n",
        "\n",
        "# Generate a classification report\n",
        "classification_report_loaded_model = classification_report(Ctest['enc_label'], y_pred_classes, digits=4)\n",
        "print('Classification Report for Loaded Model:\\n', classification_report_loaded_model)\n"
      ],
      "metadata": {
        "colab": {
          "base_uri": "https://localhost:8080/"
        },
        "id": "q1bCBNAio6E7",
        "outputId": "2085b5a5-1631-4ba1-911a-f1ba01eecb9c"
      },
      "execution_count": null,
      "outputs": [
        {
          "output_type": "stream",
          "name": "stdout",
          "text": [
            "49/49 [==============================] - 1s 13ms/step\n",
            "Classification Report for Loaded Model:\n",
            "               precision    recall  f1-score   support\n",
            "\n",
            "           0     0.6892    0.7416    0.7144       921\n",
            "           1     0.7594    0.7163    0.7372       141\n",
            "           2     0.4772    0.4180    0.4456       500\n",
            "\n",
            "    accuracy                         0.6357      1562\n",
            "   macro avg     0.6419    0.6253    0.6324      1562\n",
            "weighted avg     0.6277    0.6357    0.6304      1562\n",
            "\n"
          ]
        }
      ]
    },
    {
      "cell_type": "markdown",
      "metadata": {
        "id": "mirYQe9y5QY_"
      },
      "source": [
        "## Glove BiLSTM"
      ]
    },
    {
      "cell_type": "code",
      "execution_count": null,
      "metadata": {
        "colab": {
          "base_uri": "https://localhost:8080/"
        },
        "id": "DzNcyCSn5QY_",
        "outputId": "415f49b0-f7b7-482f-b8c8-c13120f89532"
      },
      "outputs": [
        {
          "output_type": "stream",
          "name": "stdout",
          "text": [
            "Model: \"sequential_3\"\n",
            "_________________________________________________________________\n",
            " Layer (type)                Output Shape              Param #   \n",
            "=================================================================\n",
            " embedding_3 (Embedding)     (None, 256, 100)          1398900   \n",
            "                                                                 \n",
            " bidirectional_3 (Bidirecti  (None, 256, 128)          84480     \n",
            " onal)                                                           \n",
            "                                                                 \n",
            " flatten_3 (Flatten)         (None, 32768)             0         \n",
            "                                                                 \n",
            " dense_4 (Dense)             (None, 128)               4194432   \n",
            "                                                                 \n",
            " dropout_41 (Dropout)        (None, 128)               0         \n",
            "                                                                 \n",
            " dense_5 (Dense)             (None, 3)                 387       \n",
            "                                                                 \n",
            "=================================================================\n",
            "Total params: 5678199 (21.66 MB)\n",
            "Trainable params: 4279299 (16.32 MB)\n",
            "Non-trainable params: 1398900 (5.34 MB)\n",
            "_________________________________________________________________\n"
          ]
        }
      ],
      "source": [
        "num_classes = 3            #### change class number\n",
        "\n",
        "accuracy_threshold = 0.99\n",
        "\n",
        "class myCallback(keras.callbacks.Callback):\n",
        "  def on_epoch_end(self, epoch, logs={}):\n",
        "      if(logs.get('accuracy')>accuracy_threshold):\n",
        "        print(\"\\nReached %2.2f%% accuracy so we will stop trianing\" % (accuracy_threshold*100))\n",
        "        self.model.stop_training = True\n",
        "\n",
        "acc_callback = myCallback()\n",
        "# Saved the Best Model\n",
        "filepath =  \"Overglovebilstm.h5\"\n",
        "checkpoint = keras.callbacks.ModelCheckpoint(filepath, monitor='val_accuracy', verbose=2, save_best_only=True,\n",
        "                                             save_weights_only=False, mode='max')\n",
        "# callback list\n",
        "callback_list = [acc_callback, checkpoint]\n",
        "# Build the model\n",
        "model = Sequential()\n",
        "model.add(Embedding(len(tokenizer.word_index) + 1, 100, input_length=max_len, weights=[embedding_matrix], trainable=False))\n",
        "model.add(Bidirectional(LSTM(64, return_sequences=True)))\n",
        "# model.add(Conv1D(64, 3, activation='relu'))\n",
        "# model.add(MaxPooling1D(3))\n",
        "model.add(Flatten())\n",
        "model.add(Dense(128, activation='relu'))\n",
        "model.add(Dropout(0.2))\n",
        "model.add(Dense(3, activation='softmax'))  # Adjust for binary/multi-class classification\n",
        "\n",
        "model.summary()"
      ]
    },
    {
      "cell_type": "code",
      "execution_count": null,
      "metadata": {
        "colab": {
          "base_uri": "https://localhost:8080/"
        },
        "id": "_rqyrw425QZA",
        "outputId": "25c39d32-3e66-4249-f2ef-bf0682b34c8f"
      },
      "outputs": [
        {
          "output_type": "stream",
          "name": "stdout",
          "text": [
            "Epoch 1/15\n",
            "316/316 [==============================] - ETA: 0s - loss: 0.7974 - accuracy: 0.5995\n",
            "Epoch 1: val_accuracy improved from -inf to 0.64190, saving model to Overglovebilstm.h5\n",
            "316/316 [==============================] - 22s 40ms/step - loss: 0.7974 - accuracy: 0.5995 - val_loss: 0.7808 - val_accuracy: 0.6419\n",
            "Epoch 2/15\n",
            "316/316 [==============================] - ETA: 0s - loss: 0.5365 - accuracy: 0.7304\n",
            "Epoch 2: val_accuracy did not improve from 0.64190\n",
            "316/316 [==============================] - 14s 46ms/step - loss: 0.5365 - accuracy: 0.7304 - val_loss: 0.8479 - val_accuracy: 0.6188\n",
            "Epoch 3/15\n",
            "315/316 [============================>.] - ETA: 0s - loss: 0.4226 - accuracy: 0.7987\n",
            "Epoch 3: val_accuracy did not improve from 0.64190\n",
            "316/316 [==============================] - 10s 31ms/step - loss: 0.4229 - accuracy: 0.7985 - val_loss: 0.9007 - val_accuracy: 0.6304\n",
            "Epoch 4/15\n",
            "315/316 [============================>.] - ETA: 0s - loss: 0.3356 - accuracy: 0.8481\n",
            "Epoch 4: val_accuracy improved from 0.64190 to 0.65279, saving model to Overglovebilstm.h5\n",
            "316/316 [==============================] - 6s 20ms/step - loss: 0.3358 - accuracy: 0.8482 - val_loss: 1.0156 - val_accuracy: 0.6528\n",
            "Epoch 5/15\n",
            "314/316 [============================>.] - ETA: 0s - loss: 0.2562 - accuracy: 0.8885\n",
            "Epoch 5: val_accuracy improved from 0.65279 to 0.66240, saving model to Overglovebilstm.h5\n",
            "316/316 [==============================] - 7s 21ms/step - loss: 0.2568 - accuracy: 0.8887 - val_loss: 1.1535 - val_accuracy: 0.6624\n",
            "Epoch 6/15\n",
            "314/316 [============================>.] - ETA: 0s - loss: 0.2004 - accuracy: 0.9158\n",
            "Epoch 6: val_accuracy did not improve from 0.66240\n",
            "316/316 [==============================] - 6s 18ms/step - loss: 0.2004 - accuracy: 0.9157 - val_loss: 1.3716 - val_accuracy: 0.6470\n",
            "Epoch 7/15\n",
            "314/316 [============================>.] - ETA: 0s - loss: 0.1594 - accuracy: 0.9354\n",
            "Epoch 7: val_accuracy did not improve from 0.66240\n",
            "316/316 [==============================] - 7s 23ms/step - loss: 0.1598 - accuracy: 0.9352 - val_loss: 1.4596 - val_accuracy: 0.6374\n",
            "Epoch 8/15\n",
            "315/316 [============================>.] - ETA: 0s - loss: 0.1382 - accuracy: 0.9436\n",
            "Epoch 8: val_accuracy did not improve from 0.66240\n",
            "316/316 [==============================] - 6s 18ms/step - loss: 0.1383 - accuracy: 0.9436 - val_loss: 1.6271 - val_accuracy: 0.6406\n",
            "Epoch 9/15\n",
            "315/316 [============================>.] - ETA: 0s - loss: 0.1171 - accuracy: 0.9548\n",
            "Epoch 9: val_accuracy did not improve from 0.66240\n",
            "316/316 [==============================] - 7s 22ms/step - loss: 0.1173 - accuracy: 0.9547 - val_loss: 1.8029 - val_accuracy: 0.6464\n",
            "Epoch 10/15\n",
            "314/316 [============================>.] - ETA: 0s - loss: 0.1107 - accuracy: 0.9554\n",
            "Epoch 10: val_accuracy did not improve from 0.66240\n",
            "316/316 [==============================] - 6s 18ms/step - loss: 0.1111 - accuracy: 0.9553 - val_loss: 1.8021 - val_accuracy: 0.6457\n",
            "Epoch 11/15\n",
            "316/316 [==============================] - ETA: 0s - loss: 0.1145 - accuracy: 0.9524\n",
            "Epoch 11: val_accuracy did not improve from 0.66240\n",
            "316/316 [==============================] - 6s 20ms/step - loss: 0.1145 - accuracy: 0.9524 - val_loss: 1.7681 - val_accuracy: 0.6483\n",
            "Epoch 12/15\n",
            "315/316 [============================>.] - ETA: 0s - loss: 0.0922 - accuracy: 0.9610\n",
            "Epoch 12: val_accuracy did not improve from 0.66240\n",
            "316/316 [==============================] - 6s 20ms/step - loss: 0.0924 - accuracy: 0.9609 - val_loss: 1.9288 - val_accuracy: 0.6195\n",
            "Epoch 13/15\n",
            "314/316 [============================>.] - ETA: 0s - loss: 0.0841 - accuracy: 0.9640\n",
            "Epoch 13: val_accuracy did not improve from 0.66240\n",
            "316/316 [==============================] - 6s 18ms/step - loss: 0.0838 - accuracy: 0.9642 - val_loss: 2.0525 - val_accuracy: 0.6284\n",
            "Epoch 14/15\n",
            "316/316 [==============================] - ETA: 0s - loss: 0.0824 - accuracy: 0.9656\n",
            "Epoch 14: val_accuracy did not improve from 0.66240\n",
            "316/316 [==============================] - 7s 22ms/step - loss: 0.0824 - accuracy: 0.9656 - val_loss: 2.1787 - val_accuracy: 0.6272\n",
            "Epoch 15/15\n",
            "314/316 [============================>.] - ETA: 0s - loss: 0.0792 - accuracy: 0.9666\n",
            "Epoch 15: val_accuracy did not improve from 0.66240\n",
            "316/316 [==============================] - 6s 18ms/step - loss: 0.0794 - accuracy: 0.9664 - val_loss: 2.2098 - val_accuracy: 0.6425\n"
          ]
        }
      ],
      "source": [
        "model.compile(optimizer=keras.optimizers.Adam(learning_rate=0.001), loss='sparse_categorical_crossentropy', metrics=['accuracy'])\n",
        "\n",
        "history = model.fit(\n",
        "    train_pad_sequences,\n",
        "    Ctrain_over['enc_label'],\n",
        "    epochs=15,\n",
        "    batch_size=32,\n",
        "    validation_data=(validation_pad_sequences, Cval['enc_label']),\n",
        "    verbose=1,\n",
        "    callbacks=callback_list\n",
        ")"
      ]
    },
    {
      "cell_type": "code",
      "source": [
        "import numpy as np\n",
        "from sklearn.metrics import classification_report\n",
        "\n",
        "# Assuming y_pred is a 2D array of predicted probabilities for each class\n",
        "# Adjust axis parameter if needed based on the shape of your y_pred array\n",
        "loaded_model = load_model(filepath)\n",
        "\n",
        "# Evaluate the model on the validation set\n",
        "y_pred = loaded_model.predict(validation_pad_sequences)\n",
        "y_pred_classes = np.argmax(y_pred, axis=1)\n",
        "\n",
        "# Generate a classification report\n",
        "classification_report_loaded_model = classification_report(Cval['enc_label'], y_pred_classes, digits=4)\n",
        "print('Classification Report for Loaded Model:\\n', classification_report_loaded_model)"
      ],
      "metadata": {
        "colab": {
          "base_uri": "https://localhost:8080/"
        },
        "id": "am0jVpHWpbHP",
        "outputId": "96b0eac6-c7b1-486c-e23d-05779997964e"
      },
      "execution_count": null,
      "outputs": [
        {
          "output_type": "stream",
          "name": "stdout",
          "text": [
            "49/49 [==============================] - 1s 11ms/step\n",
            "Classification Report for Loaded Model:\n",
            "               precision    recall  f1-score   support\n",
            "\n",
            "           0     0.7055    0.7883    0.7446       921\n",
            "           1     0.9000    0.7660    0.8276       141\n",
            "           2     0.5400    0.4460    0.4885       500\n",
            "\n",
            "    accuracy                         0.6767      1562\n",
            "   macro avg     0.7152    0.6667    0.6869      1562\n",
            "weighted avg     0.6701    0.6767    0.6701      1562\n",
            "\n"
          ]
        }
      ]
    },
    {
      "cell_type": "code",
      "execution_count": null,
      "metadata": {
        "colab": {
          "base_uri": "https://localhost:8080/"
        },
        "id": "yIAVfN6o5QZA",
        "outputId": "93adcb5d-d4e7-41ab-f634-5000c8fa57ec"
      },
      "outputs": [
        {
          "output_type": "stream",
          "name": "stdout",
          "text": [
            "49/49 [==============================] - 1s 11ms/step\n",
            "Classification Report for Loaded Model:\n",
            "               precision    recall  f1-score   support\n",
            "\n",
            "           0     0.6961    0.7815    0.7363       897\n",
            "           1     0.8443    0.6732    0.7491       153\n",
            "           2     0.5324    0.4501    0.4878       511\n",
            "\n",
            "    accuracy                         0.6624      1561\n",
            "   macro avg     0.6909    0.6349    0.6577      1561\n",
            "weighted avg     0.6571    0.6624    0.6562      1561\n",
            "\n"
          ]
        }
      ],
      "source": [
        "import numpy as np\n",
        "from sklearn.metrics import classification_report\n",
        "\n",
        "# Assuming y_pred is a 2D array of predicted probabilities for each class\n",
        "# Adjust axis parameter if needed based on the shape of your y_pred array\n",
        "loaded_model = load_model(filepath)\n",
        "\n",
        "# Evaluate the model on the validation set\n",
        "y_pred = loaded_model.predict(test_pad_sequences)\n",
        "y_pred_classes = np.argmax(y_pred, axis=1)\n",
        "\n",
        "# Generate a classification report\n",
        "classification_report_loaded_model = classification_report(Ctest['enc_label'], y_pred_classes, digits=4)\n",
        "print('Classification Report for Loaded Model:\\n', classification_report_loaded_model)\n"
      ]
    },
    {
      "cell_type": "markdown",
      "metadata": {
        "id": "YIxFsiXV5QZA"
      },
      "source": [
        "## Glove CNN + BiGRU"
      ]
    },
    {
      "cell_type": "code",
      "execution_count": null,
      "metadata": {
        "colab": {
          "base_uri": "https://localhost:8080/"
        },
        "id": "_jfKjIpg5QZB",
        "outputId": "f4541637-1c4e-4bbc-a941-a94ac07e1ff2"
      },
      "outputs": [
        {
          "output_type": "stream",
          "name": "stdout",
          "text": [
            "Model: \"model\"\n",
            "_________________________________________________________________\n",
            " Layer (type)                Output Shape              Param #   \n",
            "=================================================================\n",
            " input_1 (InputLayer)        [(None, 256)]             0         \n",
            "                                                                 \n",
            " embedding_4 (Embedding)     (None, 256, 100)          1398900   \n",
            "                                                                 \n",
            " conv1d_1 (Conv1D)           (None, 252, 128)          64128     \n",
            "                                                                 \n",
            " max_pooling1d_1 (MaxPoolin  (None, 50, 128)           0         \n",
            " g1D)                                                            \n",
            "                                                                 \n",
            " bidirectional_4 (Bidirecti  (None, 50, 128)           74496     \n",
            " onal)                                                           \n",
            "                                                                 \n",
            " flatten_4 (Flatten)         (None, 6400)              0         \n",
            "                                                                 \n",
            " dense_6 (Dense)             (None, 128)               819328    \n",
            "                                                                 \n",
            " dropout_42 (Dropout)        (None, 128)               0         \n",
            "                                                                 \n",
            " dense_7 (Dense)             (None, 64)                8256      \n",
            "                                                                 \n",
            " dropout_43 (Dropout)        (None, 64)                0         \n",
            "                                                                 \n",
            " dense_8 (Dense)             (None, 3)                 195       \n",
            "                                                                 \n",
            "=================================================================\n",
            "Total params: 2365303 (9.02 MB)\n",
            "Trainable params: 966403 (3.69 MB)\n",
            "Non-trainable params: 1398900 (5.34 MB)\n",
            "_________________________________________________________________\n"
          ]
        }
      ],
      "source": [
        "from tensorflow.keras.models import Model\n",
        "from tensorflow.keras.layers import Input\n",
        "num_classes = 3            #### change class number\n",
        "\n",
        "accuracy_threshold = 0.99\n",
        "\n",
        "class myCallback(keras.callbacks.Callback):\n",
        "  def on_epoch_end(self, epoch, logs={}):\n",
        "      if(logs.get('accuracy')>accuracy_threshold):\n",
        "        print(\"\\nReached %2.2f%% accuracy so we will stop trianing\" % (accuracy_threshold*100))\n",
        "        self.model.stop_training = True\n",
        "\n",
        "acc_callback = myCallback()\n",
        "# Saved the Best Model\n",
        "filepath =  \"OverTaskBglovebigrucnn.h5\"\n",
        "checkpoint = keras.callbacks.ModelCheckpoint(filepath, monitor='val_accuracy', verbose=2, save_best_only=True,\n",
        "                                             save_weights_only=False, mode='max')\n",
        "# callback list\n",
        "callback_list = [acc_callback, checkpoint]\n",
        "\n",
        "# Model Architecture\n",
        "input_layer = Input(shape=(max_len,), dtype=tf.int32)\n",
        "embedding_layer = Embedding(vocab_size, 100, weights=[embedding_matrix], input_length=max_len, trainable=False)(input_layer)\n",
        "\n",
        "# Convolutional Neural Network (CNN)\n",
        "conv1 = Conv1D(128, 5, activation='relu')(embedding_layer)\n",
        "max_pooling = MaxPooling1D(5)(conv1)\n",
        "\n",
        "# Recurrent Neural Network (RNN)\n",
        "bi_gru = Bidirectional(GRU(units=64, return_sequences=True, dropout=0.2))(max_pooling)\n",
        "\n",
        "# Flatten and Dense Layers\n",
        "flatten = Flatten()(bi_gru)\n",
        "dense1 = Dense(128, activation='relu')(flatten)\n",
        "dropout1 = Dropout(0.2)(dense1)\n",
        "dense2 = Dense(64, activation='relu')(dropout1)\n",
        "dropout2 = Dropout(0.2)(dense2)\n",
        "\n",
        "# Output Layer\n",
        "output_layer = Dense(3, activation='softmax')(dropout2)\n",
        "\n",
        "# Model\n",
        "model = Model(inputs=input_layer, outputs=output_layer)\n",
        "model.summary()"
      ]
    },
    {
      "cell_type": "code",
      "execution_count": null,
      "metadata": {
        "colab": {
          "base_uri": "https://localhost:8080/"
        },
        "id": "BlDe6G4k5QZB",
        "outputId": "52f7bf23-eed7-418b-f942-02be5bb30ce6"
      },
      "outputs": [
        {
          "output_type": "stream",
          "name": "stdout",
          "text": [
            "Epoch 1/15\n",
            "316/316 [==============================] - ETA: 0s - loss: 0.7960 - accuracy: 0.5811\n",
            "Epoch 1: val_accuracy improved from -inf to 0.62332, saving model to OverTaskBglovebigrucnn.h5\n",
            "316/316 [==============================] - 9s 13ms/step - loss: 0.7960 - accuracy: 0.5811 - val_loss: 0.7861 - val_accuracy: 0.6233\n",
            "Epoch 2/15\n",
            "316/316 [==============================] - ETA: 0s - loss: 0.5350 - accuracy: 0.7257\n",
            "Epoch 2: val_accuracy improved from 0.62332 to 0.66240, saving model to OverTaskBglovebigrucnn.h5\n",
            "316/316 [==============================] - 4s 12ms/step - loss: 0.5350 - accuracy: 0.7257 - val_loss: 0.8127 - val_accuracy: 0.6624\n",
            "Epoch 3/15\n",
            "310/316 [============================>.] - ETA: 0s - loss: 0.4500 - accuracy: 0.7871\n",
            "Epoch 3: val_accuracy did not improve from 0.66240\n",
            "316/316 [==============================] - 3s 9ms/step - loss: 0.4508 - accuracy: 0.7864 - val_loss: 0.8183 - val_accuracy: 0.6374\n",
            "Epoch 4/15\n",
            "310/316 [============================>.] - ETA: 0s - loss: 0.3550 - accuracy: 0.8424\n",
            "Epoch 4: val_accuracy improved from 0.66240 to 0.66304, saving model to OverTaskBglovebigrucnn.h5\n",
            "316/316 [==============================] - 3s 9ms/step - loss: 0.3561 - accuracy: 0.8421 - val_loss: 0.9389 - val_accuracy: 0.6630\n",
            "Epoch 5/15\n",
            "312/316 [============================>.] - ETA: 0s - loss: 0.2792 - accuracy: 0.8825\n",
            "Epoch 5: val_accuracy improved from 0.66304 to 0.67841, saving model to OverTaskBglovebigrucnn.h5\n",
            "316/316 [==============================] - 3s 9ms/step - loss: 0.2791 - accuracy: 0.8823 - val_loss: 1.2986 - val_accuracy: 0.6784\n",
            "Epoch 6/15\n",
            "312/316 [============================>.] - ETA: 0s - loss: 0.2372 - accuracy: 0.9013\n",
            "Epoch 6: val_accuracy did not improve from 0.67841\n",
            "316/316 [==============================] - 3s 10ms/step - loss: 0.2366 - accuracy: 0.9016 - val_loss: 1.1662 - val_accuracy: 0.6560\n",
            "Epoch 7/15\n",
            "314/316 [============================>.] - ETA: 0s - loss: 0.1952 - accuracy: 0.9208\n",
            "Epoch 7: val_accuracy did not improve from 0.67841\n",
            "316/316 [==============================] - 4s 11ms/step - loss: 0.1957 - accuracy: 0.9208 - val_loss: 1.5025 - val_accuracy: 0.6381\n",
            "Epoch 8/15\n",
            "314/316 [============================>.] - ETA: 0s - loss: 0.1809 - accuracy: 0.9297\n",
            "Epoch 8: val_accuracy did not improve from 0.67841\n",
            "316/316 [==============================] - 3s 9ms/step - loss: 0.1813 - accuracy: 0.9293 - val_loss: 1.3751 - val_accuracy: 0.6297\n",
            "Epoch 9/15\n",
            "312/316 [============================>.] - ETA: 0s - loss: 0.1510 - accuracy: 0.9369\n",
            "Epoch 9: val_accuracy did not improve from 0.67841\n",
            "316/316 [==============================] - 3s 9ms/step - loss: 0.1509 - accuracy: 0.9369 - val_loss: 1.5959 - val_accuracy: 0.6650\n",
            "Epoch 10/15\n",
            "316/316 [==============================] - ETA: 0s - loss: 0.1436 - accuracy: 0.9411\n",
            "Epoch 10: val_accuracy did not improve from 0.67841\n",
            "316/316 [==============================] - 3s 9ms/step - loss: 0.1436 - accuracy: 0.9411 - val_loss: 1.4656 - val_accuracy: 0.6477\n",
            "Epoch 11/15\n",
            "314/316 [============================>.] - ETA: 0s - loss: 0.1389 - accuracy: 0.9431\n",
            "Epoch 11: val_accuracy did not improve from 0.67841\n",
            "316/316 [==============================] - 3s 10ms/step - loss: 0.1391 - accuracy: 0.9427 - val_loss: 1.6779 - val_accuracy: 0.6124\n",
            "Epoch 12/15\n",
            "314/316 [============================>.] - ETA: 0s - loss: 0.1316 - accuracy: 0.9445\n",
            "Epoch 12: val_accuracy did not improve from 0.67841\n",
            "316/316 [==============================] - 3s 11ms/step - loss: 0.1316 - accuracy: 0.9444 - val_loss: 1.7077 - val_accuracy: 0.5721\n",
            "Epoch 13/15\n",
            "316/316 [==============================] - ETA: 0s - loss: 0.1255 - accuracy: 0.9476\n",
            "Epoch 13: val_accuracy did not improve from 0.67841\n",
            "316/316 [==============================] - 3s 9ms/step - loss: 0.1255 - accuracy: 0.9476 - val_loss: 1.8358 - val_accuracy: 0.6502\n",
            "Epoch 14/15\n",
            "311/316 [============================>.] - ETA: 0s - loss: 0.1105 - accuracy: 0.9532\n",
            "Epoch 14: val_accuracy did not improve from 0.67841\n",
            "316/316 [==============================] - 3s 9ms/step - loss: 0.1105 - accuracy: 0.9533 - val_loss: 1.8173 - val_accuracy: 0.6284\n",
            "Epoch 15/15\n",
            "311/316 [============================>.] - ETA: 0s - loss: 0.1077 - accuracy: 0.9560\n",
            "Epoch 15: val_accuracy did not improve from 0.67841\n",
            "316/316 [==============================] - 3s 9ms/step - loss: 0.1077 - accuracy: 0.9561 - val_loss: 1.7426 - val_accuracy: 0.6534\n"
          ]
        }
      ],
      "source": [
        "model.compile(optimizer=keras.optimizers.Adam(learning_rate=0.001), loss='sparse_categorical_crossentropy', metrics=['accuracy'])\n",
        "\n",
        "history = model.fit(\n",
        "    train_pad_sequences,\n",
        "    Ctrain_over['enc_label'],\n",
        "    epochs=15,\n",
        "    batch_size=32,\n",
        "    validation_data=(validation_pad_sequences, Cval['enc_label']),\n",
        "    verbose=1,\n",
        "    callbacks=callback_list\n",
        ")"
      ]
    },
    {
      "cell_type": "code",
      "execution_count": null,
      "metadata": {
        "colab": {
          "base_uri": "https://localhost:8080/"
        },
        "id": "nGgNMpaJ5QZB",
        "outputId": "8a5a94f2-15bb-43ec-f45e-0dac7f588f08"
      },
      "outputs": [
        {
          "output_type": "stream",
          "name": "stdout",
          "text": [
            "49/49 [==============================] - 2s 5ms/step\n",
            "Classification Report for Loaded Model:\n",
            "               precision    recall  f1-score   support\n",
            "\n",
            "           0     0.6874    0.8484    0.7595       897\n",
            "           1     0.8772    0.6536    0.7491       153\n",
            "           2     0.5824    0.3875    0.4653       511\n",
            "\n",
            "    accuracy                         0.6784      1561\n",
            "   macro avg     0.7157    0.6298    0.6580      1561\n",
            "weighted avg     0.6716    0.6784    0.6622      1561\n",
            "\n"
          ]
        }
      ],
      "source": [
        "import numpy as np\n",
        "from sklearn.metrics import classification_report\n",
        "\n",
        "# Assuming y_pred is a 2D array of predicted probabilities for each class\n",
        "# Adjust axis parameter if needed based on the shape of your y_pred array\n",
        "loaded_model = load_model(filepath)\n",
        "\n",
        "# Evaluate the model on the validation set\n",
        "y_pred = loaded_model.predict(validation_pad_sequences)\n",
        "y_pred_classes = np.argmax(y_pred, axis=1)\n",
        "\n",
        "# Generate a classification report\n",
        "classification_report_loaded_model = classification_report(Cval['enc_label'], y_pred_classes, digits=4)\n",
        "print('Classification Report for Loaded Model:\\n', classification_report_loaded_model)\n"
      ]
    },
    {
      "cell_type": "code",
      "source": [
        "import numpy as np\n",
        "from sklearn.metrics import classification_report\n",
        "\n",
        "# Assuming y_pred is a 2D array of predicted probabilities for each class\n",
        "# Adjust axis parameter if needed based on the shape of your y_pred array\n",
        "loaded_model = load_model(filepath)\n",
        "\n",
        "# Evaluate the model on the validation set\n",
        "y_pred = loaded_model.predict(test_pad_sequences)\n",
        "y_pred_classes = np.argmax(y_pred, axis=1)\n",
        "\n",
        "# Generate a classification report\n",
        "classification_report_loaded_model = classification_report(Ctest['enc_label'], y_pred_classes, digits=4)\n",
        "print('Classification Report for Loaded Model:\\n', classification_report_loaded_model)\n"
      ],
      "metadata": {
        "colab": {
          "base_uri": "https://localhost:8080/"
        },
        "id": "KGSHjTDQp53-",
        "outputId": "2935cc09-bf7a-4129-a8ad-3e6c87f28a5f"
      },
      "execution_count": null,
      "outputs": [
        {
          "output_type": "stream",
          "name": "stdout",
          "text": [
            "49/49 [==============================] - 1s 12ms/step\n",
            "Classification Report for Loaded Model:\n",
            "               precision    recall  f1-score   support\n",
            "\n",
            "           0     0.6894    0.8436    0.7588       921\n",
            "           1     0.9369    0.7376    0.8254       141\n",
            "           2     0.5432    0.3520    0.4272       500\n",
            "\n",
            "    accuracy                         0.6767      1562\n",
            "   macro avg     0.7232    0.6444    0.6705      1562\n",
            "weighted avg     0.6650    0.6767    0.6587      1562\n",
            "\n"
          ]
        }
      ]
    },
    {
      "cell_type": "markdown",
      "metadata": {
        "id": "PYECII205QZB"
      },
      "source": [
        "## FastText"
      ]
    },
    {
      "cell_type": "code",
      "execution_count": null,
      "metadata": {
        "id": "uF3_uVBM5QZC"
      },
      "outputs": [],
      "source": [
        "from urllib.request import urlopen\n",
        "import gzip\n",
        "\n",
        "# get the vectors\n",
        "file = gzip.open(urlopen('https://dl.fbaipublicfiles.com/fasttext/vectors-crawl/cc.ml.300.vec.gz'))"
      ]
    },
    {
      "cell_type": "code",
      "execution_count": null,
      "metadata": {
        "id": "Gs3tnuEc5QZC"
      },
      "outputs": [],
      "source": [
        "from urllib.request import urlopen\n",
        "import gzip\n",
        "\n",
        "# get the vectors\n",
        "file = gzip.open(urlopen('https://dl.fbaipublicfiles.com/fasttext/vectors-crawl/cc.ml.300.vec.gz'))"
      ]
    },
    {
      "cell_type": "code",
      "execution_count": null,
      "metadata": {
        "id": "-YXcfBaT5QZD"
      },
      "outputs": [],
      "source": [
        "vocab_and_vectors = {}\n",
        "# put words as dict indexes and vectors as words values\n",
        "for line in file:\n",
        "  values = line.split()\n",
        "  word = values [0].decode('utf-8')\n",
        "  vector = np.asarray(values[1:], dtype='float32')\n",
        "  vocab_and_vectors[word] = vector"
      ]
    },
    {
      "cell_type": "code",
      "execution_count": null,
      "metadata": {
        "id": "SmGCTBjr5QZD"
      },
      "outputs": [],
      "source": [
        "embedding_matrixx = np.zeros((vocab_size, 300))\n",
        "for word, i in word_index.items():\n",
        "  embedding_vector = vocab_and_vectors.get(word)\n",
        "  # words that cannot be found will be set to 0\n",
        "  if embedding_vector is not None:\n",
        "    embedding_matrixx[i] = embedding_vector"
      ]
    },
    {
      "cell_type": "markdown",
      "metadata": {
        "id": "q8Bw1KmA5QZD"
      },
      "source": [
        "## FastText CNN + BiLSTM"
      ]
    },
    {
      "cell_type": "code",
      "execution_count": null,
      "metadata": {
        "colab": {
          "base_uri": "https://localhost:8080/"
        },
        "id": "UrZ6po4o5QZD",
        "outputId": "a4d0b098-c7b2-4c94-bf3c-d9b054d3699d"
      },
      "outputs": [
        {
          "output_type": "stream",
          "name": "stdout",
          "text": [
            "Model: \"sequential_4\"\n",
            "_________________________________________________________________\n",
            " Layer (type)                Output Shape              Param #   \n",
            "=================================================================\n",
            " embedding_5 (Embedding)     (None, 256, 300)          4196700   \n",
            "                                                                 \n",
            " conv1d_2 (Conv1D)           (None, 254, 128)          115328    \n",
            "                                                                 \n",
            " max_pooling1d_2 (MaxPoolin  (None, 84, 128)           0         \n",
            " g1D)                                                            \n",
            "                                                                 \n",
            " bidirectional_5 (Bidirecti  (None, 84, 512)           788480    \n",
            " onal)                                                           \n",
            "                                                                 \n",
            " flatten_5 (Flatten)         (None, 43008)             0         \n",
            "                                                                 \n",
            " dense_9 (Dense)             (None, 3)                 129027    \n",
            "                                                                 \n",
            "=================================================================\n",
            "Total params: 5229535 (19.95 MB)\n",
            "Trainable params: 1032835 (3.94 MB)\n",
            "Non-trainable params: 4196700 (16.01 MB)\n",
            "_________________________________________________________________\n"
          ]
        }
      ],
      "source": [
        "num_classes = 3\n",
        "\n",
        "accuracy_threshold = 0.99\n",
        "\n",
        "class myCallback(keras.callbacks.Callback):\n",
        "  def on_epoch_end(self, epoch, logs={}):\n",
        "      if(logs.get('accuracy')>accuracy_threshold):\n",
        "        print(\"\\nReached %2.2f%% accuracy so we will stop trianing\" % (accuracy_threshold*100))\n",
        "        self.model.stop_training = True\n",
        "\n",
        "acc_callback = myCallback()\n",
        "# Saved the Best Model\n",
        "filepath = \"OverTaskBfasttext_CNNBiLSTMModel.h5\"\n",
        "checkpoint = keras.callbacks.ModelCheckpoint(filepath, monitor='val_accuracy', verbose=2, save_best_only=True,\n",
        "                                             save_weights_only=False, mode='max')\n",
        "# callback list\n",
        "callback_list = [acc_callback, checkpoint]\n",
        "model = tf.keras.models.Sequential([\n",
        "tf.keras.layers.Embedding(vocab_size, 300, weights=[embedding_matrixx],trainable=False, input_length = max_len),\n",
        "tf.keras.layers.Conv1D(128, 3, activation='relu'),\n",
        "tf.keras.layers.MaxPooling1D(3),\n",
        "tf.keras.layers.Bidirectional(LSTM(units = 256,return_sequences=True,dropout = 0.2)),\n",
        "tf.keras.layers.Flatten(),\n",
        "tf.keras.layers.Dense(3, activation='softmax')])\n",
        "\n",
        "model.summary()"
      ]
    },
    {
      "cell_type": "code",
      "execution_count": null,
      "metadata": {
        "colab": {
          "base_uri": "https://localhost:8080/"
        },
        "id": "1ZdeOHmw5QZE",
        "outputId": "89297312-0ca3-4831-bcfa-905d2ddd6417"
      },
      "outputs": [
        {
          "output_type": "stream",
          "name": "stdout",
          "text": [
            "Epoch 1/15\n",
            "316/316 [==============================] - ETA: 0s - loss: 0.8172 - accuracy: 0.5817\n",
            "Epoch 1: val_accuracy improved from -inf to 0.60730, saving model to OverTaskBfasttext_CNNBiLSTMModel.h5\n",
            "316/316 [==============================] - 10s 18ms/step - loss: 0.8172 - accuracy: 0.5817 - val_loss: 0.8656 - val_accuracy: 0.6073\n",
            "Epoch 2/15\n",
            "313/316 [============================>.] - ETA: 0s - loss: 0.5355 - accuracy: 0.7321\n",
            "Epoch 2: val_accuracy did not improve from 0.60730\n",
            "316/316 [==============================] - 4s 14ms/step - loss: 0.5351 - accuracy: 0.7324 - val_loss: 0.8621 - val_accuracy: 0.5958\n",
            "Epoch 3/15\n",
            "314/316 [============================>.] - ETA: 0s - loss: 0.4485 - accuracy: 0.7900\n",
            "Epoch 3: val_accuracy improved from 0.60730 to 0.64510, saving model to OverTaskBfasttext_CNNBiLSTMModel.h5\n",
            "316/316 [==============================] - 4s 14ms/step - loss: 0.4486 - accuracy: 0.7900 - val_loss: 0.8065 - val_accuracy: 0.6451\n",
            "Epoch 4/15\n",
            "315/316 [============================>.] - ETA: 0s - loss: 0.3790 - accuracy: 0.8329\n",
            "Epoch 4: val_accuracy did not improve from 0.64510\n",
            "316/316 [==============================] - 5s 15ms/step - loss: 0.3788 - accuracy: 0.8332 - val_loss: 0.9486 - val_accuracy: 0.6393\n",
            "Epoch 5/15\n",
            "315/316 [============================>.] - ETA: 0s - loss: 0.3079 - accuracy: 0.8690\n",
            "Epoch 5: val_accuracy did not improve from 0.64510\n",
            "316/316 [==============================] - 4s 14ms/step - loss: 0.3078 - accuracy: 0.8691 - val_loss: 1.0763 - val_accuracy: 0.6368\n",
            "Epoch 6/15\n",
            "314/316 [============================>.] - ETA: 0s - loss: 0.2555 - accuracy: 0.8947\n",
            "Epoch 6: val_accuracy improved from 0.64510 to 0.65279, saving model to OverTaskBfasttext_CNNBiLSTMModel.h5\n",
            "316/316 [==============================] - 5s 14ms/step - loss: 0.2559 - accuracy: 0.8945 - val_loss: 1.1494 - val_accuracy: 0.6528\n",
            "Epoch 7/15\n",
            "315/316 [============================>.] - ETA: 0s - loss: 0.2220 - accuracy: 0.9107\n",
            "Epoch 7: val_accuracy did not improve from 0.65279\n",
            "316/316 [==============================] - 5s 16ms/step - loss: 0.2223 - accuracy: 0.9107 - val_loss: 1.1985 - val_accuracy: 0.6272\n",
            "Epoch 8/15\n",
            "313/316 [============================>.] - ETA: 0s - loss: 0.1836 - accuracy: 0.9282\n",
            "Epoch 8: val_accuracy did not improve from 0.65279\n",
            "316/316 [==============================] - 4s 14ms/step - loss: 0.1837 - accuracy: 0.9282 - val_loss: 1.5217 - val_accuracy: 0.6406\n",
            "Epoch 9/15\n",
            "313/316 [============================>.] - ETA: 0s - loss: 0.1827 - accuracy: 0.9314\n",
            "Epoch 9: val_accuracy did not improve from 0.65279\n",
            "316/316 [==============================] - 4s 14ms/step - loss: 0.1820 - accuracy: 0.9316 - val_loss: 1.3644 - val_accuracy: 0.6393\n",
            "Epoch 10/15\n",
            "313/316 [============================>.] - ETA: 0s - loss: 0.1460 - accuracy: 0.9451\n",
            "Epoch 10: val_accuracy did not improve from 0.65279\n",
            "316/316 [==============================] - 5s 15ms/step - loss: 0.1462 - accuracy: 0.9450 - val_loss: 1.4177 - val_accuracy: 0.6406\n",
            "Epoch 11/15\n",
            "313/316 [============================>.] - ETA: 0s - loss: 0.1411 - accuracy: 0.9469\n",
            "Epoch 11: val_accuracy did not improve from 0.65279\n",
            "316/316 [==============================] - 5s 14ms/step - loss: 0.1415 - accuracy: 0.9466 - val_loss: 1.5253 - val_accuracy: 0.6105\n",
            "Epoch 12/15\n",
            "313/316 [============================>.] - ETA: 0s - loss: 0.1328 - accuracy: 0.9489\n",
            "Epoch 12: val_accuracy did not improve from 0.65279\n",
            "316/316 [==============================] - 4s 14ms/step - loss: 0.1334 - accuracy: 0.9487 - val_loss: 1.6615 - val_accuracy: 0.6176\n",
            "Epoch 13/15\n",
            "314/316 [============================>.] - ETA: 0s - loss: 0.1209 - accuracy: 0.9538\n",
            "Epoch 13: val_accuracy did not improve from 0.65279\n",
            "316/316 [==============================] - 5s 16ms/step - loss: 0.1204 - accuracy: 0.9541 - val_loss: 1.5927 - val_accuracy: 0.6470\n",
            "Epoch 14/15\n",
            "314/316 [============================>.] - ETA: 0s - loss: 0.1206 - accuracy: 0.9534\n",
            "Epoch 14: val_accuracy did not improve from 0.65279\n",
            "316/316 [==============================] - 5s 14ms/step - loss: 0.1208 - accuracy: 0.9533 - val_loss: 1.5626 - val_accuracy: 0.6240\n",
            "Epoch 15/15\n",
            "315/316 [============================>.] - ETA: 0s - loss: 0.1073 - accuracy: 0.9604\n",
            "Epoch 15: val_accuracy did not improve from 0.65279\n",
            "316/316 [==============================] - 4s 14ms/step - loss: 0.1075 - accuracy: 0.9604 - val_loss: 1.5422 - val_accuracy: 0.6387\n"
          ]
        }
      ],
      "source": [
        "model.compile(optimizer=keras.optimizers.Adam(learning_rate=0.001), loss='sparse_categorical_crossentropy', metrics=['accuracy'])\n",
        "\n",
        "history = model.fit(\n",
        "    train_pad_sequences,\n",
        "    Ctrain_over['enc_label'],\n",
        "    epochs=15,\n",
        "    batch_size=32,\n",
        "    validation_data=(validation_pad_sequences, Cval['enc_label']),\n",
        "    verbose=1,\n",
        "    callbacks=callback_list\n",
        ")"
      ]
    },
    {
      "cell_type": "code",
      "execution_count": null,
      "metadata": {
        "colab": {
          "base_uri": "https://localhost:8080/"
        },
        "id": "GLGppINY5QZE",
        "outputId": "152dddb9-9ca8-4733-a9b6-c4576cdd7cb4"
      },
      "outputs": [
        {
          "output_type": "stream",
          "name": "stdout",
          "text": [
            "49/49 [==============================] - 1s 8ms/step\n",
            "Classification Report for Loaded Model:\n",
            "               precision    recall  f1-score   support\n",
            "\n",
            "           0     0.6801    0.8105    0.7396       897\n",
            "           1     0.8254    0.6797    0.7455       153\n",
            "           2     0.5137    0.3679    0.4287       511\n",
            "\n",
            "    accuracy                         0.6528      1561\n",
            "   macro avg     0.6730    0.6194    0.6379      1561\n",
            "weighted avg     0.6398    0.6528    0.6384      1561\n",
            "\n"
          ]
        }
      ],
      "source": [
        "import numpy as np\n",
        "from sklearn.metrics import classification_report\n",
        "\n",
        "# Assuming y_pred is a 2D array of predicted probabilities for each class\n",
        "# Adjust axis parameter if needed based on the shape of your y_pred array\n",
        "loaded_model = load_model(filepath)\n",
        "\n",
        "# Evaluate the model on the validation set\n",
        "y_pred = loaded_model.predict(validation_pad_sequences)\n",
        "y_pred_classes = np.argmax(y_pred, axis=1)\n",
        "\n",
        "# Generate a classification report\n",
        "classification_report_loaded_model = classification_report(Cval['enc_label'], y_pred_classes, digits=4)\n",
        "print('Classification Report for Loaded Model:\\n', classification_report_loaded_model)\n"
      ]
    },
    {
      "cell_type": "code",
      "source": [
        "import numpy as np\n",
        "from sklearn.metrics import classification_report\n",
        "\n",
        "# Assuming y_pred is a 2D array of predicted probabilities for each class\n",
        "# Adjust axis parameter if needed based on the shape of your y_pred array\n",
        "loaded_model = load_model(filepath)\n",
        "\n",
        "# Evaluate the model on the validation set\n",
        "y_pred = loaded_model.predict(test_pad_sequences)\n",
        "y_pred_classes = np.argmax(y_pred, axis=1)\n",
        "\n",
        "# Generate a classification report\n",
        "classification_report_loaded_model = classification_report(Ctest['enc_label'], y_pred_classes, digits=4)\n",
        "print('Classification Report for Loaded Model:\\n', classification_report_loaded_model)\n"
      ],
      "metadata": {
        "colab": {
          "base_uri": "https://localhost:8080/"
        },
        "id": "foVgHskhqqtR",
        "outputId": "f6e40427-b743-4c6c-9975-fa4696d643f8"
      },
      "execution_count": null,
      "outputs": [
        {
          "output_type": "stream",
          "name": "stdout",
          "text": [
            "49/49 [==============================] - 1s 6ms/step\n",
            "Classification Report for Loaded Model:\n",
            "               precision    recall  f1-score   support\n",
            "\n",
            "           0     0.6939    0.8219    0.7525       921\n",
            "           1     0.8468    0.7447    0.7925       141\n",
            "           2     0.5303    0.3680    0.4345       500\n",
            "\n",
            "    accuracy                         0.6697      1562\n",
            "   macro avg     0.6903    0.6449    0.6598      1562\n",
            "weighted avg     0.6553    0.6697    0.6543      1562\n",
            "\n"
          ]
        }
      ]
    },
    {
      "cell_type": "markdown",
      "metadata": {
        "id": "Qe3VimDM5QZF"
      },
      "source": [
        "## FastText CNN + BiGRU"
      ]
    },
    {
      "cell_type": "code",
      "execution_count": null,
      "metadata": {
        "colab": {
          "base_uri": "https://localhost:8080/"
        },
        "id": "fKwufNti5QZF",
        "outputId": "5429ab71-de5e-4041-9c36-c51efb2f4f91"
      },
      "outputs": [
        {
          "output_type": "stream",
          "name": "stdout",
          "text": [
            "Model: \"model_1\"\n",
            "_________________________________________________________________\n",
            " Layer (type)                Output Shape              Param #   \n",
            "=================================================================\n",
            " input_2 (InputLayer)        [(None, 256)]             0         \n",
            "                                                                 \n",
            " embedding_6 (Embedding)     (None, 256, 300)          4196700   \n",
            "                                                                 \n",
            " conv1d_3 (Conv1D)           (None, 252, 128)          192128    \n",
            "                                                                 \n",
            " max_pooling1d_3 (MaxPoolin  (None, 50, 128)           0         \n",
            " g1D)                                                            \n",
            "                                                                 \n",
            " bidirectional_6 (Bidirecti  (None, 50, 128)           74496     \n",
            " onal)                                                           \n",
            "                                                                 \n",
            " flatten_6 (Flatten)         (None, 6400)              0         \n",
            "                                                                 \n",
            " dense_10 (Dense)            (None, 128)               819328    \n",
            "                                                                 \n",
            " dense_11 (Dense)            (None, 64)                8256      \n",
            "                                                                 \n",
            " dense_12 (Dense)            (None, 3)                 195       \n",
            "                                                                 \n",
            "=================================================================\n",
            "Total params: 5291103 (20.18 MB)\n",
            "Trainable params: 1094403 (4.17 MB)\n",
            "Non-trainable params: 4196700 (16.01 MB)\n",
            "_________________________________________________________________\n"
          ]
        }
      ],
      "source": [
        "num_classes = 3\n",
        "\n",
        "accuracy_threshold = 0.99\n",
        "\n",
        "class myCallback(keras.callbacks.Callback):\n",
        "  def on_epoch_end(self, epoch, logs={}):\n",
        "      if(logs.get('accuracy')>accuracy_threshold):\n",
        "        print(\"\\nReached %2.2f%% accuracy so we will stop trianing\" % (accuracy_threshold*100))\n",
        "        self.model.stop_training = True\n",
        "\n",
        "acc_callback = myCallback()\n",
        "# Saved the Best Model\n",
        "filepath = \"OverTaskBfasttext_CNNBiGRU.h5\"\n",
        "checkpoint = keras.callbacks.ModelCheckpoint(filepath, monitor='val_accuracy', verbose=2, save_best_only=True,\n",
        "                                             save_weights_only=False, mode='max')\n",
        "# callback list\n",
        "callback_list = [acc_callback, checkpoint]\n",
        "\n",
        "# Model Architecture\n",
        "input_layer = Input(shape=(max_len,), dtype=tf.int32)\n",
        "embedding_layer = Embedding(vocab_size, 300, weights=[embedding_matrixx], input_length=max_len, trainable=False)(input_layer)\n",
        "\n",
        "# Convolutional Neural Network (CNN)\n",
        "conv1 = Conv1D(128, 5, activation='relu')(embedding_layer)\n",
        "max_pooling = MaxPooling1D(5)(conv1)\n",
        "\n",
        "# Recurrent Neural Network (RNN)\n",
        "bi_gru = Bidirectional(GRU(units=64, return_sequences=True, dropout=0.2))(max_pooling)\n",
        "\n",
        "# Flatten and Dense Layers\n",
        "flatten = Flatten()(bi_gru)\n",
        "dense1 = Dense(128, activation='relu')(flatten)\n",
        "# dropout1 = Dropout(0.2)(dense1)\n",
        "dense2 = Dense(64, activation='relu')(dense1)\n",
        "# dropout2 = Dropout(0.2)(dense2)\n",
        "\n",
        "# Output Layer\n",
        "output_layer = Dense(3, activation='softmax')(dense2)\n",
        "\n",
        "# Model\n",
        "model = Model(inputs=input_layer, outputs=output_layer)\n",
        "model.summary()"
      ]
    },
    {
      "cell_type": "code",
      "execution_count": null,
      "metadata": {
        "colab": {
          "base_uri": "https://localhost:8080/"
        },
        "id": "QcPfO1OI5QZF",
        "outputId": "eff21dd7-4792-47d4-f94f-dbd37e9c9359"
      },
      "outputs": [
        {
          "output_type": "stream",
          "name": "stdout",
          "text": [
            "Epoch 1/15\n",
            "316/316 [==============================] - ETA: 0s - loss: 0.7506 - accuracy: 0.6021\n",
            "Epoch 1: val_accuracy improved from -inf to 0.60154, saving model to OverTaskBfasttext_CNNBiGRU.h5\n",
            "316/316 [==============================] - 10s 13ms/step - loss: 0.7506 - accuracy: 0.6021 - val_loss: 0.8736 - val_accuracy: 0.6015\n",
            "Epoch 2/15\n",
            "311/316 [============================>.] - ETA: 0s - loss: 0.5024 - accuracy: 0.7559\n",
            "Epoch 2: val_accuracy did not improve from 0.60154\n",
            "316/316 [==============================] - 3s 9ms/step - loss: 0.5031 - accuracy: 0.7560 - val_loss: 0.8997 - val_accuracy: 0.5900\n",
            "Epoch 3/15\n",
            "316/316 [==============================] - ETA: 0s - loss: 0.4030 - accuracy: 0.8191\n",
            "Epoch 3: val_accuracy improved from 0.60154 to 0.66560, saving model to OverTaskBfasttext_CNNBiGRU.h5\n",
            "316/316 [==============================] - 3s 11ms/step - loss: 0.4030 - accuracy: 0.8191 - val_loss: 0.9194 - val_accuracy: 0.6656\n",
            "Epoch 4/15\n",
            "311/316 [============================>.] - ETA: 0s - loss: 0.3091 - accuracy: 0.8774\n",
            "Epoch 4: val_accuracy did not improve from 0.66560\n",
            "316/316 [==============================] - 4s 12ms/step - loss: 0.3094 - accuracy: 0.8773 - val_loss: 1.1533 - val_accuracy: 0.6387\n",
            "Epoch 5/15\n",
            "313/316 [============================>.] - ETA: 0s - loss: 0.2561 - accuracy: 0.9009\n",
            "Epoch 5: val_accuracy did not improve from 0.66560\n",
            "316/316 [==============================] - 3s 9ms/step - loss: 0.2563 - accuracy: 0.9008 - val_loss: 1.2822 - val_accuracy: 0.6188\n",
            "Epoch 6/15\n",
            "312/316 [============================>.] - ETA: 0s - loss: 0.1900 - accuracy: 0.9269\n",
            "Epoch 6: val_accuracy did not improve from 0.66560\n",
            "316/316 [==============================] - 3s 9ms/step - loss: 0.1903 - accuracy: 0.9266 - val_loss: 1.2154 - val_accuracy: 0.6406\n",
            "Epoch 7/15\n",
            "314/316 [============================>.] - ETA: 0s - loss: 0.1620 - accuracy: 0.9392\n",
            "Epoch 7: val_accuracy did not improve from 0.66560\n",
            "316/316 [==============================] - 3s 10ms/step - loss: 0.1621 - accuracy: 0.9390 - val_loss: 1.3076 - val_accuracy: 0.6240\n",
            "Epoch 8/15\n",
            "312/316 [============================>.] - ETA: 0s - loss: 0.1418 - accuracy: 0.9455\n",
            "Epoch 8: val_accuracy did not improve from 0.66560\n",
            "316/316 [==============================] - 4s 12ms/step - loss: 0.1416 - accuracy: 0.9457 - val_loss: 1.5840 - val_accuracy: 0.6208\n",
            "Epoch 9/15\n",
            "312/316 [============================>.] - ETA: 0s - loss: 0.1417 - accuracy: 0.9458\n",
            "Epoch 9: val_accuracy did not improve from 0.66560\n",
            "316/316 [==============================] - 3s 10ms/step - loss: 0.1410 - accuracy: 0.9461 - val_loss: 1.5057 - val_accuracy: 0.6316\n",
            "Epoch 10/15\n",
            "311/316 [============================>.] - ETA: 0s - loss: 0.1234 - accuracy: 0.9530\n",
            "Epoch 10: val_accuracy did not improve from 0.66560\n",
            "316/316 [==============================] - 3s 9ms/step - loss: 0.1233 - accuracy: 0.9531 - val_loss: 1.4259 - val_accuracy: 0.6297\n",
            "Epoch 11/15\n",
            "316/316 [==============================] - ETA: 0s - loss: 0.1074 - accuracy: 0.9582\n",
            "Epoch 11: val_accuracy did not improve from 0.66560\n",
            "316/316 [==============================] - 3s 9ms/step - loss: 0.1074 - accuracy: 0.9582 - val_loss: 1.6262 - val_accuracy: 0.6393\n",
            "Epoch 12/15\n",
            "316/316 [==============================] - ETA: 0s - loss: 0.1267 - accuracy: 0.9502\n",
            "Epoch 12: val_accuracy did not improve from 0.66560\n",
            "316/316 [==============================] - 3s 11ms/step - loss: 0.1267 - accuracy: 0.9502 - val_loss: 1.6261 - val_accuracy: 0.6067\n",
            "Epoch 13/15\n",
            "312/316 [============================>.] - ETA: 0s - loss: 0.1006 - accuracy: 0.9597\n",
            "Epoch 13: val_accuracy did not improve from 0.66560\n",
            "316/316 [==============================] - 4s 11ms/step - loss: 0.1000 - accuracy: 0.9602 - val_loss: 2.1462 - val_accuracy: 0.6368\n",
            "Epoch 14/15\n",
            "314/316 [============================>.] - ETA: 0s - loss: 0.0944 - accuracy: 0.9624\n",
            "Epoch 14: val_accuracy did not improve from 0.66560\n",
            "316/316 [==============================] - 3s 9ms/step - loss: 0.0948 - accuracy: 0.9622 - val_loss: 1.8446 - val_accuracy: 0.6316\n",
            "Epoch 15/15\n",
            "316/316 [==============================] - ETA: 0s - loss: 0.0864 - accuracy: 0.9637\n",
            "Epoch 15: val_accuracy did not improve from 0.66560\n",
            "316/316 [==============================] - 3s 10ms/step - loss: 0.0864 - accuracy: 0.9637 - val_loss: 2.1787 - val_accuracy: 0.6272\n"
          ]
        }
      ],
      "source": [
        "model.compile(optimizer=keras.optimizers.Adam(learning_rate=0.001), loss='sparse_categorical_crossentropy', metrics=['accuracy'])\n",
        "history = model.fit(\n",
        "    train_pad_sequences,\n",
        "    Ctrain_over['enc_label'],\n",
        "    epochs=15,\n",
        "    batch_size=32,\n",
        "    validation_data=(validation_pad_sequences, Cval['enc_label']),\n",
        "    verbose=1,\n",
        "    callbacks=callback_list\n",
        ")"
      ]
    },
    {
      "cell_type": "code",
      "execution_count": null,
      "metadata": {
        "colab": {
          "base_uri": "https://localhost:8080/"
        },
        "id": "_96f7JHn5QZF",
        "outputId": "aacfbdd7-188f-4e65-d07b-05fc79befd80"
      },
      "outputs": [
        {
          "output_type": "stream",
          "name": "stdout",
          "text": [
            "49/49 [==============================] - 1s 3ms/step\n",
            "Classification Report for Loaded Model:\n",
            "               precision    recall  f1-score   support\n",
            "\n",
            "           0     0.7030    0.7915    0.7446       897\n",
            "           1     0.7704    0.6797    0.7222       153\n",
            "           2     0.5409    0.4403    0.4854       511\n",
            "\n",
            "    accuracy                         0.6656      1561\n",
            "   macro avg     0.6714    0.6372    0.6508      1561\n",
            "weighted avg     0.6565    0.6656    0.6576      1561\n",
            "\n"
          ]
        }
      ],
      "source": [
        "import numpy as np\n",
        "from sklearn.metrics import classification_report\n",
        "\n",
        "# Assuming y_pred is a 2D array of predicted probabilities for each class\n",
        "# Adjust axis parameter if needed based on the shape of your y_pred array\n",
        "loaded_model = load_model(filepath)\n",
        "\n",
        "# Evaluate the model on the validation set\n",
        "y_pred = loaded_model.predict(validation_pad_sequences)\n",
        "y_pred_classes = np.argmax(y_pred, axis=1)\n",
        "\n",
        "# Generate a classification report\n",
        "classification_report_loaded_model = classification_report(Cval['enc_label'], y_pred_classes, digits=4)\n",
        "print('Classification Report for Loaded Model:\\n', classification_report_loaded_model)\n"
      ]
    },
    {
      "cell_type": "code",
      "source": [
        "import numpy as np\n",
        "from sklearn.metrics import classification_report\n",
        "\n",
        "# Assuming y_pred is a 2D array of predicted probabilities for each class\n",
        "# Adjust axis parameter if needed based on the shape of your y_pred array\n",
        "loaded_model = load_model(filepath)\n",
        "\n",
        "# Evaluate the model on the validation set\n",
        "y_pred = loaded_model.predict(test_pad_sequences)\n",
        "y_pred_classes = np.argmax(y_pred, axis=1)\n",
        "\n",
        "# Generate a classification report\n",
        "classification_report_loaded_model = classification_report(Ctest['enc_label'], y_pred_classes, digits=4)\n",
        "print('Classification Report for Loaded Model:\\n', classification_report_loaded_model)\n"
      ],
      "metadata": {
        "colab": {
          "base_uri": "https://localhost:8080/"
        },
        "id": "uS6gpYoGrOxq",
        "outputId": "f6362345-d955-4dc2-b3b2-775af2b5ff89"
      },
      "execution_count": null,
      "outputs": [
        {
          "output_type": "stream",
          "name": "stdout",
          "text": [
            "49/49 [==============================] - 1s 7ms/step\n",
            "Classification Report for Loaded Model:\n",
            "               precision    recall  f1-score   support\n",
            "\n",
            "           0     0.7153    0.7666    0.7400       921\n",
            "           1     0.7517    0.7730    0.7622       141\n",
            "           2     0.5209    0.4480    0.4817       500\n",
            "\n",
            "    accuracy                         0.6652      1562\n",
            "   macro avg     0.6627    0.6625    0.6613      1562\n",
            "weighted avg     0.6564    0.6652    0.6594      1562\n",
            "\n"
          ]
        }
      ]
    },
    {
      "cell_type": "markdown",
      "metadata": {
        "id": "LgQ3UuHg5QZG"
      },
      "source": [
        "## FastText BiGRU"
      ]
    },
    {
      "cell_type": "code",
      "execution_count": null,
      "metadata": {
        "colab": {
          "base_uri": "https://localhost:8080/"
        },
        "id": "ALeM5ZxG5QZG",
        "outputId": "4f623c55-9ed1-46e4-b4da-f0a9b0f458f6"
      },
      "outputs": [
        {
          "output_type": "stream",
          "name": "stdout",
          "text": [
            "Model: \"sequential_5\"\n",
            "_________________________________________________________________\n",
            " Layer (type)                Output Shape              Param #   \n",
            "=================================================================\n",
            " embedding_7 (Embedding)     (None, 256, 300)          4196700   \n",
            "                                                                 \n",
            " bidirectional_7 (Bidirecti  (None, 256, 512)          857088    \n",
            " onal)                                                           \n",
            "                                                                 \n",
            " flatten_7 (Flatten)         (None, 131072)            0         \n",
            "                                                                 \n",
            " dense_13 (Dense)            (None, 3)                 393219    \n",
            "                                                                 \n",
            "=================================================================\n",
            "Total params: 5447007 (20.78 MB)\n",
            "Trainable params: 1250307 (4.77 MB)\n",
            "Non-trainable params: 4196700 (16.01 MB)\n",
            "_________________________________________________________________\n"
          ]
        }
      ],
      "source": [
        "num_classes = 3\n",
        "\n",
        "accuracy_threshold = 0.99\n",
        "\n",
        "class myCallback(keras.callbacks.Callback):\n",
        "  def on_epoch_end(self, epoch, logs={}):\n",
        "      if(logs.get('accuracy')>accuracy_threshold):\n",
        "        print(\"\\nReached %2.2f%% accuracy so we will stop trianing\" % (accuracy_threshold*100))\n",
        "        self.model.stop_training = True\n",
        "\n",
        "acc_callback = myCallback()\n",
        "# Saved the Best Model\n",
        "filepath = \"OverTaskBfasttext_BiGRUModel_FastText.h5\"\n",
        "checkpoint = keras.callbacks.ModelCheckpoint(filepath, monitor='val_accuracy', verbose=2, save_best_only=True,\n",
        "                                             save_weights_only=False, mode='max')\n",
        "# callback list\n",
        "callback_list = [acc_callback, checkpoint]\n",
        "model = tf.keras.models.Sequential([\n",
        "tf.keras.layers.Embedding(vocab_size, 300, weights=[embedding_matrixx],trainable=False, input_length = max_len),\n",
        "# tf.keras.layers.Conv1D(128, 2, activation='relu'),\n",
        "# tf.keras.layers.MaxPooling1D(2),\n",
        "tf.keras.layers.Bidirectional(GRU(units = 256,return_sequences=True,dropout = 0.2)),\n",
        "tf.keras.layers.Flatten(),\n",
        "tf.keras.layers.Dense(3, activation='softmax')])\n",
        "\n",
        "model.summary()"
      ]
    },
    {
      "cell_type": "code",
      "execution_count": null,
      "metadata": {
        "colab": {
          "base_uri": "https://localhost:8080/"
        },
        "id": "xJImWmKi5QZG",
        "outputId": "73f51d37-89b7-4474-d8a6-956d9c5344ac"
      },
      "outputs": [
        {
          "output_type": "stream",
          "name": "stdout",
          "text": [
            "Epoch 1/15\n",
            "316/316 [==============================] - ETA: 0s - loss: 0.8468 - accuracy: 0.5751\n",
            "Epoch 1: val_accuracy improved from -inf to 0.55285, saving model to OverTaskBfasttext_BiGRUModel_FastText.h5\n",
            "316/316 [==============================] - 17s 38ms/step - loss: 0.8468 - accuracy: 0.5751 - val_loss: 0.8799 - val_accuracy: 0.5529\n",
            "Epoch 2/15\n",
            "315/316 [============================>.] - ETA: 0s - loss: 0.5986 - accuracy: 0.7144\n",
            "Epoch 2: val_accuracy improved from 0.55285 to 0.57976, saving model to OverTaskBfasttext_BiGRUModel_FastText.h5\n",
            "316/316 [==============================] - 10s 33ms/step - loss: 0.5986 - accuracy: 0.7146 - val_loss: 0.8970 - val_accuracy: 0.5798\n",
            "Epoch 3/15\n",
            "315/316 [============================>.] - ETA: 0s - loss: 0.4986 - accuracy: 0.7732\n",
            "Epoch 3: val_accuracy improved from 0.57976 to 0.60282, saving model to OverTaskBfasttext_BiGRUModel_FastText.h5\n",
            "316/316 [==============================] - 10s 33ms/step - loss: 0.4986 - accuracy: 0.7731 - val_loss: 0.9322 - val_accuracy: 0.6028\n",
            "Epoch 4/15\n",
            "315/316 [============================>.] - ETA: 0s - loss: 0.4285 - accuracy: 0.8023\n",
            "Epoch 4: val_accuracy improved from 0.60282 to 0.60346, saving model to OverTaskBfasttext_BiGRUModel_FastText.h5\n",
            "316/316 [==============================] - 10s 33ms/step - loss: 0.4282 - accuracy: 0.8026 - val_loss: 1.0072 - val_accuracy: 0.6035\n",
            "Epoch 5/15\n",
            "315/316 [============================>.] - ETA: 0s - loss: 0.3810 - accuracy: 0.8279\n",
            "Epoch 5: val_accuracy improved from 0.60346 to 0.62268, saving model to OverTaskBfasttext_BiGRUModel_FastText.h5\n",
            "316/316 [==============================] - 10s 33ms/step - loss: 0.3813 - accuracy: 0.8276 - val_loss: 1.0589 - val_accuracy: 0.6227\n",
            "Epoch 6/15\n",
            "315/316 [============================>.] - ETA: 0s - loss: 0.3581 - accuracy: 0.8389\n",
            "Epoch 6: val_accuracy did not improve from 0.62268\n",
            "316/316 [==============================] - 10s 32ms/step - loss: 0.3579 - accuracy: 0.8390 - val_loss: 1.1344 - val_accuracy: 0.6003\n",
            "Epoch 7/15\n",
            "315/316 [============================>.] - ETA: 0s - loss: 0.3220 - accuracy: 0.8582\n",
            "Epoch 7: val_accuracy did not improve from 0.62268\n",
            "316/316 [==============================] - 10s 32ms/step - loss: 0.3222 - accuracy: 0.8581 - val_loss: 1.1649 - val_accuracy: 0.6163\n",
            "Epoch 8/15\n",
            "315/316 [============================>.] - ETA: 0s - loss: 0.2923 - accuracy: 0.8743\n",
            "Epoch 8: val_accuracy did not improve from 0.62268\n",
            "316/316 [==============================] - 11s 34ms/step - loss: 0.2924 - accuracy: 0.8743 - val_loss: 1.2557 - val_accuracy: 0.6227\n",
            "Epoch 9/15\n",
            "315/316 [============================>.] - ETA: 0s - loss: 0.2665 - accuracy: 0.8870\n",
            "Epoch 9: val_accuracy improved from 0.62268 to 0.63293, saving model to OverTaskBfasttext_BiGRUModel_FastText.h5\n",
            "316/316 [==============================] - 10s 33ms/step - loss: 0.2664 - accuracy: 0.8870 - val_loss: 1.3620 - val_accuracy: 0.6329\n",
            "Epoch 10/15\n",
            "315/316 [============================>.] - ETA: 0s - loss: 0.2381 - accuracy: 0.8995\n",
            "Epoch 10: val_accuracy did not improve from 0.63293\n",
            "316/316 [==============================] - 10s 32ms/step - loss: 0.2385 - accuracy: 0.8993 - val_loss: 1.3723 - val_accuracy: 0.6092\n",
            "Epoch 11/15\n",
            "315/316 [============================>.] - ETA: 0s - loss: 0.2304 - accuracy: 0.9042\n",
            "Epoch 11: val_accuracy did not improve from 0.63293\n",
            "316/316 [==============================] - 10s 33ms/step - loss: 0.2307 - accuracy: 0.9041 - val_loss: 1.4910 - val_accuracy: 0.6195\n",
            "Epoch 12/15\n",
            "315/316 [============================>.] - ETA: 0s - loss: 0.2050 - accuracy: 0.9163\n",
            "Epoch 12: val_accuracy did not improve from 0.63293\n",
            "316/316 [==============================] - 11s 34ms/step - loss: 0.2060 - accuracy: 0.9158 - val_loss: 1.6512 - val_accuracy: 0.5842\n",
            "Epoch 13/15\n",
            "315/316 [============================>.] - ETA: 0s - loss: 0.1945 - accuracy: 0.9220\n",
            "Epoch 13: val_accuracy did not improve from 0.63293\n",
            "316/316 [==============================] - 10s 32ms/step - loss: 0.1941 - accuracy: 0.9222 - val_loss: 1.6224 - val_accuracy: 0.6086\n",
            "Epoch 14/15\n",
            "316/316 [==============================] - ETA: 0s - loss: 0.1735 - accuracy: 0.9315\n",
            "Epoch 14: val_accuracy did not improve from 0.63293\n",
            "316/316 [==============================] - 10s 32ms/step - loss: 0.1735 - accuracy: 0.9315 - val_loss: 1.8021 - val_accuracy: 0.5894\n",
            "Epoch 15/15\n",
            "315/316 [============================>.] - ETA: 0s - loss: 0.1674 - accuracy: 0.9348\n",
            "Epoch 15: val_accuracy did not improve from 0.63293\n",
            "316/316 [==============================] - 10s 32ms/step - loss: 0.1679 - accuracy: 0.9346 - val_loss: 1.7917 - val_accuracy: 0.6041\n"
          ]
        }
      ],
      "source": [
        "model.compile(optimizer=keras.optimizers.Adam(learning_rate=0.001), loss='sparse_categorical_crossentropy', metrics=['accuracy'])\n",
        "\n",
        "history = model.fit(\n",
        "    train_pad_sequences,\n",
        "    Ctrain_over['enc_label'],\n",
        "    epochs=15,\n",
        "    batch_size=32,\n",
        "    validation_data=(validation_pad_sequences, Cval['enc_label']),\n",
        "    verbose=1,\n",
        "    callbacks=callback_list\n",
        ")"
      ]
    },
    {
      "cell_type": "code",
      "execution_count": null,
      "metadata": {
        "colab": {
          "base_uri": "https://localhost:8080/"
        },
        "id": "L31ppMhx5QZG",
        "outputId": "1f6f80c9-276d-445a-c310-ba8f2c2947cb"
      },
      "outputs": [
        {
          "output_type": "stream",
          "name": "stdout",
          "text": [
            "49/49 [==============================] - 2s 15ms/step\n",
            "Classification Report for Loaded Model:\n",
            "               precision    recall  f1-score   support\n",
            "\n",
            "           0     0.6813    0.7770    0.7260       897\n",
            "           1     0.6732    0.6732    0.6732       153\n",
            "           2     0.4883    0.3679    0.4196       511\n",
            "\n",
            "    accuracy                         0.6329      1561\n",
            "   macro avg     0.6143    0.6060    0.6063      1561\n",
            "weighted avg     0.6173    0.6329    0.6206      1561\n",
            "\n"
          ]
        }
      ],
      "source": [
        "import numpy as np\n",
        "from sklearn.metrics import classification_report\n",
        "\n",
        "# Assuming y_pred is a 2D array of predicted probabilities for each class\n",
        "# Adjust axis parameter if needed based on the shape of your y_pred array\n",
        "loaded_model = load_model(filepath)\n",
        "\n",
        "# Evaluate the model on the validation set\n",
        "y_pred = loaded_model.predict(validation_pad_sequences)\n",
        "y_pred_classes = np.argmax(y_pred, axis=1)\n",
        "\n",
        "# Generate a classification report\n",
        "classification_report_loaded_model = classification_report(Cval['enc_label'], y_pred_classes, digits=4)\n",
        "print('Classification Report for Loaded Model:\\n', classification_report_loaded_model)\n"
      ]
    },
    {
      "cell_type": "code",
      "source": [
        "import numpy as np\n",
        "from sklearn.metrics import classification_report\n",
        "\n",
        "# Assuming y_pred is a 2D array of predicted probabilities for each class\n",
        "# Adjust axis parameter if needed based on the shape of your y_pred array\n",
        "loaded_model = load_model(filepath)\n",
        "\n",
        "# Evaluate the model on the validation set\n",
        "y_pred = loaded_model.predict(test_pad_sequences)\n",
        "y_pred_classes = np.argmax(y_pred, axis=1)\n",
        "\n",
        "# Generate a classification report\n",
        "classification_report_loaded_model = classification_report(Ctest['enc_label'], y_pred_classes, digits=4)\n",
        "print('Classification Report for Loaded Model:\\n', classification_report_loaded_model)\n"
      ],
      "metadata": {
        "colab": {
          "base_uri": "https://localhost:8080/"
        },
        "id": "gZojrXXIrn0S",
        "outputId": "5a13c228-2903-4fa2-f955-ce9bfe37966a"
      },
      "execution_count": null,
      "outputs": [
        {
          "output_type": "stream",
          "name": "stdout",
          "text": [
            "49/49 [==============================] - 1s 12ms/step\n",
            "Classification Report for Loaded Model:\n",
            "               precision    recall  f1-score   support\n",
            "\n",
            "           0     0.6856    0.7742    0.7272       921\n",
            "           1     0.7762    0.7872    0.7817       141\n",
            "           2     0.4670    0.3540    0.4027       500\n",
            "\n",
            "    accuracy                         0.6408      1562\n",
            "   macro avg     0.6429    0.6385    0.6372      1562\n",
            "weighted avg     0.6238    0.6408    0.6282      1562\n",
            "\n"
          ]
        }
      ]
    },
    {
      "cell_type": "markdown",
      "metadata": {
        "id": "sXYVw1Zo5QZH"
      },
      "source": [
        "## FastText BiLSTM"
      ]
    },
    {
      "cell_type": "code",
      "execution_count": null,
      "metadata": {
        "colab": {
          "base_uri": "https://localhost:8080/"
        },
        "id": "D3NB3rgl5QZI",
        "outputId": "303e51cb-b75c-48f5-f859-d581929a217e"
      },
      "outputs": [
        {
          "output_type": "stream",
          "name": "stdout",
          "text": [
            "Model: \"sequential_6\"\n",
            "_________________________________________________________________\n",
            " Layer (type)                Output Shape              Param #   \n",
            "=================================================================\n",
            " embedding_8 (Embedding)     (None, 256, 300)          4196700   \n",
            "                                                                 \n",
            " bidirectional_8 (Bidirecti  (None, 256, 128)          186880    \n",
            " onal)                                                           \n",
            "                                                                 \n",
            " flatten_8 (Flatten)         (None, 32768)             0         \n",
            "                                                                 \n",
            " dense_14 (Dense)            (None, 128)               4194432   \n",
            "                                                                 \n",
            " dropout_44 (Dropout)        (None, 128)               0         \n",
            "                                                                 \n",
            " dense_15 (Dense)            (None, 3)                 387       \n",
            "                                                                 \n",
            "=================================================================\n",
            "Total params: 8578399 (32.72 MB)\n",
            "Trainable params: 4381699 (16.71 MB)\n",
            "Non-trainable params: 4196700 (16.01 MB)\n",
            "_________________________________________________________________\n"
          ]
        }
      ],
      "source": [
        "num_classes = 3            #### change class number\n",
        "\n",
        "accuracy_threshold = 0.99\n",
        "\n",
        "class myCallback(keras.callbacks.Callback):\n",
        "  def on_epoch_end(self, epoch, logs={}):\n",
        "      if(logs.get('accuracy')>accuracy_threshold):\n",
        "        print(\"\\nReached %2.2f%% accuracy so we will stop trianing\" % (accuracy_threshold*100))\n",
        "        self.model.stop_training = True\n",
        "\n",
        "acc_callback = myCallback()\n",
        "# Saved the Best Model\n",
        "filepath = \"OverFastTextglovebilstm.h5\"\n",
        "checkpoint = keras.callbacks.ModelCheckpoint(filepath, monitor='val_accuracy', verbose=2, save_best_only=True,\n",
        "                                             save_weights_only=False, mode='max')\n",
        "# callback list\n",
        "callback_list = [acc_callback, checkpoint]\n",
        "# Build the model\n",
        "model = Sequential()\n",
        "model.add(Embedding(vocab_size, 300, weights=[embedding_matrixx],trainable=False, input_length = max_len))\n",
        "model.add(Bidirectional(LSTM(64, return_sequences=True)))\n",
        "# model.add(Conv1D(64, 3, activation='relu'))\n",
        "# model.add(MaxPooling1D(3))\n",
        "model.add(Flatten())\n",
        "model.add(Dense(128, activation='relu'))\n",
        "model.add(Dropout(0.2))\n",
        "model.add(Dense(3, activation='softmax'))  # Adjust for binary/multi-class classification\n",
        "\n",
        "model.summary()"
      ]
    },
    {
      "cell_type": "code",
      "execution_count": null,
      "metadata": {
        "colab": {
          "base_uri": "https://localhost:8080/"
        },
        "id": "vQzpGpfe5QZI",
        "outputId": "0cafe2ae-69ed-4b04-bc3f-713b00da27ab"
      },
      "outputs": [
        {
          "output_type": "stream",
          "name": "stdout",
          "text": [
            "Epoch 1/15\n",
            "315/316 [============================>.] - ETA: 0s - loss: 0.8638 - accuracy: 0.5606\n",
            "Epoch 1: val_accuracy improved from -inf to 0.59193, saving model to OverFastTextglovebilstm.h5\n",
            "316/316 [==============================] - 11s 22ms/step - loss: 0.8631 - accuracy: 0.5610 - val_loss: 0.8846 - val_accuracy: 0.5919\n",
            "Epoch 2/15\n",
            "316/316 [==============================] - ETA: 0s - loss: 0.6188 - accuracy: 0.6942\n",
            "Epoch 2: val_accuracy improved from 0.59193 to 0.60090, saving model to OverFastTextglovebilstm.h5\n",
            "316/316 [==============================] - 7s 23ms/step - loss: 0.6188 - accuracy: 0.6942 - val_loss: 0.9033 - val_accuracy: 0.6009\n",
            "Epoch 3/15\n",
            "316/316 [==============================] - ETA: 0s - loss: 0.5062 - accuracy: 0.7504\n",
            "Epoch 3: val_accuracy did not improve from 0.60090\n",
            "316/316 [==============================] - 6s 19ms/step - loss: 0.5062 - accuracy: 0.7504 - val_loss: 0.9990 - val_accuracy: 0.5836\n",
            "Epoch 4/15\n",
            "315/316 [============================>.] - ETA: 0s - loss: 0.4436 - accuracy: 0.7856\n",
            "Epoch 4: val_accuracy improved from 0.60090 to 0.63037, saving model to OverFastTextglovebilstm.h5\n",
            "316/316 [==============================] - 7s 23ms/step - loss: 0.4433 - accuracy: 0.7859 - val_loss: 1.0162 - val_accuracy: 0.6304\n",
            "Epoch 5/15\n",
            "316/316 [==============================] - ETA: 0s - loss: 0.3848 - accuracy: 0.8222\n",
            "Epoch 5: val_accuracy did not improve from 0.63037\n",
            "316/316 [==============================] - 6s 19ms/step - loss: 0.3848 - accuracy: 0.8222 - val_loss: 1.1909 - val_accuracy: 0.6079\n",
            "Epoch 6/15\n",
            "314/316 [============================>.] - ETA: 0s - loss: 0.3374 - accuracy: 0.8511\n",
            "Epoch 6: val_accuracy did not improve from 0.63037\n",
            "316/316 [==============================] - 7s 22ms/step - loss: 0.3375 - accuracy: 0.8509 - val_loss: 1.2167 - val_accuracy: 0.6067\n",
            "Epoch 7/15\n",
            "315/316 [============================>.] - ETA: 0s - loss: 0.2897 - accuracy: 0.8694\n",
            "Epoch 7: val_accuracy did not improve from 0.63037\n",
            "316/316 [==============================] - 6s 19ms/step - loss: 0.2899 - accuracy: 0.8695 - val_loss: 1.3047 - val_accuracy: 0.6003\n",
            "Epoch 8/15\n",
            "316/316 [==============================] - ETA: 0s - loss: 0.2542 - accuracy: 0.8885\n",
            "Epoch 8: val_accuracy did not improve from 0.63037\n",
            "316/316 [==============================] - 6s 20ms/step - loss: 0.2542 - accuracy: 0.8885 - val_loss: 1.4758 - val_accuracy: 0.6163\n",
            "Epoch 9/15\n",
            "314/316 [============================>.] - ETA: 0s - loss: 0.2187 - accuracy: 0.9055\n",
            "Epoch 9: val_accuracy did not improve from 0.63037\n",
            "316/316 [==============================] - 7s 22ms/step - loss: 0.2192 - accuracy: 0.9052 - val_loss: 1.6676 - val_accuracy: 0.6073\n",
            "Epoch 10/15\n",
            "316/316 [==============================] - ETA: 0s - loss: 0.1881 - accuracy: 0.9209\n",
            "Epoch 10: val_accuracy did not improve from 0.63037\n",
            "316/316 [==============================] - 6s 20ms/step - loss: 0.1881 - accuracy: 0.9209 - val_loss: 1.6988 - val_accuracy: 0.5945\n",
            "Epoch 11/15\n",
            "315/316 [============================>.] - ETA: 0s - loss: 0.1730 - accuracy: 0.9280\n",
            "Epoch 11: val_accuracy did not improve from 0.63037\n",
            "316/316 [==============================] - 7s 22ms/step - loss: 0.1730 - accuracy: 0.9279 - val_loss: 1.7540 - val_accuracy: 0.6022\n",
            "Epoch 12/15\n",
            "316/316 [==============================] - ETA: 0s - loss: 0.1603 - accuracy: 0.9317\n",
            "Epoch 12: val_accuracy did not improve from 0.63037\n",
            "316/316 [==============================] - 6s 19ms/step - loss: 0.1603 - accuracy: 0.9317 - val_loss: 1.9992 - val_accuracy: 0.6143\n",
            "Epoch 13/15\n",
            "314/316 [============================>.] - ETA: 0s - loss: 0.1483 - accuracy: 0.9376\n",
            "Epoch 13: val_accuracy did not improve from 0.63037\n",
            "316/316 [==============================] - 7s 23ms/step - loss: 0.1482 - accuracy: 0.9377 - val_loss: 2.0867 - val_accuracy: 0.5964\n",
            "Epoch 14/15\n",
            "316/316 [==============================] - ETA: 0s - loss: 0.1329 - accuracy: 0.9448\n",
            "Epoch 14: val_accuracy did not improve from 0.63037\n",
            "316/316 [==============================] - 6s 19ms/step - loss: 0.1329 - accuracy: 0.9448 - val_loss: 2.1791 - val_accuracy: 0.5906\n",
            "Epoch 15/15\n",
            "314/316 [============================>.] - ETA: 0s - loss: 0.1235 - accuracy: 0.9489\n",
            "Epoch 15: val_accuracy did not improve from 0.63037\n",
            "316/316 [==============================] - 7s 22ms/step - loss: 0.1237 - accuracy: 0.9489 - val_loss: 2.2473 - val_accuracy: 0.6259\n"
          ]
        }
      ],
      "source": [
        "model.compile(optimizer=keras.optimizers.Adam(learning_rate=0.001), loss='sparse_categorical_crossentropy', metrics=['accuracy'])\n",
        "\n",
        "history = model.fit(\n",
        "    train_pad_sequences,\n",
        "    Ctrain_over['enc_label'],\n",
        "    epochs=15,\n",
        "    batch_size=32,\n",
        "    validation_data=(validation_pad_sequences, Cval['enc_label']),\n",
        "    verbose=1,\n",
        "    callbacks=callback_list\n",
        ")"
      ]
    },
    {
      "cell_type": "code",
      "execution_count": null,
      "metadata": {
        "colab": {
          "base_uri": "https://localhost:8080/"
        },
        "id": "JsHU3mp35QZI",
        "outputId": "7e57bf65-2e25-459c-f2fc-801251789db8"
      },
      "outputs": [
        {
          "output_type": "stream",
          "name": "stdout",
          "text": [
            "49/49 [==============================] - 1s 10ms/step\n",
            "Classification Report for Loaded Model:\n",
            "               precision    recall  f1-score   support\n",
            "\n",
            "           0     0.7006    0.7280    0.7141       897\n",
            "           1     0.7155    0.5425    0.6171       153\n",
            "           2     0.4834    0.4853    0.4844       511\n",
            "\n",
            "    accuracy                         0.6304      1561\n",
            "   macro avg     0.6332    0.5853    0.6052      1561\n",
            "weighted avg     0.6310    0.6304    0.6294      1561\n",
            "\n"
          ]
        }
      ],
      "source": [
        "import numpy as np\n",
        "from sklearn.metrics import classification_report\n",
        "\n",
        "# Assuming y_pred is a 2D array of predicted probabilities for each class\n",
        "# Adjust axis parameter if needed based on the shape of your y_pred array\n",
        "loaded_model = load_model(filepath)\n",
        "\n",
        "# Evaluate the model on the validation set\n",
        "y_pred = loaded_model.predict(validation_pad_sequences)\n",
        "y_pred_classes = np.argmax(y_pred, axis=1)\n",
        "\n",
        "# Generate a classification report\n",
        "classification_report_loaded_model = classification_report(Cval['enc_label'], y_pred_classes, digits=4)\n",
        "print('Classification Report for Loaded Model:\\n', classification_report_loaded_model)\n"
      ]
    },
    {
      "cell_type": "code",
      "source": [
        "import numpy as np\n",
        "from sklearn.metrics import classification_report\n",
        "\n",
        "# Assuming y_pred is a 2D array of predicted probabilities for each class\n",
        "# Adjust axis parameter if needed based on the shape of your y_pred array\n",
        "loaded_model = load_model(filepath)\n",
        "\n",
        "# Evaluate the model on the validation set\n",
        "y_pred = loaded_model.predict(test_pad_sequences)\n",
        "y_pred_classes = np.argmax(y_pred, axis=1)\n",
        "\n",
        "# Generate a classification report\n",
        "classification_report_loaded_model = classification_report(Ctest['enc_label'], y_pred_classes, digits=4)\n",
        "print('Classification Report for Loaded Model:\\n', classification_report_loaded_model)\n"
      ],
      "metadata": {
        "colab": {
          "base_uri": "https://localhost:8080/"
        },
        "id": "bGgZATSrsb9s",
        "outputId": "e028e558-a431-4d40-baf5-16bf5d39b436"
      },
      "execution_count": null,
      "outputs": [
        {
          "output_type": "stream",
          "name": "stdout",
          "text": [
            "49/49 [==============================] - 1s 7ms/step\n",
            "Classification Report for Loaded Model:\n",
            "               precision    recall  f1-score   support\n",
            "\n",
            "           0     0.7222    0.7340    0.7281       921\n",
            "           1     0.8173    0.6028    0.6939       141\n",
            "           2     0.4789    0.5000    0.4892       500\n",
            "\n",
            "    accuracy                         0.6472      1562\n",
            "   macro avg     0.6728    0.6123    0.6371      1562\n",
            "weighted avg     0.6529    0.6472    0.6485      1562\n",
            "\n"
          ]
        }
      ]
    },
    {
      "cell_type": "markdown",
      "metadata": {
        "id": "sd-CAe8Ibyxb"
      },
      "source": [
        "# ktrain"
      ]
    },
    {
      "cell_type": "code",
      "execution_count": null,
      "metadata": {
        "colab": {
          "base_uri": "https://localhost:8080/"
        },
        "id": "caZBKu7Rb88A",
        "outputId": "00ced0c6-0e1b-4e7c-b9fe-7bf6712a0a20"
      },
      "outputs": [
        {
          "output_type": "stream",
          "name": "stdout",
          "text": [
            "Collecting ktrain\n",
            "  Downloading ktrain-0.39.0.tar.gz (25.3 MB)\n",
            "\u001b[2K     \u001b[90m━━━━━━━━━━━━━━━━━━━━━━━━━━━━━━━━━━━━━━━━\u001b[0m \u001b[32m25.3/25.3 MB\u001b[0m \u001b[31m48.3 MB/s\u001b[0m eta \u001b[36m0:00:00\u001b[0m\n",
            "\u001b[?25h  Preparing metadata (setup.py) ... \u001b[?25l\u001b[?25hdone\n",
            "Requirement already satisfied: scikit-learn in /usr/local/lib/python3.10/dist-packages (from ktrain) (1.2.2)\n",
            "Requirement already satisfied: matplotlib>=3.0.0 in /usr/local/lib/python3.10/dist-packages (from ktrain) (3.7.1)\n",
            "Requirement already satisfied: pandas>=1.0.1 in /usr/local/lib/python3.10/dist-packages (from ktrain) (1.5.3)\n",
            "Requirement already satisfied: fastprogress>=0.1.21 in /usr/local/lib/python3.10/dist-packages (from ktrain) (1.0.3)\n",
            "Requirement already satisfied: requests in /usr/local/lib/python3.10/dist-packages (from ktrain) (2.31.0)\n",
            "Requirement already satisfied: joblib in /usr/local/lib/python3.10/dist-packages (from ktrain) (1.3.2)\n",
            "Requirement already satisfied: packaging in /usr/local/lib/python3.10/dist-packages (from ktrain) (23.2)\n",
            "Collecting langdetect (from ktrain)\n",
            "  Downloading langdetect-1.0.9.tar.gz (981 kB)\n",
            "\u001b[2K     \u001b[90m━━━━━━━━━━━━━━━━━━━━━━━━━━━━━━━━━━━━━━━━\u001b[0m \u001b[32m981.5/981.5 kB\u001b[0m \u001b[31m48.4 MB/s\u001b[0m eta \u001b[36m0:00:00\u001b[0m\n",
            "\u001b[?25h  Preparing metadata (setup.py) ... \u001b[?25l\u001b[?25hdone\n",
            "Requirement already satisfied: jieba in /usr/local/lib/python3.10/dist-packages (from ktrain) (0.42.1)\n",
            "Requirement already satisfied: charset-normalizer in /usr/local/lib/python3.10/dist-packages (from ktrain) (3.3.2)\n",
            "Requirement already satisfied: chardet in /usr/local/lib/python3.10/dist-packages (from ktrain) (5.2.0)\n",
            "Collecting syntok>1.3.3 (from ktrain)\n",
            "  Downloading syntok-1.4.4-py3-none-any.whl (24 kB)\n",
            "Collecting tika (from ktrain)\n",
            "  Downloading tika-2.6.0.tar.gz (27 kB)\n",
            "  Preparing metadata (setup.py) ... \u001b[?25l\u001b[?25hdone\n",
            "Requirement already satisfied: transformers>=4.17.0 in /usr/local/lib/python3.10/dist-packages (from ktrain) (4.35.2)\n",
            "Collecting sentencepiece (from ktrain)\n",
            "  Downloading sentencepiece-0.1.99-cp310-cp310-manylinux_2_17_x86_64.manylinux2014_x86_64.whl (1.3 MB)\n",
            "\u001b[2K     \u001b[90m━━━━━━━━━━━━━━━━━━━━━━━━━━━━━━━━━━━━━━━━\u001b[0m \u001b[32m1.3/1.3 MB\u001b[0m \u001b[31m71.4 MB/s\u001b[0m eta \u001b[36m0:00:00\u001b[0m\n",
            "\u001b[?25hCollecting keras_bert>=0.86.0 (from ktrain)\n",
            "  Downloading keras-bert-0.89.0.tar.gz (25 kB)\n",
            "  Preparing metadata (setup.py) ... \u001b[?25l\u001b[?25hdone\n",
            "Collecting whoosh (from ktrain)\n",
            "  Downloading Whoosh-2.7.4-py2.py3-none-any.whl (468 kB)\n",
            "\u001b[2K     \u001b[90m━━━━━━━━━━━━━━━━━━━━━━━━━━━━━━━━━━━━━━━━\u001b[0m \u001b[32m468.8/468.8 kB\u001b[0m \u001b[31m44.6 MB/s\u001b[0m eta \u001b[36m0:00:00\u001b[0m\n",
            "\u001b[?25hRequirement already satisfied: numpy in /usr/local/lib/python3.10/dist-packages (from keras_bert>=0.86.0->ktrain) (1.23.5)\n",
            "Collecting keras-transformer==0.40.0 (from keras_bert>=0.86.0->ktrain)\n",
            "  Downloading keras-transformer-0.40.0.tar.gz (9.7 kB)\n",
            "  Preparing metadata (setup.py) ... \u001b[?25l\u001b[?25hdone\n",
            "Collecting keras-pos-embd==0.13.0 (from keras-transformer==0.40.0->keras_bert>=0.86.0->ktrain)\n",
            "  Downloading keras-pos-embd-0.13.0.tar.gz (5.6 kB)\n",
            "  Preparing metadata (setup.py) ... \u001b[?25l\u001b[?25hdone\n",
            "Collecting keras-multi-head==0.29.0 (from keras-transformer==0.40.0->keras_bert>=0.86.0->ktrain)\n",
            "  Downloading keras-multi-head-0.29.0.tar.gz (13 kB)\n",
            "  Preparing metadata (setup.py) ... \u001b[?25l\u001b[?25hdone\n",
            "Collecting keras-layer-normalization==0.16.0 (from keras-transformer==0.40.0->keras_bert>=0.86.0->ktrain)\n",
            "  Downloading keras-layer-normalization-0.16.0.tar.gz (3.9 kB)\n",
            "  Preparing metadata (setup.py) ... \u001b[?25l\u001b[?25hdone\n",
            "Collecting keras-position-wise-feed-forward==0.8.0 (from keras-transformer==0.40.0->keras_bert>=0.86.0->ktrain)\n",
            "  Downloading keras-position-wise-feed-forward-0.8.0.tar.gz (4.1 kB)\n",
            "  Preparing metadata (setup.py) ... \u001b[?25l\u001b[?25hdone\n",
            "Collecting keras-embed-sim==0.10.0 (from keras-transformer==0.40.0->keras_bert>=0.86.0->ktrain)\n",
            "  Downloading keras-embed-sim-0.10.0.tar.gz (3.6 kB)\n",
            "  Preparing metadata (setup.py) ... \u001b[?25l\u001b[?25hdone\n",
            "Collecting keras-self-attention==0.51.0 (from keras-multi-head==0.29.0->keras-transformer==0.40.0->keras_bert>=0.86.0->ktrain)\n",
            "  Downloading keras-self-attention-0.51.0.tar.gz (11 kB)\n",
            "  Preparing metadata (setup.py) ... \u001b[?25l\u001b[?25hdone\n",
            "Requirement already satisfied: contourpy>=1.0.1 in /usr/local/lib/python3.10/dist-packages (from matplotlib>=3.0.0->ktrain) (1.2.0)\n",
            "Requirement already satisfied: cycler>=0.10 in /usr/local/lib/python3.10/dist-packages (from matplotlib>=3.0.0->ktrain) (0.12.1)\n",
            "Requirement already satisfied: fonttools>=4.22.0 in /usr/local/lib/python3.10/dist-packages (from matplotlib>=3.0.0->ktrain) (4.47.0)\n",
            "Requirement already satisfied: kiwisolver>=1.0.1 in /usr/local/lib/python3.10/dist-packages (from matplotlib>=3.0.0->ktrain) (1.4.5)\n",
            "Requirement already satisfied: pillow>=6.2.0 in /usr/local/lib/python3.10/dist-packages (from matplotlib>=3.0.0->ktrain) (9.4.0)\n",
            "Requirement already satisfied: pyparsing>=2.3.1 in /usr/local/lib/python3.10/dist-packages (from matplotlib>=3.0.0->ktrain) (3.1.1)\n",
            "Requirement already satisfied: python-dateutil>=2.7 in /usr/local/lib/python3.10/dist-packages (from matplotlib>=3.0.0->ktrain) (2.8.2)\n",
            "Requirement already satisfied: pytz>=2020.1 in /usr/local/lib/python3.10/dist-packages (from pandas>=1.0.1->ktrain) (2023.3.post1)\n",
            "Requirement already satisfied: regex>2016 in /usr/local/lib/python3.10/dist-packages (from syntok>1.3.3->ktrain) (2023.6.3)\n",
            "Requirement already satisfied: filelock in /usr/local/lib/python3.10/dist-packages (from transformers>=4.17.0->ktrain) (3.13.1)\n",
            "Requirement already satisfied: huggingface-hub<1.0,>=0.16.4 in /usr/local/lib/python3.10/dist-packages (from transformers>=4.17.0->ktrain) (0.20.2)\n",
            "Requirement already satisfied: pyyaml>=5.1 in /usr/local/lib/python3.10/dist-packages (from transformers>=4.17.0->ktrain) (6.0.1)\n",
            "Requirement already satisfied: tokenizers<0.19,>=0.14 in /usr/local/lib/python3.10/dist-packages (from transformers>=4.17.0->ktrain) (0.15.0)\n",
            "Requirement already satisfied: safetensors>=0.3.1 in /usr/local/lib/python3.10/dist-packages (from transformers>=4.17.0->ktrain) (0.4.1)\n",
            "Requirement already satisfied: tqdm>=4.27 in /usr/local/lib/python3.10/dist-packages (from transformers>=4.17.0->ktrain) (4.66.1)\n",
            "Requirement already satisfied: six in /usr/local/lib/python3.10/dist-packages (from langdetect->ktrain) (1.16.0)\n",
            "Requirement already satisfied: idna<4,>=2.5 in /usr/local/lib/python3.10/dist-packages (from requests->ktrain) (3.6)\n",
            "Requirement already satisfied: urllib3<3,>=1.21.1 in /usr/local/lib/python3.10/dist-packages (from requests->ktrain) (2.0.7)\n",
            "Requirement already satisfied: certifi>=2017.4.17 in /usr/local/lib/python3.10/dist-packages (from requests->ktrain) (2023.11.17)\n",
            "Requirement already satisfied: scipy>=1.3.2 in /usr/local/lib/python3.10/dist-packages (from scikit-learn->ktrain) (1.11.4)\n",
            "Requirement already satisfied: threadpoolctl>=2.0.0 in /usr/local/lib/python3.10/dist-packages (from scikit-learn->ktrain) (3.2.0)\n",
            "Requirement already satisfied: setuptools in /usr/local/lib/python3.10/dist-packages (from tika->ktrain) (67.7.2)\n",
            "Requirement already satisfied: fsspec>=2023.5.0 in /usr/local/lib/python3.10/dist-packages (from huggingface-hub<1.0,>=0.16.4->transformers>=4.17.0->ktrain) (2023.6.0)\n",
            "Requirement already satisfied: typing-extensions>=3.7.4.3 in /usr/local/lib/python3.10/dist-packages (from huggingface-hub<1.0,>=0.16.4->transformers>=4.17.0->ktrain) (4.5.0)\n",
            "Building wheels for collected packages: ktrain, keras_bert, keras-transformer, keras-embed-sim, keras-layer-normalization, keras-multi-head, keras-pos-embd, keras-position-wise-feed-forward, keras-self-attention, langdetect, tika\n",
            "  Building wheel for ktrain (setup.py) ... \u001b[?25l\u001b[?25hdone\n",
            "  Created wheel for ktrain: filename=ktrain-0.39.0-py3-none-any.whl size=25319737 sha256=198b5c6d8a507c4ac060de9d9efe1068184a42cf1cbb390a00136c5414228884\n",
            "  Stored in directory: /root/.cache/pip/wheels/98/fd/0a/ef6252223f3d2c49b06d18e71c74caa43bbf4c64a8c183a46e\n",
            "  Building wheel for keras_bert (setup.py) ... \u001b[?25l\u001b[?25hdone\n",
            "  Created wheel for keras_bert: filename=keras_bert-0.89.0-py3-none-any.whl size=33499 sha256=68f846086bed138bbe5b7da5c2ee31510fc9c7bbf10dbcd5e0d3e61cd81fe770\n",
            "  Stored in directory: /root/.cache/pip/wheels/89/0c/04/646b6fdf6375911b42c8d540a8a3fda8d5d77634e5dcbe7b26\n",
            "  Building wheel for keras-transformer (setup.py) ... \u001b[?25l\u001b[?25hdone\n",
            "  Created wheel for keras-transformer: filename=keras_transformer-0.40.0-py3-none-any.whl size=12286 sha256=b1ad214dfb14cf29c001327ae2d9327d6717d43c5d98278ac18d700105053af4\n",
            "  Stored in directory: /root/.cache/pip/wheels/f2/cb/22/75a0ad376129177f7c95c0d91331a18f5368fd657f4035ba7c\n",
            "  Building wheel for keras-embed-sim (setup.py) ... \u001b[?25l\u001b[?25hdone\n",
            "  Created wheel for keras-embed-sim: filename=keras_embed_sim-0.10.0-py3-none-any.whl size=3943 sha256=bf5fa2f9db794c99ac1cf02f773878273f35a6f151e11aad0d5f8458915be353\n",
            "  Stored in directory: /root/.cache/pip/wheels/82/32/c7/fd35d0d1b840a6c7cbd4343f808d10d0f7b87d271a4dbe796f\n",
            "  Building wheel for keras-layer-normalization (setup.py) ... \u001b[?25l\u001b[?25hdone\n",
            "  Created wheel for keras-layer-normalization: filename=keras_layer_normalization-0.16.0-py3-none-any.whl size=4653 sha256=3a254b104e95e9d51970dbd743772dff03462eb1a605a5d7128e18a575919267\n",
            "  Stored in directory: /root/.cache/pip/wheels/ed/3a/4b/21db23c0cc56c4b219616e181f258eb7c57d36cc5d056fae9a\n",
            "  Building wheel for keras-multi-head (setup.py) ... \u001b[?25l\u001b[?25hdone\n",
            "  Created wheel for keras-multi-head: filename=keras_multi_head-0.29.0-py3-none-any.whl size=14975 sha256=3c5d4440c9baedf1e86789af02cb03b85a2a2a831113759b598da7beafd3de54\n",
            "  Stored in directory: /root/.cache/pip/wheels/cb/23/4b/06d7ae21714f70fcc25b48f972cc8e5e7f4b6b764a038b509d\n",
            "  Building wheel for keras-pos-embd (setup.py) ... \u001b[?25l\u001b[?25hdone\n",
            "  Created wheel for keras-pos-embd: filename=keras_pos_embd-0.13.0-py3-none-any.whl size=6946 sha256=dbdbf1b69b7fa4b3833c303bf31bb91c20bde647e7bbc8e1d51eedfbfbd30095\n",
            "  Stored in directory: /root/.cache/pip/wheels/78/07/1b/b1ca47b6ac338554b75c8f52c54e6a2bfbe1b07d79579979a4\n",
            "  Building wheel for keras-position-wise-feed-forward (setup.py) ... \u001b[?25l\u001b[?25hdone\n",
            "  Created wheel for keras-position-wise-feed-forward: filename=keras_position_wise_feed_forward-0.8.0-py3-none-any.whl size=4968 sha256=2640e1d1a36d623b5debdeea4d6d8e1d827eec555bc7a0f697d142b6a6c89164\n",
            "  Stored in directory: /root/.cache/pip/wheels/c1/6a/04/d1706a53b23b2cb5f9a0a76269bf87925daa1bca09eac01b21\n",
            "  Building wheel for keras-self-attention (setup.py) ... \u001b[?25l\u001b[?25hdone\n",
            "  Created wheel for keras-self-attention: filename=keras_self_attention-0.51.0-py3-none-any.whl size=18895 sha256=32f22e8fa715be7ed33feb8292a9d4212f5d02c7a03d69c63ff9737beb5a078d\n",
            "  Stored in directory: /root/.cache/pip/wheels/b8/f7/24/607b483144fb9c47b4ba2c5fba6b68e54aeee2d5bf6c05302e\n",
            "  Building wheel for langdetect (setup.py) ... \u001b[?25l\u001b[?25hdone\n",
            "  Created wheel for langdetect: filename=langdetect-1.0.9-py3-none-any.whl size=993225 sha256=d7a532eb70bd711ae25c2944d1e5b6021b579772d7d0851022f128e8f0cad9a2\n",
            "  Stored in directory: /root/.cache/pip/wheels/95/03/7d/59ea870c70ce4e5a370638b5462a7711ab78fba2f655d05106\n",
            "  Building wheel for tika (setup.py) ... \u001b[?25l\u001b[?25hdone\n",
            "  Created wheel for tika: filename=tika-2.6.0-py3-none-any.whl size=32622 sha256=00aa548c792aa3c7b6c6fdb8cf5360c462de3e41d8766393c63f790d6124fc82\n",
            "  Stored in directory: /root/.cache/pip/wheels/5f/71/c7/b757709531121b1700cffda5b6b0d4aad095fb507ec84316d0\n",
            "Successfully built ktrain keras_bert keras-transformer keras-embed-sim keras-layer-normalization keras-multi-head keras-pos-embd keras-position-wise-feed-forward keras-self-attention langdetect tika\n",
            "Installing collected packages: whoosh, sentencepiece, syntok, langdetect, keras-self-attention, keras-position-wise-feed-forward, keras-pos-embd, keras-layer-normalization, keras-embed-sim, tika, keras-multi-head, keras-transformer, keras_bert, ktrain\n",
            "Successfully installed keras-embed-sim-0.10.0 keras-layer-normalization-0.16.0 keras-multi-head-0.29.0 keras-pos-embd-0.13.0 keras-position-wise-feed-forward-0.8.0 keras-self-attention-0.51.0 keras-transformer-0.40.0 keras_bert-0.89.0 ktrain-0.39.0 langdetect-1.0.9 sentencepiece-0.1.99 syntok-1.4.4 tika-2.6.0 whoosh-2.7.4\n"
          ]
        }
      ],
      "source": [
        "!pip install ktrain"
      ]
    },
    {
      "cell_type": "code",
      "execution_count": null,
      "metadata": {
        "id": "aEdORDT8b5OC"
      },
      "outputs": [],
      "source": [
        "%reload_ext autoreload\n",
        "%autoreload 2\n",
        "%matplotlib inline\n",
        "import os\n",
        "os.environ[\"CUDA_DEVICE_ORDER\"] = \"PCI_BUS_ID\"\n",
        "os.environ[\"CUDA_VISIBLE_DEVICES\"] = \"0\""
      ]
    },
    {
      "cell_type": "code",
      "execution_count": null,
      "metadata": {
        "id": "KWkkVcSYciz0"
      },
      "outputs": [],
      "source": [
        "import ktrain\n",
        "from ktrain import text"
      ]
    },
    {
      "cell_type": "code",
      "execution_count": null,
      "metadata": {
        "id": "UE_nECS8cNcb"
      },
      "outputs": [],
      "source": [
        "categories=['0', '1', '2']"
      ]
    },
    {
      "cell_type": "markdown",
      "source": [
        "## Ktrain Climate BERT"
      ],
      "metadata": {
        "id": "utoc_tZ0h7jg"
      }
    },
    {
      "cell_type": "code",
      "source": [
        "model_name = 'climatebert/distilroberta-base-climate-f'\n",
        "trans = text.Transformer(model_name,maxlen=256,class_names=categories)"
      ],
      "metadata": {
        "colab": {
          "base_uri": "https://localhost:8080/",
          "height": 109,
          "referenced_widgets": [
            "0d1f565e2eb144d4847c3cb94aeb040e",
            "83eeeb8e4175479fbaeaa5a75fb8ed48",
            "c614039bfccd4979925ec01ea4a7e616",
            "10f941cc4cd4401a9e2cf6a57ca3a4ef",
            "d525a725eac7417a9575e7718c366e54",
            "2e215bda17ee46eaa699fc9ccb3f5e57",
            "85a0b687e5e74d1cba1f216022b6469c",
            "b43d5be423204b998246483ab96b84dc",
            "920468c9233949d4a96d7b550912baa5",
            "ab3a80aa779e45adb0356d479d155b9b",
            "5358273abb8345e2ad51a06f19da7e77",
            "6529a4a7f9c74db196f1a67d1f78169a",
            "1750f2491e6c406aba45a6f55bb22485",
            "5f0bbe33dc7743028c46604878c68b45",
            "fbf001a4420d445292bbe3a2b206649c",
            "14fae64c63014f9daf6a304a1bb75899",
            "864ba3721318435788ec3c61fa05e044",
            "2b890cdd659e47c3b90fe2379b49d6ce",
            "89d181b7e9db427b839fb5298f8f60f3",
            "59b687ea5eac4c47ab7f6594f3d9587f",
            "371d81e749ee40b6b18cc61e268f7cc1",
            "019111ce9443451d8494b1760a1955ea"
          ]
        },
        "outputId": "4dd3ca66-c4a5-4899-b221-188ada992fe8",
        "execution": {
          "iopub.status.busy": "2024-01-04T20:24:41.233933Z",
          "iopub.execute_input": "2024-01-04T20:24:41.234678Z",
          "iopub.status.idle": "2024-01-04T20:24:47.228830Z",
          "shell.execute_reply.started": "2024-01-04T20:24:41.234646Z",
          "shell.execute_reply": "2024-01-04T20:24:47.228024Z"
        },
        "trusted": true,
        "id": "bV2qZiEyh7jh"
      },
      "execution_count": null,
      "outputs": [
        {
          "output_type": "display_data",
          "data": {
            "text/plain": [
              "config.json:   0%|          | 0.00/752 [00:00<?, ?B/s]"
            ],
            "application/vnd.jupyter.widget-view+json": {
              "version_major": 2,
              "version_minor": 0,
              "model_id": "0d1f565e2eb144d4847c3cb94aeb040e"
            }
          },
          "metadata": {}
        },
        {
          "output_type": "display_data",
          "data": {
            "text/plain": [
              "model.safetensors:   0%|          | 0.00/329M [00:00<?, ?B/s]"
            ],
            "application/vnd.jupyter.widget-view+json": {
              "version_major": 2,
              "version_minor": 0,
              "model_id": "6529a4a7f9c74db196f1a67d1f78169a"
            }
          },
          "metadata": {}
        }
      ]
    },
    {
      "cell_type": "code",
      "source": [
        "train = trans.preprocess_train(X_train_over, y_train_over)\n",
        "valid = trans.preprocess_train(X_valid, y_valid)\n",
        "test = trans.preprocess_train(X_test,y_test)\n",
        "model = trans.get_classifier()\n",
        "ClimateBertlearner = ktrain.get_learner(model, train_data=train,val_data=test, batch_size=16)"
      ],
      "metadata": {
        "colab": {
          "referenced_widgets": [
            "84039f39f0df402aa98a94efb0a7f59c",
            "768ba61d8504440d8dc76e9c2ce043e1",
            "029be6f754134112afdb668e1fa8bcbb",
            "2e9a16cc122b46c3a8eca8323b1737e4",
            "31e34870dfc9428b801bc4856b150193",
            "36adbc814a6049f79aa2de5afdf7b57f",
            "042c716983774095a65121478bad8112",
            "2ff01ec0e7894c158f645ee2c2fd736b",
            "38bb950e926e4129a4b036e020385d2a",
            "e6e7184408d24d669f1c82beb56daa90",
            "ee1cd40cd95b426097e9075db912871b",
            "f9189c96f486413f8ae812c9302d4664",
            "bbf21cfab84245fc90a45b3ff7700cd3",
            "d2afe15d45ed4f6a8caeb691ac924a0f",
            "df12eb2fd19846dda232fa1b6aaa736a",
            "4ce9d2d393d24169bec0c36845ee5dbb",
            "e8e531b8fa6a4d24bb1e91a97ff058fe",
            "55f7d4e435b14857a52dea16316242eb",
            "fb2bb61474424fc49d65ec2598a35ea1",
            "47a5dcd7398446db8504c50bb1c92e06",
            "e37efc00ddf4462f9d61c057b90d9502",
            "32551c7e8ee64b2986ca4a4b12dab1f4",
            "0e85410a674f4897a53dbde9451c993b",
            "365f68d190694c25acd8efee63b73b87",
            "9c5380a631cd438abd994d2a1f9bb716",
            "b81faa86b5ff428795a739e80a7b6ee1",
            "3f6ced075ddc43d887376718ce5461f4",
            "56e767eec47a4aee84ed4103feb3cc67",
            "628511d3aa254af0bf1c233413383d13",
            "c466032f7b0741bba1025e212b01c7ad",
            "8b7b0575b6bf459aa8618b03bbfc5707",
            "396f91ea2cb64fc4a0b10322ad8738a4",
            "27740739d0f04875ae7f401e6601ad9c",
            "cf98e12dd1cf45beb326c528e468c2f3",
            "57fb67e2292448ada60eeb83e1f1abbb",
            "d8b92e0ad5cd4fd984e943f89d25f568",
            "c6ff33835a8f4de28272920017233cfd",
            "3921dce4420b4ceda49e740853191811",
            "564378d7fb6948c483bc1a8f2895b451",
            "934821dd432b477989f563f47a140e4e",
            "9a28f471ab3f4b308f9deec631780ebe",
            "105646aed58b45dfb02bddd4a5ee89a6",
            "093ac7f2bfea4bd68e81af2394075674",
            "b9e52559ed754bc1acfb2ad3a4d06429",
            "627be3ae8d924c9997b83d2d71646d5a",
            "2536c52127e24a4da0644a8868c68f95",
            "f360987f750d45f3ae704b4291f598cd",
            "ee985d2531354ea68da16fa41de5b4c0",
            "3e257868c74c483b9bfbe8bc463c676e",
            "5353d3f4a6274862ae0b2e5aebeb9185",
            "b839f1c4daa74610aeaf91310f982018",
            "8368c1f257d24524b62f14ab9f842512",
            "115d79efdfad4f778e8b2010bbaad0f0",
            "4d239687b2064428af83c6ad8f9cbf58",
            "351eef2c70bb4200a3a30127cbdb6670",
            "276cd25a7be544549ff8dad545246f34",
            "cf63d1891b1f43a280844d139b44b3b1",
            "e7786f3b9cb64f5ea8a7e2306929ff7d",
            "7f7ac88ce7274a668dd0a214465b6ba2",
            "2e533f0cbe964cada9c8bc6fa60e7ade",
            "65ebe17c035c40d1a6345a3b69d60f83",
            "c61a5733e4864a23b93b198408a7a6b2",
            "cc460a1014fe4c10b0e42773a9020574",
            "d2dfe594a61c4ca88e65d58f2b5bc571",
            "04f3fd491feb42f095f28c9a84ff45f2",
            "e03a1ecfff3a4232bf6c917319635088"
          ],
          "base_uri": "https://localhost:8080/",
          "height": 685
        },
        "outputId": "e37185ed-311f-4325-8f7b-53e132510e80",
        "execution": {
          "iopub.status.busy": "2024-01-04T20:25:08.680544Z",
          "iopub.execute_input": "2024-01-04T20:25:08.681217Z",
          "iopub.status.idle": "2024-01-04T20:25:19.430583Z",
          "shell.execute_reply.started": "2024-01-04T20:25:08.681185Z",
          "shell.execute_reply": "2024-01-04T20:25:19.429473Z"
        },
        "trusted": true,
        "id": "uG9dX2wJh7jh"
      },
      "execution_count": null,
      "outputs": [
        {
          "output_type": "stream",
          "name": "stdout",
          "text": [
            "preprocessing train...\n",
            "language: en\n",
            "train sequence lengths:\n",
            "\tmean : 18\n",
            "\t95percentile : 28\n",
            "\t99percentile : 32\n"
          ]
        },
        {
          "output_type": "display_data",
          "data": {
            "text/plain": [
              "tokenizer_config.json:   0%|          | 0.00/1.46k [00:00<?, ?B/s]"
            ],
            "application/vnd.jupyter.widget-view+json": {
              "version_major": 2,
              "version_minor": 0,
              "model_id": "84039f39f0df402aa98a94efb0a7f59c"
            }
          },
          "metadata": {}
        },
        {
          "output_type": "display_data",
          "data": {
            "text/plain": [
              "vocab.json:   0%|          | 0.00/798k [00:00<?, ?B/s]"
            ],
            "application/vnd.jupyter.widget-view+json": {
              "version_major": 2,
              "version_minor": 0,
              "model_id": "f9189c96f486413f8ae812c9302d4664"
            }
          },
          "metadata": {}
        },
        {
          "output_type": "display_data",
          "data": {
            "text/plain": [
              "merges.txt:   0%|          | 0.00/456k [00:00<?, ?B/s]"
            ],
            "application/vnd.jupyter.widget-view+json": {
              "version_major": 2,
              "version_minor": 0,
              "model_id": "0e85410a674f4897a53dbde9451c993b"
            }
          },
          "metadata": {}
        },
        {
          "output_type": "display_data",
          "data": {
            "text/plain": [
              "tokenizer.json:   0%|          | 0.00/2.15M [00:00<?, ?B/s]"
            ],
            "application/vnd.jupyter.widget-view+json": {
              "version_major": 2,
              "version_minor": 0,
              "model_id": "cf98e12dd1cf45beb326c528e468c2f3"
            }
          },
          "metadata": {}
        },
        {
          "output_type": "display_data",
          "data": {
            "text/plain": [
              "added_tokens.json:   0%|          | 0.00/4.98k [00:00<?, ?B/s]"
            ],
            "application/vnd.jupyter.widget-view+json": {
              "version_major": 2,
              "version_minor": 0,
              "model_id": "627be3ae8d924c9997b83d2d71646d5a"
            }
          },
          "metadata": {}
        },
        {
          "output_type": "display_data",
          "data": {
            "text/plain": [
              "special_tokens_map.json:   0%|          | 0.00/280 [00:00<?, ?B/s]"
            ],
            "application/vnd.jupyter.widget-view+json": {
              "version_major": 2,
              "version_minor": 0,
              "model_id": "276cd25a7be544549ff8dad545246f34"
            }
          },
          "metadata": {}
        },
        {
          "output_type": "display_data",
          "data": {
            "text/plain": [
              "<IPython.core.display.HTML object>"
            ],
            "text/html": [
              "\n",
              "<style>\n",
              "    /* Turns off some styling */\n",
              "    progress {\n",
              "        /* gets rid of default border in Firefox and Opera. */\n",
              "        border: none;\n",
              "        /* Needs to be in here for Safari polyfill so background images work as expected. */\n",
              "        background-size: auto;\n",
              "    }\n",
              "    progress:not([value]), progress:not([value])::-webkit-progress-bar {\n",
              "        background: repeating-linear-gradient(45deg, #7e7e7e, #7e7e7e 10px, #5c5c5c 10px, #5c5c5c 20px);\n",
              "    }\n",
              "    .progress-bar-interrupted, .progress-bar-interrupted::-webkit-progress-bar {\n",
              "        background: #F44336;\n",
              "    }\n",
              "</style>\n"
            ]
          },
          "metadata": {}
        },
        {
          "output_type": "display_data",
          "data": {
            "text/plain": [
              "<IPython.core.display.HTML object>"
            ],
            "text/html": []
          },
          "metadata": {}
        },
        {
          "output_type": "stream",
          "name": "stdout",
          "text": [
            "Is Multi-Label? False\n",
            "preprocessing train...\n",
            "language: en\n",
            "train sequence lengths:\n",
            "\tmean : 18\n",
            "\t95percentile : 27\n",
            "\t99percentile : 32\n"
          ]
        },
        {
          "output_type": "display_data",
          "data": {
            "text/plain": [
              "<IPython.core.display.HTML object>"
            ],
            "text/html": [
              "\n",
              "<style>\n",
              "    /* Turns off some styling */\n",
              "    progress {\n",
              "        /* gets rid of default border in Firefox and Opera. */\n",
              "        border: none;\n",
              "        /* Needs to be in here for Safari polyfill so background images work as expected. */\n",
              "        background-size: auto;\n",
              "    }\n",
              "    progress:not([value]), progress:not([value])::-webkit-progress-bar {\n",
              "        background: repeating-linear-gradient(45deg, #7e7e7e, #7e7e7e 10px, #5c5c5c 10px, #5c5c5c 20px);\n",
              "    }\n",
              "    .progress-bar-interrupted, .progress-bar-interrupted::-webkit-progress-bar {\n",
              "        background: #F44336;\n",
              "    }\n",
              "</style>\n"
            ]
          },
          "metadata": {}
        },
        {
          "output_type": "display_data",
          "data": {
            "text/plain": [
              "<IPython.core.display.HTML object>"
            ],
            "text/html": []
          },
          "metadata": {}
        },
        {
          "output_type": "stream",
          "name": "stdout",
          "text": [
            "Is Multi-Label? False\n",
            "preprocessing train...\n",
            "language: en\n",
            "train sequence lengths:\n",
            "\tmean : 17\n",
            "\t95percentile : 27\n",
            "\t99percentile : 32\n"
          ]
        },
        {
          "output_type": "display_data",
          "data": {
            "text/plain": [
              "<IPython.core.display.HTML object>"
            ],
            "text/html": [
              "\n",
              "<style>\n",
              "    /* Turns off some styling */\n",
              "    progress {\n",
              "        /* gets rid of default border in Firefox and Opera. */\n",
              "        border: none;\n",
              "        /* Needs to be in here for Safari polyfill so background images work as expected. */\n",
              "        background-size: auto;\n",
              "    }\n",
              "    progress:not([value]), progress:not([value])::-webkit-progress-bar {\n",
              "        background: repeating-linear-gradient(45deg, #7e7e7e, #7e7e7e 10px, #5c5c5c 10px, #5c5c5c 20px);\n",
              "    }\n",
              "    .progress-bar-interrupted, .progress-bar-interrupted::-webkit-progress-bar {\n",
              "        background: #F44336;\n",
              "    }\n",
              "</style>\n"
            ]
          },
          "metadata": {}
        },
        {
          "output_type": "display_data",
          "data": {
            "text/plain": [
              "<IPython.core.display.HTML object>"
            ],
            "text/html": []
          },
          "metadata": {}
        },
        {
          "output_type": "stream",
          "name": "stdout",
          "text": [
            "Is Multi-Label? False\n"
          ]
        }
      ]
    },
    {
      "cell_type": "code",
      "source": [
        "ClimateBertlearner.lr_find(show_plot = True,max_epochs=10)"
      ],
      "metadata": {
        "execution": {
          "iopub.status.busy": "2023-12-26T04:04:01.651951Z",
          "iopub.execute_input": "2023-12-26T04:04:01.652598Z",
          "iopub.status.idle": "2023-12-26T04:28:05.061769Z",
          "shell.execute_reply.started": "2023-12-26T04:04:01.652564Z",
          "shell.execute_reply": "2023-12-26T04:28:05.061022Z"
        },
        "outputId": "4a7a72a6-f673-4b7a-cb45-825cd7a85aac",
        "trusted": true,
        "colab": {
          "base_uri": "https://localhost:8080/",
          "height": 784
        },
        "id": "doIv4yJnh7ji"
      },
      "execution_count": null,
      "outputs": [
        {
          "output_type": "stream",
          "name": "stdout",
          "text": [
            "simulating training for different learning rates... this may take a few moments...\n",
            "Epoch 1/10\n",
            "681/681 [==============================] - 596s 838ms/step - loss: 0.6773 - accuracy: 0.5742\n",
            "Epoch 2/10\n",
            "681/681 [==============================] - 583s 856ms/step - loss: 0.5090 - accuracy: 0.7507\n",
            "Epoch 3/10\n",
            "681/681 [==============================] - 582s 855ms/step - loss: 0.3030 - accuracy: 0.8731\n",
            "Epoch 4/10\n",
            "681/681 [==============================] - 580s 852ms/step - loss: 0.2568 - accuracy: 0.9016\n",
            "Epoch 5/10\n",
            "681/681 [==============================] - 580s 852ms/step - loss: 0.6686 - accuracy: 0.5585\n",
            "Epoch 6/10\n",
            "681/681 [==============================] - 580s 852ms/step - loss: 0.7644 - accuracy: 0.5165\n",
            "Epoch 7/10\n",
            "681/681 [==============================] - 121s 177ms/step - loss: 0.9371 - accuracy: 0.5103\n",
            "\n",
            "\n",
            "done.\n",
            "Visually inspect loss plot and select learning rate associated with falling loss\n"
          ]
        },
        {
          "output_type": "display_data",
          "data": {
            "text/plain": [
              "<Figure size 640x480 with 1 Axes>"
            ],
            "image/png": "[encoded data removed]"
          },
          "metadata": {}
        }
      ]
    },
    {
      "cell_type": "code",
      "source": [
        "ClimateBertlearner.fit_onecycle(3e-5,10)"
      ],
      "metadata": {
        "colab": {
          "base_uri": "https://localhost:8080/"
        },
        "outputId": "0947f198-8069-444f-9e9c-f5db0c238f8e",
        "execution": {
          "iopub.status.busy": "2024-01-04T20:25:31.273889Z",
          "iopub.execute_input": "2024-01-04T20:25:31.274809Z",
          "iopub.status.idle": "2024-01-04T21:17:11.954834Z",
          "shell.execute_reply.started": "2024-01-04T20:25:31.274776Z",
          "shell.execute_reply": "2024-01-04T21:17:11.953021Z"
        },
        "trusted": true,
        "id": "YXcbXp5Wh7ji"
      },
      "execution_count": null,
      "outputs": [
        {
          "output_type": "stream",
          "name": "stdout",
          "text": [
            "\n",
            "\n",
            "begin training using onecycle policy with max lr of 3e-05...\n",
            "Epoch 1/10\n",
            "632/632 [==============================] - 322s 464ms/step - loss: 0.9212 - accuracy: 0.5286 - val_loss: 0.7351 - val_accuracy: 0.6639\n",
            "Epoch 2/10\n",
            "632/632 [==============================] - 287s 455ms/step - loss: 0.6395 - accuracy: 0.6960 - val_loss: 0.6561 - val_accuracy: 0.6972\n",
            "Epoch 3/10\n",
            "632/632 [==============================] - 289s 457ms/step - loss: 0.4994 - accuracy: 0.7631 - val_loss: 0.7310 - val_accuracy: 0.6786\n",
            "Epoch 4/10\n",
            "632/632 [==============================] - 294s 465ms/step - loss: 0.4168 - accuracy: 0.8123 - val_loss: 0.7129 - val_accuracy: 0.7004\n",
            "Epoch 5/10\n",
            "632/632 [==============================] - 287s 454ms/step - loss: 0.3326 - accuracy: 0.8563 - val_loss: 0.8074 - val_accuracy: 0.6780\n",
            "Epoch 6/10\n",
            "632/632 [==============================] - 294s 466ms/step - loss: 0.2397 - accuracy: 0.9037 - val_loss: 1.0339 - val_accuracy: 0.6517\n",
            "Epoch 7/10\n",
            "632/632 [==============================] - 287s 455ms/step - loss: 0.1641 - accuracy: 0.9382 - val_loss: 1.1149 - val_accuracy: 0.6921\n",
            "Epoch 8/10\n",
            "632/632 [==============================] - 298s 471ms/step - loss: 0.1138 - accuracy: 0.9581 - val_loss: 1.3011 - val_accuracy: 0.6825\n",
            "Epoch 9/10\n",
            "632/632 [==============================] - 287s 454ms/step - loss: 0.0816 - accuracy: 0.9690 - val_loss: 1.3424 - val_accuracy: 0.6805\n",
            "Epoch 10/10\n",
            "632/632 [==============================] - 287s 454ms/step - loss: 0.0574 - accuracy: 0.9789 - val_loss: 1.4532 - val_accuracy: 0.6754\n"
          ]
        },
        {
          "output_type": "execute_result",
          "data": {
            "text/plain": [
              "<keras.src.callbacks.History at 0x7b57916a1ae0>"
            ]
          },
          "metadata": {},
          "execution_count": 68
        }
      ]
    },
    {
      "cell_type": "code",
      "source": [
        "ClimateBertlearner.validate(class_names=categories)"
      ],
      "metadata": {
        "outputId": "ed4d8f4d-db46-4198-c84b-0b570bb1a98a",
        "execution": {
          "iopub.status.busy": "2024-01-04T21:17:19.324799Z",
          "iopub.execute_input": "2024-01-04T21:17:19.325871Z",
          "iopub.status.idle": "2024-01-04T21:17:38.565370Z",
          "shell.execute_reply.started": "2024-01-04T21:17:19.325834Z",
          "shell.execute_reply": "2024-01-04T21:17:38.564221Z"
        },
        "trusted": true,
        "colab": {
          "base_uri": "https://localhost:8080/"
        },
        "id": "nDW84E4Eh7ji"
      },
      "execution_count": null,
      "outputs": [
        {
          "output_type": "stream",
          "name": "stdout",
          "text": [
            "49/49 [==============================] - 15s 274ms/step\n",
            "              precision    recall  f1-score   support\n",
            "\n",
            "           0       0.74      0.75      0.74       921\n",
            "           1       0.88      0.70      0.78       141\n",
            "           2       0.52      0.53      0.52       500\n",
            "\n",
            "    accuracy                           0.68      1562\n",
            "   macro avg       0.71      0.66      0.68      1562\n",
            "weighted avg       0.68      0.68      0.68      1562\n",
            "\n"
          ]
        },
        {
          "output_type": "execute_result",
          "data": {
            "text/plain": [
              "array([[691,   6, 224],\n",
              "       [ 17,  99,  25],\n",
              "       [228,   7, 265]])"
            ]
          },
          "metadata": {},
          "execution_count": 69
        }
      ]
    },
    {
      "cell_type": "code",
      "source": [
        "'''import json\n",
        "import zipfile\n",
        "\n",
        "# Assuming Atest is your DataFrame with an \"index\" column and y_pred is your predicted labels\n",
        "# Replace y_pred with your actual predicted labels\n",
        "\n",
        "# Create a DataFrame with \"index\" and \"prediction\" columns\n",
        "submission_df = pd.DataFrame({\"index\": Atest[\"index\"].tolist(), \"prediction\": y_pred})\n",
        "\n",
        "# Sort the DataFrame based on the \"index\" column\n",
        "submission_df = submission_df.sort_values(by=\"index\")\n",
        "\n",
        "# Define the path to save the submission file\n",
        "submission_file_path = \"submission.json\"\n",
        "\n",
        "# Save the DataFrame to a JSON file\n",
        "submission_df.to_json(submission_file_path, orient=\"records\", lines=True)\n",
        "\n",
        "# Zip the JSON file\n",
        "with zipfile.ZipFile(\"ref.zip\", \"w\") as zipf:\n",
        "    zipf.write(submission_file_path, arcname=\"submission.json\")'''\n"
      ],
      "metadata": {
        "id": "bYKnfvlKh7jj"
      },
      "execution_count": null,
      "outputs": []
    },
    {
      "cell_type": "markdown",
      "metadata": {
        "id": "dtl_Lbo453_e"
      },
      "source": [
        "## Ktrain mBert"
      ]
    },
    {
      "cell_type": "code",
      "execution_count": null,
      "metadata": {
        "id": "q_uEfOPM53_f",
        "colab": {
          "base_uri": "https://localhost:8080/",
          "height": 81,
          "referenced_widgets": [
            "7b9d0ed5408e49d0a5171e5e9ff7bf73",
            "ae98282ecd574c759ed7cb86bc25b672",
            "f5f5b4991deb454787401a63a3c99397",
            "ec9578ebdb15499db872db4fcf7bcffb",
            "aa6d2bcd47014bbb83e293bfd6a99ce1",
            "1bc77f87a01943b79235ba9f0fcca406",
            "b1819054a9ca4743a8046e7c31ebefce",
            "bd1173b66a974defa6e463fbda803894",
            "5a174e85b3614207b2d497853baa8862",
            "c2cf078c43f24d108c3fafdbe66e2a63",
            "14dab9bedee543b5b7e67dce69e907c5",
            "39aee1a02d7e4cb096fed6e8a8f45efb",
            "6950ade0166647cbb5a5d44da0d5c7d4",
            "269470ee2ec24506899d0202a80e21c6",
            "42bbf113d2eb45f49bcaa34b9f4e44d8",
            "243635522f63498ba9ffbbec1b1b9346",
            "80a91e45ef814a739ec4144c830dfe4d",
            "c7389803318549e697ff66693a7bc6c4",
            "ecc91a77d0974153b6bb878fd4024c27",
            "f992d251a50c46859644f223f54b2645",
            "cdd48dc354da4328b1de72eec4cda223",
            "1308c06a01dd45e8b2b6668ef3421480"
          ]
        },
        "outputId": "bb9f5654-4140-428b-9ecd-546f6afdebd9"
      },
      "outputs": [
        {
          "output_type": "display_data",
          "data": {
            "text/plain": [
              "config.json:   0%|          | 0.00/625 [00:00<?, ?B/s]"
            ],
            "application/vnd.jupyter.widget-view+json": {
              "version_major": 2,
              "version_minor": 0,
              "model_id": "7b9d0ed5408e49d0a5171e5e9ff7bf73"
            }
          },
          "metadata": {}
        },
        {
          "output_type": "display_data",
          "data": {
            "text/plain": [
              "model.safetensors:   0%|          | 0.00/714M [00:00<?, ?B/s]"
            ],
            "application/vnd.jupyter.widget-view+json": {
              "version_major": 2,
              "version_minor": 0,
              "model_id": "39aee1a02d7e4cb096fed6e8a8f45efb"
            }
          },
          "metadata": {}
        }
      ],
      "source": [
        "model_name = 'bert-base-multilingual-cased'\n",
        "trans = text.Transformer(model_name,maxlen=256,class_names=categories)"
      ]
    },
    {
      "cell_type": "code",
      "execution_count": null,
      "metadata": {
        "colab": {
          "base_uri": "https://localhost:8080/",
          "height": 381
        },
        "id": "5B_SaoHfYBqD",
        "outputId": "95210548-e224-47b4-9842-36688bb49555"
      },
      "outputs": [
        {
          "output_type": "stream",
          "name": "stdout",
          "text": [
            "preprocessing train...\n",
            "language: en\n",
            "train sequence lengths:\n",
            "\tmean : 18\n",
            "\t95percentile : 27\n",
            "\t99percentile : 31\n"
          ]
        },
        {
          "output_type": "display_data",
          "data": {
            "text/plain": [
              "<IPython.core.display.HTML object>"
            ],
            "text/html": [
              "\n",
              "<style>\n",
              "    /* Turns off some styling */\n",
              "    progress {\n",
              "        /* gets rid of default border in Firefox and Opera. */\n",
              "        border: none;\n",
              "        /* Needs to be in here for Safari polyfill so background images work as expected. */\n",
              "        background-size: auto;\n",
              "    }\n",
              "    progress:not([value]), progress:not([value])::-webkit-progress-bar {\n",
              "        background: repeating-linear-gradient(45deg, #7e7e7e, #7e7e7e 10px, #5c5c5c 10px, #5c5c5c 20px);\n",
              "    }\n",
              "    .progress-bar-interrupted, .progress-bar-interrupted::-webkit-progress-bar {\n",
              "        background: #F44336;\n",
              "    }\n",
              "</style>\n"
            ]
          },
          "metadata": {}
        },
        {
          "output_type": "display_data",
          "data": {
            "text/plain": [
              "<IPython.core.display.HTML object>"
            ],
            "text/html": []
          },
          "metadata": {}
        },
        {
          "output_type": "stream",
          "name": "stdout",
          "text": [
            "Is Multi-Label? False\n",
            "preprocessing train...\n",
            "language: en\n",
            "train sequence lengths:\n",
            "\tmean : 18\n",
            "\t95percentile : 27\n",
            "\t99percentile : 31\n"
          ]
        },
        {
          "output_type": "display_data",
          "data": {
            "text/plain": [
              "<IPython.core.display.HTML object>"
            ],
            "text/html": [
              "\n",
              "<style>\n",
              "    /* Turns off some styling */\n",
              "    progress {\n",
              "        /* gets rid of default border in Firefox and Opera. */\n",
              "        border: none;\n",
              "        /* Needs to be in here for Safari polyfill so background images work as expected. */\n",
              "        background-size: auto;\n",
              "    }\n",
              "    progress:not([value]), progress:not([value])::-webkit-progress-bar {\n",
              "        background: repeating-linear-gradient(45deg, #7e7e7e, #7e7e7e 10px, #5c5c5c 10px, #5c5c5c 20px);\n",
              "    }\n",
              "    .progress-bar-interrupted, .progress-bar-interrupted::-webkit-progress-bar {\n",
              "        background: #F44336;\n",
              "    }\n",
              "</style>\n"
            ]
          },
          "metadata": {}
        },
        {
          "output_type": "display_data",
          "data": {
            "text/plain": [
              "<IPython.core.display.HTML object>"
            ],
            "text/html": []
          },
          "metadata": {}
        },
        {
          "output_type": "stream",
          "name": "stdout",
          "text": [
            "Is Multi-Label? False\n",
            "preprocessing train...\n",
            "language: en\n",
            "train sequence lengths:\n",
            "\tmean : 17\n",
            "\t95percentile : 27\n",
            "\t99percentile : 32\n"
          ]
        },
        {
          "output_type": "display_data",
          "data": {
            "text/plain": [
              "<IPython.core.display.HTML object>"
            ],
            "text/html": [
              "\n",
              "<style>\n",
              "    /* Turns off some styling */\n",
              "    progress {\n",
              "        /* gets rid of default border in Firefox and Opera. */\n",
              "        border: none;\n",
              "        /* Needs to be in here for Safari polyfill so background images work as expected. */\n",
              "        background-size: auto;\n",
              "    }\n",
              "    progress:not([value]), progress:not([value])::-webkit-progress-bar {\n",
              "        background: repeating-linear-gradient(45deg, #7e7e7e, #7e7e7e 10px, #5c5c5c 10px, #5c5c5c 20px);\n",
              "    }\n",
              "    .progress-bar-interrupted, .progress-bar-interrupted::-webkit-progress-bar {\n",
              "        background: #F44336;\n",
              "    }\n",
              "</style>\n"
            ]
          },
          "metadata": {}
        },
        {
          "output_type": "display_data",
          "data": {
            "text/plain": [
              "<IPython.core.display.HTML object>"
            ],
            "text/html": []
          },
          "metadata": {}
        },
        {
          "output_type": "stream",
          "name": "stdout",
          "text": [
            "Is Multi-Label? False\n"
          ]
        }
      ],
      "source": [
        "train = trans.preprocess_train(X_train_over, y_train_over)\n",
        "valid = trans.preprocess_train(X_valid, y_valid)\n",
        "test = trans.preprocess_train(X_test, y_test)\n",
        "\n",
        "model = trans.get_classifier()\n",
        "CasedmBertlearner = ktrain.get_learner(model, train_data=train,val_data=valid, batch_size=16)"
      ]
    },
    {
      "cell_type": "code",
      "execution_count": null,
      "metadata": {
        "colab": {
          "base_uri": "https://localhost:8080/"
        },
        "id": "tg_4uWrZ53_g",
        "outputId": "3676b12d-74f7-4b89-92fb-8731c2b5051e"
      },
      "outputs": [
        {
          "output_type": "stream",
          "name": "stdout",
          "text": [
            "\n",
            "\n",
            "begin training using onecycle policy with max lr of 3e-05...\n",
            "Epoch 1/15\n",
            "632/632 [==============================] - 627s 939ms/step - loss: 1.3504 - accuracy: 0.3315 - val_loss: 0.9984 - val_accuracy: 0.3818\n",
            "Epoch 2/15\n",
            "632/632 [==============================] - 575s 909ms/step - loss: 0.7606 - accuracy: 0.5511 - val_loss: 0.9859 - val_accuracy: 0.4907\n",
            "Epoch 3/15\n",
            "632/632 [==============================] - 575s 909ms/step - loss: 0.5264 - accuracy: 0.6347 - val_loss: 0.9368 - val_accuracy: 0.5388\n",
            "Epoch 4/15\n",
            "632/632 [==============================] - 574s 909ms/step - loss: 0.5141 - accuracy: 0.6597 - val_loss: 0.9907 - val_accuracy: 0.5106\n",
            "Epoch 5/15\n",
            "632/632 [==============================] - 574s 909ms/step - loss: 0.4863 - accuracy: 0.6975 - val_loss: 0.8270 - val_accuracy: 0.6355\n",
            "Epoch 6/15\n",
            "632/632 [==============================] - 575s 910ms/step - loss: 0.3922 - accuracy: 0.7460 - val_loss: 0.8508 - val_accuracy: 0.6086\n",
            "Epoch 7/15\n",
            "632/632 [==============================] - 587s 929ms/step - loss: 0.3564 - accuracy: 0.7826 - val_loss: 1.0481 - val_accuracy: 0.5663\n",
            "Epoch 8/15\n",
            "632/632 [==============================] - 575s 910ms/step - loss: 0.3867 - accuracy: 0.7977 - val_loss: 1.0874 - val_accuracy: 0.5862\n",
            "Epoch 9/15\n",
            "632/632 [==============================] - 587s 929ms/step - loss: 0.2820 - accuracy: 0.8460 - val_loss: 1.0651 - val_accuracy: 0.6265\n",
            "Epoch 10/15\n",
            "632/632 [==============================] - 575s 909ms/step - loss: 0.1928 - accuracy: 0.8959 - val_loss: 1.1890 - val_accuracy: 0.6176\n",
            "Epoch 11/15\n",
            "632/632 [==============================] - 574s 908ms/step - loss: 0.1334 - accuracy: 0.9273 - val_loss: 1.1876 - val_accuracy: 0.6509\n",
            "Epoch 12/15\n",
            "632/632 [==============================] - 575s 910ms/step - loss: 0.0835 - accuracy: 0.9566 - val_loss: 1.3915 - val_accuracy: 0.6477\n",
            "Epoch 13/15\n",
            "632/632 [==============================] - 574s 909ms/step - loss: 0.0600 - accuracy: 0.9687 - val_loss: 1.5084 - val_accuracy: 0.6489\n",
            "Epoch 14/15\n",
            "632/632 [==============================] - 574s 909ms/step - loss: 0.0497 - accuracy: 0.9769 - val_loss: 1.5847 - val_accuracy: 0.6509\n",
            "Epoch 15/15\n",
            "632/632 [==============================] - 574s 909ms/step - loss: 0.0359 - accuracy: 0.9840 - val_loss: 1.7322 - val_accuracy: 0.6477\n"
          ]
        },
        {
          "output_type": "execute_result",
          "data": {
            "text/plain": [
              "<keras.src.callbacks.History at 0x7f6543593430>"
            ]
          },
          "metadata": {},
          "execution_count": 86
        }
      ],
      "source": [
        "CasedmBertlearner.fit_onecycle(3e-5,15, class_weight = weight)"
      ]
    },
    {
      "cell_type": "code",
      "source": [
        "#CasedmBertlearner.fit_onecycle(3e-5, 15, class_weight = weight)"
      ],
      "metadata": {
        "colab": {
          "base_uri": "https://localhost:8080/"
        },
        "id": "JvCUCK4Nx6zI",
        "outputId": "c80b6d9b-76ff-44fc-9843-0986033567fa"
      },
      "execution_count": null,
      "outputs": [
        {
          "output_type": "stream",
          "name": "stdout",
          "text": [
            "\n",
            "\n",
            "begin training using onecycle policy with max lr of 3e-05...\n",
            "Epoch 1/2\n",
            "13/13 [==============================] - 14s 1s/step - loss: 0.1671 - accuracy: 0.9645 - val_loss: 0.3714 - val_accuracy: 0.9067\n",
            "Epoch 2/2\n",
            "13/13 [==============================] - 16s 1s/step - loss: 0.1179 - accuracy: 0.9746 - val_loss: 0.4195 - val_accuracy: 0.8867\n"
          ]
        },
        {
          "output_type": "execute_result",
          "data": {
            "text/plain": [
              "<keras.src.callbacks.History at 0x7923d7dff250>"
            ]
          },
          "metadata": {},
          "execution_count": 291
        }
      ]
    },
    {
      "cell_type": "code",
      "execution_count": null,
      "metadata": {
        "colab": {
          "base_uri": "https://localhost:8080/"
        },
        "id": "AncG3TVX53_g",
        "outputId": "d35cd77e-fcb4-46d7-e112-22d39be53968"
      },
      "outputs": [
        {
          "output_type": "stream",
          "name": "stdout",
          "text": [
            "49/49 [==============================] - 32s 594ms/step\n",
            "              precision    recall  f1-score   support\n",
            "\n",
            "           0       0.70      0.72      0.71       897\n",
            "           1       0.86      0.70      0.77       153\n",
            "           2       0.50      0.50      0.50       511\n",
            "\n",
            "    accuracy                           0.65      1561\n",
            "   macro avg       0.69      0.64      0.66      1561\n",
            "weighted avg       0.65      0.65      0.65      1561\n",
            "\n"
          ]
        },
        {
          "output_type": "execute_result",
          "data": {
            "text/plain": [
              "array([[646,   8, 243],\n",
              "       [ 30, 107,  16],\n",
              "       [244,   9, 258]])"
            ]
          },
          "metadata": {},
          "execution_count": 87
        }
      ],
      "source": [
        "CasedmBertlearner.validate(class_names=categories)"
      ]
    },
    {
      "cell_type": "code",
      "source": [
        "predictor = ktrain.get_predictor(Distillearner.model, preproc=trans)\n",
        "y_pred = predictor.predict(X_test)\n",
        "accuracy_mbert = accuracy_score(y_test, y_pred)\n",
        "classification_report_mbert = classification_report(y_test, y_pred)\n",
        "\n",
        "print(f'mBERT Accuracy: {accuracy_mbert}')\n",
        "print('Classification Report for mBERT:\\n', classification_report_mbert) # 0.63      0.63      0.63"
      ],
      "metadata": {
        "colab": {
          "base_uri": "https://localhost:8080/"
        },
        "id": "mtFvSnNHxju8",
        "outputId": "e5dcd15c-59ed-4f6b-d820-5097dd7ae2de"
      },
      "execution_count": null,
      "outputs": [
        {
          "output_type": "stream",
          "name": "stdout",
          "text": [
            "Logistic Regression Accuracy: 0.86\n",
            "Classification Report for Logistic Regression:\n",
            "               precision    recall  f1-score   support\n",
            "\n",
            "           1       0.97      0.92      0.94       121\n",
            "           2       0.65      0.65      0.65        23\n",
            "           3       0.25      0.50      0.33         6\n",
            "\n",
            "    accuracy                           0.86       150\n",
            "   macro avg       0.62      0.69      0.64       150\n",
            "weighted avg       0.89      0.86      0.87       150\n",
            "\n"
          ]
        }
      ]
    },
    {
      "cell_type": "markdown",
      "metadata": {
        "id": "nkJ0caVu53_k"
      },
      "source": [
        "## Ktrain DistilmBert"
      ]
    },
    {
      "cell_type": "code",
      "execution_count": null,
      "metadata": {
        "colab": {
          "base_uri": "https://localhost:8080/",
          "height": 381
        },
        "id": "gdlYign153_k",
        "outputId": "d4ef6676-10b5-46e3-a370-0165891c8dbb"
      },
      "outputs": [
        {
          "output_type": "stream",
          "name": "stdout",
          "text": [
            "preprocessing train...\n",
            "language: en\n",
            "train sequence lengths:\n",
            "\tmean : 18\n",
            "\t95percentile : 27\n",
            "\t99percentile : 31\n"
          ]
        },
        {
          "output_type": "display_data",
          "data": {
            "text/plain": [
              "<IPython.core.display.HTML object>"
            ],
            "text/html": [
              "\n",
              "<style>\n",
              "    /* Turns off some styling */\n",
              "    progress {\n",
              "        /* gets rid of default border in Firefox and Opera. */\n",
              "        border: none;\n",
              "        /* Needs to be in here for Safari polyfill so background images work as expected. */\n",
              "        background-size: auto;\n",
              "    }\n",
              "    progress:not([value]), progress:not([value])::-webkit-progress-bar {\n",
              "        background: repeating-linear-gradient(45deg, #7e7e7e, #7e7e7e 10px, #5c5c5c 10px, #5c5c5c 20px);\n",
              "    }\n",
              "    .progress-bar-interrupted, .progress-bar-interrupted::-webkit-progress-bar {\n",
              "        background: #F44336;\n",
              "    }\n",
              "</style>\n"
            ]
          },
          "metadata": {}
        },
        {
          "output_type": "display_data",
          "data": {
            "text/plain": [
              "<IPython.core.display.HTML object>"
            ],
            "text/html": []
          },
          "metadata": {}
        },
        {
          "output_type": "stream",
          "name": "stdout",
          "text": [
            "Is Multi-Label? False\n",
            "preprocessing train...\n",
            "language: en\n",
            "train sequence lengths:\n",
            "\tmean : 18\n",
            "\t95percentile : 27\n",
            "\t99percentile : 31\n"
          ]
        },
        {
          "output_type": "display_data",
          "data": {
            "text/plain": [
              "<IPython.core.display.HTML object>"
            ],
            "text/html": [
              "\n",
              "<style>\n",
              "    /* Turns off some styling */\n",
              "    progress {\n",
              "        /* gets rid of default border in Firefox and Opera. */\n",
              "        border: none;\n",
              "        /* Needs to be in here for Safari polyfill so background images work as expected. */\n",
              "        background-size: auto;\n",
              "    }\n",
              "    progress:not([value]), progress:not([value])::-webkit-progress-bar {\n",
              "        background: repeating-linear-gradient(45deg, #7e7e7e, #7e7e7e 10px, #5c5c5c 10px, #5c5c5c 20px);\n",
              "    }\n",
              "    .progress-bar-interrupted, .progress-bar-interrupted::-webkit-progress-bar {\n",
              "        background: #F44336;\n",
              "    }\n",
              "</style>\n"
            ]
          },
          "metadata": {}
        },
        {
          "output_type": "display_data",
          "data": {
            "text/plain": [
              "<IPython.core.display.HTML object>"
            ],
            "text/html": []
          },
          "metadata": {}
        },
        {
          "output_type": "stream",
          "name": "stdout",
          "text": [
            "Is Multi-Label? False\n",
            "preprocessing train...\n",
            "language: en\n",
            "train sequence lengths:\n",
            "\tmean : 17\n",
            "\t95percentile : 27\n",
            "\t99percentile : 32\n"
          ]
        },
        {
          "output_type": "display_data",
          "data": {
            "text/plain": [
              "<IPython.core.display.HTML object>"
            ],
            "text/html": [
              "\n",
              "<style>\n",
              "    /* Turns off some styling */\n",
              "    progress {\n",
              "        /* gets rid of default border in Firefox and Opera. */\n",
              "        border: none;\n",
              "        /* Needs to be in here for Safari polyfill so background images work as expected. */\n",
              "        background-size: auto;\n",
              "    }\n",
              "    progress:not([value]), progress:not([value])::-webkit-progress-bar {\n",
              "        background: repeating-linear-gradient(45deg, #7e7e7e, #7e7e7e 10px, #5c5c5c 10px, #5c5c5c 20px);\n",
              "    }\n",
              "    .progress-bar-interrupted, .progress-bar-interrupted::-webkit-progress-bar {\n",
              "        background: #F44336;\n",
              "    }\n",
              "</style>\n"
            ]
          },
          "metadata": {}
        },
        {
          "output_type": "display_data",
          "data": {
            "text/plain": [
              "<IPython.core.display.HTML object>"
            ],
            "text/html": []
          },
          "metadata": {}
        },
        {
          "output_type": "stream",
          "name": "stdout",
          "text": [
            "Is Multi-Label? False\n"
          ]
        }
      ],
      "source": [
        "model_name = 'distilbert-base-multilingual-cased'\n",
        "trans = text.Transformer(model_name,maxlen=256,class_names=categories)\n",
        "train = trans.preprocess_train(X_train, y_train)\n",
        "valid = trans.preprocess_train(X_valid, y_valid)\n",
        "test = trans.preprocess_train(X_test, y_test)\n",
        "\n",
        "model = trans.get_classifier()\n",
        "Distillearner = ktrain.get_learner(model, train_data=train,val_data=test, batch_size=16)"
      ]
    },
    {
      "cell_type": "code",
      "execution_count": null,
      "metadata": {
        "colab": {
          "base_uri": "https://localhost:8080/"
        },
        "id": "h4YOGDt553_l",
        "outputId": "6f02fb15-e2d9-4ecb-935c-e985e1eb90a6"
      },
      "outputs": [
        {
          "output_type": "stream",
          "name": "stdout",
          "text": [
            "\n",
            "\n",
            "begin training using onecycle policy with max lr of 3e-05...\n",
            "Epoch 1/10\n",
            "405/405 [==============================] - 224s 491ms/step - loss: 1.0180 - accuracy: 0.5026 - val_loss: 0.9154 - val_accuracy: 0.5262\n",
            "Epoch 2/10\n",
            "405/405 [==============================] - 196s 483ms/step - loss: 0.8651 - accuracy: 0.5562 - val_loss: 0.8543 - val_accuracy: 0.5807\n",
            "Epoch 3/10\n",
            "405/405 [==============================] - 196s 484ms/step - loss: 0.6951 - accuracy: 0.6384 - val_loss: 0.7013 - val_accuracy: 0.6729\n",
            "Epoch 4/10\n",
            "405/405 [==============================] - 196s 484ms/step - loss: 0.5380 - accuracy: 0.7003 - val_loss: 0.7672 - val_accuracy: 0.6165\n",
            "Epoch 5/10\n",
            "405/405 [==============================] - 202s 500ms/step - loss: 0.4471 - accuracy: 0.7369 - val_loss: 0.7846 - val_accuracy: 0.6402\n",
            "Epoch 6/10\n",
            "405/405 [==============================] - 196s 483ms/step - loss: 0.3630 - accuracy: 0.7823 - val_loss: 0.8028 - val_accuracy: 0.6050\n",
            "Epoch 7/10\n",
            "405/405 [==============================] - 196s 483ms/step - loss: 0.2822 - accuracy: 0.8417 - val_loss: 0.8807 - val_accuracy: 0.6652\n",
            "Epoch 8/10\n",
            "405/405 [==============================] - 196s 483ms/step - loss: 0.1758 - accuracy: 0.9051 - val_loss: 1.0130 - val_accuracy: 0.6332\n",
            "Epoch 9/10\n",
            "405/405 [==============================] - 196s 484ms/step - loss: 0.1228 - accuracy: 0.9358 - val_loss: 1.1609 - val_accuracy: 0.6306\n",
            "Epoch 10/10\n",
            "405/405 [==============================] - 196s 483ms/step - loss: 0.0861 - accuracy: 0.9572 - val_loss: 1.2188 - val_accuracy: 0.6543\n"
          ]
        },
        {
          "output_type": "execute_result",
          "data": {
            "text/plain": [
              "<keras.src.callbacks.History at 0x7f65301fca60>"
            ]
          },
          "metadata": {},
          "execution_count": 90
        }
      ],
      "source": [
        "Distillearner.fit_onecycle(3e-5,10, class_weight = weight)"
      ]
    },
    {
      "cell_type": "code",
      "execution_count": null,
      "metadata": {
        "colab": {
          "base_uri": "https://localhost:8080/"
        },
        "id": "9Bu_frxa53_l",
        "outputId": "b464ec09-13e6-4bb8-9563-229ca2c62704"
      },
      "outputs": [
        {
          "output_type": "stream",
          "name": "stdout",
          "text": [
            "49/49 [==============================] - 16s 284ms/step\n",
            "              precision    recall  f1-score   support\n",
            "\n",
            "           0       0.73      0.70      0.72       921\n",
            "           1       0.80      0.80      0.80       141\n",
            "           2       0.49      0.53      0.51       500\n",
            "\n",
            "    accuracy                           0.65      1562\n",
            "   macro avg       0.67      0.68      0.67      1562\n",
            "weighted avg       0.66      0.65      0.66      1562\n",
            "\n"
          ]
        },
        {
          "output_type": "execute_result",
          "data": {
            "text/plain": [
              "array([[644,  11, 266],\n",
              "       [ 19, 113,   9],\n",
              "       [217,  18, 265]])"
            ]
          },
          "metadata": {},
          "execution_count": 91
        }
      ],
      "source": [
        "Distillearner.validate(class_names=categories)"
      ]
    },
    {
      "cell_type": "code",
      "execution_count": null,
      "metadata": {
        "id": "McAFLuiCYBqK"
      },
      "outputs": [],
      "source": [
        "# import json\n",
        "# import zipfile\n",
        "\n",
        "# # Assuming Btest is your DataFrame with an \"index\" column and y_pred is your predicted labels\n",
        "# # Replace y_pred with your actual predicted labels\n",
        "\n",
        "# # Create a DataFrame with \"index\" and \"prediction\" columns\n",
        "# submission_df = pd.DataFrame({\"index\": Btest[\"index\"].tolist(), \"prediction\": y_pred})\n",
        "\n",
        "# # Sort the DataFrame based on the \"index\" column\n",
        "# submission_df = submission_df.sort_values(by=\"index\")\n",
        "\n",
        "# # Define the path to save the submission file\n",
        "# submission_file_path = \"/content/submissiondistil.json\"\n",
        "\n",
        "# # Save the DataFrame to a JSON file\n",
        "# submission_df.to_json(submission_file_path, orient=\"records\", lines=True)\n",
        "\n",
        "# # Zip the JSON file\n",
        "# with zipfile.ZipFile(\"distilmBERTTaskB.zip\", \"w\") as zipf:\n",
        "#     zipf.write(submission_file_path, arcname=\"submissiondistil.json\")"
      ]
    },
    {
      "cell_type": "markdown",
      "metadata": {
        "id": "6paYwL3y53_i"
      },
      "source": [
        "## Ktrain XLMR"
      ]
    },
    {
      "cell_type": "code",
      "execution_count": null,
      "metadata": {
        "colab": {
          "base_uri": "https://localhost:8080/",
          "height": 381
        },
        "id": "N6JwTmwc53_i",
        "outputId": "dec36b18-7c87-40d4-ae21-c0604e950b21"
      },
      "outputs": [
        {
          "output_type": "stream",
          "name": "stdout",
          "text": [
            "preprocessing train...\n",
            "language: en\n",
            "train sequence lengths:\n",
            "\tmean : 18\n",
            "\t95percentile : 28\n",
            "\t99percentile : 32\n"
          ]
        },
        {
          "output_type": "display_data",
          "data": {
            "text/plain": [
              "<IPython.core.display.HTML object>"
            ],
            "text/html": [
              "\n",
              "<style>\n",
              "    /* Turns off some styling */\n",
              "    progress {\n",
              "        /* gets rid of default border in Firefox and Opera. */\n",
              "        border: none;\n",
              "        /* Needs to be in here for Safari polyfill so background images work as expected. */\n",
              "        background-size: auto;\n",
              "    }\n",
              "    progress:not([value]), progress:not([value])::-webkit-progress-bar {\n",
              "        background: repeating-linear-gradient(45deg, #7e7e7e, #7e7e7e 10px, #5c5c5c 10px, #5c5c5c 20px);\n",
              "    }\n",
              "    .progress-bar-interrupted, .progress-bar-interrupted::-webkit-progress-bar {\n",
              "        background: #F44336;\n",
              "    }\n",
              "</style>\n"
            ]
          },
          "metadata": {}
        },
        {
          "output_type": "display_data",
          "data": {
            "text/plain": [
              "<IPython.core.display.HTML object>"
            ],
            "text/html": []
          },
          "metadata": {}
        },
        {
          "output_type": "stream",
          "name": "stdout",
          "text": [
            "Is Multi-Label? False\n",
            "preprocessing train...\n",
            "language: en\n",
            "train sequence lengths:\n",
            "\tmean : 18\n",
            "\t95percentile : 27\n",
            "\t99percentile : 32\n"
          ]
        },
        {
          "output_type": "display_data",
          "data": {
            "text/plain": [
              "<IPython.core.display.HTML object>"
            ],
            "text/html": [
              "\n",
              "<style>\n",
              "    /* Turns off some styling */\n",
              "    progress {\n",
              "        /* gets rid of default border in Firefox and Opera. */\n",
              "        border: none;\n",
              "        /* Needs to be in here for Safari polyfill so background images work as expected. */\n",
              "        background-size: auto;\n",
              "    }\n",
              "    progress:not([value]), progress:not([value])::-webkit-progress-bar {\n",
              "        background: repeating-linear-gradient(45deg, #7e7e7e, #7e7e7e 10px, #5c5c5c 10px, #5c5c5c 20px);\n",
              "    }\n",
              "    .progress-bar-interrupted, .progress-bar-interrupted::-webkit-progress-bar {\n",
              "        background: #F44336;\n",
              "    }\n",
              "</style>\n"
            ]
          },
          "metadata": {}
        },
        {
          "output_type": "display_data",
          "data": {
            "text/plain": [
              "<IPython.core.display.HTML object>"
            ],
            "text/html": []
          },
          "metadata": {}
        },
        {
          "output_type": "stream",
          "name": "stdout",
          "text": [
            "Is Multi-Label? False\n",
            "preprocessing train...\n",
            "language: en\n",
            "train sequence lengths:\n",
            "\tmean : 17\n",
            "\t95percentile : 27\n",
            "\t99percentile : 32\n"
          ]
        },
        {
          "output_type": "display_data",
          "data": {
            "text/plain": [
              "<IPython.core.display.HTML object>"
            ],
            "text/html": [
              "\n",
              "<style>\n",
              "    /* Turns off some styling */\n",
              "    progress {\n",
              "        /* gets rid of default border in Firefox and Opera. */\n",
              "        border: none;\n",
              "        /* Needs to be in here for Safari polyfill so background images work as expected. */\n",
              "        background-size: auto;\n",
              "    }\n",
              "    progress:not([value]), progress:not([value])::-webkit-progress-bar {\n",
              "        background: repeating-linear-gradient(45deg, #7e7e7e, #7e7e7e 10px, #5c5c5c 10px, #5c5c5c 20px);\n",
              "    }\n",
              "    .progress-bar-interrupted, .progress-bar-interrupted::-webkit-progress-bar {\n",
              "        background: #F44336;\n",
              "    }\n",
              "</style>\n"
            ]
          },
          "metadata": {}
        },
        {
          "output_type": "display_data",
          "data": {
            "text/plain": [
              "<IPython.core.display.HTML object>"
            ],
            "text/html": []
          },
          "metadata": {}
        },
        {
          "output_type": "stream",
          "name": "stdout",
          "text": [
            "Is Multi-Label? False\n"
          ]
        }
      ],
      "source": [
        "model_name = 'xlm-roberta-base'\n",
        "trans = text.Transformer(model_name,maxlen=256,class_names=categories)\n",
        "train = trans.preprocess_train(X_train_over, y_train_over)\n",
        "valid = trans.preprocess_train(X_valid, y_valid)\n",
        "test = trans.preprocess_train(X_test, y_test)\n",
        "\n",
        "model = trans.get_classifier()\n",
        "XLlearner = ktrain.get_learner(model, train_data=train,val_data=valid, batch_size=8)"
      ]
    },
    {
      "cell_type": "code",
      "execution_count": null,
      "metadata": {
        "colab": {
          "base_uri": "https://localhost:8080/"
        },
        "id": "IVnz6rQ553_j",
        "outputId": "480b2fbd-92c9-4a8f-fb45-f10cc619c2bc"
      },
      "outputs": [
        {
          "output_type": "stream",
          "name": "stdout",
          "text": [
            "\n",
            "\n",
            "begin training using onecycle policy with max lr of 2e-05...\n",
            "Epoch 1/7\n",
            "802/802 [==============================] - 485s 575ms/step - loss: 1.1091 - accuracy: 0.2215 - val_loss: 1.1269 - val_accuracy: 0.0903\n",
            "Epoch 2/7\n",
            "802/802 [==============================] - 456s 568ms/step - loss: 1.0994 - accuracy: 0.3373 - val_loss: 1.0733 - val_accuracy: 0.4430\n",
            "Epoch 3/7\n",
            "802/802 [==============================] - 455s 568ms/step - loss: 1.1030 - accuracy: 0.3880 - val_loss: 1.0533 - val_accuracy: 0.3201\n",
            "Epoch 4/7\n",
            "802/802 [==============================] - 455s 567ms/step - loss: 1.1055 - accuracy: 0.2449 - val_loss: 1.1032 - val_accuracy: 0.3201\n",
            "Epoch 5/7\n",
            "802/802 [==============================] - 456s 568ms/step - loss: 1.1053 - accuracy: 0.3153 - val_loss: 1.1817 - val_accuracy: 0.0903\n",
            "Epoch 6/7\n",
            "802/802 [==============================] - 459s 573ms/step - loss: 1.1029 - accuracy: 0.2936 - val_loss: 1.0843 - val_accuracy: 0.5896\n",
            "Epoch 7/7\n",
            "802/802 [==============================] - ETA: 0s - loss: 1.1020 - accuracy: 0.3290"
          ]
        }
      ],
      "source": [
        "XLlearner.fit_onecycle(2e-5,7, class_weight = weight)"
      ]
    },
    {
      "cell_type": "code",
      "execution_count": null,
      "metadata": {
        "id": "2ny7kHt253_j",
        "colab": {
          "base_uri": "https://localhost:8080/"
        },
        "outputId": "f94e2d56-4498-41b2-aef5-7db6655d75d6"
      },
      "outputs": [
        {
          "output_type": "stream",
          "name": "stdout",
          "text": [
            "49/49 [==============================] - 28s 575ms/step\n",
            "              precision    recall  f1-score   support\n",
            "\n",
            "           0       0.59      1.00      0.74       921\n",
            "           1       0.00      0.00      0.00       141\n",
            "           2       0.00      0.00      0.00       500\n",
            "\n",
            "    accuracy                           0.59      1562\n",
            "   macro avg       0.20      0.33      0.25      1562\n",
            "weighted avg       0.35      0.59      0.44      1562\n",
            "\n"
          ]
        },
        {
          "output_type": "execute_result",
          "data": {
            "text/plain": [
              "array([[921,   0,   0],\n",
              "       [141,   0,   0],\n",
              "       [500,   0,   0]])"
            ]
          },
          "metadata": {},
          "execution_count": 71
        }
      ],
      "source": [
        "XLlearner.validate(class_names=categories)"
      ]
    },
    {
      "cell_type": "code",
      "source": [
        "predictor = ktrain.get_predictor(XLlearner.model, preproc=trans)\n",
        "y_pred = predictor.predict(X_test)\n",
        "accuracy_XLMR = accuracy_score(y_test, y_pred)\n",
        "classification_report_XLMR = classification_report(y_test, y_pred)\n",
        "\n",
        "print(f'XLMR Accuracy: {accuracy_XLMR}')\n",
        "print('Classification Report for XLMR:\\n', classification_report_XLMR)"
      ],
      "metadata": {
        "colab": {
          "base_uri": "https://localhost:8080/"
        },
        "id": "L2jVp4D22eV3",
        "outputId": "87e4b1d6-816a-4cfe-c456-25710a0a4219"
      },
      "execution_count": null,
      "outputs": [
        {
          "output_type": "stream",
          "name": "stdout",
          "text": [
            "XLMR Accuracy: 0.8533333333333334\n",
            "Classification Report for XLMR:\n",
            "               precision    recall  f1-score   support\n",
            "\n",
            "           1       0.93      0.93      0.93       121\n",
            "           2       0.76      0.57      0.65        23\n",
            "           3       0.23      0.50      0.32         6\n",
            "\n",
            "    accuracy                           0.85       150\n",
            "   macro avg       0.64      0.66      0.63       150\n",
            "weighted avg       0.88      0.85      0.86       150\n",
            "\n"
          ]
        }
      ]
    },
    {
      "cell_type": "markdown",
      "metadata": {
        "id": "cRQ7X2wEsf5_"
      },
      "source": [
        "# Hybrid Model"
      ]
    },
    {
      "cell_type": "markdown",
      "metadata": {
        "id": "rfS5Upuq44tY"
      },
      "source": [
        "## Dependencies"
      ]
    },
    {
      "cell_type": "code",
      "execution_count": null,
      "metadata": {
        "colab": {
          "base_uri": "https://localhost:8080/"
        },
        "id": "n86FpJrj3FRm",
        "outputId": "df107547-df63-4123-e5b1-79737cdb4747"
      },
      "outputs": [
        {
          "output_type": "stream",
          "name": "stdout",
          "text": [
            "Collecting pytorch_pretrained_bert\n",
            "  Downloading pytorch_pretrained_bert-0.6.2-py3-none-any.whl (123 kB)\n",
            "\u001b[?25l     \u001b[90m━━━━━━━━━━━━━━━━━━━━━━━━━━━━━━━━━━━━━━━━\u001b[0m \u001b[32m0.0/123.8 kB\u001b[0m \u001b[31m?\u001b[0m eta \u001b[36m-:--:--\u001b[0m\r\u001b[2K     \u001b[91m━━━━━━━━━━━━━━━━━━━\u001b[0m\u001b[91m╸\u001b[0m\u001b[90m━━━━━━━━━━━━━━━━━━━━\u001b[0m \u001b[32m61.4/123.8 kB\u001b[0m \u001b[31m1.5 MB/s\u001b[0m eta \u001b[36m0:00:01\u001b[0m\r\u001b[2K     \u001b[90m━━━━━━━━━━━━━━━━━━━━━━━━━━━━━━━━━━━━━━━━\u001b[0m \u001b[32m123.8/123.8 kB\u001b[0m \u001b[31m2.2 MB/s\u001b[0m eta \u001b[36m0:00:00\u001b[0m\n",
            "\u001b[?25hRequirement already satisfied: torch>=0.4.1 in /usr/local/lib/python3.10/dist-packages (from pytorch_pretrained_bert) (2.1.0+cu121)\n",
            "Requirement already satisfied: numpy in /usr/local/lib/python3.10/dist-packages (from pytorch_pretrained_bert) (1.23.5)\n",
            "Collecting boto3 (from pytorch_pretrained_bert)\n",
            "  Downloading boto3-1.34.19-py3-none-any.whl (139 kB)\n",
            "\u001b[2K     \u001b[90m━━━━━━━━━━━━━━━━━━━━━━━━━━━━━━━━━━━━━━━━\u001b[0m \u001b[32m139.3/139.3 kB\u001b[0m \u001b[31m9.4 MB/s\u001b[0m eta \u001b[36m0:00:00\u001b[0m\n",
            "\u001b[?25hRequirement already satisfied: requests in /usr/local/lib/python3.10/dist-packages (from pytorch_pretrained_bert) (2.31.0)\n",
            "Requirement already satisfied: tqdm in /usr/local/lib/python3.10/dist-packages (from pytorch_pretrained_bert) (4.66.1)\n",
            "Requirement already satisfied: regex in /usr/local/lib/python3.10/dist-packages (from pytorch_pretrained_bert) (2023.6.3)\n",
            "Requirement already satisfied: filelock in /usr/local/lib/python3.10/dist-packages (from torch>=0.4.1->pytorch_pretrained_bert) (3.13.1)\n",
            "Requirement already satisfied: typing-extensions in /usr/local/lib/python3.10/dist-packages (from torch>=0.4.1->pytorch_pretrained_bert) (4.5.0)\n",
            "Requirement already satisfied: sympy in /usr/local/lib/python3.10/dist-packages (from torch>=0.4.1->pytorch_pretrained_bert) (1.12)\n",
            "Requirement already satisfied: networkx in /usr/local/lib/python3.10/dist-packages (from torch>=0.4.1->pytorch_pretrained_bert) (3.2.1)\n",
            "Requirement already satisfied: jinja2 in /usr/local/lib/python3.10/dist-packages (from torch>=0.4.1->pytorch_pretrained_bert) (3.1.2)\n",
            "Requirement already satisfied: fsspec in /usr/local/lib/python3.10/dist-packages (from torch>=0.4.1->pytorch_pretrained_bert) (2023.6.0)\n",
            "Requirement already satisfied: triton==2.1.0 in /usr/local/lib/python3.10/dist-packages (from torch>=0.4.1->pytorch_pretrained_bert) (2.1.0)\n",
            "Collecting botocore<1.35.0,>=1.34.19 (from boto3->pytorch_pretrained_bert)\n",
            "  Downloading botocore-1.34.19-py3-none-any.whl (11.9 MB)\n",
            "\u001b[2K     \u001b[90m━━━━━━━━━━━━━━━━━━━━━━━━━━━━━━━━━━━━━━━━\u001b[0m \u001b[32m11.9/11.9 MB\u001b[0m \u001b[31m37.9 MB/s\u001b[0m eta \u001b[36m0:00:00\u001b[0m\n",
            "\u001b[?25hCollecting jmespath<2.0.0,>=0.7.1 (from boto3->pytorch_pretrained_bert)\n",
            "  Downloading jmespath-1.0.1-py3-none-any.whl (20 kB)\n",
            "Collecting s3transfer<0.11.0,>=0.10.0 (from boto3->pytorch_pretrained_bert)\n",
            "  Downloading s3transfer-0.10.0-py3-none-any.whl (82 kB)\n",
            "\u001b[2K     \u001b[90m━━━━━━━━━━━━━━━━━━━━━━━━━━━━━━━━━━━━━━━━\u001b[0m \u001b[32m82.1/82.1 kB\u001b[0m \u001b[31m10.6 MB/s\u001b[0m eta \u001b[36m0:00:00\u001b[0m\n",
            "\u001b[?25hRequirement already satisfied: charset-normalizer<4,>=2 in /usr/local/lib/python3.10/dist-packages (from requests->pytorch_pretrained_bert) (3.3.2)\n",
            "Requirement already satisfied: idna<4,>=2.5 in /usr/local/lib/python3.10/dist-packages (from requests->pytorch_pretrained_bert) (3.6)\n",
            "Requirement already satisfied: urllib3<3,>=1.21.1 in /usr/local/lib/python3.10/dist-packages (from requests->pytorch_pretrained_bert) (2.0.7)\n",
            "Requirement already satisfied: certifi>=2017.4.17 in /usr/local/lib/python3.10/dist-packages (from requests->pytorch_pretrained_bert) (2023.11.17)\n",
            "Requirement already satisfied: python-dateutil<3.0.0,>=2.1 in /usr/local/lib/python3.10/dist-packages (from botocore<1.35.0,>=1.34.19->boto3->pytorch_pretrained_bert) (2.8.2)\n",
            "Requirement already satisfied: MarkupSafe>=2.0 in /usr/local/lib/python3.10/dist-packages (from jinja2->torch>=0.4.1->pytorch_pretrained_bert) (2.1.3)\n",
            "Requirement already satisfied: mpmath>=0.19 in /usr/local/lib/python3.10/dist-packages (from sympy->torch>=0.4.1->pytorch_pretrained_bert) (1.3.0)\n",
            "Requirement already satisfied: six>=1.5 in /usr/local/lib/python3.10/dist-packages (from python-dateutil<3.0.0,>=2.1->botocore<1.35.0,>=1.34.19->boto3->pytorch_pretrained_bert) (1.16.0)\n",
            "Installing collected packages: jmespath, botocore, s3transfer, boto3, pytorch_pretrained_bert\n",
            "Successfully installed boto3-1.34.19 botocore-1.34.19 jmespath-1.0.1 pytorch_pretrained_bert-0.6.2 s3transfer-0.10.0\n",
            "Collecting tensorflow_text\n",
            "  Downloading tensorflow_text-2.15.0-cp310-cp310-manylinux_2_17_x86_64.manylinux2014_x86_64.whl (5.2 MB)\n",
            "\u001b[2K     \u001b[90m━━━━━━━━━━━━━━━━━━━━━━━━━━━━━━━━━━━━━━━━\u001b[0m \u001b[32m5.2/5.2 MB\u001b[0m \u001b[31m24.3 MB/s\u001b[0m eta \u001b[36m0:00:00\u001b[0m\n",
            "\u001b[?25hRequirement already satisfied: tensorflow-hub>=0.13.0 in /usr/local/lib/python3.10/dist-packages (from tensorflow_text) (0.15.0)\n",
            "Requirement already satisfied: tensorflow<2.16,>=2.15.0 in /usr/local/lib/python3.10/dist-packages (from tensorflow_text) (2.15.0)\n",
            "Requirement already satisfied: absl-py>=1.0.0 in /usr/local/lib/python3.10/dist-packages (from tensorflow<2.16,>=2.15.0->tensorflow_text) (1.4.0)\n",
            "Requirement already satisfied: astunparse>=1.6.0 in /usr/local/lib/python3.10/dist-packages (from tensorflow<2.16,>=2.15.0->tensorflow_text) (1.6.3)\n",
            "Requirement already satisfied: flatbuffers>=23.5.26 in /usr/local/lib/python3.10/dist-packages (from tensorflow<2.16,>=2.15.0->tensorflow_text) (23.5.26)\n",
            "Requirement already satisfied: gast!=0.5.0,!=0.5.1,!=0.5.2,>=0.2.1 in /usr/local/lib/python3.10/dist-packages (from tensorflow<2.16,>=2.15.0->tensorflow_text) (0.5.4)\n",
            "Requirement already satisfied: google-pasta>=0.1.1 in /usr/local/lib/python3.10/dist-packages (from tensorflow<2.16,>=2.15.0->tensorflow_text) (0.2.0)\n",
            "Requirement already satisfied: h5py>=2.9.0 in /usr/local/lib/python3.10/dist-packages (from tensorflow<2.16,>=2.15.0->tensorflow_text) (3.9.0)\n",
            "Requirement already satisfied: libclang>=13.0.0 in /usr/local/lib/python3.10/dist-packages (from tensorflow<2.16,>=2.15.0->tensorflow_text) (16.0.6)\n",
            "Requirement already satisfied: ml-dtypes~=0.2.0 in /usr/local/lib/python3.10/dist-packages (from tensorflow<2.16,>=2.15.0->tensorflow_text) (0.2.0)\n",
            "Requirement already satisfied: numpy<2.0.0,>=1.23.5 in /usr/local/lib/python3.10/dist-packages (from tensorflow<2.16,>=2.15.0->tensorflow_text) (1.23.5)\n",
            "Requirement already satisfied: opt-einsum>=2.3.2 in /usr/local/lib/python3.10/dist-packages (from tensorflow<2.16,>=2.15.0->tensorflow_text) (3.3.0)\n",
            "Requirement already satisfied: packaging in /usr/local/lib/python3.10/dist-packages (from tensorflow<2.16,>=2.15.0->tensorflow_text) (23.2)\n",
            "Requirement already satisfied: protobuf!=4.21.0,!=4.21.1,!=4.21.2,!=4.21.3,!=4.21.4,!=4.21.5,<5.0.0dev,>=3.20.3 in /usr/local/lib/python3.10/dist-packages (from tensorflow<2.16,>=2.15.0->tensorflow_text) (3.20.3)\n",
            "Requirement already satisfied: setuptools in /usr/local/lib/python3.10/dist-packages (from tensorflow<2.16,>=2.15.0->tensorflow_text) (67.7.2)\n",
            "Requirement already satisfied: six>=1.12.0 in /usr/local/lib/python3.10/dist-packages (from tensorflow<2.16,>=2.15.0->tensorflow_text) (1.16.0)\n",
            "Requirement already satisfied: termcolor>=1.1.0 in /usr/local/lib/python3.10/dist-packages (from tensorflow<2.16,>=2.15.0->tensorflow_text) (2.4.0)\n",
            "Requirement already satisfied: typing-extensions>=3.6.6 in /usr/local/lib/python3.10/dist-packages (from tensorflow<2.16,>=2.15.0->tensorflow_text) (4.5.0)\n",
            "Requirement already satisfied: wrapt<1.15,>=1.11.0 in /usr/local/lib/python3.10/dist-packages (from tensorflow<2.16,>=2.15.0->tensorflow_text) (1.14.1)\n",
            "Requirement already satisfied: tensorflow-io-gcs-filesystem>=0.23.1 in /usr/local/lib/python3.10/dist-packages (from tensorflow<2.16,>=2.15.0->tensorflow_text) (0.35.0)\n",
            "Requirement already satisfied: grpcio<2.0,>=1.24.3 in /usr/local/lib/python3.10/dist-packages (from tensorflow<2.16,>=2.15.0->tensorflow_text) (1.60.0)\n",
            "Requirement already satisfied: tensorboard<2.16,>=2.15 in /usr/local/lib/python3.10/dist-packages (from tensorflow<2.16,>=2.15.0->tensorflow_text) (2.15.1)\n",
            "Requirement already satisfied: tensorflow-estimator<2.16,>=2.15.0 in /usr/local/lib/python3.10/dist-packages (from tensorflow<2.16,>=2.15.0->tensorflow_text) (2.15.0)\n",
            "Requirement already satisfied: keras<2.16,>=2.15.0 in /usr/local/lib/python3.10/dist-packages (from tensorflow<2.16,>=2.15.0->tensorflow_text) (2.15.0)\n",
            "Requirement already satisfied: wheel<1.0,>=0.23.0 in /usr/local/lib/python3.10/dist-packages (from astunparse>=1.6.0->tensorflow<2.16,>=2.15.0->tensorflow_text) (0.42.0)\n",
            "Requirement already satisfied: google-auth<3,>=1.6.3 in /usr/local/lib/python3.10/dist-packages (from tensorboard<2.16,>=2.15->tensorflow<2.16,>=2.15.0->tensorflow_text) (2.17.3)\n",
            "Requirement already satisfied: google-auth-oauthlib<2,>=0.5 in /usr/local/lib/python3.10/dist-packages (from tensorboard<2.16,>=2.15->tensorflow<2.16,>=2.15.0->tensorflow_text) (1.2.0)\n",
            "Requirement already satisfied: markdown>=2.6.8 in /usr/local/lib/python3.10/dist-packages (from tensorboard<2.16,>=2.15->tensorflow<2.16,>=2.15.0->tensorflow_text) (3.5.1)\n",
            "Requirement already satisfied: requests<3,>=2.21.0 in /usr/local/lib/python3.10/dist-packages (from tensorboard<2.16,>=2.15->tensorflow<2.16,>=2.15.0->tensorflow_text) (2.31.0)\n",
            "Requirement already satisfied: tensorboard-data-server<0.8.0,>=0.7.0 in /usr/local/lib/python3.10/dist-packages (from tensorboard<2.16,>=2.15->tensorflow<2.16,>=2.15.0->tensorflow_text) (0.7.2)\n",
            "Requirement already satisfied: werkzeug>=1.0.1 in /usr/local/lib/python3.10/dist-packages (from tensorboard<2.16,>=2.15->tensorflow<2.16,>=2.15.0->tensorflow_text) (3.0.1)\n",
            "Requirement already satisfied: cachetools<6.0,>=2.0.0 in /usr/local/lib/python3.10/dist-packages (from google-auth<3,>=1.6.3->tensorboard<2.16,>=2.15->tensorflow<2.16,>=2.15.0->tensorflow_text) (5.3.2)\n",
            "Requirement already satisfied: pyasn1-modules>=0.2.1 in /usr/local/lib/python3.10/dist-packages (from google-auth<3,>=1.6.3->tensorboard<2.16,>=2.15->tensorflow<2.16,>=2.15.0->tensorflow_text) (0.3.0)\n",
            "Requirement already satisfied: rsa<5,>=3.1.4 in /usr/local/lib/python3.10/dist-packages (from google-auth<3,>=1.6.3->tensorboard<2.16,>=2.15->tensorflow<2.16,>=2.15.0->tensorflow_text) (4.9)\n",
            "Requirement already satisfied: requests-oauthlib>=0.7.0 in /usr/local/lib/python3.10/dist-packages (from google-auth-oauthlib<2,>=0.5->tensorboard<2.16,>=2.15->tensorflow<2.16,>=2.15.0->tensorflow_text) (1.3.1)\n",
            "Requirement already satisfied: charset-normalizer<4,>=2 in /usr/local/lib/python3.10/dist-packages (from requests<3,>=2.21.0->tensorboard<2.16,>=2.15->tensorflow<2.16,>=2.15.0->tensorflow_text) (3.3.2)\n",
            "Requirement already satisfied: idna<4,>=2.5 in /usr/local/lib/python3.10/dist-packages (from requests<3,>=2.21.0->tensorboard<2.16,>=2.15->tensorflow<2.16,>=2.15.0->tensorflow_text) (3.6)\n",
            "Requirement already satisfied: urllib3<3,>=1.21.1 in /usr/local/lib/python3.10/dist-packages (from requests<3,>=2.21.0->tensorboard<2.16,>=2.15->tensorflow<2.16,>=2.15.0->tensorflow_text) (2.0.7)\n",
            "Requirement already satisfied: certifi>=2017.4.17 in /usr/local/lib/python3.10/dist-packages (from requests<3,>=2.21.0->tensorboard<2.16,>=2.15->tensorflow<2.16,>=2.15.0->tensorflow_text) (2023.11.17)\n",
            "Requirement already satisfied: MarkupSafe>=2.1.1 in /usr/local/lib/python3.10/dist-packages (from werkzeug>=1.0.1->tensorboard<2.16,>=2.15->tensorflow<2.16,>=2.15.0->tensorflow_text) (2.1.3)\n",
            "Requirement already satisfied: pyasn1<0.6.0,>=0.4.6 in /usr/local/lib/python3.10/dist-packages (from pyasn1-modules>=0.2.1->google-auth<3,>=1.6.3->tensorboard<2.16,>=2.15->tensorflow<2.16,>=2.15.0->tensorflow_text) (0.5.1)\n",
            "Requirement already satisfied: oauthlib>=3.0.0 in /usr/local/lib/python3.10/dist-packages (from requests-oauthlib>=0.7.0->google-auth-oauthlib<2,>=0.5->tensorboard<2.16,>=2.15->tensorflow<2.16,>=2.15.0->tensorflow_text) (3.2.2)\n",
            "Installing collected packages: tensorflow_text\n",
            "Successfully installed tensorflow_text-2.15.0\n"
          ]
        }
      ],
      "source": [
        "!pip install pytorch_pretrained_bert\n",
        "!pip install tensorflow_text"
      ]
    },
    {
      "cell_type": "code",
      "execution_count": null,
      "metadata": {
        "id": "3aiSMgsd2QC-"
      },
      "outputs": [],
      "source": [
        "import tensorflow as tf\n",
        "import tensorflow_hub as hub\n",
        "import tensorflow_text as text\n",
        "from tensorflow.keras.layers import Input\n",
        "from tensorflow.keras.layers import Reshape, Bidirectional, LSTM, GlobalAveragePooling1D, GlobalMaxPooling1D, Dense, Dropout, Input, concatenate\n",
        "from tensorflow.keras.models import Model"
      ]
    },
    {
      "cell_type": "code",
      "source": [
        "#Ctrain['enc_label'] = Ctrain['label'] - 1"
      ],
      "metadata": {
        "id": "iAymgOnZ7jK2"
      },
      "execution_count": null,
      "outputs": []
    },
    {
      "cell_type": "code",
      "source": [
        "#y_train = Ctrain['enc_label'].tolist()"
      ],
      "metadata": {
        "id": "GMjUaAIk7iid"
      },
      "execution_count": null,
      "outputs": []
    },
    {
      "cell_type": "code",
      "source": [
        "#set(y_train)"
      ],
      "metadata": {
        "id": "MwWJHzgX8YpO"
      },
      "execution_count": null,
      "outputs": []
    },
    {
      "cell_type": "markdown",
      "metadata": {
        "id": "x3PDOvmMsk5i"
      },
      "source": [
        "## mBert + BiLSTM + CNN"
      ]
    },
    {
      "cell_type": "code",
      "execution_count": null,
      "metadata": {
        "id": "F55clJNMYBqN"
      },
      "outputs": [],
      "source": [
        "bert_preprocess2 = hub.KerasLayer(\"https://tfhub.dev/tensorflow/bert_multi_cased_preprocess/3\")\n",
        "bert_encoder2 = hub.KerasLayer(\"https://tfhub.dev/tensorflow/bert_multi_cased_L-12_H-768_A-12/4\")"
      ]
    },
    {
      "cell_type": "code",
      "execution_count": null,
      "metadata": {
        "id": "zLChUcjfwyS8"
      },
      "outputs": [],
      "source": [
        "#BERT Layers\n",
        "text_input = Input(shape=(), dtype=tf.string, name='cleanText')\n",
        "preprocessed_text2 = bert_preprocess2(text_input)\n",
        "outputs2 = bert_encoder2(preprocessed_text2)"
      ]
    },
    {
      "cell_type": "code",
      "execution_count": null,
      "metadata": {
        "id": "AMSKvwttw0bc"
      },
      "outputs": [],
      "source": [
        "\n",
        "# BERT embeddings\n",
        "bert_embedding = outputs2['pooled_output']  # or 'sequence_output' based on your use case\n",
        "bert_embedding = Dropout(0.2)(bert_embedding)\n",
        "\n",
        "# Reshape BERT embeddings to a 3D tensor\n",
        "bert_embedding = Reshape((-1, 768))(bert_embedding)  # Replace 768 with the actual hidden size\n",
        "\n",
        "# Bidirectional LSTM layer\n",
        "lstm_output = Bidirectional(LSTM(64, return_sequences=True))(bert_embedding)\n",
        "\n",
        "# Pooling layers\n",
        "avg_pooling = GlobalAveragePooling1D()(lstm_output)\n",
        "max_pooling = GlobalMaxPooling1D()(lstm_output)\n",
        "\n",
        "# Concatenate and additional dense layers\n",
        "concat_output = concatenate([avg_pooling, max_pooling])\n",
        "dense_layer = Dense(128, activation='relu')(concat_output)\n",
        "dense_layer = Dropout(0.2)(dense_layer)\n",
        "\n",
        "# Additional Dense layer\n",
        "dense_layer_2 = Dense(64, activation='relu')(dense_layer)\n",
        "dense_layer_2 = Dropout(0.2)(dense_layer_2)\n",
        "\n",
        "# Output layer\n",
        "output_layer = Dense(3, activation='softmax')(dense_layer_2)\n",
        "\n",
        "# Connect the input and output layers to create the model\n",
        "model2 = Model(inputs=text_input, outputs=output_layer)\n"
      ]
    },
    {
      "cell_type": "code",
      "execution_count": null,
      "metadata": {
        "colab": {
          "base_uri": "https://localhost:8080/"
        },
        "id": "eOaN-yiPw2S7",
        "outputId": "a25799c4-e567-459c-fc03-0a77932dfd68"
      },
      "outputs": [
        {
          "output_type": "stream",
          "name": "stdout",
          "text": [
            "Model: \"model\"\n",
            "__________________________________________________________________________________________________\n",
            " Layer (type)                Output Shape                 Param #   Connected to                  \n",
            "==================================================================================================\n",
            " cleanText (InputLayer)      [(None,)]                    0         []                            \n",
            "                                                                                                  \n",
            " keras_layer (KerasLayer)    {'input_mask': (None, 128)   0         ['cleanText[0][0]']           \n",
            "                             , 'input_word_ids': (None,                                           \n",
            "                              128),                                                               \n",
            "                              'input_type_ids': (None,                                            \n",
            "                             128)}                                                                \n",
            "                                                                                                  \n",
            " keras_layer_1 (KerasLayer)  {'default': (None, 768),     1778534   ['keras_layer[0][0]',         \n",
            "                              'pooled_output': (None, 7   41         'keras_layer[0][1]',         \n",
            "                             68),                                    'keras_layer[0][2]']         \n",
            "                              'sequence_output': (None,                                           \n",
            "                              128, 768),                                                          \n",
            "                              'encoder_outputs': [(None                                           \n",
            "                             , 128, 768),                                                         \n",
            "                              (None, 128, 768),                                                   \n",
            "                              (None, 128, 768),                                                   \n",
            "                              (None, 128, 768),                                                   \n",
            "                              (None, 128, 768),                                                   \n",
            "                              (None, 128, 768),                                                   \n",
            "                              (None, 128, 768),                                                   \n",
            "                              (None, 128, 768),                                                   \n",
            "                              (None, 128, 768),                                                   \n",
            "                              (None, 128, 768),                                                   \n",
            "                              (None, 128, 768),                                                   \n",
            "                              (None, 128, 768)]}                                                  \n",
            "                                                                                                  \n",
            " dropout (Dropout)           (None, 768)                  0         ['keras_layer_1[0][13]']      \n",
            "                                                                                                  \n",
            " reshape (Reshape)           (None, 1, 768)               0         ['dropout[0][0]']             \n",
            "                                                                                                  \n",
            " bidirectional (Bidirection  (None, 1, 128)               426496    ['reshape[0][0]']             \n",
            " al)                                                                                              \n",
            "                                                                                                  \n",
            " global_average_pooling1d (  (None, 128)                  0         ['bidirectional[0][0]']       \n",
            " GlobalAveragePooling1D)                                                                          \n",
            "                                                                                                  \n",
            " global_max_pooling1d (Glob  (None, 128)                  0         ['bidirectional[0][0]']       \n",
            " alMaxPooling1D)                                                                                  \n",
            "                                                                                                  \n",
            " concatenate (Concatenate)   (None, 256)                  0         ['global_average_pooling1d[0][\n",
            "                                                                    0]',                          \n",
            "                                                                     'global_max_pooling1d[0][0]']\n",
            "                                                                                                  \n",
            " dense (Dense)               (None, 128)                  32896     ['concatenate[0][0]']         \n",
            "                                                                                                  \n",
            " dropout_1 (Dropout)         (None, 128)                  0         ['dense[0][0]']               \n",
            "                                                                                                  \n",
            " dense_1 (Dense)             (None, 64)                   8256      ['dropout_1[0][0]']           \n",
            "                                                                                                  \n",
            " dropout_2 (Dropout)         (None, 64)                   0         ['dense_1[0][0]']             \n",
            "                                                                                                  \n",
            " dense_2 (Dense)             (None, 3)                    195       ['dropout_2[0][0]']           \n",
            "                                                                                                  \n",
            "==================================================================================================\n",
            "Total params: 178321284 (680.24 MB)\n",
            "Trainable params: 467843 (1.78 MB)\n",
            "Non-trainable params: 177853441 (678.46 MB)\n",
            "__________________________________________________________________________________________________\n"
          ]
        }
      ],
      "source": [
        "model2.summary()"
      ]
    },
    {
      "cell_type": "code",
      "source": [
        "num_classes = 3            #### change class number\n",
        "\n",
        "accuracy_threshold = 0.99\n",
        "\n",
        "class myCallback(tf.keras.callbacks.Callback):\n",
        "  def on_epoch_end(self, epoch, logs={}):\n",
        "      if(logs.get('accuracy')>accuracy_threshold):\n",
        "        print(\"\\nReached %2.2f%% accuracy so we will stop trianing\" % (accuracy_threshold*100))\n",
        "        self.model.stop_training = True\n",
        "\n",
        "acc_callback = myCallback()\n",
        "# Saved the Best Model\n",
        "filepath =  \"hybrid1.h5\"\n",
        "checkpoint = tf.keras.callbacks.ModelCheckpoint(filepath, monitor='val_accuracy', verbose=2, save_best_only=True,\n",
        "                                             save_weights_only=False, mode='max')\n",
        "# callback list\n",
        "callback_list = [acc_callback, checkpoint]"
      ],
      "metadata": {
        "id": "l82inatrrAol"
      },
      "execution_count": null,
      "outputs": []
    },
    {
      "cell_type": "code",
      "execution_count": null,
      "metadata": {
        "id": "An9JC_mPw4La"
      },
      "outputs": [],
      "source": [
        "# from tensorflow.keras.optimizers import AdamW\n",
        "# METRICS = [\n",
        "#       tf.keras.metrics.BinaryAccuracy(name='accuracy'),\n",
        "#       tf.keras.metrics.Precision(name='precision'),\n",
        "#       tf.keras.metrics.Recall(name='recall')\n",
        "# ]\n",
        "\n",
        "# model2.compile(optimizer='adam',\n",
        "#               loss='sparse_categorical_crossentropy',\n",
        "#               metrics=METRICS)\n",
        "model2.compile(optimizer='adam', loss='sparse_categorical_crossentropy', metrics=['accuracy'])"
      ]
    },
    {
      "cell_type": "code",
      "execution_count": null,
      "metadata": {
        "colab": {
          "base_uri": "https://localhost:8080/"
        },
        "id": "Qzx9vvkUw51z",
        "outputId": "2d91bfaa-762e-4936-cf29-2c70934abb7f"
      },
      "outputs": [
        {
          "output_type": "stream",
          "name": "stdout",
          "text": [
            "Epoch 1/10\n",
            "316/316 [==============================] - 126s 342ms/step - loss: 1.0487 - accuracy: 0.4133\n",
            "Epoch 2/10\n",
            "316/316 [==============================] - 108s 342ms/step - loss: 1.0138 - accuracy: 0.4444\n",
            "Epoch 3/10\n",
            "316/316 [==============================] - 108s 342ms/step - loss: 0.9863 - accuracy: 0.4746\n",
            "Epoch 4/10\n",
            "316/316 [==============================] - 108s 341ms/step - loss: 0.9715 - accuracy: 0.4866\n",
            "Epoch 5/10\n",
            "316/316 [==============================] - 108s 342ms/step - loss: 0.9523 - accuracy: 0.5075\n",
            "Epoch 6/10\n",
            "316/316 [==============================] - 107s 340ms/step - loss: 0.9302 - accuracy: 0.5202\n",
            "Epoch 7/10\n",
            "316/316 [==============================] - 107s 339ms/step - loss: 0.9142 - accuracy: 0.5205\n",
            "Epoch 8/10\n",
            "316/316 [==============================] - 107s 340ms/step - loss: 0.8992 - accuracy: 0.5335\n",
            "Epoch 9/10\n",
            "316/316 [==============================] - 108s 340ms/step - loss: 0.8864 - accuracy: 0.5420\n",
            "Epoch 10/10\n",
            "316/316 [==============================] - 108s 342ms/step - loss: 0.8697 - accuracy: 0.5422\n"
          ]
        },
        {
          "output_type": "execute_result",
          "data": {
            "text/plain": [
              "<keras.src.callbacks.History at 0x7f1522f0ebf0>"
            ]
          },
          "metadata": {},
          "execution_count": 57
        }
      ],
      "source": [
        "model2.fit(X_train_over, y_train_over, epochs=10)"
      ]
    },
    {
      "cell_type": "code",
      "source": [
        "#model2.fit(X_train, y_train, epochs=100, validation_data = (X_valid, y_valid), verbose = 1, callbacks = callback_list)"
      ],
      "metadata": {
        "id": "o8Je8TQEr1hk"
      },
      "execution_count": null,
      "outputs": []
    },
    {
      "cell_type": "code",
      "execution_count": null,
      "metadata": {
        "colab": {
          "base_uri": "https://localhost:8080/"
        },
        "id": "QEqrTPjTw7gM",
        "outputId": "fc3b1fa3-3128-4010-f8ab-c7da81e97933"
      },
      "outputs": [
        {
          "output_type": "stream",
          "name": "stdout",
          "text": [
            "49/49 [==============================] - 18s 336ms/step - loss: 0.7971 - accuracy: 0.5945\n"
          ]
        },
        {
          "output_type": "execute_result",
          "data": {
            "text/plain": [
              "[0.7970960140228271, 0.5944907069206238]"
            ]
          },
          "metadata": {},
          "execution_count": 58
        }
      ],
      "source": [
        "model2.evaluate(X_valid, y_valid)"
      ]
    },
    {
      "cell_type": "code",
      "execution_count": null,
      "metadata": {
        "colab": {
          "base_uri": "https://localhost:8080/"
        },
        "id": "nvsst3fIw_k1",
        "outputId": "ae2d37a4-6100-4c07-e9e9-73ca4e13b755"
      },
      "outputs": [
        {
          "output_type": "stream",
          "name": "stdout",
          "text": [
            "5/5 [==============================] - 2s 390ms/step\n",
            "F1-Score: 45.331967912613074\n",
            "Accuracy: 70.66666666666667\n"
          ]
        }
      ],
      "source": [
        "#y_pred = np.argmax(model2.predict(X_test), axis=-1)\n",
        "\n",
        "##print(\"F1-Score:\",f1_score(Bval['enc_label'],y_pred,average='macro')*100)\n",
        "#print(\"Accuracy:\",accuracy_score(Bval['enc_label'],y_pred)*100)"
      ]
    },
    {
      "cell_type": "code",
      "source": [
        "import numpy as np\n",
        "from sklearn.metrics import classification_report\n",
        "\n",
        "# Assuming y_pred is a 2D array of predicted probabilities for each class\n",
        "# Adjust axis parameter if needed based on the shape of your y_pred array\n",
        "\n",
        "# Evaluate the model on the validation set\n",
        "y_pred = model2.predict(X_valid)\n",
        "y_pred_classes = np.argmax(y_pred, axis=1)\n",
        "\n",
        "# Generate a classification report\n",
        "classification_report = classification_report(Cval['enc_label'], y_pred_classes, digits=4)\n",
        "print('Classification Report for Loaded Model:\\n', classification_report)"
      ],
      "metadata": {
        "id": "jviVIi6XCqg8",
        "colab": {
          "base_uri": "https://localhost:8080/"
        },
        "outputId": "cb009c63-eb30-421c-9712-ecac3f5423f5"
      },
      "execution_count": null,
      "outputs": [
        {
          "output_type": "stream",
          "name": "stdout",
          "text": [
            "49/49 [==============================] - 19s 333ms/step\n",
            "Classification Report for Loaded Model:\n",
            "               precision    recall  f1-score   support\n",
            "\n",
            "           0     0.6829    0.6410    0.6613       897\n",
            "           1     0.5792    0.6928    0.6310       153\n",
            "           2     0.4608    0.4834    0.4718       511\n",
            "\n",
            "    accuracy                         0.5945      1561\n",
            "   macro avg     0.5743    0.6057    0.5880      1561\n",
            "weighted avg     0.6000    0.5945    0.5963      1561\n",
            "\n"
          ]
        }
      ]
    },
    {
      "cell_type": "code",
      "source": [
        "import numpy as np\n",
        "from sklearn.metrics import classification_report\n",
        "\n",
        "# Assuming y_pred is a 2D array of predicted probabilities for each class\n",
        "# Adjust axis parameter if needed based on the shape of your y_pred array\n",
        "\n",
        "# Evaluate the model on the validation set\n",
        "y_pred = model2.predict(X_test)\n",
        "y_pred_classes = np.argmax(y_pred, axis=1)\n",
        "\n",
        "# Generate a classification report\n",
        "classification_report = classification_report(y_test, y_pred_classes, digits=4)\n",
        "print('Classification Report for Loaded Model:\\n', classification_report)"
      ],
      "metadata": {
        "colab": {
          "base_uri": "https://localhost:8080/"
        },
        "id": "0_5jSlaCC0Ck",
        "outputId": "ad5c0e33-cffc-470f-cddb-e60a98ecaac6"
      },
      "execution_count": null,
      "outputs": [
        {
          "output_type": "stream",
          "name": "stdout",
          "text": [
            "49/49 [==============================] - 16s 329ms/step\n",
            "Classification Report for Loaded Model:\n",
            "               precision    recall  f1-score   support\n",
            "\n",
            "           0     0.7286    0.6471    0.6855       921\n",
            "           1     0.5989    0.7730    0.6749       141\n",
            "           2     0.4733    0.5320    0.5009       500\n",
            "\n",
            "    accuracy                         0.6216      1562\n",
            "   macro avg     0.6003    0.6507    0.6204      1562\n",
            "weighted avg     0.6352    0.6216    0.6254      1562\n",
            "\n"
          ]
        }
      ]
    },
    {
      "cell_type": "markdown",
      "source": [
        "## BiLSTM + mBERT\n"
      ],
      "metadata": {
        "id": "nr3UFkqtn8g3"
      }
    },
    {
      "cell_type": "code",
      "source": [
        "bert_preprocess_mbert =  hub.KerasLayer(\"https://tfhub.dev/tensorflow/bert_multi_cased_preprocess/3\")\n",
        "bert_encoder_mbert = hub.KerasLayer(\"https://tfhub.dev/tensorflow/bert_multi_cased_L-12_H-768_A-12/4\")\n",
        "\n",
        "# BERT Layers\n",
        "text_input = Input(shape=(), dtype=tf.string, name='cleanText')\n",
        "preprocessed_text_mbert = bert_preprocess_mbert(text_input)\n",
        "outputs_mbert = bert_encoder_mbert(preprocessed_text_mbert)\n",
        "\n",
        "# BERT embeddings\n",
        "bert_embedding_mbert = outputs_mbert['pooled_output']  # or 'sequence_output' based on your use case\n",
        "bert_embedding_mbert = Dropout(0.2)(bert_embedding_mbert)\n",
        "\n",
        "# Reshape BERT embeddings to a 3D tensor\n",
        "bert_embedding_mbert = Reshape((-1, 768))(bert_embedding_mbert)  # Replace 512 with the actual hidden size\n",
        "\n",
        "# Bidirectional LSTM layer\n",
        "lstm_output_mbert = Bidirectional(LSTM(64, return_sequences=True))(bert_embedding_mbert)\n",
        "\n",
        "# Pooling layers\n",
        "avg_pooling_mbert = GlobalAveragePooling1D()(lstm_output_mbert)\n",
        "max_pooling_mbert = GlobalMaxPooling1D()(lstm_output_mbert)\n",
        "\n",
        "# Concatenate and additional dense layers\n",
        "concat_output_mbert = concatenate([avg_pooling_mbert, max_pooling_mbert])\n",
        "dense_layer_mbert = Dense(128, activation='relu')(concat_output_mbert)\n",
        "dense_layer_mbert = Dropout(0.3)(dense_layer_mbert)\n",
        "\n",
        "# Additional Dense layer\n",
        "dense_layer_2_mbert = Dense(64, activation='relu')(dense_layer_mbert)\n",
        "dense_layer_2_mbert = Dropout(0.3)(dense_layer_2_mbert)\n",
        "\n",
        "# Output layer\n",
        "output_layer_mbert = Dense(1, activation='softmax')(dense_layer_2_mbert)\n",
        "\n",
        "# Connect the input and output layers to create the model\n",
        "model_mbert = Model(inputs=text_input, outputs=output_layer_mbert)\n",
        "\n",
        "model_mbert.summary()\n",
        "\n",
        "METRICS = [\n",
        "    tf.keras.metrics.BinaryAccuracy(name='accuracy'),\n",
        "    tf.keras.metrics.Precision(name='precision'),\n",
        "    tf.keras.metrics.Recall(name='recall')\n",
        "]\n",
        "\n",
        "model_mbert.compile(optimizer='adam',\n",
        "                    loss='sparse_categorical_crossentropy',\n",
        "                    metrics=METRICS)\n"
      ],
      "metadata": {
        "id": "dDonTg1goBf9",
        "colab": {
          "base_uri": "https://localhost:8080/"
        },
        "outputId": "80d5a236-da11-4315-851d-96d776d8fe3c"
      },
      "execution_count": null,
      "outputs": [
        {
          "output_type": "stream",
          "name": "stdout",
          "text": [
            "Model: \"model_4\"\n",
            "__________________________________________________________________________________________________\n",
            " Layer (type)                Output Shape                 Param #   Connected to                  \n",
            "==================================================================================================\n",
            " cleanText (InputLayer)      [(None,)]                    0         []                            \n",
            "                                                                                                  \n",
            " keras_layer_8 (KerasLayer)  {'input_type_ids': (None,    0         ['cleanText[0][0]']           \n",
            "                             128),                                                                \n",
            "                              'input_word_ids': (None,                                            \n",
            "                             128),                                                                \n",
            "                              'input_mask': (None, 128)                                           \n",
            "                             }                                                                    \n",
            "                                                                                                  \n",
            " keras_layer_9 (KerasLayer)  {'pooled_output': (None, 7   1778534   ['keras_layer_8[0][0]',       \n",
            "                             68),                         41         'keras_layer_8[0][1]',       \n",
            "                              'default': (None, 768),                'keras_layer_8[0][2]']       \n",
            "                              'sequence_output': (None,                                           \n",
            "                              128, 768),                                                          \n",
            "                              'encoder_outputs': [(None                                           \n",
            "                             , 128, 768),                                                         \n",
            "                              (None, 128, 768),                                                   \n",
            "                              (None, 128, 768),                                                   \n",
            "                              (None, 128, 768),                                                   \n",
            "                              (None, 128, 768),                                                   \n",
            "                              (None, 128, 768),                                                   \n",
            "                              (None, 128, 768),                                                   \n",
            "                              (None, 128, 768),                                                   \n",
            "                              (None, 128, 768),                                                   \n",
            "                              (None, 128, 768),                                                   \n",
            "                              (None, 128, 768),                                                   \n",
            "                              (None, 128, 768)]}                                                  \n",
            "                                                                                                  \n",
            " dropout_12 (Dropout)        (None, 768)                  0         ['keras_layer_9[0][13]']      \n",
            "                                                                                                  \n",
            " reshape_4 (Reshape)         (None, 1, 768)               0         ['dropout_12[0][0]']          \n",
            "                                                                                                  \n",
            " bidirectional_4 (Bidirecti  (None, 1, 128)               426496    ['reshape_4[0][0]']           \n",
            " onal)                                                                                            \n",
            "                                                                                                  \n",
            " global_average_pooling1d_4  (None, 128)                  0         ['bidirectional_4[0][0]']     \n",
            "  (GlobalAveragePooling1D)                                                                        \n",
            "                                                                                                  \n",
            " global_max_pooling1d_4 (Gl  (None, 128)                  0         ['bidirectional_4[0][0]']     \n",
            " obalMaxPooling1D)                                                                                \n",
            "                                                                                                  \n",
            " concatenate_4 (Concatenate  (None, 256)                  0         ['global_average_pooling1d_4[0\n",
            " )                                                                  ][0]',                        \n",
            "                                                                     'global_max_pooling1d_4[0][0]\n",
            "                                                                    ']                            \n",
            "                                                                                                  \n",
            " dense_12 (Dense)            (None, 128)                  32896     ['concatenate_4[0][0]']       \n",
            "                                                                                                  \n",
            " dropout_13 (Dropout)        (None, 128)                  0         ['dense_12[0][0]']            \n",
            "                                                                                                  \n",
            " dense_13 (Dense)            (None, 64)                   8256      ['dropout_13[0][0]']          \n",
            "                                                                                                  \n",
            " dropout_14 (Dropout)        (None, 64)                   0         ['dense_13[0][0]']            \n",
            "                                                                                                  \n",
            " dense_14 (Dense)            (None, 1)                    65        ['dropout_14[0][0]']          \n",
            "                                                                                                  \n",
            "==================================================================================================\n",
            "Total params: 178321154 (680.24 MB)\n",
            "Trainable params: 467713 (1.78 MB)\n",
            "Non-trainable params: 177853441 (678.46 MB)\n",
            "__________________________________________________________________________________________________\n"
          ]
        }
      ]
    },
    {
      "cell_type": "code",
      "source": [
        "model_mbert.fit(X_train_over, y_train_over, epochs=10)"
      ],
      "metadata": {
        "id": "Uenkf-wNoCs5",
        "colab": {
          "base_uri": "https://localhost:8080/"
        },
        "outputId": "9952f34a-1826-4353-e1a8-9eca68567036"
      },
      "execution_count": null,
      "outputs": [
        {
          "output_type": "stream",
          "name": "stdout",
          "text": [
            "Epoch 1/10\n",
            "316/316 [==============================] - 123s 342ms/step - loss: nan - accuracy: 0.4060 - precision: 0.6250 - recall: 0.0033\n",
            "Epoch 2/10\n",
            "316/316 [==============================] - 108s 342ms/step - loss: nan - accuracy: 0.4062 - precision: 0.0000e+00 - recall: 0.0000e+00\n",
            "Epoch 3/10\n",
            "316/316 [==============================] - 108s 342ms/step - loss: nan - accuracy: 0.4062 - precision: 0.0000e+00 - recall: 0.0000e+00\n",
            "Epoch 4/10\n",
            "316/316 [==============================] - 109s 346ms/step - loss: nan - accuracy: 0.4062 - precision: 0.0000e+00 - recall: 0.0000e+00\n",
            "Epoch 5/10\n",
            "316/316 [==============================] - 110s 347ms/step - loss: nan - accuracy: 0.4062 - precision: 0.0000e+00 - recall: 0.0000e+00\n",
            "Epoch 6/10\n",
            "316/316 [==============================] - 109s 346ms/step - loss: nan - accuracy: 0.4062 - precision: 0.0000e+00 - recall: 0.0000e+00\n",
            "Epoch 7/10\n",
            "316/316 [==============================] - 109s 344ms/step - loss: nan - accuracy: 0.4062 - precision: 0.0000e+00 - recall: 0.0000e+00\n",
            "Epoch 8/10\n",
            "316/316 [==============================] - 108s 343ms/step - loss: nan - accuracy: 0.4062 - precision: 0.0000e+00 - recall: 0.0000e+00\n",
            "Epoch 9/10\n",
            "316/316 [==============================] - 109s 343ms/step - loss: nan - accuracy: 0.4062 - precision: 0.0000e+00 - recall: 0.0000e+00\n",
            "Epoch 10/10\n",
            "316/316 [==============================] - 109s 344ms/step - loss: nan - accuracy: 0.4062 - precision: 0.0000e+00 - recall: 0.0000e+00\n"
          ]
        },
        {
          "output_type": "execute_result",
          "data": {
            "text/plain": [
              "<keras.src.callbacks.History at 0x7f142a441d50>"
            ]
          },
          "metadata": {},
          "execution_count": 78
        }
      ]
    },
    {
      "cell_type": "code",
      "source": [
        "model_mbert.evaluate(X_valid, y_valid)\n",
        "\n",
        "y_predicted_mbert = model_mbert.predict(X_test)\n",
        "y_predicted_mbert = np.argmax(y_predicted_mbert, axis=1)\n",
        "\n",
        "#y_predicted_mbert = np.where(y_predicted_mbert > 0.7, 1, 0)\n",
        "y_predicted_mbert.shape"
      ],
      "metadata": {
        "id": "FjgaYOLVoFib",
        "colab": {
          "base_uri": "https://localhost:8080/"
        },
        "outputId": "e156339b-5f92-4175-d1be-49034bf5d9b8"
      },
      "execution_count": null,
      "outputs": [
        {
          "output_type": "stream",
          "name": "stdout",
          "text": [
            "49/49 [==============================] - 19s 338ms/step - loss: nan - accuracy: 0.5746 - precision: 0.0000e+00 - recall: 0.0000e+00\n",
            "49/49 [==============================] - 18s 334ms/step\n"
          ]
        },
        {
          "output_type": "execute_result",
          "data": {
            "text/plain": [
              "(1562,)"
            ]
          },
          "metadata": {},
          "execution_count": 79
        }
      ]
    },
    {
      "cell_type": "code",
      "source": [
        "from sklearn.metrics import confusion_matrix, classification_report\n",
        "\n",
        "accuracy_lr_valid = accuracy_score(y_test, y_predicted_mbert)\n",
        "classification_report_lr_valid = classification_report(y_test, y_predicted_mbert, digits = 4)\n",
        "\n",
        "print(f'LR Accuracy on Validation Set: {accuracy_lr_valid}')\n",
        "print('Classification Report for LR on Validation Set:\\n', classification_report_lr_valid)\n"
      ],
      "metadata": {
        "colab": {
          "base_uri": "https://localhost:8080/"
        },
        "id": "eSQKcZf94qLN",
        "outputId": "27730e66-2dc5-49d0-d4eb-5b11eae5554e"
      },
      "execution_count": null,
      "outputs": [
        {
          "output_type": "stream",
          "name": "stdout",
          "text": [
            "LR Accuracy on Validation Set: 0.589628681177977\n",
            "Classification Report for LR on Validation Set:\n",
            "               precision    recall  f1-score   support\n",
            "\n",
            "           0     0.5896    1.0000    0.7418       921\n",
            "           1     0.0000    0.0000    0.0000       141\n",
            "           2     0.0000    0.0000    0.0000       500\n",
            "\n",
            "    accuracy                         0.5896      1562\n",
            "   macro avg     0.1965    0.3333    0.2473      1562\n",
            "weighted avg     0.3477    0.5896    0.4374      1562\n",
            "\n"
          ]
        }
      ]
    },
    {
      "cell_type": "code",
      "source": [
        "from sklearn.metrics import confusion_matrix, classification_report\n",
        "\n",
        "cm_mbert = confusion_matrix(y_test, y_predicted_mbert)\n",
        "cm_mbert\n",
        "\n",
        "from matplotlib import pyplot as plt\n",
        "import seaborn as sn\n",
        "sn.heatmap(cm_mbert, annot=True, fmt='d')\n",
        "plt.xlabel('Predicted')\n",
        "plt.ylabel('Truth')\n",
        "\n",
        "#print(classification_report(y_test, y_predicted_mbert))"
      ],
      "metadata": {
        "id": "aJMec4FQoHXy",
        "colab": {
          "base_uri": "https://localhost:8080/",
          "height": 466
        },
        "outputId": "974a30fb-7ca4-44e2-e0b7-3983c451fd1d"
      },
      "execution_count": null,
      "outputs": [
        {
          "output_type": "execute_result",
          "data": {
            "text/plain": [
              "Text(50.722222222222214, 0.5, 'Truth')"
            ]
          },
          "metadata": {},
          "execution_count": 81
        },
        {
          "output_type": "display_data",
          "data": {
            "text/plain": [
              "<Figure size 640x480 with 2 Axes>"
            ],
            "image/png": "[encoded data removed]"
          },
          "metadata": {}
        }
      ]
    }
  ],
  "metadata": {
    "colab": {
      "collapsed_sections": [
        "tn3ZdEkqwFuf",
        "hphD1uHEv9_0",
        "H1WjlCul53-f"
      ],
      "provenance": [],
      "toc_visible": true
    },
    "kaggle": {
      "accelerator": "gpu",
      "dataSources": [
        {
          "datasetId": 4217916,
          "sourceId": 7275497,
          "sourceType": "datasetVersion"
        },
        {
          "datasetId": 4237171,
          "sourceId": 7303276,
          "sourceType": "datasetVersion"
        }
      ],
      "dockerImageVersionId": 30627,
      "isGpuEnabled": true,
      "isInternetEnabled": true,
      "language": "python",
      "sourceType": "notebook"
    },
    "kernelspec": {
      "display_name": "Python 3",
      "name": "python3"
    },
    "language_info": {
      "codemirror_mode": {
        "name": "ipython",
        "version": 3
      },
      "file_extension": ".py",
      "mimetype": "text/x-python",
      "name": "python",
      "nbconvert_exporter": "python",
      "pygments_lexer": "ipython3",
      "version": "3.10.12"
    },
    "widgets": {
      "application/vnd.jupyter.widget-state+json": {
        "7b9d0ed5408e49d0a5171e5e9ff7bf73": {
          "model_module": "@jupyter-widgets/controls",
          "model_name": "HBoxModel",
          "model_module_version": "1.5.0",
          "state": {
            "_dom_classes": [],
            "_model_module": "@jupyter-widgets/controls",
            "_model_module_version": "1.5.0",
            "_model_name": "HBoxModel",
            "_view_count": null,
            "_view_module": "@jupyter-widgets/controls",
            "_view_module_version": "1.5.0",
            "_view_name": "HBoxView",
            "box_style": "",
            "children": [
              "IPY_MODEL_ae98282ecd574c759ed7cb86bc25b672",
              "IPY_MODEL_f5f5b4991deb454787401a63a3c99397",
              "IPY_MODEL_ec9578ebdb15499db872db4fcf7bcffb"
            ],
            "layout": "IPY_MODEL_aa6d2bcd47014bbb83e293bfd6a99ce1"
          }
        },
        "ae98282ecd574c759ed7cb86bc25b672": {
          "model_module": "@jupyter-widgets/controls",
          "model_name": "HTMLModel",
          "model_module_version": "1.5.0",
          "state": {
            "_dom_classes": [],
            "_model_module": "@jupyter-widgets/controls",
            "_model_module_version": "1.5.0",
            "_model_name": "HTMLModel",
            "_view_count": null,
            "_view_module": "@jupyter-widgets/controls",
            "_view_module_version": "1.5.0",
            "_view_name": "HTMLView",
            "description": "",
            "description_tooltip": null,
            "layout": "IPY_MODEL_1bc77f87a01943b79235ba9f0fcca406",
            "placeholder": "​",
            "style": "IPY_MODEL_b1819054a9ca4743a8046e7c31ebefce",
            "value": "config.json: 100%"
          }
        },
        "f5f5b4991deb454787401a63a3c99397": {
          "model_module": "@jupyter-widgets/controls",
          "model_name": "FloatProgressModel",
          "model_module_version": "1.5.0",
          "state": {
            "_dom_classes": [],
            "_model_module": "@jupyter-widgets/controls",
            "_model_module_version": "1.5.0",
            "_model_name": "FloatProgressModel",
            "_view_count": null,
            "_view_module": "@jupyter-widgets/controls",
            "_view_module_version": "1.5.0",
            "_view_name": "ProgressView",
            "bar_style": "success",
            "description": "",
            "description_tooltip": null,
            "layout": "IPY_MODEL_bd1173b66a974defa6e463fbda803894",
            "max": 625,
            "min": 0,
            "orientation": "horizontal",
            "style": "IPY_MODEL_5a174e85b3614207b2d497853baa8862",
            "value": 625
          }
        },
        "ec9578ebdb15499db872db4fcf7bcffb": {
          "model_module": "@jupyter-widgets/controls",
          "model_name": "HTMLModel",
          "model_module_version": "1.5.0",
          "state": {
            "_dom_classes": [],
            "_model_module": "@jupyter-widgets/controls",
            "_model_module_version": "1.5.0",
            "_model_name": "HTMLModel",
            "_view_count": null,
            "_view_module": "@jupyter-widgets/controls",
            "_view_module_version": "1.5.0",
            "_view_name": "HTMLView",
            "description": "",
            "description_tooltip": null,
            "layout": "IPY_MODEL_c2cf078c43f24d108c3fafdbe66e2a63",
            "placeholder": "​",
            "style": "IPY_MODEL_14dab9bedee543b5b7e67dce69e907c5",
            "value": " 625/625 [00:00&lt;00:00, 25.3kB/s]"
          }
        },
        "aa6d2bcd47014bbb83e293bfd6a99ce1": {
          "model_module": "@jupyter-widgets/base",
          "model_name": "LayoutModel",
          "model_module_version": "1.2.0",
          "state": {
            "_model_module": "@jupyter-widgets/base",
            "_model_module_version": "1.2.0",
            "_model_name": "LayoutModel",
            "_view_count": null,
            "_view_module": "@jupyter-widgets/base",
            "_view_module_version": "1.2.0",
            "_view_name": "LayoutView",
            "align_content": null,
            "align_items": null,
            "align_self": null,
            "border": null,
            "bottom": null,
            "display": null,
            "flex": null,
            "flex_flow": null,
            "grid_area": null,
            "grid_auto_columns": null,
            "grid_auto_flow": null,
            "grid_auto_rows": null,
            "grid_column": null,
            "grid_gap": null,
            "grid_row": null,
            "grid_template_areas": null,
            "grid_template_columns": null,
            "grid_template_rows": null,
            "height": null,
            "justify_content": null,
            "justify_items": null,
            "left": null,
            "margin": null,
            "max_height": null,
            "max_width": null,
            "min_height": null,
            "min_width": null,
            "object_fit": null,
            "object_position": null,
            "order": null,
            "overflow": null,
            "overflow_x": null,
            "overflow_y": null,
            "padding": null,
            "right": null,
            "top": null,
            "visibility": null,
            "width": null
          }
        },
        "1bc77f87a01943b79235ba9f0fcca406": {
          "model_module": "@jupyter-widgets/base",
          "model_name": "LayoutModel",
          "model_module_version": "1.2.0",
          "state": {
            "_model_module": "@jupyter-widgets/base",
            "_model_module_version": "1.2.0",
            "_model_name": "LayoutModel",
            "_view_count": null,
            "_view_module": "@jupyter-widgets/base",
            "_view_module_version": "1.2.0",
            "_view_name": "LayoutView",
            "align_content": null,
            "align_items": null,
            "align_self": null,
            "border": null,
            "bottom": null,
            "display": null,
            "flex": null,
            "flex_flow": null,
            "grid_area": null,
            "grid_auto_columns": null,
            "grid_auto_flow": null,
            "grid_auto_rows": null,
            "grid_column": null,
            "grid_gap": null,
            "grid_row": null,
            "grid_template_areas": null,
            "grid_template_columns": null,
            "grid_template_rows": null,
            "height": null,
            "justify_content": null,
            "justify_items": null,
            "left": null,
            "margin": null,
            "max_height": null,
            "max_width": null,
            "min_height": null,
            "min_width": null,
            "object_fit": null,
            "object_position": null,
            "order": null,
            "overflow": null,
            "overflow_x": null,
            "overflow_y": null,
            "padding": null,
            "right": null,
            "top": null,
            "visibility": null,
            "width": null
          }
        },
        "b1819054a9ca4743a8046e7c31ebefce": {
          "model_module": "@jupyter-widgets/controls",
          "model_name": "DescriptionStyleModel",
          "model_module_version": "1.5.0",
          "state": {
            "_model_module": "@jupyter-widgets/controls",
            "_model_module_version": "1.5.0",
            "_model_name": "DescriptionStyleModel",
            "_view_count": null,
            "_view_module": "@jupyter-widgets/base",
            "_view_module_version": "1.2.0",
            "_view_name": "StyleView",
            "description_width": ""
          }
        },
        "bd1173b66a974defa6e463fbda803894": {
          "model_module": "@jupyter-widgets/base",
          "model_name": "LayoutModel",
          "model_module_version": "1.2.0",
          "state": {
            "_model_module": "@jupyter-widgets/base",
            "_model_module_version": "1.2.0",
            "_model_name": "LayoutModel",
            "_view_count": null,
            "_view_module": "@jupyter-widgets/base",
            "_view_module_version": "1.2.0",
            "_view_name": "LayoutView",
            "align_content": null,
            "align_items": null,
            "align_self": null,
            "border": null,
            "bottom": null,
            "display": null,
            "flex": null,
            "flex_flow": null,
            "grid_area": null,
            "grid_auto_columns": null,
            "grid_auto_flow": null,
            "grid_auto_rows": null,
            "grid_column": null,
            "grid_gap": null,
            "grid_row": null,
            "grid_template_areas": null,
            "grid_template_columns": null,
            "grid_template_rows": null,
            "height": null,
            "justify_content": null,
            "justify_items": null,
            "left": null,
            "margin": null,
            "max_height": null,
            "max_width": null,
            "min_height": null,
            "min_width": null,
            "object_fit": null,
            "object_position": null,
            "order": null,
            "overflow": null,
            "overflow_x": null,
            "overflow_y": null,
            "padding": null,
            "right": null,
            "top": null,
            "visibility": null,
            "width": null
          }
        },
        "5a174e85b3614207b2d497853baa8862": {
          "model_module": "@jupyter-widgets/controls",
          "model_name": "ProgressStyleModel",
          "model_module_version": "1.5.0",
          "state": {
            "_model_module": "@jupyter-widgets/controls",
            "_model_module_version": "1.5.0",
            "_model_name": "ProgressStyleModel",
            "_view_count": null,
            "_view_module": "@jupyter-widgets/base",
            "_view_module_version": "1.2.0",
            "_view_name": "StyleView",
            "bar_color": null,
            "description_width": ""
          }
        },
        "c2cf078c43f24d108c3fafdbe66e2a63": {
          "model_module": "@jupyter-widgets/base",
          "model_name": "LayoutModel",
          "model_module_version": "1.2.0",
          "state": {
            "_model_module": "@jupyter-widgets/base",
            "_model_module_version": "1.2.0",
            "_model_name": "LayoutModel",
            "_view_count": null,
            "_view_module": "@jupyter-widgets/base",
            "_view_module_version": "1.2.0",
            "_view_name": "LayoutView",
            "align_content": null,
            "align_items": null,
            "align_self": null,
            "border": null,
            "bottom": null,
            "display": null,
            "flex": null,
            "flex_flow": null,
            "grid_area": null,
            "grid_auto_columns": null,
            "grid_auto_flow": null,
            "grid_auto_rows": null,
            "grid_column": null,
            "grid_gap": null,
            "grid_row": null,
            "grid_template_areas": null,
            "grid_template_columns": null,
            "grid_template_rows": null,
            "height": null,
            "justify_content": null,
            "justify_items": null,
            "left": null,
            "margin": null,
            "max_height": null,
            "max_width": null,
            "min_height": null,
            "min_width": null,
            "object_fit": null,
            "object_position": null,
            "order": null,
            "overflow": null,
            "overflow_x": null,
            "overflow_y": null,
            "padding": null,
            "right": null,
            "top": null,
            "visibility": null,
            "width": null
          }
        },
        "14dab9bedee543b5b7e67dce69e907c5": {
          "model_module": "@jupyter-widgets/controls",
          "model_name": "DescriptionStyleModel",
          "model_module_version": "1.5.0",
          "state": {
            "_model_module": "@jupyter-widgets/controls",
            "_model_module_version": "1.5.0",
            "_model_name": "DescriptionStyleModel",
            "_view_count": null,
            "_view_module": "@jupyter-widgets/base",
            "_view_module_version": "1.2.0",
            "_view_name": "StyleView",
            "description_width": ""
          }
        },
        "39aee1a02d7e4cb096fed6e8a8f45efb": {
          "model_module": "@jupyter-widgets/controls",
          "model_name": "HBoxModel",
          "model_module_version": "1.5.0",
          "state": {
            "_dom_classes": [],
            "_model_module": "@jupyter-widgets/controls",
            "_model_module_version": "1.5.0",
            "_model_name": "HBoxModel",
            "_view_count": null,
            "_view_module": "@jupyter-widgets/controls",
            "_view_module_version": "1.5.0",
            "_view_name": "HBoxView",
            "box_style": "",
            "children": [
              "IPY_MODEL_6950ade0166647cbb5a5d44da0d5c7d4",
              "IPY_MODEL_269470ee2ec24506899d0202a80e21c6",
              "IPY_MODEL_42bbf113d2eb45f49bcaa34b9f4e44d8"
            ],
            "layout": "IPY_MODEL_243635522f63498ba9ffbbec1b1b9346"
          }
        },
        "6950ade0166647cbb5a5d44da0d5c7d4": {
          "model_module": "@jupyter-widgets/controls",
          "model_name": "HTMLModel",
          "model_module_version": "1.5.0",
          "state": {
            "_dom_classes": [],
            "_model_module": "@jupyter-widgets/controls",
            "_model_module_version": "1.5.0",
            "_model_name": "HTMLModel",
            "_view_count": null,
            "_view_module": "@jupyter-widgets/controls",
            "_view_module_version": "1.5.0",
            "_view_name": "HTMLView",
            "description": "",
            "description_tooltip": null,
            "layout": "IPY_MODEL_80a91e45ef814a739ec4144c830dfe4d",
            "placeholder": "​",
            "style": "IPY_MODEL_c7389803318549e697ff66693a7bc6c4",
            "value": "model.safetensors: 100%"
          }
        },
        "269470ee2ec24506899d0202a80e21c6": {
          "model_module": "@jupyter-widgets/controls",
          "model_name": "FloatProgressModel",
          "model_module_version": "1.5.0",
          "state": {
            "_dom_classes": [],
            "_model_module": "@jupyter-widgets/controls",
            "_model_module_version": "1.5.0",
            "_model_name": "FloatProgressModel",
            "_view_count": null,
            "_view_module": "@jupyter-widgets/controls",
            "_view_module_version": "1.5.0",
            "_view_name": "ProgressView",
            "bar_style": "success",
            "description": "",
            "description_tooltip": null,
            "layout": "IPY_MODEL_ecc91a77d0974153b6bb878fd4024c27",
            "max": 714290682,
            "min": 0,
            "orientation": "horizontal",
            "style": "IPY_MODEL_f992d251a50c46859644f223f54b2645",
            "value": 714290682
          }
        },
        "42bbf113d2eb45f49bcaa34b9f4e44d8": {
          "model_module": "@jupyter-widgets/controls",
          "model_name": "HTMLModel",
          "model_module_version": "1.5.0",
          "state": {
            "_dom_classes": [],
            "_model_module": "@jupyter-widgets/controls",
            "_model_module_version": "1.5.0",
            "_model_name": "HTMLModel",
            "_view_count": null,
            "_view_module": "@jupyter-widgets/controls",
            "_view_module_version": "1.5.0",
            "_view_name": "HTMLView",
            "description": "",
            "description_tooltip": null,
            "layout": "IPY_MODEL_cdd48dc354da4328b1de72eec4cda223",
            "placeholder": "​",
            "style": "IPY_MODEL_1308c06a01dd45e8b2b6668ef3421480",
            "value": " 714M/714M [00:04&lt;00:00, 197MB/s]"
          }
        },
        "243635522f63498ba9ffbbec1b1b9346": {
          "model_module": "@jupyter-widgets/base",
          "model_name": "LayoutModel",
          "model_module_version": "1.2.0",
          "state": {
            "_model_module": "@jupyter-widgets/base",
            "_model_module_version": "1.2.0",
            "_model_name": "LayoutModel",
            "_view_count": null,
            "_view_module": "@jupyter-widgets/base",
            "_view_module_version": "1.2.0",
            "_view_name": "LayoutView",
            "align_content": null,
            "align_items": null,
            "align_self": null,
            "border": null,
            "bottom": null,
            "display": null,
            "flex": null,
            "flex_flow": null,
            "grid_area": null,
            "grid_auto_columns": null,
            "grid_auto_flow": null,
            "grid_auto_rows": null,
            "grid_column": null,
            "grid_gap": null,
            "grid_row": null,
            "grid_template_areas": null,
            "grid_template_columns": null,
            "grid_template_rows": null,
            "height": null,
            "justify_content": null,
            "justify_items": null,
            "left": null,
            "margin": null,
            "max_height": null,
            "max_width": null,
            "min_height": null,
            "min_width": null,
            "object_fit": null,
            "object_position": null,
            "order": null,
            "overflow": null,
            "overflow_x": null,
            "overflow_y": null,
            "padding": null,
            "right": null,
            "top": null,
            "visibility": null,
            "width": null
          }
        },
        "80a91e45ef814a739ec4144c830dfe4d": {
          "model_module": "@jupyter-widgets/base",
          "model_name": "LayoutModel",
          "model_module_version": "1.2.0",
          "state": {
            "_model_module": "@jupyter-widgets/base",
            "_model_module_version": "1.2.0",
            "_model_name": "LayoutModel",
            "_view_count": null,
            "_view_module": "@jupyter-widgets/base",
            "_view_module_version": "1.2.0",
            "_view_name": "LayoutView",
            "align_content": null,
            "align_items": null,
            "align_self": null,
            "border": null,
            "bottom": null,
            "display": null,
            "flex": null,
            "flex_flow": null,
            "grid_area": null,
            "grid_auto_columns": null,
            "grid_auto_flow": null,
            "grid_auto_rows": null,
            "grid_column": null,
            "grid_gap": null,
            "grid_row": null,
            "grid_template_areas": null,
            "grid_template_columns": null,
            "grid_template_rows": null,
            "height": null,
            "justify_content": null,
            "justify_items": null,
            "left": null,
            "margin": null,
            "max_height": null,
            "max_width": null,
            "min_height": null,
            "min_width": null,
            "object_fit": null,
            "object_position": null,
            "order": null,
            "overflow": null,
            "overflow_x": null,
            "overflow_y": null,
            "padding": null,
            "right": null,
            "top": null,
            "visibility": null,
            "width": null
          }
        },
        "c7389803318549e697ff66693a7bc6c4": {
          "model_module": "@jupyter-widgets/controls",
          "model_name": "DescriptionStyleModel",
          "model_module_version": "1.5.0",
          "state": {
            "_model_module": "@jupyter-widgets/controls",
            "_model_module_version": "1.5.0",
            "_model_name": "DescriptionStyleModel",
            "_view_count": null,
            "_view_module": "@jupyter-widgets/base",
            "_view_module_version": "1.2.0",
            "_view_name": "StyleView",
            "description_width": ""
          }
        },
        "ecc91a77d0974153b6bb878fd4024c27": {
          "model_module": "@jupyter-widgets/base",
          "model_name": "LayoutModel",
          "model_module_version": "1.2.0",
          "state": {
            "_model_module": "@jupyter-widgets/base",
            "_model_module_version": "1.2.0",
            "_model_name": "LayoutModel",
            "_view_count": null,
            "_view_module": "@jupyter-widgets/base",
            "_view_module_version": "1.2.0",
            "_view_name": "LayoutView",
            "align_content": null,
            "align_items": null,
            "align_self": null,
            "border": null,
            "bottom": null,
            "display": null,
            "flex": null,
            "flex_flow": null,
            "grid_area": null,
            "grid_auto_columns": null,
            "grid_auto_flow": null,
            "grid_auto_rows": null,
            "grid_column": null,
            "grid_gap": null,
            "grid_row": null,
            "grid_template_areas": null,
            "grid_template_columns": null,
            "grid_template_rows": null,
            "height": null,
            "justify_content": null,
            "justify_items": null,
            "left": null,
            "margin": null,
            "max_height": null,
            "max_width": null,
            "min_height": null,
            "min_width": null,
            "object_fit": null,
            "object_position": null,
            "order": null,
            "overflow": null,
            "overflow_x": null,
            "overflow_y": null,
            "padding": null,
            "right": null,
            "top": null,
            "visibility": null,
            "width": null
          }
        },
        "f992d251a50c46859644f223f54b2645": {
          "model_module": "@jupyter-widgets/controls",
          "model_name": "ProgressStyleModel",
          "model_module_version": "1.5.0",
          "state": {
            "_model_module": "@jupyter-widgets/controls",
            "_model_module_version": "1.5.0",
            "_model_name": "ProgressStyleModel",
            "_view_count": null,
            "_view_module": "@jupyter-widgets/base",
            "_view_module_version": "1.2.0",
            "_view_name": "StyleView",
            "bar_color": null,
            "description_width": ""
          }
        },
        "cdd48dc354da4328b1de72eec4cda223": {
          "model_module": "@jupyter-widgets/base",
          "model_name": "LayoutModel",
          "model_module_version": "1.2.0",
          "state": {
            "_model_module": "@jupyter-widgets/base",
            "_model_module_version": "1.2.0",
            "_model_name": "LayoutModel",
            "_view_count": null,
            "_view_module": "@jupyter-widgets/base",
            "_view_module_version": "1.2.0",
            "_view_name": "LayoutView",
            "align_content": null,
            "align_items": null,
            "align_self": null,
            "border": null,
            "bottom": null,
            "display": null,
            "flex": null,
            "flex_flow": null,
            "grid_area": null,
            "grid_auto_columns": null,
            "grid_auto_flow": null,
            "grid_auto_rows": null,
            "grid_column": null,
            "grid_gap": null,
            "grid_row": null,
            "grid_template_areas": null,
            "grid_template_columns": null,
            "grid_template_rows": null,
            "height": null,
            "justify_content": null,
            "justify_items": null,
            "left": null,
            "margin": null,
            "max_height": null,
            "max_width": null,
            "min_height": null,
            "min_width": null,
            "object_fit": null,
            "object_position": null,
            "order": null,
            "overflow": null,
            "overflow_x": null,
            "overflow_y": null,
            "padding": null,
            "right": null,
            "top": null,
            "visibility": null,
            "width": null
          }
        },
        "1308c06a01dd45e8b2b6668ef3421480": {
          "model_module": "@jupyter-widgets/controls",
          "model_name": "DescriptionStyleModel",
          "model_module_version": "1.5.0",
          "state": {
            "_model_module": "@jupyter-widgets/controls",
            "_model_module_version": "1.5.0",
            "_model_name": "DescriptionStyleModel",
            "_view_count": null,
            "_view_module": "@jupyter-widgets/base",
            "_view_module_version": "1.2.0",
            "_view_name": "StyleView",
            "description_width": ""
          }
        },
        "0d1f565e2eb144d4847c3cb94aeb040e": {
          "model_module": "@jupyter-widgets/controls",
          "model_name": "HBoxModel",
          "model_module_version": "1.5.0",
          "state": {
            "_dom_classes": [],
            "_model_module": "@jupyter-widgets/controls",
            "_model_module_version": "1.5.0",
            "_model_name": "HBoxModel",
            "_view_count": null,
            "_view_module": "@jupyter-widgets/controls",
            "_view_module_version": "1.5.0",
            "_view_name": "HBoxView",
            "box_style": "",
            "children": [
              "IPY_MODEL_83eeeb8e4175479fbaeaa5a75fb8ed48",
              "IPY_MODEL_c614039bfccd4979925ec01ea4a7e616",
              "IPY_MODEL_10f941cc4cd4401a9e2cf6a57ca3a4ef"
            ],
            "layout": "IPY_MODEL_d525a725eac7417a9575e7718c366e54"
          }
        },
        "83eeeb8e4175479fbaeaa5a75fb8ed48": {
          "model_module": "@jupyter-widgets/controls",
          "model_name": "HTMLModel",
          "model_module_version": "1.5.0",
          "state": {
            "_dom_classes": [],
            "_model_module": "@jupyter-widgets/controls",
            "_model_module_version": "1.5.0",
            "_model_name": "HTMLModel",
            "_view_count": null,
            "_view_module": "@jupyter-widgets/controls",
            "_view_module_version": "1.5.0",
            "_view_name": "HTMLView",
            "description": "",
            "description_tooltip": null,
            "layout": "IPY_MODEL_2e215bda17ee46eaa699fc9ccb3f5e57",
            "placeholder": "​",
            "style": "IPY_MODEL_85a0b687e5e74d1cba1f216022b6469c",
            "value": "config.json: 100%"
          }
        },
        "c614039bfccd4979925ec01ea4a7e616": {
          "model_module": "@jupyter-widgets/controls",
          "model_name": "FloatProgressModel",
          "model_module_version": "1.5.0",
          "state": {
            "_dom_classes": [],
            "_model_module": "@jupyter-widgets/controls",
            "_model_module_version": "1.5.0",
            "_model_name": "FloatProgressModel",
            "_view_count": null,
            "_view_module": "@jupyter-widgets/controls",
            "_view_module_version": "1.5.0",
            "_view_name": "ProgressView",
            "bar_style": "success",
            "description": "",
            "description_tooltip": null,
            "layout": "IPY_MODEL_b43d5be423204b998246483ab96b84dc",
            "max": 752,
            "min": 0,
            "orientation": "horizontal",
            "style": "IPY_MODEL_920468c9233949d4a96d7b550912baa5",
            "value": 752
          }
        },
        "10f941cc4cd4401a9e2cf6a57ca3a4ef": {
          "model_module": "@jupyter-widgets/controls",
          "model_name": "HTMLModel",
          "model_module_version": "1.5.0",
          "state": {
            "_dom_classes": [],
            "_model_module": "@jupyter-widgets/controls",
            "_model_module_version": "1.5.0",
            "_model_name": "HTMLModel",
            "_view_count": null,
            "_view_module": "@jupyter-widgets/controls",
            "_view_module_version": "1.5.0",
            "_view_name": "HTMLView",
            "description": "",
            "description_tooltip": null,
            "layout": "IPY_MODEL_ab3a80aa779e45adb0356d479d155b9b",
            "placeholder": "​",
            "style": "IPY_MODEL_5358273abb8345e2ad51a06f19da7e77",
            "value": " 752/752 [00:00&lt;00:00, 46.3kB/s]"
          }
        },
        "d525a725eac7417a9575e7718c366e54": {
          "model_module": "@jupyter-widgets/base",
          "model_name": "LayoutModel",
          "model_module_version": "1.2.0",
          "state": {
            "_model_module": "@jupyter-widgets/base",
            "_model_module_version": "1.2.0",
            "_model_name": "LayoutModel",
            "_view_count": null,
            "_view_module": "@jupyter-widgets/base",
            "_view_module_version": "1.2.0",
            "_view_name": "LayoutView",
            "align_content": null,
            "align_items": null,
            "align_self": null,
            "border": null,
            "bottom": null,
            "display": null,
            "flex": null,
            "flex_flow": null,
            "grid_area": null,
            "grid_auto_columns": null,
            "grid_auto_flow": null,
            "grid_auto_rows": null,
            "grid_column": null,
            "grid_gap": null,
            "grid_row": null,
            "grid_template_areas": null,
            "grid_template_columns": null,
            "grid_template_rows": null,
            "height": null,
            "justify_content": null,
            "justify_items": null,
            "left": null,
            "margin": null,
            "max_height": null,
            "max_width": null,
            "min_height": null,
            "min_width": null,
            "object_fit": null,
            "object_position": null,
            "order": null,
            "overflow": null,
            "overflow_x": null,
            "overflow_y": null,
            "padding": null,
            "right": null,
            "top": null,
            "visibility": null,
            "width": null
          }
        },
        "2e215bda17ee46eaa699fc9ccb3f5e57": {
          "model_module": "@jupyter-widgets/base",
          "model_name": "LayoutModel",
          "model_module_version": "1.2.0",
          "state": {
            "_model_module": "@jupyter-widgets/base",
            "_model_module_version": "1.2.0",
            "_model_name": "LayoutModel",
            "_view_count": null,
            "_view_module": "@jupyter-widgets/base",
            "_view_module_version": "1.2.0",
            "_view_name": "LayoutView",
            "align_content": null,
            "align_items": null,
            "align_self": null,
            "border": null,
            "bottom": null,
            "display": null,
            "flex": null,
            "flex_flow": null,
            "grid_area": null,
            "grid_auto_columns": null,
            "grid_auto_flow": null,
            "grid_auto_rows": null,
            "grid_column": null,
            "grid_gap": null,
            "grid_row": null,
            "grid_template_areas": null,
            "grid_template_columns": null,
            "grid_template_rows": null,
            "height": null,
            "justify_content": null,
            "justify_items": null,
            "left": null,
            "margin": null,
            "max_height": null,
            "max_width": null,
            "min_height": null,
            "min_width": null,
            "object_fit": null,
            "object_position": null,
            "order": null,
            "overflow": null,
            "overflow_x": null,
            "overflow_y": null,
            "padding": null,
            "right": null,
            "top": null,
            "visibility": null,
            "width": null
          }
        },
        "85a0b687e5e74d1cba1f216022b6469c": {
          "model_module": "@jupyter-widgets/controls",
          "model_name": "DescriptionStyleModel",
          "model_module_version": "1.5.0",
          "state": {
            "_model_module": "@jupyter-widgets/controls",
            "_model_module_version": "1.5.0",
            "_model_name": "DescriptionStyleModel",
            "_view_count": null,
            "_view_module": "@jupyter-widgets/base",
            "_view_module_version": "1.2.0",
            "_view_name": "StyleView",
            "description_width": ""
          }
        },
        "b43d5be423204b998246483ab96b84dc": {
          "model_module": "@jupyter-widgets/base",
          "model_name": "LayoutModel",
          "model_module_version": "1.2.0",
          "state": {
            "_model_module": "@jupyter-widgets/base",
            "_model_module_version": "1.2.0",
            "_model_name": "LayoutModel",
            "_view_count": null,
            "_view_module": "@jupyter-widgets/base",
            "_view_module_version": "1.2.0",
            "_view_name": "LayoutView",
            "align_content": null,
            "align_items": null,
            "align_self": null,
            "border": null,
            "bottom": null,
            "display": null,
            "flex": null,
            "flex_flow": null,
            "grid_area": null,
            "grid_auto_columns": null,
            "grid_auto_flow": null,
            "grid_auto_rows": null,
            "grid_column": null,
            "grid_gap": null,
            "grid_row": null,
            "grid_template_areas": null,
            "grid_template_columns": null,
            "grid_template_rows": null,
            "height": null,
            "justify_content": null,
            "justify_items": null,
            "left": null,
            "margin": null,
            "max_height": null,
            "max_width": null,
            "min_height": null,
            "min_width": null,
            "object_fit": null,
            "object_position": null,
            "order": null,
            "overflow": null,
            "overflow_x": null,
            "overflow_y": null,
            "padding": null,
            "right": null,
            "top": null,
            "visibility": null,
            "width": null
          }
        },
        "920468c9233949d4a96d7b550912baa5": {
          "model_module": "@jupyter-widgets/controls",
          "model_name": "ProgressStyleModel",
          "model_module_version": "1.5.0",
          "state": {
            "_model_module": "@jupyter-widgets/controls",
            "_model_module_version": "1.5.0",
            "_model_name": "ProgressStyleModel",
            "_view_count": null,
            "_view_module": "@jupyter-widgets/base",
            "_view_module_version": "1.2.0",
            "_view_name": "StyleView",
            "bar_color": null,
            "description_width": ""
          }
        },
        "ab3a80aa779e45adb0356d479d155b9b": {
          "model_module": "@jupyter-widgets/base",
          "model_name": "LayoutModel",
          "model_module_version": "1.2.0",
          "state": {
            "_model_module": "@jupyter-widgets/base",
            "_model_module_version": "1.2.0",
            "_model_name": "LayoutModel",
            "_view_count": null,
            "_view_module": "@jupyter-widgets/base",
            "_view_module_version": "1.2.0",
            "_view_name": "LayoutView",
            "align_content": null,
            "align_items": null,
            "align_self": null,
            "border": null,
            "bottom": null,
            "display": null,
            "flex": null,
            "flex_flow": null,
            "grid_area": null,
            "grid_auto_columns": null,
            "grid_auto_flow": null,
            "grid_auto_rows": null,
            "grid_column": null,
            "grid_gap": null,
            "grid_row": null,
            "grid_template_areas": null,
            "grid_template_columns": null,
            "grid_template_rows": null,
            "height": null,
            "justify_content": null,
            "justify_items": null,
            "left": null,
            "margin": null,
            "max_height": null,
            "max_width": null,
            "min_height": null,
            "min_width": null,
            "object_fit": null,
            "object_position": null,
            "order": null,
            "overflow": null,
            "overflow_x": null,
            "overflow_y": null,
            "padding": null,
            "right": null,
            "top": null,
            "visibility": null,
            "width": null
          }
        },
        "5358273abb8345e2ad51a06f19da7e77": {
          "model_module": "@jupyter-widgets/controls",
          "model_name": "DescriptionStyleModel",
          "model_module_version": "1.5.0",
          "state": {
            "_model_module": "@jupyter-widgets/controls",
            "_model_module_version": "1.5.0",
            "_model_name": "DescriptionStyleModel",
            "_view_count": null,
            "_view_module": "@jupyter-widgets/base",
            "_view_module_version": "1.2.0",
            "_view_name": "StyleView",
            "description_width": ""
          }
        },
        "6529a4a7f9c74db196f1a67d1f78169a": {
          "model_module": "@jupyter-widgets/controls",
          "model_name": "HBoxModel",
          "model_module_version": "1.5.0",
          "state": {
            "_dom_classes": [],
            "_model_module": "@jupyter-widgets/controls",
            "_model_module_version": "1.5.0",
            "_model_name": "HBoxModel",
            "_view_count": null,
            "_view_module": "@jupyter-widgets/controls",
            "_view_module_version": "1.5.0",
            "_view_name": "HBoxView",
            "box_style": "",
            "children": [
              "IPY_MODEL_1750f2491e6c406aba45a6f55bb22485",
              "IPY_MODEL_5f0bbe33dc7743028c46604878c68b45",
              "IPY_MODEL_fbf001a4420d445292bbe3a2b206649c"
            ],
            "layout": "IPY_MODEL_14fae64c63014f9daf6a304a1bb75899"
          }
        },
        "1750f2491e6c406aba45a6f55bb22485": {
          "model_module": "@jupyter-widgets/controls",
          "model_name": "HTMLModel",
          "model_module_version": "1.5.0",
          "state": {
            "_dom_classes": [],
            "_model_module": "@jupyter-widgets/controls",
            "_model_module_version": "1.5.0",
            "_model_name": "HTMLModel",
            "_view_count": null,
            "_view_module": "@jupyter-widgets/controls",
            "_view_module_version": "1.5.0",
            "_view_name": "HTMLView",
            "description": "",
            "description_tooltip": null,
            "layout": "IPY_MODEL_864ba3721318435788ec3c61fa05e044",
            "placeholder": "​",
            "style": "IPY_MODEL_2b890cdd659e47c3b90fe2379b49d6ce",
            "value": "model.safetensors: 100%"
          }
        },
        "5f0bbe33dc7743028c46604878c68b45": {
          "model_module": "@jupyter-widgets/controls",
          "model_name": "FloatProgressModel",
          "model_module_version": "1.5.0",
          "state": {
            "_dom_classes": [],
            "_model_module": "@jupyter-widgets/controls",
            "_model_module_version": "1.5.0",
            "_model_name": "FloatProgressModel",
            "_view_count": null,
            "_view_module": "@jupyter-widgets/controls",
            "_view_module_version": "1.5.0",
            "_view_name": "ProgressView",
            "bar_style": "success",
            "description": "",
            "description_tooltip": null,
            "layout": "IPY_MODEL_89d181b7e9db427b839fb5298f8f60f3",
            "max": 329420464,
            "min": 0,
            "orientation": "horizontal",
            "style": "IPY_MODEL_59b687ea5eac4c47ab7f6594f3d9587f",
            "value": 329420464
          }
        },
        "fbf001a4420d445292bbe3a2b206649c": {
          "model_module": "@jupyter-widgets/controls",
          "model_name": "HTMLModel",
          "model_module_version": "1.5.0",
          "state": {
            "_dom_classes": [],
            "_model_module": "@jupyter-widgets/controls",
            "_model_module_version": "1.5.0",
            "_model_name": "HTMLModel",
            "_view_count": null,
            "_view_module": "@jupyter-widgets/controls",
            "_view_module_version": "1.5.0",
            "_view_name": "HTMLView",
            "description": "",
            "description_tooltip": null,
            "layout": "IPY_MODEL_371d81e749ee40b6b18cc61e268f7cc1",
            "placeholder": "​",
            "style": "IPY_MODEL_019111ce9443451d8494b1760a1955ea",
            "value": " 329M/329M [00:01&lt;00:00, 236MB/s]"
          }
        },
        "14fae64c63014f9daf6a304a1bb75899": {
          "model_module": "@jupyter-widgets/base",
          "model_name": "LayoutModel",
          "model_module_version": "1.2.0",
          "state": {
            "_model_module": "@jupyter-widgets/base",
            "_model_module_version": "1.2.0",
            "_model_name": "LayoutModel",
            "_view_count": null,
            "_view_module": "@jupyter-widgets/base",
            "_view_module_version": "1.2.0",
            "_view_name": "LayoutView",
            "align_content": null,
            "align_items": null,
            "align_self": null,
            "border": null,
            "bottom": null,
            "display": null,
            "flex": null,
            "flex_flow": null,
            "grid_area": null,
            "grid_auto_columns": null,
            "grid_auto_flow": null,
            "grid_auto_rows": null,
            "grid_column": null,
            "grid_gap": null,
            "grid_row": null,
            "grid_template_areas": null,
            "grid_template_columns": null,
            "grid_template_rows": null,
            "height": null,
            "justify_content": null,
            "justify_items": null,
            "left": null,
            "margin": null,
            "max_height": null,
            "max_width": null,
            "min_height": null,
            "min_width": null,
            "object_fit": null,
            "object_position": null,
            "order": null,
            "overflow": null,
            "overflow_x": null,
            "overflow_y": null,
            "padding": null,
            "right": null,
            "top": null,
            "visibility": null,
            "width": null
          }
        },
        "864ba3721318435788ec3c61fa05e044": {
          "model_module": "@jupyter-widgets/base",
          "model_name": "LayoutModel",
          "model_module_version": "1.2.0",
          "state": {
            "_model_module": "@jupyter-widgets/base",
            "_model_module_version": "1.2.0",
            "_model_name": "LayoutModel",
            "_view_count": null,
            "_view_module": "@jupyter-widgets/base",
            "_view_module_version": "1.2.0",
            "_view_name": "LayoutView",
            "align_content": null,
            "align_items": null,
            "align_self": null,
            "border": null,
            "bottom": null,
            "display": null,
            "flex": null,
            "flex_flow": null,
            "grid_area": null,
            "grid_auto_columns": null,
            "grid_auto_flow": null,
            "grid_auto_rows": null,
            "grid_column": null,
            "grid_gap": null,
            "grid_row": null,
            "grid_template_areas": null,
            "grid_template_columns": null,
            "grid_template_rows": null,
            "height": null,
            "justify_content": null,
            "justify_items": null,
            "left": null,
            "margin": null,
            "max_height": null,
            "max_width": null,
            "min_height": null,
            "min_width": null,
            "object_fit": null,
            "object_position": null,
            "order": null,
            "overflow": null,
            "overflow_x": null,
            "overflow_y": null,
            "padding": null,
            "right": null,
            "top": null,
            "visibility": null,
            "width": null
          }
        },
        "2b890cdd659e47c3b90fe2379b49d6ce": {
          "model_module": "@jupyter-widgets/controls",
          "model_name": "DescriptionStyleModel",
          "model_module_version": "1.5.0",
          "state": {
            "_model_module": "@jupyter-widgets/controls",
            "_model_module_version": "1.5.0",
            "_model_name": "DescriptionStyleModel",
            "_view_count": null,
            "_view_module": "@jupyter-widgets/base",
            "_view_module_version": "1.2.0",
            "_view_name": "StyleView",
            "description_width": ""
          }
        },
        "89d181b7e9db427b839fb5298f8f60f3": {
          "model_module": "@jupyter-widgets/base",
          "model_name": "LayoutModel",
          "model_module_version": "1.2.0",
          "state": {
            "_model_module": "@jupyter-widgets/base",
            "_model_module_version": "1.2.0",
            "_model_name": "LayoutModel",
            "_view_count": null,
            "_view_module": "@jupyter-widgets/base",
            "_view_module_version": "1.2.0",
            "_view_name": "LayoutView",
            "align_content": null,
            "align_items": null,
            "align_self": null,
            "border": null,
            "bottom": null,
            "display": null,
            "flex": null,
            "flex_flow": null,
            "grid_area": null,
            "grid_auto_columns": null,
            "grid_auto_flow": null,
            "grid_auto_rows": null,
            "grid_column": null,
            "grid_gap": null,
            "grid_row": null,
            "grid_template_areas": null,
            "grid_template_columns": null,
            "grid_template_rows": null,
            "height": null,
            "justify_content": null,
            "justify_items": null,
            "left": null,
            "margin": null,
            "max_height": null,
            "max_width": null,
            "min_height": null,
            "min_width": null,
            "object_fit": null,
            "object_position": null,
            "order": null,
            "overflow": null,
            "overflow_x": null,
            "overflow_y": null,
            "padding": null,
            "right": null,
            "top": null,
            "visibility": null,
            "width": null
          }
        },
        "59b687ea5eac4c47ab7f6594f3d9587f": {
          "model_module": "@jupyter-widgets/controls",
          "model_name": "ProgressStyleModel",
          "model_module_version": "1.5.0",
          "state": {
            "_model_module": "@jupyter-widgets/controls",
            "_model_module_version": "1.5.0",
            "_model_name": "ProgressStyleModel",
            "_view_count": null,
            "_view_module": "@jupyter-widgets/base",
            "_view_module_version": "1.2.0",
            "_view_name": "StyleView",
            "bar_color": null,
            "description_width": ""
          }
        },
        "371d81e749ee40b6b18cc61e268f7cc1": {
          "model_module": "@jupyter-widgets/base",
          "model_name": "LayoutModel",
          "model_module_version": "1.2.0",
          "state": {
            "_model_module": "@jupyter-widgets/base",
            "_model_module_version": "1.2.0",
            "_model_name": "LayoutModel",
            "_view_count": null,
            "_view_module": "@jupyter-widgets/base",
            "_view_module_version": "1.2.0",
            "_view_name": "LayoutView",
            "align_content": null,
            "align_items": null,
            "align_self": null,
            "border": null,
            "bottom": null,
            "display": null,
            "flex": null,
            "flex_flow": null,
            "grid_area": null,
            "grid_auto_columns": null,
            "grid_auto_flow": null,
            "grid_auto_rows": null,
            "grid_column": null,
            "grid_gap": null,
            "grid_row": null,
            "grid_template_areas": null,
            "grid_template_columns": null,
            "grid_template_rows": null,
            "height": null,
            "justify_content": null,
            "justify_items": null,
            "left": null,
            "margin": null,
            "max_height": null,
            "max_width": null,
            "min_height": null,
            "min_width": null,
            "object_fit": null,
            "object_position": null,
            "order": null,
            "overflow": null,
            "overflow_x": null,
            "overflow_y": null,
            "padding": null,
            "right": null,
            "top": null,
            "visibility": null,
            "width": null
          }
        },
        "019111ce9443451d8494b1760a1955ea": {
          "model_module": "@jupyter-widgets/controls",
          "model_name": "DescriptionStyleModel",
          "model_module_version": "1.5.0",
          "state": {
            "_model_module": "@jupyter-widgets/controls",
            "_model_module_version": "1.5.0",
            "_model_name": "DescriptionStyleModel",
            "_view_count": null,
            "_view_module": "@jupyter-widgets/base",
            "_view_module_version": "1.2.0",
            "_view_name": "StyleView",
            "description_width": ""
          }
        },
        "84039f39f0df402aa98a94efb0a7f59c": {
          "model_module": "@jupyter-widgets/controls",
          "model_name": "HBoxModel",
          "model_module_version": "1.5.0",
          "state": {
            "_dom_classes": [],
            "_model_module": "@jupyter-widgets/controls",
            "_model_module_version": "1.5.0",
            "_model_name": "HBoxModel",
            "_view_count": null,
            "_view_module": "@jupyter-widgets/controls",
            "_view_module_version": "1.5.0",
            "_view_name": "HBoxView",
            "box_style": "",
            "children": [
              "IPY_MODEL_768ba61d8504440d8dc76e9c2ce043e1",
              "IPY_MODEL_029be6f754134112afdb668e1fa8bcbb",
              "IPY_MODEL_2e9a16cc122b46c3a8eca8323b1737e4"
            ],
            "layout": "IPY_MODEL_31e34870dfc9428b801bc4856b150193"
          }
        },
        "768ba61d8504440d8dc76e9c2ce043e1": {
          "model_module": "@jupyter-widgets/controls",
          "model_name": "HTMLModel",
          "model_module_version": "1.5.0",
          "state": {
            "_dom_classes": [],
            "_model_module": "@jupyter-widgets/controls",
            "_model_module_version": "1.5.0",
            "_model_name": "HTMLModel",
            "_view_count": null,
            "_view_module": "@jupyter-widgets/controls",
            "_view_module_version": "1.5.0",
            "_view_name": "HTMLView",
            "description": "",
            "description_tooltip": null,
            "layout": "IPY_MODEL_36adbc814a6049f79aa2de5afdf7b57f",
            "placeholder": "​",
            "style": "IPY_MODEL_042c716983774095a65121478bad8112",
            "value": "tokenizer_config.json: 100%"
          }
        },
        "029be6f754134112afdb668e1fa8bcbb": {
          "model_module": "@jupyter-widgets/controls",
          "model_name": "FloatProgressModel",
          "model_module_version": "1.5.0",
          "state": {
            "_dom_classes": [],
            "_model_module": "@jupyter-widgets/controls",
            "_model_module_version": "1.5.0",
            "_model_name": "FloatProgressModel",
            "_view_count": null,
            "_view_module": "@jupyter-widgets/controls",
            "_view_module_version": "1.5.0",
            "_view_name": "ProgressView",
            "bar_style": "success",
            "description": "",
            "description_tooltip": null,
            "layout": "IPY_MODEL_2ff01ec0e7894c158f645ee2c2fd736b",
            "max": 1460,
            "min": 0,
            "orientation": "horizontal",
            "style": "IPY_MODEL_38bb950e926e4129a4b036e020385d2a",
            "value": 1460
          }
        },
        "2e9a16cc122b46c3a8eca8323b1737e4": {
          "model_module": "@jupyter-widgets/controls",
          "model_name": "HTMLModel",
          "model_module_version": "1.5.0",
          "state": {
            "_dom_classes": [],
            "_model_module": "@jupyter-widgets/controls",
            "_model_module_version": "1.5.0",
            "_model_name": "HTMLModel",
            "_view_count": null,
            "_view_module": "@jupyter-widgets/controls",
            "_view_module_version": "1.5.0",
            "_view_name": "HTMLView",
            "description": "",
            "description_tooltip": null,
            "layout": "IPY_MODEL_e6e7184408d24d669f1c82beb56daa90",
            "placeholder": "​",
            "style": "IPY_MODEL_ee1cd40cd95b426097e9075db912871b",
            "value": " 1.46k/1.46k [00:00&lt;00:00, 54.2kB/s]"
          }
        },
        "31e34870dfc9428b801bc4856b150193": {
          "model_module": "@jupyter-widgets/base",
          "model_name": "LayoutModel",
          "model_module_version": "1.2.0",
          "state": {
            "_model_module": "@jupyter-widgets/base",
            "_model_module_version": "1.2.0",
            "_model_name": "LayoutModel",
            "_view_count": null,
            "_view_module": "@jupyter-widgets/base",
            "_view_module_version": "1.2.0",
            "_view_name": "LayoutView",
            "align_content": null,
            "align_items": null,
            "align_self": null,
            "border": null,
            "bottom": null,
            "display": null,
            "flex": null,
            "flex_flow": null,
            "grid_area": null,
            "grid_auto_columns": null,
            "grid_auto_flow": null,
            "grid_auto_rows": null,
            "grid_column": null,
            "grid_gap": null,
            "grid_row": null,
            "grid_template_areas": null,
            "grid_template_columns": null,
            "grid_template_rows": null,
            "height": null,
            "justify_content": null,
            "justify_items": null,
            "left": null,
            "margin": null,
            "max_height": null,
            "max_width": null,
            "min_height": null,
            "min_width": null,
            "object_fit": null,
            "object_position": null,
            "order": null,
            "overflow": null,
            "overflow_x": null,
            "overflow_y": null,
            "padding": null,
            "right": null,
            "top": null,
            "visibility": null,
            "width": null
          }
        },
        "36adbc814a6049f79aa2de5afdf7b57f": {
          "model_module": "@jupyter-widgets/base",
          "model_name": "LayoutModel",
          "model_module_version": "1.2.0",
          "state": {
            "_model_module": "@jupyter-widgets/base",
            "_model_module_version": "1.2.0",
            "_model_name": "LayoutModel",
            "_view_count": null,
            "_view_module": "@jupyter-widgets/base",
            "_view_module_version": "1.2.0",
            "_view_name": "LayoutView",
            "align_content": null,
            "align_items": null,
            "align_self": null,
            "border": null,
            "bottom": null,
            "display": null,
            "flex": null,
            "flex_flow": null,
            "grid_area": null,
            "grid_auto_columns": null,
            "grid_auto_flow": null,
            "grid_auto_rows": null,
            "grid_column": null,
            "grid_gap": null,
            "grid_row": null,
            "grid_template_areas": null,
            "grid_template_columns": null,
            "grid_template_rows": null,
            "height": null,
            "justify_content": null,
            "justify_items": null,
            "left": null,
            "margin": null,
            "max_height": null,
            "max_width": null,
            "min_height": null,
            "min_width": null,
            "object_fit": null,
            "object_position": null,
            "order": null,
            "overflow": null,
            "overflow_x": null,
            "overflow_y": null,
            "padding": null,
            "right": null,
            "top": null,
            "visibility": null,
            "width": null
          }
        },
        "042c716983774095a65121478bad8112": {
          "model_module": "@jupyter-widgets/controls",
          "model_name": "DescriptionStyleModel",
          "model_module_version": "1.5.0",
          "state": {
            "_model_module": "@jupyter-widgets/controls",
            "_model_module_version": "1.5.0",
            "_model_name": "DescriptionStyleModel",
            "_view_count": null,
            "_view_module": "@jupyter-widgets/base",
            "_view_module_version": "1.2.0",
            "_view_name": "StyleView",
            "description_width": ""
          }
        },
        "2ff01ec0e7894c158f645ee2c2fd736b": {
          "model_module": "@jupyter-widgets/base",
          "model_name": "LayoutModel",
          "model_module_version": "1.2.0",
          "state": {
            "_model_module": "@jupyter-widgets/base",
            "_model_module_version": "1.2.0",
            "_model_name": "LayoutModel",
            "_view_count": null,
            "_view_module": "@jupyter-widgets/base",
            "_view_module_version": "1.2.0",
            "_view_name": "LayoutView",
            "align_content": null,
            "align_items": null,
            "align_self": null,
            "border": null,
            "bottom": null,
            "display": null,
            "flex": null,
            "flex_flow": null,
            "grid_area": null,
            "grid_auto_columns": null,
            "grid_auto_flow": null,
            "grid_auto_rows": null,
            "grid_column": null,
            "grid_gap": null,
            "grid_row": null,
            "grid_template_areas": null,
            "grid_template_columns": null,
            "grid_template_rows": null,
            "height": null,
            "justify_content": null,
            "justify_items": null,
            "left": null,
            "margin": null,
            "max_height": null,
            "max_width": null,
            "min_height": null,
            "min_width": null,
            "object_fit": null,
            "object_position": null,
            "order": null,
            "overflow": null,
            "overflow_x": null,
            "overflow_y": null,
            "padding": null,
            "right": null,
            "top": null,
            "visibility": null,
            "width": null
          }
        },
        "38bb950e926e4129a4b036e020385d2a": {
          "model_module": "@jupyter-widgets/controls",
          "model_name": "ProgressStyleModel",
          "model_module_version": "1.5.0",
          "state": {
            "_model_module": "@jupyter-widgets/controls",
            "_model_module_version": "1.5.0",
            "_model_name": "ProgressStyleModel",
            "_view_count": null,
            "_view_module": "@jupyter-widgets/base",
            "_view_module_version": "1.2.0",
            "_view_name": "StyleView",
            "bar_color": null,
            "description_width": ""
          }
        },
        "e6e7184408d24d669f1c82beb56daa90": {
          "model_module": "@jupyter-widgets/base",
          "model_name": "LayoutModel",
          "model_module_version": "1.2.0",
          "state": {
            "_model_module": "@jupyter-widgets/base",
            "_model_module_version": "1.2.0",
            "_model_name": "LayoutModel",
            "_view_count": null,
            "_view_module": "@jupyter-widgets/base",
            "_view_module_version": "1.2.0",
            "_view_name": "LayoutView",
            "align_content": null,
            "align_items": null,
            "align_self": null,
            "border": null,
            "bottom": null,
            "display": null,
            "flex": null,
            "flex_flow": null,
            "grid_area": null,
            "grid_auto_columns": null,
            "grid_auto_flow": null,
            "grid_auto_rows": null,
            "grid_column": null,
            "grid_gap": null,
            "grid_row": null,
            "grid_template_areas": null,
            "grid_template_columns": null,
            "grid_template_rows": null,
            "height": null,
            "justify_content": null,
            "justify_items": null,
            "left": null,
            "margin": null,
            "max_height": null,
            "max_width": null,
            "min_height": null,
            "min_width": null,
            "object_fit": null,
            "object_position": null,
            "order": null,
            "overflow": null,
            "overflow_x": null,
            "overflow_y": null,
            "padding": null,
            "right": null,
            "top": null,
            "visibility": null,
            "width": null
          }
        },
        "ee1cd40cd95b426097e9075db912871b": {
          "model_module": "@jupyter-widgets/controls",
          "model_name": "DescriptionStyleModel",
          "model_module_version": "1.5.0",
          "state": {
            "_model_module": "@jupyter-widgets/controls",
            "_model_module_version": "1.5.0",
            "_model_name": "DescriptionStyleModel",
            "_view_count": null,
            "_view_module": "@jupyter-widgets/base",
            "_view_module_version": "1.2.0",
            "_view_name": "StyleView",
            "description_width": ""
          }
        },
        "f9189c96f486413f8ae812c9302d4664": {
          "model_module": "@jupyter-widgets/controls",
          "model_name": "HBoxModel",
          "model_module_version": "1.5.0",
          "state": {
            "_dom_classes": [],
            "_model_module": "@jupyter-widgets/controls",
            "_model_module_version": "1.5.0",
            "_model_name": "HBoxModel",
            "_view_count": null,
            "_view_module": "@jupyter-widgets/controls",
            "_view_module_version": "1.5.0",
            "_view_name": "HBoxView",
            "box_style": "",
            "children": [
              "IPY_MODEL_bbf21cfab84245fc90a45b3ff7700cd3",
              "IPY_MODEL_d2afe15d45ed4f6a8caeb691ac924a0f",
              "IPY_MODEL_df12eb2fd19846dda232fa1b6aaa736a"
            ],
            "layout": "IPY_MODEL_4ce9d2d393d24169bec0c36845ee5dbb"
          }
        },
        "bbf21cfab84245fc90a45b3ff7700cd3": {
          "model_module": "@jupyter-widgets/controls",
          "model_name": "HTMLModel",
          "model_module_version": "1.5.0",
          "state": {
            "_dom_classes": [],
            "_model_module": "@jupyter-widgets/controls",
            "_model_module_version": "1.5.0",
            "_model_name": "HTMLModel",
            "_view_count": null,
            "_view_module": "@jupyter-widgets/controls",
            "_view_module_version": "1.5.0",
            "_view_name": "HTMLView",
            "description": "",
            "description_tooltip": null,
            "layout": "IPY_MODEL_e8e531b8fa6a4d24bb1e91a97ff058fe",
            "placeholder": "​",
            "style": "IPY_MODEL_55f7d4e435b14857a52dea16316242eb",
            "value": "vocab.json: 100%"
          }
        },
        "d2afe15d45ed4f6a8caeb691ac924a0f": {
          "model_module": "@jupyter-widgets/controls",
          "model_name": "FloatProgressModel",
          "model_module_version": "1.5.0",
          "state": {
            "_dom_classes": [],
            "_model_module": "@jupyter-widgets/controls",
            "_model_module_version": "1.5.0",
            "_model_name": "FloatProgressModel",
            "_view_count": null,
            "_view_module": "@jupyter-widgets/controls",
            "_view_module_version": "1.5.0",
            "_view_name": "ProgressView",
            "bar_style": "success",
            "description": "",
            "description_tooltip": null,
            "layout": "IPY_MODEL_fb2bb61474424fc49d65ec2598a35ea1",
            "max": 798293,
            "min": 0,
            "orientation": "horizontal",
            "style": "IPY_MODEL_47a5dcd7398446db8504c50bb1c92e06",
            "value": 798293
          }
        },
        "df12eb2fd19846dda232fa1b6aaa736a": {
          "model_module": "@jupyter-widgets/controls",
          "model_name": "HTMLModel",
          "model_module_version": "1.5.0",
          "state": {
            "_dom_classes": [],
            "_model_module": "@jupyter-widgets/controls",
            "_model_module_version": "1.5.0",
            "_model_name": "HTMLModel",
            "_view_count": null,
            "_view_module": "@jupyter-widgets/controls",
            "_view_module_version": "1.5.0",
            "_view_name": "HTMLView",
            "description": "",
            "description_tooltip": null,
            "layout": "IPY_MODEL_e37efc00ddf4462f9d61c057b90d9502",
            "placeholder": "​",
            "style": "IPY_MODEL_32551c7e8ee64b2986ca4a4b12dab1f4",
            "value": " 798k/798k [00:00&lt;00:00, 10.3MB/s]"
          }
        },
        "4ce9d2d393d24169bec0c36845ee5dbb": {
          "model_module": "@jupyter-widgets/base",
          "model_name": "LayoutModel",
          "model_module_version": "1.2.0",
          "state": {
            "_model_module": "@jupyter-widgets/base",
            "_model_module_version": "1.2.0",
            "_model_name": "LayoutModel",
            "_view_count": null,
            "_view_module": "@jupyter-widgets/base",
            "_view_module_version": "1.2.0",
            "_view_name": "LayoutView",
            "align_content": null,
            "align_items": null,
            "align_self": null,
            "border": null,
            "bottom": null,
            "display": null,
            "flex": null,
            "flex_flow": null,
            "grid_area": null,
            "grid_auto_columns": null,
            "grid_auto_flow": null,
            "grid_auto_rows": null,
            "grid_column": null,
            "grid_gap": null,
            "grid_row": null,
            "grid_template_areas": null,
            "grid_template_columns": null,
            "grid_template_rows": null,
            "height": null,
            "justify_content": null,
            "justify_items": null,
            "left": null,
            "margin": null,
            "max_height": null,
            "max_width": null,
            "min_height": null,
            "min_width": null,
            "object_fit": null,
            "object_position": null,
            "order": null,
            "overflow": null,
            "overflow_x": null,
            "overflow_y": null,
            "padding": null,
            "right": null,
            "top": null,
            "visibility": null,
            "width": null
          }
        },
        "e8e531b8fa6a4d24bb1e91a97ff058fe": {
          "model_module": "@jupyter-widgets/base",
          "model_name": "LayoutModel",
          "model_module_version": "1.2.0",
          "state": {
            "_model_module": "@jupyter-widgets/base",
            "_model_module_version": "1.2.0",
            "_model_name": "LayoutModel",
            "_view_count": null,
            "_view_module": "@jupyter-widgets/base",
            "_view_module_version": "1.2.0",
            "_view_name": "LayoutView",
            "align_content": null,
            "align_items": null,
            "align_self": null,
            "border": null,
            "bottom": null,
            "display": null,
            "flex": null,
            "flex_flow": null,
            "grid_area": null,
            "grid_auto_columns": null,
            "grid_auto_flow": null,
            "grid_auto_rows": null,
            "grid_column": null,
            "grid_gap": null,
            "grid_row": null,
            "grid_template_areas": null,
            "grid_template_columns": null,
            "grid_template_rows": null,
            "height": null,
            "justify_content": null,
            "justify_items": null,
            "left": null,
            "margin": null,
            "max_height": null,
            "max_width": null,
            "min_height": null,
            "min_width": null,
            "object_fit": null,
            "object_position": null,
            "order": null,
            "overflow": null,
            "overflow_x": null,
            "overflow_y": null,
            "padding": null,
            "right": null,
            "top": null,
            "visibility": null,
            "width": null
          }
        },
        "55f7d4e435b14857a52dea16316242eb": {
          "model_module": "@jupyter-widgets/controls",
          "model_name": "DescriptionStyleModel",
          "model_module_version": "1.5.0",
          "state": {
            "_model_module": "@jupyter-widgets/controls",
            "_model_module_version": "1.5.0",
            "_model_name": "DescriptionStyleModel",
            "_view_count": null,
            "_view_module": "@jupyter-widgets/base",
            "_view_module_version": "1.2.0",
            "_view_name": "StyleView",
            "description_width": ""
          }
        },
        "fb2bb61474424fc49d65ec2598a35ea1": {
          "model_module": "@jupyter-widgets/base",
          "model_name": "LayoutModel",
          "model_module_version": "1.2.0",
          "state": {
            "_model_module": "@jupyter-widgets/base",
            "_model_module_version": "1.2.0",
            "_model_name": "LayoutModel",
            "_view_count": null,
            "_view_module": "@jupyter-widgets/base",
            "_view_module_version": "1.2.0",
            "_view_name": "LayoutView",
            "align_content": null,
            "align_items": null,
            "align_self": null,
            "border": null,
            "bottom": null,
            "display": null,
            "flex": null,
            "flex_flow": null,
            "grid_area": null,
            "grid_auto_columns": null,
            "grid_auto_flow": null,
            "grid_auto_rows": null,
            "grid_column": null,
            "grid_gap": null,
            "grid_row": null,
            "grid_template_areas": null,
            "grid_template_columns": null,
            "grid_template_rows": null,
            "height": null,
            "justify_content": null,
            "justify_items": null,
            "left": null,
            "margin": null,
            "max_height": null,
            "max_width": null,
            "min_height": null,
            "min_width": null,
            "object_fit": null,
            "object_position": null,
            "order": null,
            "overflow": null,
            "overflow_x": null,
            "overflow_y": null,
            "padding": null,
            "right": null,
            "top": null,
            "visibility": null,
            "width": null
          }
        },
        "47a5dcd7398446db8504c50bb1c92e06": {
          "model_module": "@jupyter-widgets/controls",
          "model_name": "ProgressStyleModel",
          "model_module_version": "1.5.0",
          "state": {
            "_model_module": "@jupyter-widgets/controls",
            "_model_module_version": "1.5.0",
            "_model_name": "ProgressStyleModel",
            "_view_count": null,
            "_view_module": "@jupyter-widgets/base",
            "_view_module_version": "1.2.0",
            "_view_name": "StyleView",
            "bar_color": null,
            "description_width": ""
          }
        },
        "e37efc00ddf4462f9d61c057b90d9502": {
          "model_module": "@jupyter-widgets/base",
          "model_name": "LayoutModel",
          "model_module_version": "1.2.0",
          "state": {
            "_model_module": "@jupyter-widgets/base",
            "_model_module_version": "1.2.0",
            "_model_name": "LayoutModel",
            "_view_count": null,
            "_view_module": "@jupyter-widgets/base",
            "_view_module_version": "1.2.0",
            "_view_name": "LayoutView",
            "align_content": null,
            "align_items": null,
            "align_self": null,
            "border": null,
            "bottom": null,
            "display": null,
            "flex": null,
            "flex_flow": null,
            "grid_area": null,
            "grid_auto_columns": null,
            "grid_auto_flow": null,
            "grid_auto_rows": null,
            "grid_column": null,
            "grid_gap": null,
            "grid_row": null,
            "grid_template_areas": null,
            "grid_template_columns": null,
            "grid_template_rows": null,
            "height": null,
            "justify_content": null,
            "justify_items": null,
            "left": null,
            "margin": null,
            "max_height": null,
            "max_width": null,
            "min_height": null,
            "min_width": null,
            "object_fit": null,
            "object_position": null,
            "order": null,
            "overflow": null,
            "overflow_x": null,
            "overflow_y": null,
            "padding": null,
            "right": null,
            "top": null,
            "visibility": null,
            "width": null
          }
        },
        "32551c7e8ee64b2986ca4a4b12dab1f4": {
          "model_module": "@jupyter-widgets/controls",
          "model_name": "DescriptionStyleModel",
          "model_module_version": "1.5.0",
          "state": {
            "_model_module": "@jupyter-widgets/controls",
            "_model_module_version": "1.5.0",
            "_model_name": "DescriptionStyleModel",
            "_view_count": null,
            "_view_module": "@jupyter-widgets/base",
            "_view_module_version": "1.2.0",
            "_view_name": "StyleView",
            "description_width": ""
          }
        },
        "0e85410a674f4897a53dbde9451c993b": {
          "model_module": "@jupyter-widgets/controls",
          "model_name": "HBoxModel",
          "model_module_version": "1.5.0",
          "state": {
            "_dom_classes": [],
            "_model_module": "@jupyter-widgets/controls",
            "_model_module_version": "1.5.0",
            "_model_name": "HBoxModel",
            "_view_count": null,
            "_view_module": "@jupyter-widgets/controls",
            "_view_module_version": "1.5.0",
            "_view_name": "HBoxView",
            "box_style": "",
            "children": [
              "IPY_MODEL_365f68d190694c25acd8efee63b73b87",
              "IPY_MODEL_9c5380a631cd438abd994d2a1f9bb716",
              "IPY_MODEL_b81faa86b5ff428795a739e80a7b6ee1"
            ],
            "layout": "IPY_MODEL_3f6ced075ddc43d887376718ce5461f4"
          }
        },
        "365f68d190694c25acd8efee63b73b87": {
          "model_module": "@jupyter-widgets/controls",
          "model_name": "HTMLModel",
          "model_module_version": "1.5.0",
          "state": {
            "_dom_classes": [],
            "_model_module": "@jupyter-widgets/controls",
            "_model_module_version": "1.5.0",
            "_model_name": "HTMLModel",
            "_view_count": null,
            "_view_module": "@jupyter-widgets/controls",
            "_view_module_version": "1.5.0",
            "_view_name": "HTMLView",
            "description": "",
            "description_tooltip": null,
            "layout": "IPY_MODEL_56e767eec47a4aee84ed4103feb3cc67",
            "placeholder": "​",
            "style": "IPY_MODEL_628511d3aa254af0bf1c233413383d13",
            "value": "merges.txt: 100%"
          }
        },
        "9c5380a631cd438abd994d2a1f9bb716": {
          "model_module": "@jupyter-widgets/controls",
          "model_name": "FloatProgressModel",
          "model_module_version": "1.5.0",
          "state": {
            "_dom_classes": [],
            "_model_module": "@jupyter-widgets/controls",
            "_model_module_version": "1.5.0",
            "_model_name": "FloatProgressModel",
            "_view_count": null,
            "_view_module": "@jupyter-widgets/controls",
            "_view_module_version": "1.5.0",
            "_view_name": "ProgressView",
            "bar_style": "success",
            "description": "",
            "description_tooltip": null,
            "layout": "IPY_MODEL_c466032f7b0741bba1025e212b01c7ad",
            "max": 456356,
            "min": 0,
            "orientation": "horizontal",
            "style": "IPY_MODEL_8b7b0575b6bf459aa8618b03bbfc5707",
            "value": 456356
          }
        },
        "b81faa86b5ff428795a739e80a7b6ee1": {
          "model_module": "@jupyter-widgets/controls",
          "model_name": "HTMLModel",
          "model_module_version": "1.5.0",
          "state": {
            "_dom_classes": [],
            "_model_module": "@jupyter-widgets/controls",
            "_model_module_version": "1.5.0",
            "_model_name": "HTMLModel",
            "_view_count": null,
            "_view_module": "@jupyter-widgets/controls",
            "_view_module_version": "1.5.0",
            "_view_name": "HTMLView",
            "description": "",
            "description_tooltip": null,
            "layout": "IPY_MODEL_396f91ea2cb64fc4a0b10322ad8738a4",
            "placeholder": "​",
            "style": "IPY_MODEL_27740739d0f04875ae7f401e6601ad9c",
            "value": " 456k/456k [00:00&lt;00:00, 2.35MB/s]"
          }
        },
        "3f6ced075ddc43d887376718ce5461f4": {
          "model_module": "@jupyter-widgets/base",
          "model_name": "LayoutModel",
          "model_module_version": "1.2.0",
          "state": {
            "_model_module": "@jupyter-widgets/base",
            "_model_module_version": "1.2.0",
            "_model_name": "LayoutModel",
            "_view_count": null,
            "_view_module": "@jupyter-widgets/base",
            "_view_module_version": "1.2.0",
            "_view_name": "LayoutView",
            "align_content": null,
            "align_items": null,
            "align_self": null,
            "border": null,
            "bottom": null,
            "display": null,
            "flex": null,
            "flex_flow": null,
            "grid_area": null,
            "grid_auto_columns": null,
            "grid_auto_flow": null,
            "grid_auto_rows": null,
            "grid_column": null,
            "grid_gap": null,
            "grid_row": null,
            "grid_template_areas": null,
            "grid_template_columns": null,
            "grid_template_rows": null,
            "height": null,
            "justify_content": null,
            "justify_items": null,
            "left": null,
            "margin": null,
            "max_height": null,
            "max_width": null,
            "min_height": null,
            "min_width": null,
            "object_fit": null,
            "object_position": null,
            "order": null,
            "overflow": null,
            "overflow_x": null,
            "overflow_y": null,
            "padding": null,
            "right": null,
            "top": null,
            "visibility": null,
            "width": null
          }
        },
        "56e767eec47a4aee84ed4103feb3cc67": {
          "model_module": "@jupyter-widgets/base",
          "model_name": "LayoutModel",
          "model_module_version": "1.2.0",
          "state": {
            "_model_module": "@jupyter-widgets/base",
            "_model_module_version": "1.2.0",
            "_model_name": "LayoutModel",
            "_view_count": null,
            "_view_module": "@jupyter-widgets/base",
            "_view_module_version": "1.2.0",
            "_view_name": "LayoutView",
            "align_content": null,
            "align_items": null,
            "align_self": null,
            "border": null,
            "bottom": null,
            "display": null,
            "flex": null,
            "flex_flow": null,
            "grid_area": null,
            "grid_auto_columns": null,
            "grid_auto_flow": null,
            "grid_auto_rows": null,
            "grid_column": null,
            "grid_gap": null,
            "grid_row": null,
            "grid_template_areas": null,
            "grid_template_columns": null,
            "grid_template_rows": null,
            "height": null,
            "justify_content": null,
            "justify_items": null,
            "left": null,
            "margin": null,
            "max_height": null,
            "max_width": null,
            "min_height": null,
            "min_width": null,
            "object_fit": null,
            "object_position": null,
            "order": null,
            "overflow": null,
            "overflow_x": null,
            "overflow_y": null,
            "padding": null,
            "right": null,
            "top": null,
            "visibility": null,
            "width": null
          }
        },
        "628511d3aa254af0bf1c233413383d13": {
          "model_module": "@jupyter-widgets/controls",
          "model_name": "DescriptionStyleModel",
          "model_module_version": "1.5.0",
          "state": {
            "_model_module": "@jupyter-widgets/controls",
            "_model_module_version": "1.5.0",
            "_model_name": "DescriptionStyleModel",
            "_view_count": null,
            "_view_module": "@jupyter-widgets/base",
            "_view_module_version": "1.2.0",
            "_view_name": "StyleView",
            "description_width": ""
          }
        },
        "c466032f7b0741bba1025e212b01c7ad": {
          "model_module": "@jupyter-widgets/base",
          "model_name": "LayoutModel",
          "model_module_version": "1.2.0",
          "state": {
            "_model_module": "@jupyter-widgets/base",
            "_model_module_version": "1.2.0",
            "_model_name": "LayoutModel",
            "_view_count": null,
            "_view_module": "@jupyter-widgets/base",
            "_view_module_version": "1.2.0",
            "_view_name": "LayoutView",
            "align_content": null,
            "align_items": null,
            "align_self": null,
            "border": null,
            "bottom": null,
            "display": null,
            "flex": null,
            "flex_flow": null,
            "grid_area": null,
            "grid_auto_columns": null,
            "grid_auto_flow": null,
            "grid_auto_rows": null,
            "grid_column": null,
            "grid_gap": null,
            "grid_row": null,
            "grid_template_areas": null,
            "grid_template_columns": null,
            "grid_template_rows": null,
            "height": null,
            "justify_content": null,
            "justify_items": null,
            "left": null,
            "margin": null,
            "max_height": null,
            "max_width": null,
            "min_height": null,
            "min_width": null,
            "object_fit": null,
            "object_position": null,
            "order": null,
            "overflow": null,
            "overflow_x": null,
            "overflow_y": null,
            "padding": null,
            "right": null,
            "top": null,
            "visibility": null,
            "width": null
          }
        },
        "8b7b0575b6bf459aa8618b03bbfc5707": {
          "model_module": "@jupyter-widgets/controls",
          "model_name": "ProgressStyleModel",
          "model_module_version": "1.5.0",
          "state": {
            "_model_module": "@jupyter-widgets/controls",
            "_model_module_version": "1.5.0",
            "_model_name": "ProgressStyleModel",
            "_view_count": null,
            "_view_module": "@jupyter-widgets/base",
            "_view_module_version": "1.2.0",
            "_view_name": "StyleView",
            "bar_color": null,
            "description_width": ""
          }
        },
        "396f91ea2cb64fc4a0b10322ad8738a4": {
          "model_module": "@jupyter-widgets/base",
          "model_name": "LayoutModel",
          "model_module_version": "1.2.0",
          "state": {
            "_model_module": "@jupyter-widgets/base",
            "_model_module_version": "1.2.0",
            "_model_name": "LayoutModel",
            "_view_count": null,
            "_view_module": "@jupyter-widgets/base",
            "_view_module_version": "1.2.0",
            "_view_name": "LayoutView",
            "align_content": null,
            "align_items": null,
            "align_self": null,
            "border": null,
            "bottom": null,
            "display": null,
            "flex": null,
            "flex_flow": null,
            "grid_area": null,
            "grid_auto_columns": null,
            "grid_auto_flow": null,
            "grid_auto_rows": null,
            "grid_column": null,
            "grid_gap": null,
            "grid_row": null,
            "grid_template_areas": null,
            "grid_template_columns": null,
            "grid_template_rows": null,
            "height": null,
            "justify_content": null,
            "justify_items": null,
            "left": null,
            "margin": null,
            "max_height": null,
            "max_width": null,
            "min_height": null,
            "min_width": null,
            "object_fit": null,
            "object_position": null,
            "order": null,
            "overflow": null,
            "overflow_x": null,
            "overflow_y": null,
            "padding": null,
            "right": null,
            "top": null,
            "visibility": null,
            "width": null
          }
        },
        "27740739d0f04875ae7f401e6601ad9c": {
          "model_module": "@jupyter-widgets/controls",
          "model_name": "DescriptionStyleModel",
          "model_module_version": "1.5.0",
          "state": {
            "_model_module": "@jupyter-widgets/controls",
            "_model_module_version": "1.5.0",
            "_model_name": "DescriptionStyleModel",
            "_view_count": null,
            "_view_module": "@jupyter-widgets/base",
            "_view_module_version": "1.2.0",
            "_view_name": "StyleView",
            "description_width": ""
          }
        },
        "cf98e12dd1cf45beb326c528e468c2f3": {
          "model_module": "@jupyter-widgets/controls",
          "model_name": "HBoxModel",
          "model_module_version": "1.5.0",
          "state": {
            "_dom_classes": [],
            "_model_module": "@jupyter-widgets/controls",
            "_model_module_version": "1.5.0",
            "_model_name": "HBoxModel",
            "_view_count": null,
            "_view_module": "@jupyter-widgets/controls",
            "_view_module_version": "1.5.0",
            "_view_name": "HBoxView",
            "box_style": "",
            "children": [
              "IPY_MODEL_57fb67e2292448ada60eeb83e1f1abbb",
              "IPY_MODEL_d8b92e0ad5cd4fd984e943f89d25f568",
              "IPY_MODEL_c6ff33835a8f4de28272920017233cfd"
            ],
            "layout": "IPY_MODEL_3921dce4420b4ceda49e740853191811"
          }
        },
        "57fb67e2292448ada60eeb83e1f1abbb": {
          "model_module": "@jupyter-widgets/controls",
          "model_name": "HTMLModel",
          "model_module_version": "1.5.0",
          "state": {
            "_dom_classes": [],
            "_model_module": "@jupyter-widgets/controls",
            "_model_module_version": "1.5.0",
            "_model_name": "HTMLModel",
            "_view_count": null,
            "_view_module": "@jupyter-widgets/controls",
            "_view_module_version": "1.5.0",
            "_view_name": "HTMLView",
            "description": "",
            "description_tooltip": null,
            "layout": "IPY_MODEL_564378d7fb6948c483bc1a8f2895b451",
            "placeholder": "​",
            "style": "IPY_MODEL_934821dd432b477989f563f47a140e4e",
            "value": "tokenizer.json: 100%"
          }
        },
        "d8b92e0ad5cd4fd984e943f89d25f568": {
          "model_module": "@jupyter-widgets/controls",
          "model_name": "FloatProgressModel",
          "model_module_version": "1.5.0",
          "state": {
            "_dom_classes": [],
            "_model_module": "@jupyter-widgets/controls",
            "_model_module_version": "1.5.0",
            "_model_name": "FloatProgressModel",
            "_view_count": null,
            "_view_module": "@jupyter-widgets/controls",
            "_view_module_version": "1.5.0",
            "_view_name": "ProgressView",
            "bar_style": "success",
            "description": "",
            "description_tooltip": null,
            "layout": "IPY_MODEL_9a28f471ab3f4b308f9deec631780ebe",
            "max": 2151871,
            "min": 0,
            "orientation": "horizontal",
            "style": "IPY_MODEL_105646aed58b45dfb02bddd4a5ee89a6",
            "value": 2151871
          }
        },
        "c6ff33835a8f4de28272920017233cfd": {
          "model_module": "@jupyter-widgets/controls",
          "model_name": "HTMLModel",
          "model_module_version": "1.5.0",
          "state": {
            "_dom_classes": [],
            "_model_module": "@jupyter-widgets/controls",
            "_model_module_version": "1.5.0",
            "_model_name": "HTMLModel",
            "_view_count": null,
            "_view_module": "@jupyter-widgets/controls",
            "_view_module_version": "1.5.0",
            "_view_name": "HTMLView",
            "description": "",
            "description_tooltip": null,
            "layout": "IPY_MODEL_093ac7f2bfea4bd68e81af2394075674",
            "placeholder": "​",
            "style": "IPY_MODEL_b9e52559ed754bc1acfb2ad3a4d06429",
            "value": " 2.15M/2.15M [00:00&lt;00:00, 10.7MB/s]"
          }
        },
        "3921dce4420b4ceda49e740853191811": {
          "model_module": "@jupyter-widgets/base",
          "model_name": "LayoutModel",
          "model_module_version": "1.2.0",
          "state": {
            "_model_module": "@jupyter-widgets/base",
            "_model_module_version": "1.2.0",
            "_model_name": "LayoutModel",
            "_view_count": null,
            "_view_module": "@jupyter-widgets/base",
            "_view_module_version": "1.2.0",
            "_view_name": "LayoutView",
            "align_content": null,
            "align_items": null,
            "align_self": null,
            "border": null,
            "bottom": null,
            "display": null,
            "flex": null,
            "flex_flow": null,
            "grid_area": null,
            "grid_auto_columns": null,
            "grid_auto_flow": null,
            "grid_auto_rows": null,
            "grid_column": null,
            "grid_gap": null,
            "grid_row": null,
            "grid_template_areas": null,
            "grid_template_columns": null,
            "grid_template_rows": null,
            "height": null,
            "justify_content": null,
            "justify_items": null,
            "left": null,
            "margin": null,
            "max_height": null,
            "max_width": null,
            "min_height": null,
            "min_width": null,
            "object_fit": null,
            "object_position": null,
            "order": null,
            "overflow": null,
            "overflow_x": null,
            "overflow_y": null,
            "padding": null,
            "right": null,
            "top": null,
            "visibility": null,
            "width": null
          }
        },
        "564378d7fb6948c483bc1a8f2895b451": {
          "model_module": "@jupyter-widgets/base",
          "model_name": "LayoutModel",
          "model_module_version": "1.2.0",
          "state": {
            "_model_module": "@jupyter-widgets/base",
            "_model_module_version": "1.2.0",
            "_model_name": "LayoutModel",
            "_view_count": null,
            "_view_module": "@jupyter-widgets/base",
            "_view_module_version": "1.2.0",
            "_view_name": "LayoutView",
            "align_content": null,
            "align_items": null,
            "align_self": null,
            "border": null,
            "bottom": null,
            "display": null,
            "flex": null,
            "flex_flow": null,
            "grid_area": null,
            "grid_auto_columns": null,
            "grid_auto_flow": null,
            "grid_auto_rows": null,
            "grid_column": null,
            "grid_gap": null,
            "grid_row": null,
            "grid_template_areas": null,
            "grid_template_columns": null,
            "grid_template_rows": null,
            "height": null,
            "justify_content": null,
            "justify_items": null,
            "left": null,
            "margin": null,
            "max_height": null,
            "max_width": null,
            "min_height": null,
            "min_width": null,
            "object_fit": null,
            "object_position": null,
            "order": null,
            "overflow": null,
            "overflow_x": null,
            "overflow_y": null,
            "padding": null,
            "right": null,
            "top": null,
            "visibility": null,
            "width": null
          }
        },
        "934821dd432b477989f563f47a140e4e": {
          "model_module": "@jupyter-widgets/controls",
          "model_name": "DescriptionStyleModel",
          "model_module_version": "1.5.0",
          "state": {
            "_model_module": "@jupyter-widgets/controls",
            "_model_module_version": "1.5.0",
            "_model_name": "DescriptionStyleModel",
            "_view_count": null,
            "_view_module": "@jupyter-widgets/base",
            "_view_module_version": "1.2.0",
            "_view_name": "StyleView",
            "description_width": ""
          }
        },
        "9a28f471ab3f4b308f9deec631780ebe": {
          "model_module": "@jupyter-widgets/base",
          "model_name": "LayoutModel",
          "model_module_version": "1.2.0",
          "state": {
            "_model_module": "@jupyter-widgets/base",
            "_model_module_version": "1.2.0",
            "_model_name": "LayoutModel",
            "_view_count": null,
            "_view_module": "@jupyter-widgets/base",
            "_view_module_version": "1.2.0",
            "_view_name": "LayoutView",
            "align_content": null,
            "align_items": null,
            "align_self": null,
            "border": null,
            "bottom": null,
            "display": null,
            "flex": null,
            "flex_flow": null,
            "grid_area": null,
            "grid_auto_columns": null,
            "grid_auto_flow": null,
            "grid_auto_rows": null,
            "grid_column": null,
            "grid_gap": null,
            "grid_row": null,
            "grid_template_areas": null,
            "grid_template_columns": null,
            "grid_template_rows": null,
            "height": null,
            "justify_content": null,
            "justify_items": null,
            "left": null,
            "margin": null,
            "max_height": null,
            "max_width": null,
            "min_height": null,
            "min_width": null,
            "object_fit": null,
            "object_position": null,
            "order": null,
            "overflow": null,
            "overflow_x": null,
            "overflow_y": null,
            "padding": null,
            "right": null,
            "top": null,
            "visibility": null,
            "width": null
          }
        },
        "105646aed58b45dfb02bddd4a5ee89a6": {
          "model_module": "@jupyter-widgets/controls",
          "model_name": "ProgressStyleModel",
          "model_module_version": "1.5.0",
          "state": {
            "_model_module": "@jupyter-widgets/controls",
            "_model_module_version": "1.5.0",
            "_model_name": "ProgressStyleModel",
            "_view_count": null,
            "_view_module": "@jupyter-widgets/base",
            "_view_module_version": "1.2.0",
            "_view_name": "StyleView",
            "bar_color": null,
            "description_width": ""
          }
        },
        "093ac7f2bfea4bd68e81af2394075674": {
          "model_module": "@jupyter-widgets/base",
          "model_name": "LayoutModel",
          "model_module_version": "1.2.0",
          "state": {
            "_model_module": "@jupyter-widgets/base",
            "_model_module_version": "1.2.0",
            "_model_name": "LayoutModel",
            "_view_count": null,
            "_view_module": "@jupyter-widgets/base",
            "_view_module_version": "1.2.0",
            "_view_name": "LayoutView",
            "align_content": null,
            "align_items": null,
            "align_self": null,
            "border": null,
            "bottom": null,
            "display": null,
            "flex": null,
            "flex_flow": null,
            "grid_area": null,
            "grid_auto_columns": null,
            "grid_auto_flow": null,
            "grid_auto_rows": null,
            "grid_column": null,
            "grid_gap": null,
            "grid_row": null,
            "grid_template_areas": null,
            "grid_template_columns": null,
            "grid_template_rows": null,
            "height": null,
            "justify_content": null,
            "justify_items": null,
            "left": null,
            "margin": null,
            "max_height": null,
            "max_width": null,
            "min_height": null,
            "min_width": null,
            "object_fit": null,
            "object_position": null,
            "order": null,
            "overflow": null,
            "overflow_x": null,
            "overflow_y": null,
            "padding": null,
            "right": null,
            "top": null,
            "visibility": null,
            "width": null
          }
        },
        "b9e52559ed754bc1acfb2ad3a4d06429": {
          "model_module": "@jupyter-widgets/controls",
          "model_name": "DescriptionStyleModel",
          "model_module_version": "1.5.0",
          "state": {
            "_model_module": "@jupyter-widgets/controls",
            "_model_module_version": "1.5.0",
            "_model_name": "DescriptionStyleModel",
            "_view_count": null,
            "_view_module": "@jupyter-widgets/base",
            "_view_module_version": "1.2.0",
            "_view_name": "StyleView",
            "description_width": ""
          }
        },
        "627be3ae8d924c9997b83d2d71646d5a": {
          "model_module": "@jupyter-widgets/controls",
          "model_name": "HBoxModel",
          "model_module_version": "1.5.0",
          "state": {
            "_dom_classes": [],
            "_model_module": "@jupyter-widgets/controls",
            "_model_module_version": "1.5.0",
            "_model_name": "HBoxModel",
            "_view_count": null,
            "_view_module": "@jupyter-widgets/controls",
            "_view_module_version": "1.5.0",
            "_view_name": "HBoxView",
            "box_style": "",
            "children": [
              "IPY_MODEL_2536c52127e24a4da0644a8868c68f95",
              "IPY_MODEL_f360987f750d45f3ae704b4291f598cd",
              "IPY_MODEL_ee985d2531354ea68da16fa41de5b4c0"
            ],
            "layout": "IPY_MODEL_3e257868c74c483b9bfbe8bc463c676e"
          }
        },
        "2536c52127e24a4da0644a8868c68f95": {
          "model_module": "@jupyter-widgets/controls",
          "model_name": "HTMLModel",
          "model_module_version": "1.5.0",
          "state": {
            "_dom_classes": [],
            "_model_module": "@jupyter-widgets/controls",
            "_model_module_version": "1.5.0",
            "_model_name": "HTMLModel",
            "_view_count": null,
            "_view_module": "@jupyter-widgets/controls",
            "_view_module_version": "1.5.0",
            "_view_name": "HTMLView",
            "description": "",
            "description_tooltip": null,
            "layout": "IPY_MODEL_5353d3f4a6274862ae0b2e5aebeb9185",
            "placeholder": "​",
            "style": "IPY_MODEL_b839f1c4daa74610aeaf91310f982018",
            "value": "added_tokens.json: 100%"
          }
        },
        "f360987f750d45f3ae704b4291f598cd": {
          "model_module": "@jupyter-widgets/controls",
          "model_name": "FloatProgressModel",
          "model_module_version": "1.5.0",
          "state": {
            "_dom_classes": [],
            "_model_module": "@jupyter-widgets/controls",
            "_model_module_version": "1.5.0",
            "_model_name": "FloatProgressModel",
            "_view_count": null,
            "_view_module": "@jupyter-widgets/controls",
            "_view_module_version": "1.5.0",
            "_view_name": "ProgressView",
            "bar_style": "success",
            "description": "",
            "description_tooltip": null,
            "layout": "IPY_MODEL_8368c1f257d24524b62f14ab9f842512",
            "max": 4978,
            "min": 0,
            "orientation": "horizontal",
            "style": "IPY_MODEL_115d79efdfad4f778e8b2010bbaad0f0",
            "value": 4978
          }
        },
        "ee985d2531354ea68da16fa41de5b4c0": {
          "model_module": "@jupyter-widgets/controls",
          "model_name": "HTMLModel",
          "model_module_version": "1.5.0",
          "state": {
            "_dom_classes": [],
            "_model_module": "@jupyter-widgets/controls",
            "_model_module_version": "1.5.0",
            "_model_name": "HTMLModel",
            "_view_count": null,
            "_view_module": "@jupyter-widgets/controls",
            "_view_module_version": "1.5.0",
            "_view_name": "HTMLView",
            "description": "",
            "description_tooltip": null,
            "layout": "IPY_MODEL_4d239687b2064428af83c6ad8f9cbf58",
            "placeholder": "​",
            "style": "IPY_MODEL_351eef2c70bb4200a3a30127cbdb6670",
            "value": " 4.98k/4.98k [00:00&lt;00:00, 65.7kB/s]"
          }
        },
        "3e257868c74c483b9bfbe8bc463c676e": {
          "model_module": "@jupyter-widgets/base",
          "model_name": "LayoutModel",
          "model_module_version": "1.2.0",
          "state": {
            "_model_module": "@jupyter-widgets/base",
            "_model_module_version": "1.2.0",
            "_model_name": "LayoutModel",
            "_view_count": null,
            "_view_module": "@jupyter-widgets/base",
            "_view_module_version": "1.2.0",
            "_view_name": "LayoutView",
            "align_content": null,
            "align_items": null,
            "align_self": null,
            "border": null,
            "bottom": null,
            "display": null,
            "flex": null,
            "flex_flow": null,
            "grid_area": null,
            "grid_auto_columns": null,
            "grid_auto_flow": null,
            "grid_auto_rows": null,
            "grid_column": null,
            "grid_gap": null,
            "grid_row": null,
            "grid_template_areas": null,
            "grid_template_columns": null,
            "grid_template_rows": null,
            "height": null,
            "justify_content": null,
            "justify_items": null,
            "left": null,
            "margin": null,
            "max_height": null,
            "max_width": null,
            "min_height": null,
            "min_width": null,
            "object_fit": null,
            "object_position": null,
            "order": null,
            "overflow": null,
            "overflow_x": null,
            "overflow_y": null,
            "padding": null,
            "right": null,
            "top": null,
            "visibility": null,
            "width": null
          }
        },
        "5353d3f4a6274862ae0b2e5aebeb9185": {
          "model_module": "@jupyter-widgets/base",
          "model_name": "LayoutModel",
          "model_module_version": "1.2.0",
          "state": {
            "_model_module": "@jupyter-widgets/base",
            "_model_module_version": "1.2.0",
            "_model_name": "LayoutModel",
            "_view_count": null,
            "_view_module": "@jupyter-widgets/base",
            "_view_module_version": "1.2.0",
            "_view_name": "LayoutView",
            "align_content": null,
            "align_items": null,
            "align_self": null,
            "border": null,
            "bottom": null,
            "display": null,
            "flex": null,
            "flex_flow": null,
            "grid_area": null,
            "grid_auto_columns": null,
            "grid_auto_flow": null,
            "grid_auto_rows": null,
            "grid_column": null,
            "grid_gap": null,
            "grid_row": null,
            "grid_template_areas": null,
            "grid_template_columns": null,
            "grid_template_rows": null,
            "height": null,
            "justify_content": null,
            "justify_items": null,
            "left": null,
            "margin": null,
            "max_height": null,
            "max_width": null,
            "min_height": null,
            "min_width": null,
            "object_fit": null,
            "object_position": null,
            "order": null,
            "overflow": null,
            "overflow_x": null,
            "overflow_y": null,
            "padding": null,
            "right": null,
            "top": null,
            "visibility": null,
            "width": null
          }
        },
        "b839f1c4daa74610aeaf91310f982018": {
          "model_module": "@jupyter-widgets/controls",
          "model_name": "DescriptionStyleModel",
          "model_module_version": "1.5.0",
          "state": {
            "_model_module": "@jupyter-widgets/controls",
            "_model_module_version": "1.5.0",
            "_model_name": "DescriptionStyleModel",
            "_view_count": null,
            "_view_module": "@jupyter-widgets/base",
            "_view_module_version": "1.2.0",
            "_view_name": "StyleView",
            "description_width": ""
          }
        },
        "8368c1f257d24524b62f14ab9f842512": {
          "model_module": "@jupyter-widgets/base",
          "model_name": "LayoutModel",
          "model_module_version": "1.2.0",
          "state": {
            "_model_module": "@jupyter-widgets/base",
            "_model_module_version": "1.2.0",
            "_model_name": "LayoutModel",
            "_view_count": null,
            "_view_module": "@jupyter-widgets/base",
            "_view_module_version": "1.2.0",
            "_view_name": "LayoutView",
            "align_content": null,
            "align_items": null,
            "align_self": null,
            "border": null,
            "bottom": null,
            "display": null,
            "flex": null,
            "flex_flow": null,
            "grid_area": null,
            "grid_auto_columns": null,
            "grid_auto_flow": null,
            "grid_auto_rows": null,
            "grid_column": null,
            "grid_gap": null,
            "grid_row": null,
            "grid_template_areas": null,
            "grid_template_columns": null,
            "grid_template_rows": null,
            "height": null,
            "justify_content": null,
            "justify_items": null,
            "left": null,
            "margin": null,
            "max_height": null,
            "max_width": null,
            "min_height": null,
            "min_width": null,
            "object_fit": null,
            "object_position": null,
            "order": null,
            "overflow": null,
            "overflow_x": null,
            "overflow_y": null,
            "padding": null,
            "right": null,
            "top": null,
            "visibility": null,
            "width": null
          }
        },
        "115d79efdfad4f778e8b2010bbaad0f0": {
          "model_module": "@jupyter-widgets/controls",
          "model_name": "ProgressStyleModel",
          "model_module_version": "1.5.0",
          "state": {
            "_model_module": "@jupyter-widgets/controls",
            "_model_module_version": "1.5.0",
            "_model_name": "ProgressStyleModel",
            "_view_count": null,
            "_view_module": "@jupyter-widgets/base",
            "_view_module_version": "1.2.0",
            "_view_name": "StyleView",
            "bar_color": null,
            "description_width": ""
          }
        },
        "4d239687b2064428af83c6ad8f9cbf58": {
          "model_module": "@jupyter-widgets/base",
          "model_name": "LayoutModel",
          "model_module_version": "1.2.0",
          "state": {
            "_model_module": "@jupyter-widgets/base",
            "_model_module_version": "1.2.0",
            "_model_name": "LayoutModel",
            "_view_count": null,
            "_view_module": "@jupyter-widgets/base",
            "_view_module_version": "1.2.0",
            "_view_name": "LayoutView",
            "align_content": null,
            "align_items": null,
            "align_self": null,
            "border": null,
            "bottom": null,
            "display": null,
            "flex": null,
            "flex_flow": null,
            "grid_area": null,
            "grid_auto_columns": null,
            "grid_auto_flow": null,
            "grid_auto_rows": null,
            "grid_column": null,
            "grid_gap": null,
            "grid_row": null,
            "grid_template_areas": null,
            "grid_template_columns": null,
            "grid_template_rows": null,
            "height": null,
            "justify_content": null,
            "justify_items": null,
            "left": null,
            "margin": null,
            "max_height": null,
            "max_width": null,
            "min_height": null,
            "min_width": null,
            "object_fit": null,
            "object_position": null,
            "order": null,
            "overflow": null,
            "overflow_x": null,
            "overflow_y": null,
            "padding": null,
            "right": null,
            "top": null,
            "visibility": null,
            "width": null
          }
        },
        "351eef2c70bb4200a3a30127cbdb6670": {
          "model_module": "@jupyter-widgets/controls",
          "model_name": "DescriptionStyleModel",
          "model_module_version": "1.5.0",
          "state": {
            "_model_module": "@jupyter-widgets/controls",
            "_model_module_version": "1.5.0",
            "_model_name": "DescriptionStyleModel",
            "_view_count": null,
            "_view_module": "@jupyter-widgets/base",
            "_view_module_version": "1.2.0",
            "_view_name": "StyleView",
            "description_width": ""
          }
        },
        "276cd25a7be544549ff8dad545246f34": {
          "model_module": "@jupyter-widgets/controls",
          "model_name": "HBoxModel",
          "model_module_version": "1.5.0",
          "state": {
            "_dom_classes": [],
            "_model_module": "@jupyter-widgets/controls",
            "_model_module_version": "1.5.0",
            "_model_name": "HBoxModel",
            "_view_count": null,
            "_view_module": "@jupyter-widgets/controls",
            "_view_module_version": "1.5.0",
            "_view_name": "HBoxView",
            "box_style": "",
            "children": [
              "IPY_MODEL_cf63d1891b1f43a280844d139b44b3b1",
              "IPY_MODEL_e7786f3b9cb64f5ea8a7e2306929ff7d",
              "IPY_MODEL_7f7ac88ce7274a668dd0a214465b6ba2"
            ],
            "layout": "IPY_MODEL_2e533f0cbe964cada9c8bc6fa60e7ade"
          }
        },
        "cf63d1891b1f43a280844d139b44b3b1": {
          "model_module": "@jupyter-widgets/controls",
          "model_name": "HTMLModel",
          "model_module_version": "1.5.0",
          "state": {
            "_dom_classes": [],
            "_model_module": "@jupyter-widgets/controls",
            "_model_module_version": "1.5.0",
            "_model_name": "HTMLModel",
            "_view_count": null,
            "_view_module": "@jupyter-widgets/controls",
            "_view_module_version": "1.5.0",
            "_view_name": "HTMLView",
            "description": "",
            "description_tooltip": null,
            "layout": "IPY_MODEL_65ebe17c035c40d1a6345a3b69d60f83",
            "placeholder": "​",
            "style": "IPY_MODEL_c61a5733e4864a23b93b198408a7a6b2",
            "value": "special_tokens_map.json: 100%"
          }
        },
        "e7786f3b9cb64f5ea8a7e2306929ff7d": {
          "model_module": "@jupyter-widgets/controls",
          "model_name": "FloatProgressModel",
          "model_module_version": "1.5.0",
          "state": {
            "_dom_classes": [],
            "_model_module": "@jupyter-widgets/controls",
            "_model_module_version": "1.5.0",
            "_model_name": "FloatProgressModel",
            "_view_count": null,
            "_view_module": "@jupyter-widgets/controls",
            "_view_module_version": "1.5.0",
            "_view_name": "ProgressView",
            "bar_style": "success",
            "description": "",
            "description_tooltip": null,
            "layout": "IPY_MODEL_cc460a1014fe4c10b0e42773a9020574",
            "max": 280,
            "min": 0,
            "orientation": "horizontal",
            "style": "IPY_MODEL_d2dfe594a61c4ca88e65d58f2b5bc571",
            "value": 280
          }
        },
        "7f7ac88ce7274a668dd0a214465b6ba2": {
          "model_module": "@jupyter-widgets/controls",
          "model_name": "HTMLModel",
          "model_module_version": "1.5.0",
          "state": {
            "_dom_classes": [],
            "_model_module": "@jupyter-widgets/controls",
            "_model_module_version": "1.5.0",
            "_model_name": "HTMLModel",
            "_view_count": null,
            "_view_module": "@jupyter-widgets/controls",
            "_view_module_version": "1.5.0",
            "_view_name": "HTMLView",
            "description": "",
            "description_tooltip": null,
            "layout": "IPY_MODEL_04f3fd491feb42f095f28c9a84ff45f2",
            "placeholder": "​",
            "style": "IPY_MODEL_e03a1ecfff3a4232bf6c917319635088",
            "value": " 280/280 [00:00&lt;00:00, 3.10kB/s]"
          }
        },
        "2e533f0cbe964cada9c8bc6fa60e7ade": {
          "model_module": "@jupyter-widgets/base",
          "model_name": "LayoutModel",
          "model_module_version": "1.2.0",
          "state": {
            "_model_module": "@jupyter-widgets/base",
            "_model_module_version": "1.2.0",
            "_model_name": "LayoutModel",
            "_view_count": null,
            "_view_module": "@jupyter-widgets/base",
            "_view_module_version": "1.2.0",
            "_view_name": "LayoutView",
            "align_content": null,
            "align_items": null,
            "align_self": null,
            "border": null,
            "bottom": null,
            "display": null,
            "flex": null,
            "flex_flow": null,
            "grid_area": null,
            "grid_auto_columns": null,
            "grid_auto_flow": null,
            "grid_auto_rows": null,
            "grid_column": null,
            "grid_gap": null,
            "grid_row": null,
            "grid_template_areas": null,
            "grid_template_columns": null,
            "grid_template_rows": null,
            "height": null,
            "justify_content": null,
            "justify_items": null,
            "left": null,
            "margin": null,
            "max_height": null,
            "max_width": null,
            "min_height": null,
            "min_width": null,
            "object_fit": null,
            "object_position": null,
            "order": null,
            "overflow": null,
            "overflow_x": null,
            "overflow_y": null,
            "padding": null,
            "right": null,
            "top": null,
            "visibility": null,
            "width": null
          }
        },
        "65ebe17c035c40d1a6345a3b69d60f83": {
          "model_module": "@jupyter-widgets/base",
          "model_name": "LayoutModel",
          "model_module_version": "1.2.0",
          "state": {
            "_model_module": "@jupyter-widgets/base",
            "_model_module_version": "1.2.0",
            "_model_name": "LayoutModel",
            "_view_count": null,
            "_view_module": "@jupyter-widgets/base",
            "_view_module_version": "1.2.0",
            "_view_name": "LayoutView",
            "align_content": null,
            "align_items": null,
            "align_self": null,
            "border": null,
            "bottom": null,
            "display": null,
            "flex": null,
            "flex_flow": null,
            "grid_area": null,
            "grid_auto_columns": null,
            "grid_auto_flow": null,
            "grid_auto_rows": null,
            "grid_column": null,
            "grid_gap": null,
            "grid_row": null,
            "grid_template_areas": null,
            "grid_template_columns": null,
            "grid_template_rows": null,
            "height": null,
            "justify_content": null,
            "justify_items": null,
            "left": null,
            "margin": null,
            "max_height": null,
            "max_width": null,
            "min_height": null,
            "min_width": null,
            "object_fit": null,
            "object_position": null,
            "order": null,
            "overflow": null,
            "overflow_x": null,
            "overflow_y": null,
            "padding": null,
            "right": null,
            "top": null,
            "visibility": null,
            "width": null
          }
        },
        "c61a5733e4864a23b93b198408a7a6b2": {
          "model_module": "@jupyter-widgets/controls",
          "model_name": "DescriptionStyleModel",
          "model_module_version": "1.5.0",
          "state": {
            "_model_module": "@jupyter-widgets/controls",
            "_model_module_version": "1.5.0",
            "_model_name": "DescriptionStyleModel",
            "_view_count": null,
            "_view_module": "@jupyter-widgets/base",
            "_view_module_version": "1.2.0",
            "_view_name": "StyleView",
            "description_width": ""
          }
        },
        "cc460a1014fe4c10b0e42773a9020574": {
          "model_module": "@jupyter-widgets/base",
          "model_name": "LayoutModel",
          "model_module_version": "1.2.0",
          "state": {
            "_model_module": "@jupyter-widgets/base",
            "_model_module_version": "1.2.0",
            "_model_name": "LayoutModel",
            "_view_count": null,
            "_view_module": "@jupyter-widgets/base",
            "_view_module_version": "1.2.0",
            "_view_name": "LayoutView",
            "align_content": null,
            "align_items": null,
            "align_self": null,
            "border": null,
            "bottom": null,
            "display": null,
            "flex": null,
            "flex_flow": null,
            "grid_area": null,
            "grid_auto_columns": null,
            "grid_auto_flow": null,
            "grid_auto_rows": null,
            "grid_column": null,
            "grid_gap": null,
            "grid_row": null,
            "grid_template_areas": null,
            "grid_template_columns": null,
            "grid_template_rows": null,
            "height": null,
            "justify_content": null,
            "justify_items": null,
            "left": null,
            "margin": null,
            "max_height": null,
            "max_width": null,
            "min_height": null,
            "min_width": null,
            "object_fit": null,
            "object_position": null,
            "order": null,
            "overflow": null,
            "overflow_x": null,
            "overflow_y": null,
            "padding": null,
            "right": null,
            "top": null,
            "visibility": null,
            "width": null
          }
        },
        "d2dfe594a61c4ca88e65d58f2b5bc571": {
          "model_module": "@jupyter-widgets/controls",
          "model_name": "ProgressStyleModel",
          "model_module_version": "1.5.0",
          "state": {
            "_model_module": "@jupyter-widgets/controls",
            "_model_module_version": "1.5.0",
            "_model_name": "ProgressStyleModel",
            "_view_count": null,
            "_view_module": "@jupyter-widgets/base",
            "_view_module_version": "1.2.0",
            "_view_name": "StyleView",
            "bar_color": null,
            "description_width": ""
          }
        },
        "04f3fd491feb42f095f28c9a84ff45f2": {
          "model_module": "@jupyter-widgets/base",
          "model_name": "LayoutModel",
          "model_module_version": "1.2.0",
          "state": {
            "_model_module": "@jupyter-widgets/base",
            "_model_module_version": "1.2.0",
            "_model_name": "LayoutModel",
            "_view_count": null,
            "_view_module": "@jupyter-widgets/base",
            "_view_module_version": "1.2.0",
            "_view_name": "LayoutView",
            "align_content": null,
            "align_items": null,
            "align_self": null,
            "border": null,
            "bottom": null,
            "display": null,
            "flex": null,
            "flex_flow": null,
            "grid_area": null,
            "grid_auto_columns": null,
            "grid_auto_flow": null,
            "grid_auto_rows": null,
            "grid_column": null,
            "grid_gap": null,
            "grid_row": null,
            "grid_template_areas": null,
            "grid_template_columns": null,
            "grid_template_rows": null,
            "height": null,
            "justify_content": null,
            "justify_items": null,
            "left": null,
            "margin": null,
            "max_height": null,
            "max_width": null,
            "min_height": null,
            "min_width": null,
            "object_fit": null,
            "object_position": null,
            "order": null,
            "overflow": null,
            "overflow_x": null,
            "overflow_y": null,
            "padding": null,
            "right": null,
            "top": null,
            "visibility": null,
            "width": null
          }
        },
        "e03a1ecfff3a4232bf6c917319635088": {
          "model_module": "@jupyter-widgets/controls",
          "model_name": "DescriptionStyleModel",
          "model_module_version": "1.5.0",
          "state": {
            "_model_module": "@jupyter-widgets/controls",
            "_model_module_version": "1.5.0",
            "_model_name": "DescriptionStyleModel",
            "_view_count": null,
            "_view_module": "@jupyter-widgets/base",
            "_view_module_version": "1.2.0",
            "_view_name": "StyleView",
            "description_width": ""
          }
        }
      }
    }
  },
  "nbformat": 4,
  "nbformat_minor": 0
}